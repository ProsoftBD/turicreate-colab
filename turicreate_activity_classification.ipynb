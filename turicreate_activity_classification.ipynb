{
  "nbformat": 4,
  "nbformat_minor": 0,
  "metadata": {
    "colab": {
      "name": "turicreate-activity-classification.ipynb",
      "version": "0.3.2",
      "provenance": [],
      "collapsed_sections": [],
      "include_colab_link": true
    },
    "kernelspec": {
      "name": "python3",
      "display_name": "Python 3"
    },
    "accelerator": "GPU"
  },
  "cells": [
    {
      "cell_type": "markdown",
      "metadata": {
        "id": "view-in-github",
        "colab_type": "text"
      },
      "source": [
        "[View in Colaboratory](https://colab.research.google.com/github/jagatfx/turicreate-colab/blob/master/turicreate_activity_classification.ipynb)"
      ]
    },
    {
      "metadata": {
        "id": "3zKSmHFi38IA",
        "colab_type": "text"
      },
      "cell_type": "markdown",
      "source": [
        "# Activity Classification\n",
        "https://apple.github.io/turicreate/docs/userguide/activity_classifier/\n",
        "\n",
        "Activity classification is the task of identifying a pre-defined set of physical actions using motion-sensory inputs. Such sensors include accelerometers, gyroscopes, thermostats, and more found in most handheld devices today.\n",
        "\n",
        "Possible applications include counting swimming laps using a watch's accelerometer data, turning on Bluetooth controlled lights when recognizing a certain gesture using gyroscope data from a handheld phone, or creating shortcuts to your favorite phone applications using hand gestures.\n",
        "\n",
        "The activity classifier in Turi Create creates a deep learning model capable of detecting temporal features in sensor data, lending itself well to the task of activity classification. Before we dive into the model architecture, let's see a working example."
      ]
    },
    {
      "metadata": {
        "id": "Wtd2fPfSbPe9",
        "colab_type": "text"
      },
      "cell_type": "markdown",
      "source": [
        "# Google Drive Access\n",
        "\n",
        "You will be asked to click a link to generate a secret key to access your Google Drive. \n",
        "\n",
        "Copy and paste secret key it into the space provided with the notebook."
      ]
    },
    {
      "metadata": {
        "id": "-Lnf40fLbQNE",
        "colab_type": "code",
        "colab": {
          "base_uri": "https://localhost:8080/",
          "height": 2251
        },
        "outputId": "4f2a6c41-1733-480a-eab9-d4471f8e1f4f"
      },
      "cell_type": "code",
      "source": [
        "# Install a Drive FUSE wrapper.\n",
        "# https://github.com/astrada/google-drive-ocamlfuse\n",
        "!apt-get update -qq 2>&1 > /dev/null\n",
        "!apt-get install -y -qq software-properties-common python-software-properties module-init-tools\n",
        "!add-apt-repository -y ppa:alessandro-strada/ppa 2>&1 > /dev/null\n",
        "!apt-get update -qq 2>&1 > /dev/null\n",
        "!apt-get -y install -qq google-drive-ocamlfuse fuse"
      ],
      "execution_count": 1,
      "outputs": [
        {
          "output_type": "stream",
          "text": [
            "Preconfiguring packages ...\n",
            "Selecting previously unselected package cron.\n",
            "(Reading database ... 18408 files and directories currently installed.)\n",
            "Preparing to unpack .../00-cron_3.0pl1-128ubuntu5_amd64.deb ...\n",
            "Unpacking cron (3.0pl1-128ubuntu5) ...\n",
            "Selecting previously unselected package libapparmor1:amd64.\n",
            "Preparing to unpack .../01-libapparmor1_2.11.0-2ubuntu17.1_amd64.deb ...\n",
            "Unpacking libapparmor1:amd64 (2.11.0-2ubuntu17.1) ...\n",
            "Selecting previously unselected package libdbus-1-3:amd64.\n",
            "Preparing to unpack .../02-libdbus-1-3_1.10.22-1ubuntu1_amd64.deb ...\n",
            "Unpacking libdbus-1-3:amd64 (1.10.22-1ubuntu1) ...\n",
            "Selecting previously unselected package dbus.\n",
            "Preparing to unpack .../03-dbus_1.10.22-1ubuntu1_amd64.deb ...\n",
            "Unpacking dbus (1.10.22-1ubuntu1) ...\n",
            "Selecting previously unselected package dirmngr.\n",
            "Preparing to unpack .../04-dirmngr_2.1.15-1ubuntu8.1_amd64.deb ...\n",
            "Unpacking dirmngr (2.1.15-1ubuntu8.1) ...\n",
            "Selecting previously unselected package distro-info-data.\n",
            "Preparing to unpack .../05-distro-info-data_0.36ubuntu0.2_all.deb ...\n",
            "Unpacking distro-info-data (0.36ubuntu0.2) ...\n",
            "Selecting previously unselected package libkmod2:amd64.\n",
            "Preparing to unpack .../06-libkmod2_24-1ubuntu2_amd64.deb ...\n",
            "Unpacking libkmod2:amd64 (24-1ubuntu2) ...\n",
            "Selecting previously unselected package kmod.\n",
            "Preparing to unpack .../07-kmod_24-1ubuntu2_amd64.deb ...\n",
            "Unpacking kmod (24-1ubuntu2) ...\n",
            "Selecting previously unselected package lsb-release.\n",
            "Preparing to unpack .../08-lsb-release_9.20160110ubuntu5_all.deb ...\n",
            "Unpacking lsb-release (9.20160110ubuntu5) ...\n",
            "Selecting previously unselected package libgirepository-1.0-1:amd64.\n",
            "Preparing to unpack .../09-libgirepository-1.0-1_1.54.1-1_amd64.deb ...\n",
            "Unpacking libgirepository-1.0-1:amd64 (1.54.1-1) ...\n",
            "Selecting previously unselected package gir1.2-glib-2.0:amd64.\n",
            "Preparing to unpack .../10-gir1.2-glib-2.0_1.54.1-1_amd64.deb ...\n",
            "Unpacking gir1.2-glib-2.0:amd64 (1.54.1-1) ...\n",
            "Selecting previously unselected package iso-codes.\n",
            "Preparing to unpack .../11-iso-codes_3.75-1_all.deb ...\n",
            "Unpacking iso-codes (3.75-1) ...\n",
            "Selecting previously unselected package libdbus-glib-1-2:amd64.\n",
            "Preparing to unpack .../12-libdbus-glib-1-2_0.108-2_amd64.deb ...\n",
            "Unpacking libdbus-glib-1-2:amd64 (0.108-2) ...\n",
            "Selecting previously unselected package python-apt-common.\n",
            "Preparing to unpack .../13-python-apt-common_1.4.0~beta3build2_all.deb ...\n",
            "Unpacking python-apt-common (1.4.0~beta3build2) ...\n",
            "Selecting previously unselected package python3-apt.\n",
            "Preparing to unpack .../14-python3-apt_1.4.0~beta3build2_amd64.deb ...\n",
            "Unpacking python3-apt (1.4.0~beta3build2) ...\n",
            "Selecting previously unselected package python3-dbus.\n",
            "Preparing to unpack .../15-python3-dbus_1.2.4-1build3_amd64.deb ...\n",
            "Unpacking python3-dbus (1.2.4-1build3) ...\n",
            "Selecting previously unselected package python3-gi.\n",
            "Preparing to unpack .../16-python3-gi_3.24.1-2build1_amd64.deb ...\n",
            "Unpacking python3-gi (3.24.1-2build1) ...\n",
            "Selecting previously unselected package module-init-tools.\n",
            "Preparing to unpack .../17-module-init-tools_24-1ubuntu2_all.deb ...\n",
            "Unpacking module-init-tools (24-1ubuntu2) ...\n",
            "Selecting previously unselected package python-apt.\n",
            "Preparing to unpack .../18-python-apt_1.4.0~beta3build2_amd64.deb ...\n",
            "Unpacking python-apt (1.4.0~beta3build2) ...\n",
            "Selecting previously unselected package python-pycurl.\n",
            "Preparing to unpack .../19-python-pycurl_7.43.0-2build2_amd64.deb ...\n",
            "Unpacking python-pycurl (7.43.0-2build2) ...\n",
            "Selecting previously unselected package python-software-properties.\n",
            "Preparing to unpack .../20-python-software-properties_0.96.24.17_all.deb ...\n",
            "Unpacking python-software-properties (0.96.24.17) ...\n",
            "Selecting previously unselected package python3-software-properties.\n",
            "Preparing to unpack .../21-python3-software-properties_0.96.24.17_all.deb ...\n",
            "Unpacking python3-software-properties (0.96.24.17) ...\n",
            "Selecting previously unselected package software-properties-common.\n",
            "Preparing to unpack .../22-software-properties-common_0.96.24.17_all.deb ...\n",
            "Unpacking software-properties-common (0.96.24.17) ...\n",
            "Selecting previously unselected package unattended-upgrades.\n",
            "Preparing to unpack .../23-unattended-upgrades_0.98ubuntu1.1_all.deb ...\n",
            "Unpacking unattended-upgrades (0.98ubuntu1.1) ...\n",
            "Setting up python-apt-common (1.4.0~beta3build2) ...\n",
            "Setting up python3-apt (1.4.0~beta3build2) ...\n",
            "Setting up iso-codes (3.75-1) ...\n",
            "Setting up distro-info-data (0.36ubuntu0.2) ...\n",
            "Setting up python-pycurl (7.43.0-2build2) ...\n",
            "Setting up lsb-release (9.20160110ubuntu5) ...\n",
            "Setting up libgirepository-1.0-1:amd64 (1.54.1-1) ...\n",
            "Setting up libkmod2:amd64 (24-1ubuntu2) ...\n",
            "Setting up gir1.2-glib-2.0:amd64 (1.54.1-1) ...\n",
            "Processing triggers for libc-bin (2.26-0ubuntu2.1) ...\n",
            "Setting up libapparmor1:amd64 (2.11.0-2ubuntu17.1) ...\n",
            "Setting up unattended-upgrades (0.98ubuntu1.1) ...\n",
            "\n",
            "Creating config file /etc/apt/apt.conf.d/20auto-upgrades with new version\n",
            "\n",
            "Creating config file /etc/apt/apt.conf.d/50unattended-upgrades with new version\n",
            "invoke-rc.d: could not determine current runlevel\n",
            "invoke-rc.d: policy-rc.d denied execution of start.\n",
            "Setting up dirmngr (2.1.15-1ubuntu8.1) ...\n",
            "Setting up cron (3.0pl1-128ubuntu5) ...\n",
            "Adding group `crontab' (GID 102) ...\n",
            "Done.\n",
            "update-rc.d: warning: start and stop actions are no longer supported; falling back to defaults\n",
            "update-rc.d: warning: stop runlevel arguments (1) do not match cron Default-Stop values (none)\n",
            "invoke-rc.d: could not determine current runlevel\n",
            "invoke-rc.d: policy-rc.d denied execution of start.\n",
            "Setting up libdbus-1-3:amd64 (1.10.22-1ubuntu1) ...\n",
            "Setting up kmod (24-1ubuntu2) ...\n",
            "Setting up libdbus-glib-1-2:amd64 (0.108-2) ...\n",
            "Setting up python3-gi (3.24.1-2build1) ...\n",
            "Setting up module-init-tools (24-1ubuntu2) ...\n",
            "Setting up python3-software-properties (0.96.24.17) ...\n",
            "Setting up dbus (1.10.22-1ubuntu1) ...\n",
            "Setting up python-apt (1.4.0~beta3build2) ...\n",
            "Setting up python3-dbus (1.2.4-1build3) ...\n",
            "Setting up python-software-properties (0.96.24.17) ...\n",
            "Setting up software-properties-common (0.96.24.17) ...\n",
            "Processing triggers for libc-bin (2.26-0ubuntu2.1) ...\n",
            "Processing triggers for dbus (1.10.22-1ubuntu1) ...\n",
            "gpg: keybox '/tmp/tmpfnwfyvhl/pubring.gpg' created\n",
            "gpg: /tmp/tmpfnwfyvhl/trustdb.gpg: trustdb created\n",
            "gpg: key AD5F235DF639B041: public key \"Launchpad PPA for Alessandro Strada\" imported\n",
            "gpg: Total number processed: 1\n",
            "gpg:               imported: 1\n",
            "Warning: apt-key output should not be parsed (stdout is not a terminal)\n",
            "Selecting previously unselected package libfuse2:amd64.\n",
            "(Reading database ... 19816 files and directories currently installed.)\n",
            "Preparing to unpack .../libfuse2_2.9.7-1ubuntu1_amd64.deb ...\n",
            "Unpacking libfuse2:amd64 (2.9.7-1ubuntu1) ...\n",
            "Selecting previously unselected package fuse.\n",
            "Preparing to unpack .../fuse_2.9.7-1ubuntu1_amd64.deb ...\n",
            "Unpacking fuse (2.9.7-1ubuntu1) ...\n",
            "Selecting previously unselected package google-drive-ocamlfuse.\n",
            "Preparing to unpack .../google-drive-ocamlfuse_0.6.21-0ubuntu2_amd64.deb ...\n",
            "Unpacking google-drive-ocamlfuse (0.6.21-0ubuntu2) ...\n",
            "Setting up libfuse2:amd64 (2.9.7-1ubuntu1) ...\n",
            "Processing triggers for libc-bin (2.26-0ubuntu2.1) ...\n",
            "Setting up fuse (2.9.7-1ubuntu1) ...\n",
            "Setting up google-drive-ocamlfuse (0.6.21-0ubuntu2) ...\n"
          ],
          "name": "stdout"
        }
      ]
    },
    {
      "metadata": {
        "id": "9ZogBAcFbQP2",
        "colab_type": "code",
        "colab": {}
      },
      "cell_type": "code",
      "source": [
        "# Generate auth tokens for Colab\n",
        "from google.colab import auth\n",
        "auth.authenticate_user()"
      ],
      "execution_count": 0,
      "outputs": []
    },
    {
      "metadata": {
        "id": "6Z38D1p9bQTU",
        "colab_type": "code",
        "colab": {
          "base_uri": "https://localhost:8080/",
          "height": 121
        },
        "outputId": "df4fdad8-b085-43aa-af5b-5538eda74aa1"
      },
      "cell_type": "code",
      "source": [
        "# Generate creds for the Drive FUSE library.\n",
        "from google.colab import output\n",
        "from oauth2client.client import GoogleCredentials\n",
        "import time\n",
        "creds = GoogleCredentials.get_application_default()\n",
        "import getpass\n",
        "# Determine if Drive Fuse credential setup is already complete.\n",
        "fuse_credentials_configured = False\n",
        "with output.temporary():\n",
        "  !google-drive-ocamlfuse -headless -id={creds.client_id} -secret={creds.client_secret} < /dev/null 2>&1\n",
        "  # _exit_code is set to the result of the last \"!\" command.\n",
        "  fuse_credentials_configured = _exit_code == 0\n",
        "\n",
        "# Sleep for a short period to ensure that the previous output has been cleared.\n",
        "time.sleep(1)\n",
        "  \n",
        "if fuse_credentials_configured:\n",
        "  print('Drive FUSE credentials already configured!')\n",
        "else:\n",
        "  # Work around misordering of STREAM and STDIN in Jupyter.\n",
        "  # https://github.com/jupyter/notebook/issues/3159\n",
        "  prompt = !google-drive-ocamlfuse -headless -id={creds.client_id} -secret={creds.client_secret} < /dev/null 2>&1 | grep URL\n",
        "  vcode = getpass.getpass(prompt[0] + '\\n\\nEnter verification code: ')\n",
        "  !echo {vcode} | google-drive-ocamlfuse -headless -id={creds.client_id} -secret={creds.client_secret}\n"
      ],
      "execution_count": 3,
      "outputs": [
        {
          "output_type": "stream",
          "text": [
            "Please, open the following URL in a web browser: https://accounts.google.com/o/oauth2/auth?client_id=32555940559.apps.googleusercontent.com&redirect_uri=urn%3Aietf%3Awg%3Aoauth%3A2.0%3Aoob&scope=https%3A%2F%2Fwww.googleapis.com%2Fauth%2Fdrive&response_type=code&access_type=offline&approval_prompt=force\n",
            "\n",
            "Enter verification code: ··········\n",
            "Please, open the following URL in a web browser: https://accounts.google.com/o/oauth2/auth?client_id=32555940559.apps.googleusercontent.com&redirect_uri=urn%3Aietf%3Awg%3Aoauth%3A2.0%3Aoob&scope=https%3A%2F%2Fwww.googleapis.com%2Fauth%2Fdrive&response_type=code&access_type=offline&approval_prompt=force\n",
            "Please enter the verification code: Access token retrieved correctly.\n"
          ],
          "name": "stdout"
        }
      ]
    },
    {
      "metadata": {
        "id": "k7GfoskvbQWj",
        "colab_type": "code",
        "colab": {}
      },
      "cell_type": "code",
      "source": [
        "# Create a directory and mount Google Drive using that directory.\n",
        "!mkdir -p drive\n",
        "!google-drive-ocamlfuse drive"
      ],
      "execution_count": 0,
      "outputs": []
    },
    {
      "metadata": {
        "id": "BvGd7tK8bQmM",
        "colab_type": "code",
        "colab": {
          "base_uri": "https://localhost:8080/",
          "height": 34
        },
        "outputId": "31b087af-69ce-48ba-94bd-50a520807c10"
      },
      "cell_type": "code",
      "source": [
        "!ls"
      ],
      "execution_count": 5,
      "outputs": [
        {
          "output_type": "stream",
          "text": [
            "adc.json  drive  sample_data\n"
          ],
          "name": "stdout"
        }
      ]
    },
    {
      "metadata": {
        "id": "Cv8D8h_8bfQ2",
        "colab_type": "text"
      },
      "cell_type": "markdown",
      "source": [
        "# Fetch Data"
      ]
    },
    {
      "metadata": {
        "id": "32BAz9SpbgA6",
        "colab_type": "code",
        "colab": {
          "base_uri": "https://localhost:8080/",
          "height": 2285
        },
        "outputId": "32ba83d7-bb52-4e8e-d146-6ebd4c7b0f2a"
      },
      "cell_type": "code",
      "source": [
        "!if [ -f \"/content/drive/Colab Notebooks/data/HAPT Data Set.zip\" ]; then echo \"already downloaded HAPT data, copying to workspace\" && cp \"/content/drive/Colab Notebooks/data/HAPT Data Set.zip\" . && unzip \"HAPT Data Set.zip\"; else echo \"downloading HAPT data...\" && mkdir -p \"/content/drive/Colab Notebooks/data\" && wget \"http://archive.ics.uci.edu/ml/machine-learning-databases/00341/HAPT%20Data%20Set.zip\"; fi"
      ],
      "execution_count": 6,
      "outputs": [
        {
          "output_type": "stream",
          "text": [
            "already downloaded HAPT data, copying to workspace\n",
            "Archive:  HAPT Data Set.zip\n",
            "  inflating: features_info.txt       \n",
            "  inflating: README.txt              \n",
            "  inflating: RawData/acc_exp01_user01.txt  \n",
            "  inflating: RawData/acc_exp02_user01.txt  \n",
            "  inflating: RawData/acc_exp03_user02.txt  \n",
            "  inflating: RawData/acc_exp04_user02.txt  \n",
            "  inflating: RawData/acc_exp05_user03.txt  \n",
            "  inflating: RawData/acc_exp06_user03.txt  \n",
            "  inflating: RawData/acc_exp07_user04.txt  \n",
            "  inflating: RawData/acc_exp08_user04.txt  \n",
            "  inflating: RawData/acc_exp09_user05.txt  \n",
            "  inflating: RawData/acc_exp10_user05.txt  \n",
            "  inflating: RawData/acc_exp11_user06.txt  \n",
            "  inflating: RawData/acc_exp12_user06.txt  \n",
            "  inflating: RawData/acc_exp13_user07.txt  \n",
            "  inflating: RawData/acc_exp14_user07.txt  \n",
            "  inflating: RawData/acc_exp15_user08.txt  \n",
            "  inflating: RawData/acc_exp16_user08.txt  \n",
            "  inflating: RawData/acc_exp17_user09.txt  \n",
            "  inflating: RawData/acc_exp18_user09.txt  \n",
            "  inflating: RawData/acc_exp19_user10.txt  \n",
            "  inflating: RawData/acc_exp20_user10.txt  \n",
            "  inflating: RawData/acc_exp21_user10.txt  \n",
            "  inflating: RawData/acc_exp22_user11.txt  \n",
            "  inflating: RawData/acc_exp23_user11.txt  \n",
            "  inflating: RawData/acc_exp24_user12.txt  \n",
            "  inflating: RawData/acc_exp25_user12.txt  \n",
            "  inflating: RawData/acc_exp26_user13.txt  \n",
            "  inflating: RawData/acc_exp27_user13.txt  \n",
            "  inflating: RawData/acc_exp28_user14.txt  \n",
            "  inflating: RawData/acc_exp29_user14.txt  \n",
            "  inflating: RawData/acc_exp30_user15.txt  \n",
            "  inflating: RawData/acc_exp31_user15.txt  \n",
            "  inflating: RawData/acc_exp32_user16.txt  \n",
            "  inflating: RawData/acc_exp33_user16.txt  \n",
            "  inflating: RawData/acc_exp34_user17.txt  \n",
            "  inflating: RawData/acc_exp35_user17.txt  \n",
            "  inflating: RawData/acc_exp36_user18.txt  \n",
            "  inflating: RawData/acc_exp37_user18.txt  \n",
            "  inflating: RawData/acc_exp38_user19.txt  \n",
            "  inflating: RawData/acc_exp39_user19.txt  \n",
            "  inflating: RawData/acc_exp40_user20.txt  \n",
            "  inflating: RawData/acc_exp41_user20.txt  \n",
            "  inflating: RawData/acc_exp42_user21.txt  \n",
            "  inflating: RawData/acc_exp43_user21.txt  \n",
            "  inflating: RawData/acc_exp44_user22.txt  \n",
            "  inflating: RawData/acc_exp45_user22.txt  \n",
            "  inflating: RawData/acc_exp46_user23.txt  \n",
            "  inflating: RawData/acc_exp47_user23.txt  \n",
            "  inflating: RawData/acc_exp48_user24.txt  \n",
            "  inflating: RawData/acc_exp49_user24.txt  \n",
            "  inflating: RawData/acc_exp50_user25.txt  \n",
            "  inflating: RawData/acc_exp51_user25.txt  \n",
            "  inflating: RawData/acc_exp52_user26.txt  \n",
            "  inflating: RawData/acc_exp53_user26.txt  \n",
            "  inflating: RawData/acc_exp54_user27.txt  \n",
            "  inflating: RawData/acc_exp55_user27.txt  \n",
            "  inflating: RawData/acc_exp56_user28.txt  \n",
            "  inflating: RawData/acc_exp57_user28.txt  \n",
            "  inflating: RawData/acc_exp58_user29.txt  \n",
            "  inflating: RawData/acc_exp59_user29.txt  \n",
            "  inflating: RawData/acc_exp60_user30.txt  \n",
            "  inflating: RawData/acc_exp61_user30.txt  \n",
            "  inflating: RawData/gyro_exp01_user01.txt  \n",
            "  inflating: RawData/gyro_exp02_user01.txt  \n",
            "  inflating: RawData/gyro_exp03_user02.txt  \n",
            "  inflating: RawData/gyro_exp04_user02.txt  \n",
            "  inflating: RawData/gyro_exp05_user03.txt  \n",
            "  inflating: RawData/gyro_exp06_user03.txt  \n",
            "  inflating: RawData/gyro_exp07_user04.txt  \n",
            "  inflating: RawData/gyro_exp08_user04.txt  \n",
            "  inflating: RawData/gyro_exp09_user05.txt  \n",
            "  inflating: RawData/gyro_exp10_user05.txt  \n",
            "  inflating: RawData/gyro_exp11_user06.txt  \n",
            "  inflating: RawData/gyro_exp12_user06.txt  \n",
            "  inflating: RawData/gyro_exp13_user07.txt  \n",
            "  inflating: RawData/gyro_exp14_user07.txt  \n",
            "  inflating: RawData/gyro_exp15_user08.txt  \n",
            "  inflating: RawData/gyro_exp16_user08.txt  \n",
            "  inflating: RawData/gyro_exp17_user09.txt  \n",
            "  inflating: RawData/gyro_exp18_user09.txt  \n",
            "  inflating: RawData/gyro_exp19_user10.txt  \n",
            "  inflating: RawData/gyro_exp20_user10.txt  \n",
            "  inflating: RawData/gyro_exp21_user10.txt  \n",
            "  inflating: RawData/gyro_exp22_user11.txt  \n",
            "  inflating: RawData/gyro_exp23_user11.txt  \n",
            "  inflating: RawData/gyro_exp24_user12.txt  \n",
            "  inflating: RawData/gyro_exp25_user12.txt  \n",
            "  inflating: RawData/gyro_exp26_user13.txt  \n",
            "  inflating: RawData/gyro_exp27_user13.txt  \n",
            "  inflating: RawData/gyro_exp28_user14.txt  \n",
            "  inflating: RawData/gyro_exp29_user14.txt  \n",
            "  inflating: RawData/gyro_exp30_user15.txt  \n",
            "  inflating: RawData/gyro_exp31_user15.txt  \n",
            "  inflating: RawData/gyro_exp32_user16.txt  \n",
            "  inflating: RawData/gyro_exp33_user16.txt  \n",
            "  inflating: RawData/gyro_exp34_user17.txt  \n",
            "  inflating: RawData/gyro_exp35_user17.txt  \n",
            "  inflating: RawData/gyro_exp36_user18.txt  \n",
            "  inflating: RawData/gyro_exp37_user18.txt  \n",
            "  inflating: RawData/gyro_exp38_user19.txt  \n",
            "  inflating: RawData/gyro_exp39_user19.txt  \n",
            "  inflating: RawData/gyro_exp40_user20.txt  \n",
            "  inflating: RawData/gyro_exp41_user20.txt  \n",
            "  inflating: RawData/gyro_exp42_user21.txt  \n",
            "  inflating: RawData/gyro_exp43_user21.txt  \n",
            "  inflating: RawData/gyro_exp44_user22.txt  \n",
            "  inflating: RawData/gyro_exp45_user22.txt  \n",
            "  inflating: RawData/gyro_exp46_user23.txt  \n",
            "  inflating: RawData/gyro_exp47_user23.txt  \n",
            "  inflating: RawData/gyro_exp48_user24.txt  \n",
            "  inflating: RawData/gyro_exp49_user24.txt  \n",
            "  inflating: RawData/gyro_exp50_user25.txt  \n",
            "  inflating: RawData/gyro_exp51_user25.txt  \n",
            "  inflating: RawData/gyro_exp52_user26.txt  \n",
            "  inflating: RawData/gyro_exp53_user26.txt  \n",
            "  inflating: RawData/gyro_exp54_user27.txt  \n",
            "  inflating: RawData/gyro_exp55_user27.txt  \n",
            "  inflating: RawData/gyro_exp56_user28.txt  \n",
            "  inflating: RawData/gyro_exp57_user28.txt  \n",
            "  inflating: RawData/gyro_exp58_user29.txt  \n",
            "  inflating: RawData/gyro_exp59_user29.txt  \n",
            "  inflating: RawData/gyro_exp60_user30.txt  \n",
            "  inflating: RawData/gyro_exp61_user30.txt  \n",
            "  inflating: RawData/labels.txt      \n",
            "  inflating: Test/subject_id_test.txt  \n",
            "  inflating: Test/X_test.txt         \n",
            "  inflating: Test/y_test.txt         \n",
            "  inflating: Train/subject_id_train.txt  \n",
            "  inflating: Train/X_train.txt       \n",
            "  inflating: Train/y_train.txt       \n",
            "  inflating: activity_labels.txt     \n",
            "  inflating: features.txt            \n"
          ],
          "name": "stdout"
        }
      ]
    },
    {
      "metadata": {
        "id": "AdTJumQccZO8",
        "colab_type": "text"
      },
      "cell_type": "markdown",
      "source": [
        "# Setup Turi Create"
      ]
    },
    {
      "metadata": {
        "id": "d5ujAg1GcaLD",
        "colab_type": "code",
        "colab": {
          "base_uri": "https://localhost:8080/",
          "height": 655
        },
        "outputId": "fc3bac6b-1a29-4a7c-9b92-ffdbd62df2bc"
      },
      "cell_type": "code",
      "source": [
        "!apt install libnvrtc8.0\n",
        "!pip uninstall -y mxnet-cu80 && pip install mxnet-cu80==1.1.0\n",
        "!pip install turicreate"
      ],
      "execution_count": 1,
      "outputs": [
        {
          "output_type": "stream",
          "text": [
            "Reading package lists... Done\n",
            "Building dependency tree       \n",
            "Reading state information... Done\n",
            "libnvrtc8.0 is already the newest version (8.0.61-1).\n",
            "0 upgraded, 0 newly installed, 0 to remove and 0 not upgraded.\n",
            "Uninstalling mxnet-cu80-1.1.0:\n",
            "  Successfully uninstalled mxnet-cu80-1.1.0\n",
            "Collecting mxnet-cu80==1.1.0\n",
            "  Using cached https://files.pythonhosted.org/packages/9c/55/bcfd26fd408a4bab27bca1ef5dc1df42954509c904699a6c371d5a4c23ab/mxnet_cu80-1.1.0-py2.py3-none-manylinux1_x86_64.whl\n",
            "Requirement already satisfied: numpy<=1.13.3 in /usr/local/lib/python3.6/dist-packages (from mxnet-cu80==1.1.0) (1.13.3)\n",
            "Requirement already satisfied: graphviz==0.8.1 in /usr/local/lib/python3.6/dist-packages (from mxnet-cu80==1.1.0) (0.8.1)\n",
            "Requirement already satisfied: requests==2.18.4 in /usr/local/lib/python3.6/dist-packages (from mxnet-cu80==1.1.0) (2.18.4)\n",
            "Requirement already satisfied: idna<2.7,>=2.5 in /usr/local/lib/python3.6/dist-packages (from requests==2.18.4->mxnet-cu80==1.1.0) (2.6)\n",
            "Requirement already satisfied: certifi>=2017.4.17 in /usr/local/lib/python3.6/dist-packages (from requests==2.18.4->mxnet-cu80==1.1.0) (2018.8.24)\n",
            "Requirement already satisfied: chardet<3.1.0,>=3.0.2 in /usr/local/lib/python3.6/dist-packages (from requests==2.18.4->mxnet-cu80==1.1.0) (3.0.4)\n",
            "Requirement already satisfied: urllib3<1.23,>=1.21.1 in /usr/local/lib/python3.6/dist-packages (from requests==2.18.4->mxnet-cu80==1.1.0) (1.22)\n",
            "Installing collected packages: mxnet-cu80\n",
            "Successfully installed mxnet-cu80-1.1.0\n",
            "Requirement already satisfied: turicreate in /usr/local/lib/python3.6/dist-packages (5.0)\n",
            "Requirement already satisfied: decorator>=4.0.9 in /usr/local/lib/python3.6/dist-packages (from turicreate) (4.3.0)\n",
            "Requirement already satisfied: coremltools==2.0b1 in /usr/local/lib/python3.6/dist-packages (from turicreate) (2.0b1)\n",
            "Requirement already satisfied: prettytable==0.7.2 in /usr/local/lib/python3.6/dist-packages (from turicreate) (0.7.2)\n",
            "Requirement already satisfied: pillow>=3.3.0 in /usr/local/lib/python3.6/dist-packages (from turicreate) (4.0.0)\n",
            "Requirement already satisfied: pandas>=0.19.0 in /usr/local/lib/python3.6/dist-packages (from turicreate) (0.22.0)\n",
            "Requirement already satisfied: requests>=2.9.1 in /usr/local/lib/python3.6/dist-packages (from turicreate) (2.18.4)\n",
            "Requirement already satisfied: mxnet<1.2.0,>=1.1.0 in /usr/local/lib/python3.6/dist-packages (from turicreate) (1.1.0.post0)\n",
            "Requirement already satisfied: numpy in /usr/local/lib/python3.6/dist-packages (from turicreate) (1.13.3)\n",
            "Requirement already satisfied: six==1.10.0 in /usr/local/lib/python3.6/dist-packages (from coremltools==2.0b1->turicreate) (1.10.0)\n",
            "Requirement already satisfied: protobuf>=3.1.0 in /usr/local/lib/python3.6/dist-packages (from coremltools==2.0b1->turicreate) (3.6.1)\n",
            "Requirement already satisfied: olefile in /usr/local/lib/python3.6/dist-packages (from pillow>=3.3.0->turicreate) (0.46)\n",
            "Requirement already satisfied: pytz>=2011k in /usr/local/lib/python3.6/dist-packages (from pandas>=0.19.0->turicreate) (2018.5)\n",
            "Requirement already satisfied: python-dateutil>=2 in /usr/local/lib/python3.6/dist-packages (from pandas>=0.19.0->turicreate) (2.5.3)\n",
            "Requirement already satisfied: idna<2.7,>=2.5 in /usr/local/lib/python3.6/dist-packages (from requests>=2.9.1->turicreate) (2.6)\n",
            "Requirement already satisfied: chardet<3.1.0,>=3.0.2 in /usr/local/lib/python3.6/dist-packages (from requests>=2.9.1->turicreate) (3.0.4)\n",
            "Requirement already satisfied: urllib3<1.23,>=1.21.1 in /usr/local/lib/python3.6/dist-packages (from requests>=2.9.1->turicreate) (1.22)\n",
            "Requirement already satisfied: certifi>=2017.4.17 in /usr/local/lib/python3.6/dist-packages (from requests>=2.9.1->turicreate) (2018.8.24)\n",
            "Requirement already satisfied: graphviz<0.9.0,>=0.8.1 in /usr/local/lib/python3.6/dist-packages (from mxnet<1.2.0,>=1.1.0->turicreate) (0.8.1)\n",
            "Requirement already satisfied: setuptools in /usr/local/lib/python3.6/dist-packages (from protobuf>=3.1.0->coremltools==2.0b1->turicreate) (39.1.0)\n"
          ],
          "name": "stdout"
        }
      ]
    },
    {
      "metadata": {
        "id": "CZH8VDCOcebW",
        "colab_type": "code",
        "colab": {}
      },
      "cell_type": "code",
      "source": [
        "import mxnet as mx\n",
        "import turicreate as tc"
      ],
      "execution_count": 0,
      "outputs": []
    },
    {
      "metadata": {
        "id": "TfwLewM6ce6-",
        "colab_type": "code",
        "colab": {}
      },
      "cell_type": "code",
      "source": [
        "# Use all GPUs (default)\n",
        "tc.config.set_num_gpus(-1)\n",
        "\n",
        "# Use only 1 GPU\n",
        "#tc.config.set_num_gpus(1)\n",
        "\n",
        "# Use CPU\n",
        "#tc.config.set_num_gpus(0)"
      ],
      "execution_count": 0,
      "outputs": []
    },
    {
      "metadata": {
        "id": "ei1gcD_bQNVY",
        "colab_type": "text"
      },
      "cell_type": "markdown",
      "source": [
        "# Data Preparation\n",
        "\n",
        "https://apple.github.io/turicreate/docs/userguide/activity_classifier/data-preparation.html"
      ]
    },
    {
      "metadata": {
        "id": "JiQ0CGKMbEsI",
        "colab_type": "code",
        "colab": {
          "base_uri": "https://localhost:8080/",
          "height": 238
        },
        "outputId": "12f15316-89f0-4181-e986-a38d59eb3307"
      },
      "cell_type": "code",
      "source": [
        "data_dir = './RawData/'\n",
        "\n",
        "def find_label_for_containing_interval(intervals, index):\n",
        "    containing_interval = intervals[:, 0][(intervals[:, 1] <= index) & (index <= intervals[:, 2])]\n",
        "    if len(containing_interval) == 1:\n",
        "        return containing_interval[0]\n",
        "\n",
        "# Load labels\n",
        "labels = tc.SFrame.read_csv(data_dir + 'labels.txt', delimiter=' ', header=False, verbose=False)\n",
        "labels = labels.rename({'X1': 'exp_id', 'X2': 'user_id', 'X3': 'activity_id', 'X4': 'start', 'X5': 'end'})\n",
        "labels.head()"
      ],
      "execution_count": 11,
      "outputs": [
        {
          "output_type": "execute_result",
          "data": {
            "text/html": [
              "<div style=\"max-height:1000px;max-width:1500px;overflow:auto;\"><table frame=\"box\" rules=\"cols\">\n",
              "    <tr>\n",
              "        <th style=\"padding-left: 1em; padding-right: 1em; text-align: center\">exp_id</th>\n",
              "        <th style=\"padding-left: 1em; padding-right: 1em; text-align: center\">user_id</th>\n",
              "        <th style=\"padding-left: 1em; padding-right: 1em; text-align: center\">activity_id</th>\n",
              "        <th style=\"padding-left: 1em; padding-right: 1em; text-align: center\">start</th>\n",
              "        <th style=\"padding-left: 1em; padding-right: 1em; text-align: center\">end</th>\n",
              "    </tr>\n",
              "    <tr>\n",
              "        <td style=\"padding-left: 1em; padding-right: 1em; text-align: center; vertical-align: top\">1</td>\n",
              "        <td style=\"padding-left: 1em; padding-right: 1em; text-align: center; vertical-align: top\">1</td>\n",
              "        <td style=\"padding-left: 1em; padding-right: 1em; text-align: center; vertical-align: top\">5</td>\n",
              "        <td style=\"padding-left: 1em; padding-right: 1em; text-align: center; vertical-align: top\">250</td>\n",
              "        <td style=\"padding-left: 1em; padding-right: 1em; text-align: center; vertical-align: top\">1232</td>\n",
              "    </tr>\n",
              "    <tr>\n",
              "        <td style=\"padding-left: 1em; padding-right: 1em; text-align: center; vertical-align: top\">1</td>\n",
              "        <td style=\"padding-left: 1em; padding-right: 1em; text-align: center; vertical-align: top\">1</td>\n",
              "        <td style=\"padding-left: 1em; padding-right: 1em; text-align: center; vertical-align: top\">7</td>\n",
              "        <td style=\"padding-left: 1em; padding-right: 1em; text-align: center; vertical-align: top\">1233</td>\n",
              "        <td style=\"padding-left: 1em; padding-right: 1em; text-align: center; vertical-align: top\">1392</td>\n",
              "    </tr>\n",
              "    <tr>\n",
              "        <td style=\"padding-left: 1em; padding-right: 1em; text-align: center; vertical-align: top\">1</td>\n",
              "        <td style=\"padding-left: 1em; padding-right: 1em; text-align: center; vertical-align: top\">1</td>\n",
              "        <td style=\"padding-left: 1em; padding-right: 1em; text-align: center; vertical-align: top\">4</td>\n",
              "        <td style=\"padding-left: 1em; padding-right: 1em; text-align: center; vertical-align: top\">1393</td>\n",
              "        <td style=\"padding-left: 1em; padding-right: 1em; text-align: center; vertical-align: top\">2194</td>\n",
              "    </tr>\n",
              "    <tr>\n",
              "        <td style=\"padding-left: 1em; padding-right: 1em; text-align: center; vertical-align: top\">1</td>\n",
              "        <td style=\"padding-left: 1em; padding-right: 1em; text-align: center; vertical-align: top\">1</td>\n",
              "        <td style=\"padding-left: 1em; padding-right: 1em; text-align: center; vertical-align: top\">8</td>\n",
              "        <td style=\"padding-left: 1em; padding-right: 1em; text-align: center; vertical-align: top\">2195</td>\n",
              "        <td style=\"padding-left: 1em; padding-right: 1em; text-align: center; vertical-align: top\">2359</td>\n",
              "    </tr>\n",
              "    <tr>\n",
              "        <td style=\"padding-left: 1em; padding-right: 1em; text-align: center; vertical-align: top\">1</td>\n",
              "        <td style=\"padding-left: 1em; padding-right: 1em; text-align: center; vertical-align: top\">1</td>\n",
              "        <td style=\"padding-left: 1em; padding-right: 1em; text-align: center; vertical-align: top\">5</td>\n",
              "        <td style=\"padding-left: 1em; padding-right: 1em; text-align: center; vertical-align: top\">2360</td>\n",
              "        <td style=\"padding-left: 1em; padding-right: 1em; text-align: center; vertical-align: top\">3374</td>\n",
              "    </tr>\n",
              "    <tr>\n",
              "        <td style=\"padding-left: 1em; padding-right: 1em; text-align: center; vertical-align: top\">1</td>\n",
              "        <td style=\"padding-left: 1em; padding-right: 1em; text-align: center; vertical-align: top\">1</td>\n",
              "        <td style=\"padding-left: 1em; padding-right: 1em; text-align: center; vertical-align: top\">11</td>\n",
              "        <td style=\"padding-left: 1em; padding-right: 1em; text-align: center; vertical-align: top\">3375</td>\n",
              "        <td style=\"padding-left: 1em; padding-right: 1em; text-align: center; vertical-align: top\">3662</td>\n",
              "    </tr>\n",
              "    <tr>\n",
              "        <td style=\"padding-left: 1em; padding-right: 1em; text-align: center; vertical-align: top\">1</td>\n",
              "        <td style=\"padding-left: 1em; padding-right: 1em; text-align: center; vertical-align: top\">1</td>\n",
              "        <td style=\"padding-left: 1em; padding-right: 1em; text-align: center; vertical-align: top\">6</td>\n",
              "        <td style=\"padding-left: 1em; padding-right: 1em; text-align: center; vertical-align: top\">3663</td>\n",
              "        <td style=\"padding-left: 1em; padding-right: 1em; text-align: center; vertical-align: top\">4538</td>\n",
              "    </tr>\n",
              "    <tr>\n",
              "        <td style=\"padding-left: 1em; padding-right: 1em; text-align: center; vertical-align: top\">1</td>\n",
              "        <td style=\"padding-left: 1em; padding-right: 1em; text-align: center; vertical-align: top\">1</td>\n",
              "        <td style=\"padding-left: 1em; padding-right: 1em; text-align: center; vertical-align: top\">10</td>\n",
              "        <td style=\"padding-left: 1em; padding-right: 1em; text-align: center; vertical-align: top\">4539</td>\n",
              "        <td style=\"padding-left: 1em; padding-right: 1em; text-align: center; vertical-align: top\">4735</td>\n",
              "    </tr>\n",
              "    <tr>\n",
              "        <td style=\"padding-left: 1em; padding-right: 1em; text-align: center; vertical-align: top\">1</td>\n",
              "        <td style=\"padding-left: 1em; padding-right: 1em; text-align: center; vertical-align: top\">1</td>\n",
              "        <td style=\"padding-left: 1em; padding-right: 1em; text-align: center; vertical-align: top\">4</td>\n",
              "        <td style=\"padding-left: 1em; padding-right: 1em; text-align: center; vertical-align: top\">4736</td>\n",
              "        <td style=\"padding-left: 1em; padding-right: 1em; text-align: center; vertical-align: top\">5667</td>\n",
              "    </tr>\n",
              "    <tr>\n",
              "        <td style=\"padding-left: 1em; padding-right: 1em; text-align: center; vertical-align: top\">1</td>\n",
              "        <td style=\"padding-left: 1em; padding-right: 1em; text-align: center; vertical-align: top\">1</td>\n",
              "        <td style=\"padding-left: 1em; padding-right: 1em; text-align: center; vertical-align: top\">9</td>\n",
              "        <td style=\"padding-left: 1em; padding-right: 1em; text-align: center; vertical-align: top\">5668</td>\n",
              "        <td style=\"padding-left: 1em; padding-right: 1em; text-align: center; vertical-align: top\">5859</td>\n",
              "    </tr>\n",
              "</table>\n",
              "[10 rows x 5 columns]<br/>\n",
              "</div>"
            ],
            "text/plain": [
              "Columns:\n",
              "\texp_id\tint\n",
              "\tuser_id\tint\n",
              "\tactivity_id\tint\n",
              "\tstart\tint\n",
              "\tend\tint\n",
              "\n",
              "Rows: 10\n",
              "\n",
              "Data:\n",
              "+--------+---------+-------------+-------+------+\n",
              "| exp_id | user_id | activity_id | start | end  |\n",
              "+--------+---------+-------------+-------+------+\n",
              "|   1    |    1    |      5      |  250  | 1232 |\n",
              "|   1    |    1    |      7      |  1233 | 1392 |\n",
              "|   1    |    1    |      4      |  1393 | 2194 |\n",
              "|   1    |    1    |      8      |  2195 | 2359 |\n",
              "|   1    |    1    |      5      |  2360 | 3374 |\n",
              "|   1    |    1    |      11     |  3375 | 3662 |\n",
              "|   1    |    1    |      6      |  3663 | 4538 |\n",
              "|   1    |    1    |      10     |  4539 | 4735 |\n",
              "|   1    |    1    |      4      |  4736 | 5667 |\n",
              "|   1    |    1    |      9      |  5668 | 5859 |\n",
              "+--------+---------+-------------+-------+------+\n",
              "[10 rows x 5 columns]"
            ]
          },
          "metadata": {
            "tags": []
          },
          "execution_count": 11
        }
      ]
    },
    {
      "metadata": {
        "id": "a_oKPOf6cvAI",
        "colab_type": "text"
      },
      "cell_type": "markdown",
      "source": [
        "Next, we need to get the accelerometer and gyroscope data for each experiment. For each experiment, every sensor's data is in a separate file. In the code below we load the accelerometer and gyroscope data from all experiments into a single SFrame. While loading the collected samples, we also calculate the label for each sample using our previously defined function. The final SFrame contains a column named exp_id to identify each unique sessions."
      ]
    },
    {
      "metadata": {
        "id": "MVO9uGTocvqe",
        "colab_type": "code",
        "colab": {}
      },
      "cell_type": "code",
      "source": [
        "from glob import glob\n",
        "\n",
        "acc_files = glob(data_dir + 'acc_*.txt')\n",
        "gyro_files = glob(data_dir + 'gyro_*.txt')\n",
        "\n",
        "# Load data\n",
        "data = tc.SFrame()\n",
        "files = zip(sorted(acc_files), sorted(gyro_files))\n",
        "for acc_file, gyro_file in files:\n",
        "    exp_id = int(acc_file.split('_')[1][-2:])\n",
        "\n",
        "    # Load accel data\n",
        "    sf = tc.SFrame.read_csv(acc_file, delimiter=' ', header=False, verbose=False)\n",
        "    sf = sf.rename({'X1': 'acc_x', 'X2': 'acc_y', 'X3': 'acc_z'})\n",
        "    sf['exp_id'] = exp_id\n",
        "\n",
        "    # Load gyro data\n",
        "    gyro_sf = tc.SFrame.read_csv(gyro_file, delimiter=' ', header=False, verbose=False)\n",
        "    gyro_sf = gyro_sf.rename({'X1': 'gyro_x', 'X2': 'gyro_y', 'X3': 'gyro_z'})\n",
        "    sf = sf.add_columns(gyro_sf)\n",
        "\n",
        "    # Calc labels\n",
        "    exp_labels = labels[labels['exp_id'] == exp_id][['activity_id', 'start', 'end']].to_numpy()\n",
        "    sf = sf.add_row_number()\n",
        "    sf['activity_id'] = sf['id'].apply(lambda x: find_label_for_containing_interval(exp_labels, x))\n",
        "    sf = sf.remove_columns(['id'])\n",
        "\n",
        "    data = data.append(sf)"
      ],
      "execution_count": 0,
      "outputs": []
    },
    {
      "metadata": {
        "id": "UVT3HRrQc4zw",
        "colab_type": "text"
      },
      "cell_type": "markdown",
      "source": [
        "Finally, we encode the labels back into a readable string format, and save the resulting SFrame."
      ]
    },
    {
      "metadata": {
        "id": "rWRH6Mtnc5sU",
        "colab_type": "code",
        "colab": {}
      },
      "cell_type": "code",
      "source": [
        "target_map = {\n",
        "    1.: 'walking',          \n",
        "    2.: 'climbing_upstairs',\n",
        "    3.: 'climbing_downstairs',\n",
        "    4.: 'sitting',\n",
        "    5.: 'standing',\n",
        "    6.: 'laying'\n",
        "}\n",
        "\n",
        "# Use the same labels used in the experiment\n",
        "data = data.filter_by(list(target_map.keys()), 'activity_id')\n",
        "data['activity'] = data['activity_id'].apply(lambda x: target_map[x])\n",
        "data = data.remove_column('activity_id')\n",
        "\n",
        "data.save('hapt_data.sframe')"
      ],
      "execution_count": 0,
      "outputs": []
    },
    {
      "metadata": {
        "id": "fprN0DI7eC0a",
        "colab_type": "code",
        "colab": {
          "base_uri": "https://localhost:8080/",
          "height": 442
        },
        "outputId": "f2b416da-05b8-4f5b-8bc7-41940d1655a3"
      },
      "cell_type": "code",
      "source": [
        "data.head()"
      ],
      "execution_count": 15,
      "outputs": [
        {
          "output_type": "execute_result",
          "data": {
            "text/html": [
              "<div style=\"max-height:1000px;max-width:1500px;overflow:auto;\"><table frame=\"box\" rules=\"cols\">\n",
              "    <tr>\n",
              "        <th style=\"padding-left: 1em; padding-right: 1em; text-align: center\">acc_x</th>\n",
              "        <th style=\"padding-left: 1em; padding-right: 1em; text-align: center\">acc_y</th>\n",
              "        <th style=\"padding-left: 1em; padding-right: 1em; text-align: center\">acc_z</th>\n",
              "        <th style=\"padding-left: 1em; padding-right: 1em; text-align: center\">exp_id</th>\n",
              "        <th style=\"padding-left: 1em; padding-right: 1em; text-align: center\">gyro_x</th>\n",
              "    </tr>\n",
              "    <tr>\n",
              "        <td style=\"padding-left: 1em; padding-right: 1em; text-align: center; vertical-align: top\">1.020833394742025</td>\n",
              "        <td style=\"padding-left: 1em; padding-right: 1em; text-align: center; vertical-align: top\">-0.1250000020616516</td>\n",
              "        <td style=\"padding-left: 1em; padding-right: 1em; text-align: center; vertical-align: top\">0.105555564319952</td>\n",
              "        <td style=\"padding-left: 1em; padding-right: 1em; text-align: center; vertical-align: top\">1</td>\n",
              "        <td style=\"padding-left: 1em; padding-right: 1em; text-align: center; vertical-align: top\">-0.002748893573880196</td>\n",
              "    </tr>\n",
              "    <tr>\n",
              "        <td style=\"padding-left: 1em; padding-right: 1em; text-align: center; vertical-align: top\">1.025000070391787</td>\n",
              "        <td style=\"padding-left: 1em; padding-right: 1em; text-align: center; vertical-align: top\">-0.1250000020616516</td>\n",
              "        <td style=\"padding-left: 1em; padding-right: 1em; text-align: center; vertical-align: top\">0.1013888947481719</td>\n",
              "        <td style=\"padding-left: 1em; padding-right: 1em; text-align: center; vertical-align: top\">1</td>\n",
              "        <td style=\"padding-left: 1em; padding-right: 1em; text-align: center; vertical-align: top\">-0.0003054326225537807</td>\n",
              "    </tr>\n",
              "    <tr>\n",
              "        <td style=\"padding-left: 1em; padding-right: 1em; text-align: center; vertical-align: top\">1.020833394742025</td>\n",
              "        <td style=\"padding-left: 1em; padding-right: 1em; text-align: center; vertical-align: top\">-0.1250000020616516</td>\n",
              "        <td style=\"padding-left: 1em; padding-right: 1em; text-align: center; vertical-align: top\">0.1041666724366978</td>\n",
              "        <td style=\"padding-left: 1em; padding-right: 1em; text-align: center; vertical-align: top\">1</td>\n",
              "        <td style=\"padding-left: 1em; padding-right: 1em; text-align: center; vertical-align: top\">0.01221730466932058</td>\n",
              "    </tr>\n",
              "    <tr>\n",
              "        <td style=\"padding-left: 1em; padding-right: 1em; text-align: center; vertical-align: top\">1.016666719092262</td>\n",
              "        <td style=\"padding-left: 1em; padding-right: 1em; text-align: center; vertical-align: top\">-0.1250000020616516</td>\n",
              "        <td style=\"padding-left: 1em; padding-right: 1em; text-align: center; vertical-align: top\">0.1083333359304957</td>\n",
              "        <td style=\"padding-left: 1em; padding-right: 1em; text-align: center; vertical-align: top\">1</td>\n",
              "        <td style=\"padding-left: 1em; padding-right: 1em; text-align: center; vertical-align: top\">0.01130100712180138</td>\n",
              "    </tr>\n",
              "    <tr>\n",
              "        <td style=\"padding-left: 1em; padding-right: 1em; text-align: center; vertical-align: top\">1.018055610975516</td>\n",
              "        <td style=\"padding-left: 1em; padding-right: 1em; text-align: center; vertical-align: top\">-0.1277777858281599</td>\n",
              "        <td style=\"padding-left: 1em; padding-right: 1em; text-align: center; vertical-align: top\">0.1083333359304957</td>\n",
              "        <td style=\"padding-left: 1em; padding-right: 1em; text-align: center; vertical-align: top\">1</td>\n",
              "        <td style=\"padding-left: 1em; padding-right: 1em; text-align: center; vertical-align: top\">0.01099557429552078</td>\n",
              "    </tr>\n",
              "    <tr>\n",
              "        <td style=\"padding-left: 1em; padding-right: 1em; text-align: center; vertical-align: top\">1.018055610975516</td>\n",
              "        <td style=\"padding-left: 1em; padding-right: 1em; text-align: center; vertical-align: top\">-0.1291666655554495</td>\n",
              "        <td style=\"padding-left: 1em; padding-right: 1em; text-align: center; vertical-align: top\">0.1041666724366978</td>\n",
              "        <td style=\"padding-left: 1em; padding-right: 1em; text-align: center; vertical-align: top\">1</td>\n",
              "        <td style=\"padding-left: 1em; padding-right: 1em; text-align: center; vertical-align: top\">0.009162978269159794</td>\n",
              "    </tr>\n",
              "    <tr>\n",
              "        <td style=\"padding-left: 1em; padding-right: 1em; text-align: center; vertical-align: top\">1.01944450285877</td>\n",
              "        <td style=\"padding-left: 1em; padding-right: 1em; text-align: center; vertical-align: top\">-0.1250000020616516</td>\n",
              "        <td style=\"padding-left: 1em; padding-right: 1em; text-align: center; vertical-align: top\">0.1013888947481719</td>\n",
              "        <td style=\"padding-left: 1em; padding-right: 1em; text-align: center; vertical-align: top\">1</td>\n",
              "        <td style=\"padding-left: 1em; padding-right: 1em; text-align: center; vertical-align: top\">0.01007927674800158</td>\n",
              "    </tr>\n",
              "    <tr>\n",
              "        <td style=\"padding-left: 1em; padding-right: 1em; text-align: center; vertical-align: top\">1.016666719092262</td>\n",
              "        <td style=\"padding-left: 1em; padding-right: 1em; text-align: center; vertical-align: top\">-0.1236111101783975</td>\n",
              "        <td style=\"padding-left: 1em; padding-right: 1em; text-align: center; vertical-align: top\">0.09722222517639174</td>\n",
              "        <td style=\"padding-left: 1em; padding-right: 1em; text-align: center; vertical-align: top\">1</td>\n",
              "        <td style=\"padding-left: 1em; padding-right: 1em; text-align: center; vertical-align: top\">0.01374446786940098</td>\n",
              "    </tr>\n",
              "    <tr>\n",
              "        <td style=\"padding-left: 1em; padding-right: 1em; text-align: center; vertical-align: top\">1.020833394742025</td>\n",
              "        <td style=\"padding-left: 1em; padding-right: 1em; text-align: center; vertical-align: top\">-0.1277777858281599</td>\n",
              "        <td style=\"padding-left: 1em; padding-right: 1em; text-align: center; vertical-align: top\">0.09861111705964588</td>\n",
              "        <td style=\"padding-left: 1em; padding-right: 1em; text-align: center; vertical-align: top\">1</td>\n",
              "        <td style=\"padding-left: 1em; padding-right: 1em; text-align: center; vertical-align: top\">0.009773843921720982</td>\n",
              "    </tr>\n",
              "    <tr>\n",
              "        <td style=\"padding-left: 1em; padding-right: 1em; text-align: center; vertical-align: top\">1.01944450285877</td>\n",
              "        <td style=\"padding-left: 1em; padding-right: 1em; text-align: center; vertical-align: top\">-0.1152777831908018</td>\n",
              "        <td style=\"padding-left: 1em; padding-right: 1em; text-align: center; vertical-align: top\">0.09444444748786576</td>\n",
              "        <td style=\"padding-left: 1em; padding-right: 1em; text-align: center; vertical-align: top\">1</td>\n",
              "        <td style=\"padding-left: 1em; padding-right: 1em; text-align: center; vertical-align: top\">0.01649336144328117</td>\n",
              "    </tr>\n",
              "</table>\n",
              "<table frame=\"box\" rules=\"cols\">\n",
              "    <tr>\n",
              "        <th style=\"padding-left: 1em; padding-right: 1em; text-align: center\">gyro_y</th>\n",
              "        <th style=\"padding-left: 1em; padding-right: 1em; text-align: center\">gyro_z</th>\n",
              "        <th style=\"padding-left: 1em; padding-right: 1em; text-align: center\">activity</th>\n",
              "    </tr>\n",
              "    <tr>\n",
              "        <td style=\"padding-left: 1em; padding-right: 1em; text-align: center; vertical-align: top\">-0.00427605677396059</td>\n",
              "        <td style=\"padding-left: 1em; padding-right: 1em; text-align: center; vertical-align: top\">0.002748893573880196</td>\n",
              "        <td style=\"padding-left: 1em; padding-right: 1em; text-align: center; vertical-align: top\">standing</td>\n",
              "    </tr>\n",
              "    <tr>\n",
              "        <td style=\"padding-left: 1em; padding-right: 1em; text-align: center; vertical-align: top\">-0.002138028386980295</td>\n",
              "        <td style=\"padding-left: 1em; padding-right: 1em; text-align: center; vertical-align: top\">0.006108652334660292</td>\n",
              "        <td style=\"padding-left: 1em; padding-right: 1em; text-align: center; vertical-align: top\">standing</td>\n",
              "    </tr>\n",
              "    <tr>\n",
              "        <td style=\"padding-left: 1em; padding-right: 1em; text-align: center; vertical-align: top\">0.0009162978967651724</td>\n",
              "        <td style=\"padding-left: 1em; padding-right: 1em; text-align: center; vertical-align: top\">-0.00733038317412138</td>\n",
              "        <td style=\"padding-left: 1em; padding-right: 1em; text-align: center; vertical-align: top\">standing</td>\n",
              "    </tr>\n",
              "    <tr>\n",
              "        <td style=\"padding-left: 1em; padding-right: 1em; text-align: center; vertical-align: top\">-0.001832595793530345</td>\n",
              "        <td style=\"padding-left: 1em; padding-right: 1em; text-align: center; vertical-align: top\">-0.006414085160940886</td>\n",
              "        <td style=\"padding-left: 1em; padding-right: 1em; text-align: center; vertical-align: top\">standing</td>\n",
              "    </tr>\n",
              "    <tr>\n",
              "        <td style=\"padding-left: 1em; padding-right: 1em; text-align: center; vertical-align: top\">-0.001527163083665073</td>\n",
              "        <td style=\"padding-left: 1em; padding-right: 1em; text-align: center; vertical-align: top\">-0.004886921960860491</td>\n",
              "        <td style=\"padding-left: 1em; padding-right: 1em; text-align: center; vertical-align: top\">standing</td>\n",
              "    </tr>\n",
              "    <tr>\n",
              "        <td style=\"padding-left: 1em; padding-right: 1em; text-align: center; vertical-align: top\">-0.003054326167330146</td>\n",
              "        <td style=\"padding-left: 1em; padding-right: 1em; text-align: center; vertical-align: top\">0.01007927674800158</td>\n",
              "        <td style=\"padding-left: 1em; padding-right: 1em; text-align: center; vertical-align: top\">standing</td>\n",
              "    </tr>\n",
              "    <tr>\n",
              "        <td style=\"padding-left: 1em; padding-right: 1em; text-align: center; vertical-align: top\">-0.00366519158706069</td>\n",
              "        <td style=\"padding-left: 1em; padding-right: 1em; text-align: center; vertical-align: top\">0.0003054326225537807</td>\n",
              "        <td style=\"padding-left: 1em; padding-right: 1em; text-align: center; vertical-align: top\">standing</td>\n",
              "    </tr>\n",
              "    <tr>\n",
              "        <td style=\"padding-left: 1em; padding-right: 1em; text-align: center; vertical-align: top\">-0.01496619824320078</td>\n",
              "        <td style=\"padding-left: 1em; padding-right: 1em; text-align: center; vertical-align: top\">0.00427605677396059</td>\n",
              "        <td style=\"padding-left: 1em; padding-right: 1em; text-align: center; vertical-align: top\">standing</td>\n",
              "    </tr>\n",
              "    <tr>\n",
              "        <td style=\"padding-left: 1em; padding-right: 1em; text-align: center; vertical-align: top\">-0.006414085160940886</td>\n",
              "        <td style=\"padding-left: 1em; padding-right: 1em; text-align: center; vertical-align: top\">0.0003054326225537807</td>\n",
              "        <td style=\"padding-left: 1em; padding-right: 1em; text-align: center; vertical-align: top\">standing</td>\n",
              "    </tr>\n",
              "    <tr>\n",
              "        <td style=\"padding-left: 1em; padding-right: 1em; text-align: center; vertical-align: top\">0.00366519158706069</td>\n",
              "        <td style=\"padding-left: 1em; padding-right: 1em; text-align: center; vertical-align: top\">0.003359758760780096</td>\n",
              "        <td style=\"padding-left: 1em; padding-right: 1em; text-align: center; vertical-align: top\">standing</td>\n",
              "    </tr>\n",
              "</table>\n",
              "[10 rows x 8 columns]<br/>\n",
              "</div>"
            ],
            "text/plain": [
              "Columns:\n",
              "\tacc_x\tfloat\n",
              "\tacc_y\tfloat\n",
              "\tacc_z\tfloat\n",
              "\texp_id\tint\n",
              "\tgyro_x\tfloat\n",
              "\tgyro_y\tfloat\n",
              "\tgyro_z\tfloat\n",
              "\tactivity\tstr\n",
              "\n",
              "Rows: 10\n",
              "\n",
              "Data:\n",
              "+-------------------+---------------------+---------------------+--------+\n",
              "|       acc_x       |        acc_y        |        acc_z        | exp_id |\n",
              "+-------------------+---------------------+---------------------+--------+\n",
              "| 1.020833394742025 | -0.1250000020616516 |  0.105555564319952  |   1    |\n",
              "| 1.025000070391787 | -0.1250000020616516 |  0.1013888947481719 |   1    |\n",
              "| 1.020833394742025 | -0.1250000020616516 |  0.1041666724366978 |   1    |\n",
              "| 1.016666719092262 | -0.1250000020616516 |  0.1083333359304957 |   1    |\n",
              "| 1.018055610975516 | -0.1277777858281599 |  0.1083333359304957 |   1    |\n",
              "| 1.018055610975516 | -0.1291666655554495 |  0.1041666724366978 |   1    |\n",
              "|  1.01944450285877 | -0.1250000020616516 |  0.1013888947481719 |   1    |\n",
              "| 1.016666719092262 | -0.1236111101783975 | 0.09722222517639174 |   1    |\n",
              "| 1.020833394742025 | -0.1277777858281599 | 0.09861111705964588 |   1    |\n",
              "|  1.01944450285877 | -0.1152777831908018 | 0.09444444748786576 |   1    |\n",
              "+-------------------+---------------------+---------------------+--------+\n",
              "+------------------------+-----------------------+-----------------------+\n",
              "|         gyro_x         |         gyro_y        |         gyro_z        |\n",
              "+------------------------+-----------------------+-----------------------+\n",
              "| -0.002748893573880196  |  -0.00427605677396059 |  0.002748893573880196 |\n",
              "| -0.0003054326225537807 | -0.002138028386980295 |  0.006108652334660292 |\n",
              "|  0.01221730466932058   | 0.0009162978967651724 |  -0.00733038317412138 |\n",
              "|  0.01130100712180138   | -0.001832595793530345 | -0.006414085160940886 |\n",
              "|  0.01099557429552078   | -0.001527163083665073 | -0.004886921960860491 |\n",
              "|  0.009162978269159794  | -0.003054326167330146 |  0.01007927674800158  |\n",
              "|  0.01007927674800158   |  -0.00366519158706069 | 0.0003054326225537807 |\n",
              "|  0.01374446786940098   |  -0.01496619824320078 |  0.00427605677396059  |\n",
              "|  0.009773843921720982  | -0.006414085160940886 | 0.0003054326225537807 |\n",
              "|  0.01649336144328117   |  0.00366519158706069  |  0.003359758760780096 |\n",
              "+------------------------+-----------------------+-----------------------+\n",
              "+----------+\n",
              "| activity |\n",
              "+----------+\n",
              "| standing |\n",
              "| standing |\n",
              "| standing |\n",
              "| standing |\n",
              "| standing |\n",
              "| standing |\n",
              "| standing |\n",
              "| standing |\n",
              "| standing |\n",
              "| standing |\n",
              "+----------+\n",
              "[10 rows x 8 columns]"
            ]
          },
          "metadata": {
            "tags": []
          },
          "execution_count": 15
        }
      ]
    },
    {
      "metadata": {
        "id": "mI82V7dvho-6",
        "colab_type": "code",
        "colab": {
          "base_uri": "https://localhost:8080/",
          "height": 164
        },
        "outputId": "2c8c5bc4-3871-40ed-feb6-8e30f1e334f8"
      },
      "cell_type": "code",
      "source": [
        "data.groupby('activity', [tc.aggregate.COUNT]).sort(\"Count\", ascending = False)"
      ],
      "execution_count": 16,
      "outputs": [
        {
          "output_type": "execute_result",
          "data": {
            "text/html": [
              "<div style=\"max-height:1000px;max-width:1500px;overflow:auto;\"><table frame=\"box\" rules=\"cols\">\n",
              "    <tr>\n",
              "        <th style=\"padding-left: 1em; padding-right: 1em; text-align: center\">activity</th>\n",
              "        <th style=\"padding-left: 1em; padding-right: 1em; text-align: center\">Count</th>\n",
              "    </tr>\n",
              "    <tr>\n",
              "        <td style=\"padding-left: 1em; padding-right: 1em; text-align: center; vertical-align: top\">standing</td>\n",
              "        <td style=\"padding-left: 1em; padding-right: 1em; text-align: center; vertical-align: top\">138105</td>\n",
              "    </tr>\n",
              "    <tr>\n",
              "        <td style=\"padding-left: 1em; padding-right: 1em; text-align: center; vertical-align: top\">laying</td>\n",
              "        <td style=\"padding-left: 1em; padding-right: 1em; text-align: center; vertical-align: top\">136865</td>\n",
              "    </tr>\n",
              "    <tr>\n",
              "        <td style=\"padding-left: 1em; padding-right: 1em; text-align: center; vertical-align: top\">sitting</td>\n",
              "        <td style=\"padding-left: 1em; padding-right: 1em; text-align: center; vertical-align: top\">126677</td>\n",
              "    </tr>\n",
              "    <tr>\n",
              "        <td style=\"padding-left: 1em; padding-right: 1em; text-align: center; vertical-align: top\">walking</td>\n",
              "        <td style=\"padding-left: 1em; padding-right: 1em; text-align: center; vertical-align: top\">122091</td>\n",
              "    </tr>\n",
              "    <tr>\n",
              "        <td style=\"padding-left: 1em; padding-right: 1em; text-align: center; vertical-align: top\">climbing_upstairs</td>\n",
              "        <td style=\"padding-left: 1em; padding-right: 1em; text-align: center; vertical-align: top\">116707</td>\n",
              "    </tr>\n",
              "    <tr>\n",
              "        <td style=\"padding-left: 1em; padding-right: 1em; text-align: center; vertical-align: top\">climbing_downstairs</td>\n",
              "        <td style=\"padding-left: 1em; padding-right: 1em; text-align: center; vertical-align: top\">107961</td>\n",
              "    </tr>\n",
              "</table>\n",
              "[6 rows x 2 columns]<br/>\n",
              "</div>"
            ],
            "text/plain": [
              "Columns:\n",
              "\tactivity\tstr\n",
              "\tCount\tint\n",
              "\n",
              "Rows: 6\n",
              "\n",
              "Data:\n",
              "+---------------------+--------+\n",
              "|       activity      | Count  |\n",
              "+---------------------+--------+\n",
              "|       standing      | 138105 |\n",
              "|        laying       | 136865 |\n",
              "|       sitting       | 126677 |\n",
              "|       walking       | 122091 |\n",
              "|  climbing_upstairs  | 116707 |\n",
              "| climbing_downstairs | 107961 |\n",
              "+---------------------+--------+\n",
              "[6 rows x 2 columns]"
            ]
          },
          "metadata": {
            "tags": []
          },
          "execution_count": 16
        }
      ]
    },
    {
      "metadata": {
        "id": "ikL5gDh-QQW5",
        "colab_type": "text"
      },
      "cell_type": "markdown",
      "source": [
        "# Example Activity Classififcation - HAPT Data"
      ]
    },
    {
      "metadata": {
        "id": "Am3pqXk2e4Yh",
        "colab_type": "code",
        "colab": {}
      },
      "cell_type": "code",
      "source": [
        "# Load sessions from preprocessed data\n",
        "data = tc.SFrame('hapt_data.sframe')"
      ],
      "execution_count": 0,
      "outputs": []
    },
    {
      "metadata": {
        "id": "yy_6w2sjtB7C",
        "colab_type": "code",
        "colab": {}
      },
      "cell_type": "code",
      "source": [
        "# Train/test split by recording sessions\n",
        "train, test = tc.activity_classifier.util.random_split_by_session(data, session_id='exp_id', fraction=0.8)"
      ],
      "execution_count": 0,
      "outputs": []
    },
    {
      "metadata": {
        "id": "U9KR53TtePFI",
        "colab_type": "code",
        "colab": {
          "base_uri": "https://localhost:8080/",
          "height": 370
        },
        "outputId": "35ed0af1-d681-468d-d837-0f8c363f2d08"
      },
      "cell_type": "code",
      "source": [
        "# Create an activity classifier\n",
        "model = tc.activity_classifier.create(train, session_id='exp_id', target='activity', prediction_window=50)"
      ],
      "execution_count": 7,
      "outputs": [
        {
          "output_type": "stream",
          "text": [
            "The dataset has less than the minimum of 100 sessions required for train-validation split. Continuing without validation set\n"
          ],
          "name": "stdout"
        },
        {
          "output_type": "display_data",
          "data": {
            "text/html": [
              "<pre>Pre-processing 585143 samples...</pre>"
            ],
            "text/plain": [
              "Pre-processing 585143 samples..."
            ]
          },
          "metadata": {
            "tags": []
          }
        },
        {
          "output_type": "display_data",
          "data": {
            "text/html": [
              "<pre>Using sequences of size 1000 for model creation.</pre>"
            ],
            "text/plain": [
              "Using sequences of size 1000 for model creation."
            ]
          },
          "metadata": {
            "tags": []
          }
        },
        {
          "output_type": "display_data",
          "data": {
            "text/html": [
              "<pre>Processed a total of 48 sessions.</pre>"
            ],
            "text/plain": [
              "Processed a total of 48 sessions."
            ]
          },
          "metadata": {
            "tags": []
          }
        },
        {
          "output_type": "stream",
          "text": [
            "Using GPU to create model (CUDA)\n",
            "+----------------+----------------+----------------+----------------+\n",
            "| Iteration      | Train Accuracy | Train Loss     | Elapsed Time   |\n",
            "+----------------+----------------+----------------+----------------+\n",
            "| 1              | 0.623          | 0.977          | 0.6            |\n",
            "| 2              | 0.810          | 0.541          | 1.2            |\n",
            "| 3              | 0.846          | 0.412          | 1.8            |\n",
            "| 4              | 0.863          | 0.359          | 2.4            |\n",
            "| 5              | 0.873          | 0.322          | 3.0            |\n",
            "| 6              | 0.889          | 0.293          | 3.6            |\n",
            "| 7              | 0.895          | 0.264          | 4.2            |\n",
            "| 8              | 0.902          | 0.242          | 4.8            |\n",
            "| 9              | 0.911          | 0.224          | 5.4            |\n",
            "| 10             | 0.916          | 0.208          | 6.0            |\n",
            "+----------------+----------------+----------------+----------------+\n",
            "Training complete\n",
            "Total Time Spent: 5.95675s\n"
          ],
          "name": "stdout"
        }
      ]
    },
    {
      "metadata": {
        "id": "wEDXZ0VaeQf6",
        "colab_type": "code",
        "colab": {
          "base_uri": "https://localhost:8080/",
          "height": 910
        },
        "outputId": "5a9ea21d-57b5-4413-a05f-397db276f7a9"
      },
      "cell_type": "code",
      "source": [
        "# Evaluate the model and save the results into a dictionary\n",
        "metrics = model.evaluate(test)\n",
        "print(metrics)"
      ],
      "execution_count": 17,
      "outputs": [
        {
          "output_type": "stream",
          "text": [
            "{'accuracy': 0.9324280455461433, 'auc': 0.994000145914642, 'precision': 0.9344077064028339, 'recall': 0.9313875060212965, 'f1_score': 0.9325884730108659, 'log_loss': 0.2183073822297761, 'confusion_matrix': Columns:\n",
            "\ttarget_label\tstr\n",
            "\tpredicted_label\tstr\n",
            "\tcount\tint\n",
            "\n",
            "Rows: 31\n",
            "\n",
            "Data:\n",
            "+---------------------+---------------------+-------+\n",
            "|     target_label    |   predicted_label   | count |\n",
            "+---------------------+---------------------+-------+\n",
            "| climbing_downstairs |  climbing_upstairs  |  640  |\n",
            "|  climbing_upstairs  |  climbing_upstairs  | 23073 |\n",
            "|  climbing_upstairs  | climbing_downstairs |  1048 |\n",
            "|        laying       |       walking       |   31  |\n",
            "| climbing_downstairs | climbing_downstairs | 21240 |\n",
            "|       sitting       |       standing      |  3346 |\n",
            "|        laying       |        laying       | 29554 |\n",
            "|       standing      |       standing      | 29827 |\n",
            "|       walking       |       sitting       |  1351 |\n",
            "|       sitting       |       sitting       | 25134 |\n",
            "+---------------------+---------------------+-------+\n",
            "[31 rows x 3 columns]\n",
            "Note: Only the head of the SFrame is printed.\n",
            "You can use print_rows(num_rows=m, num_columns=n) to print more rows and columns., 'roc_curve': Columns:\n",
            "\tthreshold\tfloat\n",
            "\tfpr\tfloat\n",
            "\ttpr\tfloat\n",
            "\tp\tint\n",
            "\tn\tint\n",
            "\tclass\tstr\n",
            "\n",
            "Rows: 600006\n",
            "\n",
            "Data:\n",
            "+-----------+--------------------+-----+-------+--------+---------------------+\n",
            "| threshold |        fpr         | tpr |   p   |   n    |        class        |\n",
            "+-----------+--------------------+-----+-------+--------+---------------------+\n",
            "|    0.0    |        1.0         | 1.0 | 23039 | 140224 | climbing_downstairs |\n",
            "|   1e-05   | 0.9458010041077134 | 1.0 | 23039 | 140224 | climbing_downstairs |\n",
            "|   2e-05   | 0.9026557507987221 | 1.0 | 23039 | 140224 | climbing_downstairs |\n",
            "|   3e-05   | 0.8837574167047011 | 1.0 | 23039 | 140224 | climbing_downstairs |\n",
            "|   4e-05   | 0.8687813783660429 | 1.0 | 23039 | 140224 | climbing_downstairs |\n",
            "|   5e-05   | 0.8470304655408489 | 1.0 | 23039 | 140224 | climbing_downstairs |\n",
            "|   6e-05   | 0.8288452761296212 | 1.0 | 23039 | 140224 | climbing_downstairs |\n",
            "|   7e-05   | 0.813869237790963  | 1.0 | 23039 | 140224 | climbing_downstairs |\n",
            "|   8e-05   | 0.8056680739388408 | 1.0 | 23039 | 140224 | climbing_downstairs |\n",
            "|   9e-05   | 0.797823482428115  | 1.0 | 23039 | 140224 | climbing_downstairs |\n",
            "+-----------+--------------------+-----+-------+--------+---------------------+\n",
            "[600006 rows x 6 columns]\n",
            "Note: Only the head of the SFrame is printed.\n",
            "You can use print_rows(num_rows=m, num_columns=n) to print more rows and columns.}\n"
          ],
          "name": "stdout"
        }
      ]
    },
    {
      "metadata": {
        "id": "0211dGgJeRsh",
        "colab_type": "code",
        "colab": {
          "base_uri": "https://localhost:8080/",
          "height": 34
        },
        "outputId": "8ec5c45c-5bd3-4c8c-f691-81fd333168dc"
      },
      "cell_type": "code",
      "source": [
        "print(metrics['accuracy'])"
      ],
      "execution_count": 9,
      "outputs": [
        {
          "output_type": "stream",
          "text": [
            "0.9324280455461433\n"
          ],
          "name": "stdout"
        }
      ]
    },
    {
      "metadata": {
        "id": "4ErNlq_vfhby",
        "colab_type": "text"
      },
      "cell_type": "markdown",
      "source": [
        "Since we have created the model with samples taken at 50Hz and set the prediction_window to 50, we will get one prediction per second. Invoking our newly created model on the above 3-seconds walking example produces the following per-second predictions:"
      ]
    },
    {
      "metadata": {
        "id": "0wldXO3kfjdv",
        "colab_type": "code",
        "colab": {
          "base_uri": "https://localhost:8080/",
          "height": 109
        },
        "outputId": "772997a2-0d54-41da-c1b7-20428cf7cabd"
      },
      "cell_type": "code",
      "source": [
        "walking_3_sec = data[(data['activity'] == 'walking') & (data['exp_id'] == 1)][1000:1150]\n",
        "model.predict(walking_3_sec, output_frequency='per_window')"
      ],
      "execution_count": 12,
      "outputs": [
        {
          "output_type": "execute_result",
          "data": {
            "text/html": [
              "<div style=\"max-height:1000px;max-width:1500px;overflow:auto;\"><table frame=\"box\" rules=\"cols\">\n",
              "    <tr>\n",
              "        <th style=\"padding-left: 1em; padding-right: 1em; text-align: center\">prediction_id</th>\n",
              "        <th style=\"padding-left: 1em; padding-right: 1em; text-align: center\">exp_id</th>\n",
              "        <th style=\"padding-left: 1em; padding-right: 1em; text-align: center\">class</th>\n",
              "    </tr>\n",
              "    <tr>\n",
              "        <td style=\"padding-left: 1em; padding-right: 1em; text-align: center; vertical-align: top\">0</td>\n",
              "        <td style=\"padding-left: 1em; padding-right: 1em; text-align: center; vertical-align: top\">1</td>\n",
              "        <td style=\"padding-left: 1em; padding-right: 1em; text-align: center; vertical-align: top\">walking</td>\n",
              "    </tr>\n",
              "    <tr>\n",
              "        <td style=\"padding-left: 1em; padding-right: 1em; text-align: center; vertical-align: top\">1</td>\n",
              "        <td style=\"padding-left: 1em; padding-right: 1em; text-align: center; vertical-align: top\">1</td>\n",
              "        <td style=\"padding-left: 1em; padding-right: 1em; text-align: center; vertical-align: top\">walking</td>\n",
              "    </tr>\n",
              "    <tr>\n",
              "        <td style=\"padding-left: 1em; padding-right: 1em; text-align: center; vertical-align: top\">2</td>\n",
              "        <td style=\"padding-left: 1em; padding-right: 1em; text-align: center; vertical-align: top\">1</td>\n",
              "        <td style=\"padding-left: 1em; padding-right: 1em; text-align: center; vertical-align: top\">walking</td>\n",
              "    </tr>\n",
              "</table>\n",
              "[3 rows x 3 columns]<br/>\n",
              "</div>"
            ],
            "text/plain": [
              "Columns:\n",
              "\tprediction_id\tint\n",
              "\texp_id\tint\n",
              "\tclass\tstr\n",
              "\n",
              "Rows: 3\n",
              "\n",
              "Data:\n",
              "+---------------+--------+---------+\n",
              "| prediction_id | exp_id |  class  |\n",
              "+---------------+--------+---------+\n",
              "|       0       |   1    | walking |\n",
              "|       1       |   1    | walking |\n",
              "|       2       |   1    | walking |\n",
              "+---------------+--------+---------+\n",
              "[3 rows x 3 columns]"
            ]
          },
          "metadata": {
            "tags": []
          },
          "execution_count": 12
        }
      ]
    },
    {
      "metadata": {
        "id": "8osqXiCQP2Vk",
        "colab_type": "text"
      },
      "cell_type": "markdown",
      "source": [
        "# Save / Export Model"
      ]
    },
    {
      "metadata": {
        "id": "skcTzbLiP0NU",
        "colab_type": "code",
        "colab": {}
      },
      "cell_type": "code",
      "source": [
        "# Save the model for later use in Turi Create\n",
        "model.save('ActivityClassifier.model')"
      ],
      "execution_count": 0,
      "outputs": []
    },
    {
      "metadata": {
        "id": "gsLbJ0M5P1iR",
        "colab_type": "code",
        "colab": {
          "base_uri": "https://localhost:8080/",
          "height": 67
        },
        "outputId": "3cec968c-7f20-4ba8-fb8e-bb806ae84979"
      },
      "cell_type": "code",
      "source": [
        "# Export for use in Core ML\n",
        "model.export_coreml('ActivityClassifier.mlmodel')"
      ],
      "execution_count": 11,
      "outputs": [
        {
          "output_type": "stream",
          "text": [
            "/usr/local/lib/python3.6/dist-packages/coremltools/_deps/__init__.py:118: DeprecationWarning: The 'warn' function is deprecated, use 'warning' instead\n",
            "  % (tensorflow.__version__, TF_MAX_VERSION))\n",
            "WARNING:root:TensorFlow version 1.10.1 detected. Last version known to be fully compatible is 1.5.0 .\n"
          ],
          "name": "stderr"
        }
      ]
    },
    {
      "metadata": {
        "id": "y9zcbtW7fuPS",
        "colab_type": "code",
        "colab": {}
      },
      "cell_type": "code",
      "source": [
        "# download mlmodel locally\n",
        "from google.colab import files\n",
        "files.download(\"ActivityClassifier.mlmodel\")"
      ],
      "execution_count": 0,
      "outputs": []
    },
    {
      "metadata": {
        "id": "BZiVwtK1fy9F",
        "colab_type": "code",
        "colab": {
          "base_uri": "https://localhost:8080/",
          "height": 34
        },
        "outputId": "531297da-e360-4bfb-8b09-6d424bb3c584"
      },
      "cell_type": "code",
      "source": [
        "# copy model to Google Drive\n",
        "from shutil import copy\n",
        "copy(\"/content/ActivityClassifier.mlmodel\", \"/content/drive/Colab Notebooks/data/models/ActivityClassifier.mlmodel\")"
      ],
      "execution_count": 13,
      "outputs": [
        {
          "output_type": "execute_result",
          "data": {
            "text/plain": [
              "'/content/drive/Colab Notebooks/data/models/ActivityClassifier.mlmodel'"
            ]
          },
          "metadata": {
            "tags": []
          },
          "execution_count": 13
        }
      ]
    },
    {
      "metadata": {
        "id": "kJeYR7haf2b6",
        "colab_type": "code",
        "colab": {
          "base_uri": "https://localhost:8080/",
          "height": 34
        },
        "outputId": "4688a2cf-9b58-4f12-c2d5-ea8a50a795df"
      },
      "cell_type": "code",
      "source": [
        "# copy model to Google Drive\n",
        "from shutil import copytree\n",
        "copytree(\"/content/ActivityClassifier.model\", \"/content/drive/Colab Notebooks/data/models/ActivityClassifier.model\")"
      ],
      "execution_count": 15,
      "outputs": [
        {
          "output_type": "execute_result",
          "data": {
            "text/plain": [
              "'/content/drive/Colab Notebooks/data/models/ActivityClassifier.model'"
            ]
          },
          "metadata": {
            "tags": []
          },
          "execution_count": 15
        }
      ]
    },
    {
      "metadata": {
        "id": "Q7RgoTcpgaKq",
        "colab_type": "text"
      },
      "cell_type": "markdown",
      "source": [
        "# How does this work?\n",
        "\n",
        "The deep learning model relies on convolutional layers to extract temporal features from a single prediction window, for example an arching movement could possibly be a strong indicator of swimming. Furthermore, it relies on recurrent layers to extract temporal features over time, for example if a subject was swimming in the previous timestamp, then it is most likely not sky diving in the next. Below is a sketch of the neural network used for the activity classifier in Turi Create.\n",
        "\n",
        "![deep learning model](https://apple.github.io/turicreate/docs/userguide/activity_classifier/images/activity_classifier_network.png)\n",
        "\n",
        "A single input to the neural network is a session as defined in the previous section. The convolutional layer operates on each prediction window, finding spatial features that may be relevant to the labeled activities. \n",
        "\n",
        "![prediction window](https://apple.github.io/turicreate/docs/userguide/activity_classifier/images/convolutional_filter.png)\n",
        "\n",
        "The output of the convolutional layer is a vector representation for each prediction window, encoding these learnt features. The recurrent layer takes as input a sequence of these vectors.\n",
        "\n",
        "The recurrent layer is specialized for learning temporal features across sequences. For example, it may learn that spatial features associated with walking are more likely to occur after detecting spatial features associated with running. These features are further encoded into the output of the recurrent layer.\n",
        "\n",
        "In order to detect these features along sessions the recurrent layer takes into account it's own state - the output of the recurrent layer for the previous prediction window. The output of the recurrent layer for the current prediction window is turned into a probability vector across all desired activities to produce the final classification."
      ]
    },
    {
      "metadata": {
        "id": "licB01Ek33VN",
        "colab_type": "text"
      },
      "cell_type": "markdown",
      "source": [
        "Blogs:\n",
        "*   https://medium.com/@howal/activity-monitoring-with-apples-turi-create-machine-learning-1043ce5b9203"
      ]
    }
  ]
}