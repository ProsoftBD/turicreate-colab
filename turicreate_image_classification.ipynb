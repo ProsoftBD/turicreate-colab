{
  "nbformat": 4,
  "nbformat_minor": 0,
  "metadata": {
    "colab": {
      "name": "turicreate-image-classification.ipynb",
      "version": "0.3.2",
      "provenance": [],
      "collapsed_sections": [],
      "include_colab_link": true
    },
    "kernelspec": {
      "name": "python3",
      "display_name": "Python 3"
    },
    "accelerator": "GPU"
  },
  "cells": [
    {
      "cell_type": "markdown",
      "metadata": {
        "id": "view-in-github",
        "colab_type": "text"
      },
      "source": [
        "[View in Colaboratory](https://colab.research.google.com/github/jagatfx/turicreate-colab/blob/master/turicreate_image_classification.ipynb)"
      ]
    },
    {
      "metadata": {
        "id": "qLob2c7cDOjG",
        "colab_type": "text"
      },
      "cell_type": "markdown",
      "source": [
        "# Image Classification\n",
        "https://apple.github.io/turicreate/docs/userguide/image_classifier/\n",
        "\n",
        "Given an image, the goal of an image classifier is to assign it to one of a pre-determined number of labels. Deep learning methods have recently been shown to give incredible results on this challenging problem. Yet this comes at the cost of extreme sensitivity to model hyper-parameters and long training time. This means that one can spend months testing different model configurations, much too long to be worth the effort. However, the image classifier in Turi Create is designed to minimize these pains, and making it possible to easily create a high quality image classifier model."
      ]
    },
    {
      "metadata": {
        "id": "2wVW20aNEz6p",
        "colab_type": "text"
      },
      "cell_type": "markdown",
      "source": [
        "The Turi Create image classifier breaks things down into something like this:\n",
        "\n",
        "*   Stage 1: Create a CNN classifier on a large, general dataset. A good example is ImageNet, with 1000 categories and 1.2 million images. The models are already trained by researchers and are available for us to use.\n",
        "\n",
        "*   Stage 2: The outputs of each layer in the CNN can be viewed as a meaningful vector representation of each image. Extract these feature vectors from the layer prior to the output layer on each image of your task.\n",
        "\n",
        "*   Stage 3: Create a new classifier with those features as input for your own task."
      ]
    },
    {
      "metadata": {
        "id": "pejsMsqFE94A",
        "colab_type": "text"
      },
      "cell_type": "markdown",
      "source": [
        "Stage 1 is reusable for many different problems, and once done, it doesn't have to be changed often.\n",
        "\n",
        "In the end, this pipeline results in not needing to adjust hyper-parameters, faster training, and better performance even in cases where you don't have enough data to create a convention deep learning model. What's more, this technique is effective even if your Stage 3 classification task is relatively unrelated to the task Stage 1 is trained on. This idea was first explored by Donahue et al. (2013), and has since become one of the best ways to create image classifier models."
      ]
    },
    {
      "metadata": {
        "id": "OOSGVEIjBy7w",
        "colab_type": "text"
      },
      "cell_type": "markdown",
      "source": [
        "## Turi Create and GPU Setup"
      ]
    },
    {
      "metadata": {
        "id": "1ON8zD6lByb_",
        "colab_type": "code",
        "colab": {
          "base_uri": "https://localhost:8080/",
          "height": 1333
        },
        "outputId": "6f96198f-ca21-4cfc-d605-047492ecdccf"
      },
      "cell_type": "code",
      "source": [
        "!apt install libnvrtc8.0\n",
        "!pip uninstall -y mxnet-cu80 && pip install mxnet-cu80==1.1.0\n",
        "!pip install turicreate"
      ],
      "execution_count": 9,
      "outputs": [
        {
          "output_type": "stream",
          "text": [
            "Reading package lists... Done\n",
            "Building dependency tree       \n",
            "Reading state information... Done\n",
            "The following NEW packages will be installed:\n",
            "  libnvrtc8.0\n",
            "0 upgraded, 1 newly installed, 0 to remove and 0 not upgraded.\n",
            "Need to get 6,225 kB of archives.\n",
            "After this operation, 28.3 MB of additional disk space will be used.\n",
            "Get:1 http://archive.ubuntu.com/ubuntu artful/multiverse amd64 libnvrtc8.0 amd64 8.0.61-1 [6,225 kB]\n",
            "Fetched 6,225 kB in 0s (39.2 MB/s)\n",
            "Selecting previously unselected package libnvrtc8.0:amd64.\n",
            "(Reading database ... 18408 files and directories currently installed.)\n",
            "Preparing to unpack .../libnvrtc8.0_8.0.61-1_amd64.deb ...\n",
            "Unpacking libnvrtc8.0:amd64 (8.0.61-1) ...\n",
            "Setting up libnvrtc8.0:amd64 (8.0.61-1) ...\n",
            "Processing triggers for libc-bin (2.26-0ubuntu2.1) ...\n",
            "\u001b[33mSkipping mxnet-cu80 as it is not installed.\u001b[0m\n",
            "Collecting mxnet-cu80==1.1.0\n",
            "\u001b[?25l  Downloading https://files.pythonhosted.org/packages/9c/55/bcfd26fd408a4bab27bca1ef5dc1df42954509c904699a6c371d5a4c23ab/mxnet_cu80-1.1.0-py2.py3-none-manylinux1_x86_64.whl (274.9MB)\n",
            "\u001b[K    100% |████████████████████████████████| 274.9MB 103kB/s \n",
            "\u001b[?25hRequirement already satisfied: requests==2.18.4 in /usr/local/lib/python3.6/dist-packages (from mxnet-cu80==1.1.0) (2.18.4)\n",
            "Collecting graphviz==0.8.1 (from mxnet-cu80==1.1.0)\n",
            "  Downloading https://files.pythonhosted.org/packages/82/cc/668725769a1b184322019b494bbdfbb82bbef5cecc1dd8be6f778cf1422b/graphviz-0.8.1-py2.py3-none-any.whl\n",
            "Collecting numpy<=1.13.3 (from mxnet-cu80==1.1.0)\n",
            "\u001b[?25l  Downloading https://files.pythonhosted.org/packages/57/a7/e3e6bd9d595125e1abbe162e323fd2d06f6f6683185294b79cd2cdb190d5/numpy-1.13.3-cp36-cp36m-manylinux1_x86_64.whl (17.0MB)\n",
            "\u001b[K    100% |████████████████████████████████| 17.0MB 2.5MB/s \n",
            "\u001b[?25hRequirement already satisfied: idna<2.7,>=2.5 in /usr/local/lib/python3.6/dist-packages (from requests==2.18.4->mxnet-cu80==1.1.0) (2.6)\n",
            "Requirement already satisfied: chardet<3.1.0,>=3.0.2 in /usr/local/lib/python3.6/dist-packages (from requests==2.18.4->mxnet-cu80==1.1.0) (3.0.4)\n",
            "Requirement already satisfied: certifi>=2017.4.17 in /usr/local/lib/python3.6/dist-packages (from requests==2.18.4->mxnet-cu80==1.1.0) (2018.8.24)\n",
            "Requirement already satisfied: urllib3<1.23,>=1.21.1 in /usr/local/lib/python3.6/dist-packages (from requests==2.18.4->mxnet-cu80==1.1.0) (1.22)\n",
            "Installing collected packages: graphviz, numpy, mxnet-cu80\n",
            "  Found existing installation: numpy 1.14.5\n",
            "    Uninstalling numpy-1.14.5:\n",
            "      Successfully uninstalled numpy-1.14.5\n",
            "Successfully installed graphviz-0.8.1 mxnet-cu80-1.1.0 numpy-1.13.3\n",
            "Collecting turicreate\n",
            "\u001b[?25l  Downloading https://files.pythonhosted.org/packages/13/7e/ec8d234a5366f2a683be19b77f20f56daefeacc396f7a5e3e6c74863390b/turicreate-5.0-cp36-cp36m-manylinux1_x86_64.whl (88.0MB)\n",
            "\u001b[K    100% |████████████████████████████████| 88.1MB 370kB/s \n",
            "\u001b[?25hRequirement already satisfied: decorator>=4.0.9 in /usr/local/lib/python3.6/dist-packages (from turicreate) (4.3.0)\n",
            "Requirement already satisfied: requests>=2.9.1 in /usr/local/lib/python3.6/dist-packages (from turicreate) (2.18.4)\n",
            "Requirement already satisfied: pillow>=3.3.0 in /usr/local/lib/python3.6/dist-packages (from turicreate) (4.0.0)\n",
            "Requirement already satisfied: pandas>=0.19.0 in /usr/local/lib/python3.6/dist-packages (from turicreate) (0.22.0)\n",
            "Requirement already satisfied: numpy in /usr/local/lib/python3.6/dist-packages (from turicreate) (1.13.3)\n",
            "Collecting prettytable==0.7.2 (from turicreate)\n",
            "  Downloading https://files.pythonhosted.org/packages/ef/30/4b0746848746ed5941f052479e7c23d2b56d174b82f4fd34a25e389831f5/prettytable-0.7.2.tar.bz2\n",
            "Collecting coremltools==2.0b1 (from turicreate)\n",
            "\u001b[?25l  Downloading https://files.pythonhosted.org/packages/1e/c3/18e669efcab8162bd65b00bc914c460097fe3dcb1862c572f2440bac526c/coremltools-2.0b1-cp36-none-manylinux1_x86_64.whl (2.7MB)\n",
            "\u001b[K    100% |████████████████████████████████| 2.7MB 7.3MB/s \n",
            "\u001b[?25hCollecting mxnet<1.2.0,>=1.1.0 (from turicreate)\n",
            "\u001b[?25l  Downloading https://files.pythonhosted.org/packages/96/98/c9877e100c3d1ac92263bfaba7bb8a49294e099046592040a2ff8620ac61/mxnet-1.1.0.post0-py2.py3-none-manylinux1_x86_64.whl (23.8MB)\n",
            "\u001b[K    100% |████████████████████████████████| 23.8MB 1.9MB/s \n",
            "\u001b[?25hRequirement already satisfied: urllib3<1.23,>=1.21.1 in /usr/local/lib/python3.6/dist-packages (from requests>=2.9.1->turicreate) (1.22)\n",
            "Requirement already satisfied: idna<2.7,>=2.5 in /usr/local/lib/python3.6/dist-packages (from requests>=2.9.1->turicreate) (2.6)\n",
            "Requirement already satisfied: chardet<3.1.0,>=3.0.2 in /usr/local/lib/python3.6/dist-packages (from requests>=2.9.1->turicreate) (3.0.4)\n",
            "Requirement already satisfied: certifi>=2017.4.17 in /usr/local/lib/python3.6/dist-packages (from requests>=2.9.1->turicreate) (2018.8.24)\n",
            "Requirement already satisfied: olefile in /usr/local/lib/python3.6/dist-packages (from pillow>=3.3.0->turicreate) (0.46)\n",
            "Requirement already satisfied: python-dateutil>=2 in /usr/local/lib/python3.6/dist-packages (from pandas>=0.19.0->turicreate) (2.5.3)\n",
            "Requirement already satisfied: pytz>=2011k in /usr/local/lib/python3.6/dist-packages (from pandas>=0.19.0->turicreate) (2018.5)\n",
            "Collecting six==1.10.0 (from coremltools==2.0b1->turicreate)\n",
            "  Downloading https://files.pythonhosted.org/packages/c8/0a/b6723e1bc4c516cb687841499455a8505b44607ab535be01091c0f24f079/six-1.10.0-py2.py3-none-any.whl\n",
            "Requirement already satisfied: protobuf>=3.1.0 in /usr/local/lib/python3.6/dist-packages (from coremltools==2.0b1->turicreate) (3.6.1)\n",
            "Requirement already satisfied: graphviz<0.9.0,>=0.8.1 in /usr/local/lib/python3.6/dist-packages (from mxnet<1.2.0,>=1.1.0->turicreate) (0.8.1)\n",
            "Requirement already satisfied: setuptools in /usr/local/lib/python3.6/dist-packages (from protobuf>=3.1.0->coremltools==2.0b1->turicreate) (39.1.0)\n",
            "Building wheels for collected packages: prettytable\n",
            "  Running setup.py bdist_wheel for prettytable ... \u001b[?25l-\b \b\\\b \bdone\n",
            "\u001b[?25h  Stored in directory: /root/.cache/pip/wheels/80/34/1c/3967380d9676d162cb59513bd9dc862d0584e045a162095606\n",
            "Successfully built prettytable\n",
            "Installing collected packages: prettytable, six, coremltools, mxnet, turicreate\n",
            "  Found existing installation: six 1.11.0\n",
            "    Uninstalling six-1.11.0:\n",
            "      Successfully uninstalled six-1.11.0\n",
            "Successfully installed coremltools-2.0b1 mxnet-1.1.0.post0 prettytable-0.7.2 six-1.10.0 turicreate-5.0\n"
          ],
          "name": "stdout"
        }
      ]
    },
    {
      "metadata": {
        "id": "vzBRA8eqHhuW",
        "colab_type": "text"
      },
      "cell_type": "markdown",
      "source": [
        "## Google Drive Access\n",
        "\n",
        "You will be asked to click a link to generate a secret key to access your Google Drive. \n",
        "\n",
        "Copy and paste secret key it into the space provided with the notebook."
      ]
    },
    {
      "metadata": {
        "id": "3q4_irKUCBQE",
        "colab_type": "code",
        "colab": {
          "base_uri": "https://localhost:8080/",
          "height": 35
        },
        "outputId": "63c43250-9a83-48b5-93bd-257c1d056228"
      },
      "cell_type": "code",
      "source": [
        "import os.path\n",
        "from google.colab import drive\n",
        "\n",
        "# mount Google Drive to /content/drive/My Drive/\n",
        "if os.path.isdir(\"/content/drive/My Drive\"):\n",
        "  print(\"Google Drive already mounted\")\n",
        "else:\n",
        "  drive.mount('/content/drive')"
      ],
      "execution_count": 2,
      "outputs": [
        {
          "output_type": "stream",
          "text": [
            "Google Drive already mounted\n"
          ],
          "name": "stdout"
        }
      ]
    },
    {
      "metadata": {
        "id": "Vk9U4PbDJlp2",
        "colab_type": "text"
      },
      "cell_type": "markdown",
      "source": [
        "## Fetch Data"
      ]
    },
    {
      "metadata": {
        "id": "sn2kiflQCNQ9",
        "colab_type": "code",
        "colab": {}
      },
      "cell_type": "code",
      "source": [
        "import os.path\n",
        "import urllib.request\n",
        "import tarfile\n",
        "import zipfile\n",
        "import gzip\n",
        "from shutil import copy\n",
        "\n",
        "def fetch_remote_datafile(filename, remote_url):\n",
        "  if os.path.isfile(\"./\" + filename):\n",
        "    print(\"already have \" + filename + \" in workspace\")\n",
        "    return\n",
        "  print(\"fetching \" + filename + \" from \" + remote_url + \"...\")\n",
        "  urllib.request.urlretrieve(remote_url, \"./\" + filename)\n",
        "\n",
        "def cache_datafile_in_drive(filename):\n",
        "  if os.path.isfile(\"./\" + filename) == False:\n",
        "    print(\"cannot cache \" + filename + \", it is not in workspace\")\n",
        "    return\n",
        "  \n",
        "  data_drive_path = \"/content/drive/My Drive/Colab Notebooks/data/\"\n",
        "  if os.path.isfile(data_drive_path + filename):\n",
        "    print(\"\" + filename + \" has already been stored in Google Drive\")\n",
        "  else:\n",
        "    print(\"copying \" + filename + \" to \" + data_drive_path)\n",
        "    copy(\"./\" + filename, data_drive_path)\n",
        "  \n",
        "\n",
        "def load_datafile_from_drive(filename, remote_url=None):\n",
        "  data_drive_path = \"/content/drive/My Drive/Colab Notebooks/data/\"\n",
        "  if os.path.isfile(\"./\" + filename):\n",
        "    print(\"already have \" + filename + \" in workspace\")\n",
        "  elif os.path.isfile(data_drive_path + filename):\n",
        "    print(\"have \" + filename + \" in Google Drive, copying to workspace...\")\n",
        "    copy(data_drive_path + filename, \".\")\n",
        "  elif remote_url != None:\n",
        "    fetch_remote_datafile(filename, remote_url)\n",
        "  else:\n",
        "    print(\"error: you need to manually download \" + filename + \" and put in drive\")\n",
        "    \n",
        "def extract_datafile(filename, expected_extract_artifact=None):\n",
        "  if expected_extract_artifact != None and (os.path.isfile(expected_extract_artifact) or os.path.isdir(expected_extract_artifact)):\n",
        "    print(\"files in \" + filename + \" have already been extracted\")\n",
        "  elif os.path.isfile(\"./\" + filename) == False:\n",
        "    print(\"error: cannot extract \" + filename + \", it is not in the workspace\")\n",
        "  else:\n",
        "    extension = filename.split('.')[-1]\n",
        "    if extension == \"zip\":\n",
        "      print(\"extracting \" + filename + \"...\")\n",
        "      data_file = open(filename, \"rb\")\n",
        "      z = zipfile.ZipFile(data_file)\n",
        "      for name in z.namelist():\n",
        "          print(\"    extracting file\", name)\n",
        "          z.extract(name, \"./\")\n",
        "      data_file.close()\n",
        "    elif extension == \"gz\":\n",
        "      print(\"extracting \" + filename + \"...\")\n",
        "      if filename.split('.')[-2] == \"tar\":\n",
        "        tar = tarfile.open(filename)\n",
        "        tar.extractall()\n",
        "        tar.close()\n",
        "      else:\n",
        "        data_zip_file = gzip.GzipFile(filename, 'rb')\n",
        "        data = data_zip_file.read()\n",
        "        data_zip_file.close()\n",
        "        extracted_file = open('.'.join(filename.split('.')[0:-1]), 'wb')\n",
        "        extracted_file.write(data)\n",
        "        extracted_file.close()\n",
        "    elif extension == \"tar\":\n",
        "      print(\"extracting \" + filename + \"...\")\n",
        "      tar = tarfile.open(filename)\n",
        "      tar.extractall()\n",
        "      tar.close()\n",
        "    elif extension == \"csv\":\n",
        "      print(\"do not need to extract csv\")\n",
        "    else:\n",
        "      print(\"cannot extract \" + filename)\n",
        "      \n",
        "def load_cache_extract_datafile(filename, expected_extract_artifact=None, remote_url=None):\n",
        "  load_datafile_from_drive(filename, remote_url)\n",
        "  extract_datafile(filename, expected_extract_artifact)\n",
        "  cache_datafile_in_drive(filename)\n",
        "  "
      ],
      "execution_count": 0,
      "outputs": []
    },
    {
      "metadata": {
        "id": "DP8X_HhnEgli",
        "colab_type": "code",
        "colab": {
          "base_uri": "https://localhost:8080/",
          "height": 71
        },
        "outputId": "ecf77e65-ed1c-4f52-fb2a-f595efaa0419"
      },
      "cell_type": "code",
      "source": [
        "# kagglecatsanddogs_3367a.zip from https://www.microsoft.com/en-us/download/details.aspx?id=54765\n",
        "load_cache_extract_datafile(\"kagglecatsanddogs_3367a.zip\", \"PetImages\")"
      ],
      "execution_count": 12,
      "outputs": [
        {
          "output_type": "stream",
          "text": [
            "already have kagglecatsanddogs_3367a.zip in workspace\n",
            "files in kagglecatsanddogs_3367a.zip have already been extracted\n",
            "kagglecatsanddogs_3367a.zip has already been stored in Google Drive\n"
          ],
          "name": "stdout"
        }
      ]
    },
    {
      "metadata": {
        "id": "QaoW_5xnKnxs",
        "colab_type": "text"
      },
      "cell_type": "markdown",
      "source": [
        "## Setup Turi Create"
      ]
    },
    {
      "metadata": {
        "id": "gJ0yDnDiKrBh",
        "colab_type": "code",
        "colab": {}
      },
      "cell_type": "code",
      "source": [
        "import mxnet as mx\n",
        "import turicreate as tc"
      ],
      "execution_count": 0,
      "outputs": []
    },
    {
      "metadata": {
        "id": "B3hnlV7MKrFE",
        "colab_type": "code",
        "colab": {}
      },
      "cell_type": "code",
      "source": [
        "# Use all GPUs (default)\n",
        "tc.config.set_num_gpus(-1)\n",
        "\n",
        "# Use only 1 GPU\n",
        "#tc.config.set_num_gpus(1)\n",
        "\n",
        "# Use CPU\n",
        "#tc.config.set_num_gpus(0)"
      ],
      "execution_count": 0,
      "outputs": []
    },
    {
      "metadata": {
        "id": "s0Kw43FBEF2S",
        "colab_type": "text"
      },
      "cell_type": "markdown",
      "source": [
        "## Loading Data\n",
        "\n",
        "The Kaggle Cats and Dogs Dataset provides labeled cat and dog images. \n",
        "\n",
        "https://www.microsoft.com/en-us/download/details.aspx?id=54765\n",
        "\n",
        "(use kagglecatsanddogs/PetImages directory)\n",
        "\n",
        "(alternatively you can use: https://www.kaggle.com/c/dogs-vs-cats/data#)"
      ]
    },
    {
      "metadata": {
        "id": "CFWMfaRNqibG",
        "colab_type": "code",
        "colab": {
          "base_uri": "https://localhost:8080/",
          "height": 4175
        },
        "outputId": "5a155803-47fb-4704-cb20-c3ff2d768dea"
      },
      "cell_type": "code",
      "source": [
        "# Load images (Note: you can ignore 'Not a JPEG file' errors)\n",
        "reference_data = tc.image_analysis.load_images('./PetImages', with_path=True)\n",
        "\n",
        "# From the path-name, create a label column\n",
        "reference_data['label'] = reference_data['path'].apply(lambda path: 'dog' if '/Dog' in path else 'cat')\n",
        "\n",
        "# Save the data for future use\n",
        "reference_data.save('cats-dogs.sframe')"
      ],
      "execution_count": 11,
      "outputs": [
        {
          "output_type": "display_data",
          "data": {
            "text/html": [
              "<pre>Unexpected JPEG decode failure\t file: ./PetImages/Cat/10073.jpg</pre>"
            ],
            "text/plain": [
              "Unexpected JPEG decode failure\t file: ./PetImages/Cat/10073.jpg"
            ]
          },
          "metadata": {
            "tags": []
          }
        },
        {
          "output_type": "display_data",
          "data": {
            "text/html": [
              "<pre>Unexpected JPEG decode failure\t file: ./PetImages/Cat/10125.jpg</pre>"
            ],
            "text/plain": [
              "Unexpected JPEG decode failure\t file: ./PetImages/Cat/10125.jpg"
            ]
          },
          "metadata": {
            "tags": []
          }
        },
        {
          "output_type": "display_data",
          "data": {
            "text/html": [
              "<pre>Unexpected JPEG decode failure\t file: ./PetImages/Cat/10404.jpg</pre>"
            ],
            "text/plain": [
              "Unexpected JPEG decode failure\t file: ./PetImages/Cat/10404.jpg"
            ]
          },
          "metadata": {
            "tags": []
          }
        },
        {
          "output_type": "display_data",
          "data": {
            "text/html": [
              "<pre>Unexpected JPEG decode failure\t file: ./PetImages/Cat/10501.jpg</pre>"
            ],
            "text/plain": [
              "Unexpected JPEG decode failure\t file: ./PetImages/Cat/10501.jpg"
            ]
          },
          "metadata": {
            "tags": []
          }
        },
        {
          "output_type": "display_data",
          "data": {
            "text/html": [
              "<pre>Unexpected JPEG decode failure\t file: ./PetImages/Cat/10820.jpg</pre>"
            ],
            "text/plain": [
              "Unexpected JPEG decode failure\t file: ./PetImages/Cat/10820.jpg"
            ]
          },
          "metadata": {
            "tags": []
          }
        },
        {
          "output_type": "display_data",
          "data": {
            "text/html": [
              "<pre>Unexpected JPEG decode failure\t file: ./PetImages/Cat/10874.jpg</pre>"
            ],
            "text/plain": [
              "Unexpected JPEG decode failure\t file: ./PetImages/Cat/10874.jpg"
            ]
          },
          "metadata": {
            "tags": []
          }
        },
        {
          "output_type": "display_data",
          "data": {
            "text/html": [
              "<pre>Unexpected JPEG decode failure\t file: ./PetImages/Cat/11083.jpg</pre>"
            ],
            "text/plain": [
              "Unexpected JPEG decode failure\t file: ./PetImages/Cat/11083.jpg"
            ]
          },
          "metadata": {
            "tags": []
          }
        },
        {
          "output_type": "display_data",
          "data": {
            "text/html": [
              "<pre>Unexpected JPEG decode failure\t file: ./PetImages/Cat/11086.jpg</pre>"
            ],
            "text/plain": [
              "Unexpected JPEG decode failure\t file: ./PetImages/Cat/11086.jpg"
            ]
          },
          "metadata": {
            "tags": []
          }
        },
        {
          "output_type": "display_data",
          "data": {
            "text/html": [
              "<pre>Unexpected JPEG decode failure\t file: ./PetImages/Cat/11095.jpg</pre>"
            ],
            "text/plain": [
              "Unexpected JPEG decode failure\t file: ./PetImages/Cat/11095.jpg"
            ]
          },
          "metadata": {
            "tags": []
          }
        },
        {
          "output_type": "display_data",
          "data": {
            "text/html": [
              "<pre>Unexpected JPEG decode failure\t file: ./PetImages/Cat/11210.jpg</pre>"
            ],
            "text/plain": [
              "Unexpected JPEG decode failure\t file: ./PetImages/Cat/11210.jpg"
            ]
          },
          "metadata": {
            "tags": []
          }
        },
        {
          "output_type": "display_data",
          "data": {
            "text/html": [
              "<pre>Unexpected JPEG decode failure\t file: ./PetImages/Cat/11397.jpg</pre>"
            ],
            "text/plain": [
              "Unexpected JPEG decode failure\t file: ./PetImages/Cat/11397.jpg"
            ]
          },
          "metadata": {
            "tags": []
          }
        },
        {
          "output_type": "display_data",
          "data": {
            "text/html": [
              "<pre>Unexpected JPEG decode failure\t file: ./PetImages/Cat/1151.jpg</pre>"
            ],
            "text/plain": [
              "Unexpected JPEG decode failure\t file: ./PetImages/Cat/1151.jpg"
            ]
          },
          "metadata": {
            "tags": []
          }
        },
        {
          "output_type": "display_data",
          "data": {
            "text/html": [
              "<pre>Unexpected JPEG decode failure\t file: ./PetImages/Cat/11565.jpg</pre>"
            ],
            "text/plain": [
              "Unexpected JPEG decode failure\t file: ./PetImages/Cat/11565.jpg"
            ]
          },
          "metadata": {
            "tags": []
          }
        },
        {
          "output_type": "display_data",
          "data": {
            "text/html": [
              "<pre>Unexpected JPEG decode failure\t file: ./PetImages/Cat/11729.jpg</pre>"
            ],
            "text/plain": [
              "Unexpected JPEG decode failure\t file: ./PetImages/Cat/11729.jpg"
            ]
          },
          "metadata": {
            "tags": []
          }
        },
        {
          "output_type": "display_data",
          "data": {
            "text/html": [
              "<pre>Unexpected JPEG decode failure\t file: ./PetImages/Cat/11864.jpg</pre>"
            ],
            "text/plain": [
              "Unexpected JPEG decode failure\t file: ./PetImages/Cat/11864.jpg"
            ]
          },
          "metadata": {
            "tags": []
          }
        },
        {
          "output_type": "display_data",
          "data": {
            "text/html": [
              "<pre>Unexpected JPEG decode failure\t file: ./PetImages/Cat/11874.jpg</pre>"
            ],
            "text/plain": [
              "Unexpected JPEG decode failure\t file: ./PetImages/Cat/11874.jpg"
            ]
          },
          "metadata": {
            "tags": []
          }
        },
        {
          "output_type": "display_data",
          "data": {
            "text/html": [
              "<pre>Unexpected JPEG decode failure\t file: ./PetImages/Cat/11935.jpg</pre>"
            ],
            "text/plain": [
              "Unexpected JPEG decode failure\t file: ./PetImages/Cat/11935.jpg"
            ]
          },
          "metadata": {
            "tags": []
          }
        },
        {
          "output_type": "display_data",
          "data": {
            "text/html": [
              "<pre>Unexpected JPEG decode failure\t file: ./PetImages/Cat/12080.jpg</pre>"
            ],
            "text/plain": [
              "Unexpected JPEG decode failure\t file: ./PetImages/Cat/12080.jpg"
            ]
          },
          "metadata": {
            "tags": []
          }
        },
        {
          "output_type": "display_data",
          "data": {
            "text/html": [
              "<pre>Unexpected JPEG decode failure\t file: ./PetImages/Cat/12235.jpg</pre>"
            ],
            "text/plain": [
              "Unexpected JPEG decode failure\t file: ./PetImages/Cat/12235.jpg"
            ]
          },
          "metadata": {
            "tags": []
          }
        },
        {
          "output_type": "display_data",
          "data": {
            "text/html": [
              "<pre>Unexpected JPEG decode failure\t file: ./PetImages/Cat/12269.jpg</pre>"
            ],
            "text/plain": [
              "Unexpected JPEG decode failure\t file: ./PetImages/Cat/12269.jpg"
            ]
          },
          "metadata": {
            "tags": []
          }
        },
        {
          "output_type": "display_data",
          "data": {
            "text/html": [
              "<pre>Unexpected JPEG decode failure\t file: ./PetImages/Cat/1267.jpg</pre>"
            ],
            "text/plain": [
              "Unexpected JPEG decode failure\t file: ./PetImages/Cat/1267.jpg"
            ]
          },
          "metadata": {
            "tags": []
          }
        },
        {
          "output_type": "display_data",
          "data": {
            "text/html": [
              "<pre>Unexpected JPEG decode failure\t file: ./PetImages/Cat/1386.jpg</pre>"
            ],
            "text/plain": [
              "Unexpected JPEG decode failure\t file: ./PetImages/Cat/1386.jpg"
            ]
          },
          "metadata": {
            "tags": []
          }
        },
        {
          "output_type": "display_data",
          "data": {
            "text/html": [
              "<pre>Unexpected JPEG decode failure\t file: ./PetImages/Cat/140.jpg</pre>"
            ],
            "text/plain": [
              "Unexpected JPEG decode failure\t file: ./PetImages/Cat/140.jpg"
            ]
          },
          "metadata": {
            "tags": []
          }
        },
        {
          "output_type": "display_data",
          "data": {
            "text/html": [
              "<pre>Unexpected JPEG decode failure\t file: ./PetImages/Cat/1757.jpg</pre>"
            ],
            "text/plain": [
              "Unexpected JPEG decode failure\t file: ./PetImages/Cat/1757.jpg"
            ]
          },
          "metadata": {
            "tags": []
          }
        },
        {
          "output_type": "display_data",
          "data": {
            "text/html": [
              "<pre>Unexpected JPEG decode failure\t file: ./PetImages/Cat/1914.jpg</pre>"
            ],
            "text/plain": [
              "Unexpected JPEG decode failure\t file: ./PetImages/Cat/1914.jpg"
            ]
          },
          "metadata": {
            "tags": []
          }
        },
        {
          "output_type": "display_data",
          "data": {
            "text/html": [
              "<pre>Unexpected JPEG decode failure\t file: ./PetImages/Cat/1936.jpg</pre>"
            ],
            "text/plain": [
              "Unexpected JPEG decode failure\t file: ./PetImages/Cat/1936.jpg"
            ]
          },
          "metadata": {
            "tags": []
          }
        },
        {
          "output_type": "display_data",
          "data": {
            "text/html": [
              "<pre>Unexpected JPEG decode failure\t file: ./PetImages/Cat/1937.jpg</pre>"
            ],
            "text/plain": [
              "Unexpected JPEG decode failure\t file: ./PetImages/Cat/1937.jpg"
            ]
          },
          "metadata": {
            "tags": []
          }
        },
        {
          "output_type": "display_data",
          "data": {
            "text/html": [
              "<pre>Unexpected JPEG decode failure\t file: ./PetImages/Cat/2021.jpg</pre>"
            ],
            "text/plain": [
              "Unexpected JPEG decode failure\t file: ./PetImages/Cat/2021.jpg"
            ]
          },
          "metadata": {
            "tags": []
          }
        },
        {
          "output_type": "display_data",
          "data": {
            "text/html": [
              "<pre>Unexpected JPEG decode failure\t file: ./PetImages/Cat/2189.jpg</pre>"
            ],
            "text/plain": [
              "Unexpected JPEG decode failure\t file: ./PetImages/Cat/2189.jpg"
            ]
          },
          "metadata": {
            "tags": []
          }
        },
        {
          "output_type": "display_data",
          "data": {
            "text/html": [
              "<pre>Unexpected JPEG decode failure\t file: ./PetImages/Cat/23.jpg</pre>"
            ],
            "text/plain": [
              "Unexpected JPEG decode failure\t file: ./PetImages/Cat/23.jpg"
            ]
          },
          "metadata": {
            "tags": []
          }
        },
        {
          "output_type": "display_data",
          "data": {
            "text/html": [
              "<pre>Unexpected JPEG decode failure\t file: ./PetImages/Cat/2569.jpg</pre>"
            ],
            "text/plain": [
              "Unexpected JPEG decode failure\t file: ./PetImages/Cat/2569.jpg"
            ]
          },
          "metadata": {
            "tags": []
          }
        },
        {
          "output_type": "display_data",
          "data": {
            "text/html": [
              "<pre>Unexpected JPEG decode failure\t file: ./PetImages/Cat/2663.jpg</pre>"
            ],
            "text/plain": [
              "Unexpected JPEG decode failure\t file: ./PetImages/Cat/2663.jpg"
            ]
          },
          "metadata": {
            "tags": []
          }
        },
        {
          "output_type": "display_data",
          "data": {
            "text/html": [
              "<pre>Unexpected JPEG decode failure\t file: ./PetImages/Cat/2742.jpg</pre>"
            ],
            "text/plain": [
              "Unexpected JPEG decode failure\t file: ./PetImages/Cat/2742.jpg"
            ]
          },
          "metadata": {
            "tags": []
          }
        },
        {
          "output_type": "display_data",
          "data": {
            "text/html": [
              "<pre>Unexpected JPEG decode failure\t file: ./PetImages/Cat/3153.jpg</pre>"
            ],
            "text/plain": [
              "Unexpected JPEG decode failure\t file: ./PetImages/Cat/3153.jpg"
            ]
          },
          "metadata": {
            "tags": []
          }
        },
        {
          "output_type": "display_data",
          "data": {
            "text/html": [
              "<pre>Unexpected JPEG decode failure\t file: ./PetImages/Cat/3161.jpg</pre>"
            ],
            "text/plain": [
              "Unexpected JPEG decode failure\t file: ./PetImages/Cat/3161.jpg"
            ]
          },
          "metadata": {
            "tags": []
          }
        },
        {
          "output_type": "display_data",
          "data": {
            "text/html": [
              "<pre>Unexpected JPEG decode failure\t file: ./PetImages/Cat/3197.jpg</pre>"
            ],
            "text/plain": [
              "Unexpected JPEG decode failure\t file: ./PetImages/Cat/3197.jpg"
            ]
          },
          "metadata": {
            "tags": []
          }
        },
        {
          "output_type": "display_data",
          "data": {
            "text/html": [
              "<pre>Unexpected JPEG decode failure\t file: ./PetImages/Cat/3300.jpg</pre>"
            ],
            "text/plain": [
              "Unexpected JPEG decode failure\t file: ./PetImages/Cat/3300.jpg"
            ]
          },
          "metadata": {
            "tags": []
          }
        },
        {
          "output_type": "display_data",
          "data": {
            "text/html": [
              "<pre>Unexpected JPEG decode failure\t file: ./PetImages/Cat/3491.jpg</pre>"
            ],
            "text/plain": [
              "Unexpected JPEG decode failure\t file: ./PetImages/Cat/3491.jpg"
            ]
          },
          "metadata": {
            "tags": []
          }
        },
        {
          "output_type": "display_data",
          "data": {
            "text/html": [
              "<pre>Unexpected JPEG decode failure\t file: ./PetImages/Cat/3649.jpg</pre>"
            ],
            "text/plain": [
              "Unexpected JPEG decode failure\t file: ./PetImages/Cat/3649.jpg"
            ]
          },
          "metadata": {
            "tags": []
          }
        },
        {
          "output_type": "display_data",
          "data": {
            "text/html": [
              "<pre>Unexpected JPEG decode failure\t file: ./PetImages/Cat/3710.jpg</pre>"
            ],
            "text/plain": [
              "Unexpected JPEG decode failure\t file: ./PetImages/Cat/3710.jpg"
            ]
          },
          "metadata": {
            "tags": []
          }
        },
        {
          "output_type": "display_data",
          "data": {
            "text/html": [
              "<pre>Unexpected JPEG decode failure\t file: ./PetImages/Cat/391.jpg</pre>"
            ],
            "text/plain": [
              "Unexpected JPEG decode failure\t file: ./PetImages/Cat/391.jpg"
            ]
          },
          "metadata": {
            "tags": []
          }
        },
        {
          "output_type": "display_data",
          "data": {
            "text/html": [
              "<pre>Unexpected JPEG decode failure\t file: ./PetImages/Cat/3967.jpg</pre>"
            ],
            "text/plain": [
              "Unexpected JPEG decode failure\t file: ./PetImages/Cat/3967.jpg"
            ]
          },
          "metadata": {
            "tags": []
          }
        },
        {
          "output_type": "display_data",
          "data": {
            "text/html": [
              "<pre>Unexpected JPEG decode failure\t file: ./PetImages/Cat/4000.jpg</pre>"
            ],
            "text/plain": [
              "Unexpected JPEG decode failure\t file: ./PetImages/Cat/4000.jpg"
            ]
          },
          "metadata": {
            "tags": []
          }
        },
        {
          "output_type": "display_data",
          "data": {
            "text/html": [
              "<pre>Unexpected JPEG decode failure\t file: ./PetImages/Cat/4293.jpg</pre>"
            ],
            "text/plain": [
              "Unexpected JPEG decode failure\t file: ./PetImages/Cat/4293.jpg"
            ]
          },
          "metadata": {
            "tags": []
          }
        },
        {
          "output_type": "display_data",
          "data": {
            "text/html": [
              "<pre>Unexpected JPEG decode failure\t file: ./PetImages/Cat/4322.jpg</pre>"
            ],
            "text/plain": [
              "Unexpected JPEG decode failure\t file: ./PetImages/Cat/4322.jpg"
            ]
          },
          "metadata": {
            "tags": []
          }
        },
        {
          "output_type": "display_data",
          "data": {
            "text/html": [
              "<pre>Unexpected JPEG decode failure\t file: ./PetImages/Cat/4334.jpg</pre>"
            ],
            "text/plain": [
              "Unexpected JPEG decode failure\t file: ./PetImages/Cat/4334.jpg"
            ]
          },
          "metadata": {
            "tags": []
          }
        },
        {
          "output_type": "display_data",
          "data": {
            "text/html": [
              "<pre>Unexpected JPEG decode failure\t file: ./PetImages/Cat/4351.jpg</pre>"
            ],
            "text/plain": [
              "Unexpected JPEG decode failure\t file: ./PetImages/Cat/4351.jpg"
            ]
          },
          "metadata": {
            "tags": []
          }
        },
        {
          "output_type": "display_data",
          "data": {
            "text/html": [
              "<pre>Unexpected JPEG decode failure\t file: ./PetImages/Cat/445.jpg</pre>"
            ],
            "text/plain": [
              "Unexpected JPEG decode failure\t file: ./PetImages/Cat/445.jpg"
            ]
          },
          "metadata": {
            "tags": []
          }
        },
        {
          "output_type": "display_data",
          "data": {
            "text/html": [
              "<pre>Unexpected JPEG decode failure\t file: ./PetImages/Cat/4629.jpg</pre>"
            ],
            "text/plain": [
              "Unexpected JPEG decode failure\t file: ./PetImages/Cat/4629.jpg"
            ]
          },
          "metadata": {
            "tags": []
          }
        },
        {
          "output_type": "display_data",
          "data": {
            "text/html": [
              "<pre>Unexpected JPEG decode failure\t file: ./PetImages/Cat/4750.jpg</pre>"
            ],
            "text/plain": [
              "Unexpected JPEG decode failure\t file: ./PetImages/Cat/4750.jpg"
            ]
          },
          "metadata": {
            "tags": []
          }
        },
        {
          "output_type": "display_data",
          "data": {
            "text/html": [
              "<pre>Unexpected JPEG decode failure\t file: ./PetImages/Cat/4821.jpg</pre>"
            ],
            "text/plain": [
              "Unexpected JPEG decode failure\t file: ./PetImages/Cat/4821.jpg"
            ]
          },
          "metadata": {
            "tags": []
          }
        },
        {
          "output_type": "display_data",
          "data": {
            "text/html": [
              "<pre>Unexpected JPEG decode failure\t file: ./PetImages/Cat/4833.jpg</pre>"
            ],
            "text/plain": [
              "Unexpected JPEG decode failure\t file: ./PetImages/Cat/4833.jpg"
            ]
          },
          "metadata": {
            "tags": []
          }
        },
        {
          "output_type": "display_data",
          "data": {
            "text/html": [
              "<pre>Unexpected JPEG decode failure\t file: ./PetImages/Cat/4874.jpg</pre>"
            ],
            "text/plain": [
              "Unexpected JPEG decode failure\t file: ./PetImages/Cat/4874.jpg"
            ]
          },
          "metadata": {
            "tags": []
          }
        },
        {
          "output_type": "display_data",
          "data": {
            "text/html": [
              "<pre>Unexpected JPEG decode failure\t file: ./PetImages/Cat/4929.jpg</pre>"
            ],
            "text/plain": [
              "Unexpected JPEG decode failure\t file: ./PetImages/Cat/4929.jpg"
            ]
          },
          "metadata": {
            "tags": []
          }
        },
        {
          "output_type": "display_data",
          "data": {
            "text/html": [
              "<pre>Unexpected JPEG decode failure\t file: ./PetImages/Cat/5077.jpg</pre>"
            ],
            "text/plain": [
              "Unexpected JPEG decode failure\t file: ./PetImages/Cat/5077.jpg"
            ]
          },
          "metadata": {
            "tags": []
          }
        },
        {
          "output_type": "display_data",
          "data": {
            "text/html": [
              "<pre>Unexpected JPEG decode failure\t file: ./PetImages/Cat/5370.jpg</pre>"
            ],
            "text/plain": [
              "Unexpected JPEG decode failure\t file: ./PetImages/Cat/5370.jpg"
            ]
          },
          "metadata": {
            "tags": []
          }
        },
        {
          "output_type": "display_data",
          "data": {
            "text/html": [
              "<pre>Unexpected JPEG decode failure\t file: ./PetImages/Cat/5553.jpg</pre>"
            ],
            "text/plain": [
              "Unexpected JPEG decode failure\t file: ./PetImages/Cat/5553.jpg"
            ]
          },
          "metadata": {
            "tags": []
          }
        },
        {
          "output_type": "display_data",
          "data": {
            "text/html": [
              "<pre>Unexpected JPEG decode failure\t file: ./PetImages/Cat/5614.jpg</pre>"
            ],
            "text/plain": [
              "Unexpected JPEG decode failure\t file: ./PetImages/Cat/5614.jpg"
            ]
          },
          "metadata": {
            "tags": []
          }
        },
        {
          "output_type": "display_data",
          "data": {
            "text/html": [
              "<pre>Unexpected JPEG decode failure\t file: ./PetImages/Cat/5819.jpg</pre>"
            ],
            "text/plain": [
              "Unexpected JPEG decode failure\t file: ./PetImages/Cat/5819.jpg"
            ]
          },
          "metadata": {
            "tags": []
          }
        },
        {
          "output_type": "display_data",
          "data": {
            "text/html": [
              "<pre>Unexpected JPEG decode failure\t file: ./PetImages/Cat/6029.jpg</pre>"
            ],
            "text/plain": [
              "Unexpected JPEG decode failure\t file: ./PetImages/Cat/6029.jpg"
            ]
          },
          "metadata": {
            "tags": []
          }
        },
        {
          "output_type": "display_data",
          "data": {
            "text/html": [
              "<pre>Unexpected JPEG decode failure\t file: ./PetImages/Cat/6376.jpg</pre>"
            ],
            "text/plain": [
              "Unexpected JPEG decode failure\t file: ./PetImages/Cat/6376.jpg"
            ]
          },
          "metadata": {
            "tags": []
          }
        },
        {
          "output_type": "display_data",
          "data": {
            "text/html": [
              "<pre>Unexpected JPEG decode failure\t file: ./PetImages/Cat/6435.jpg</pre>"
            ],
            "text/plain": [
              "Unexpected JPEG decode failure\t file: ./PetImages/Cat/6435.jpg"
            ]
          },
          "metadata": {
            "tags": []
          }
        },
        {
          "output_type": "display_data",
          "data": {
            "text/html": [
              "<pre>Unexpected JPEG decode failure\t file: ./PetImages/Cat/6486.jpg</pre>"
            ],
            "text/plain": [
              "Unexpected JPEG decode failure\t file: ./PetImages/Cat/6486.jpg"
            ]
          },
          "metadata": {
            "tags": []
          }
        },
        {
          "output_type": "display_data",
          "data": {
            "text/html": [
              "<pre>Unexpected JPEG decode failure\t file: ./PetImages/Cat/6491.jpg</pre>"
            ],
            "text/plain": [
              "Unexpected JPEG decode failure\t file: ./PetImages/Cat/6491.jpg"
            ]
          },
          "metadata": {
            "tags": []
          }
        },
        {
          "output_type": "display_data",
          "data": {
            "text/html": [
              "<pre>Unexpected JPEG decode failure\t file: ./PetImages/Cat/660.jpg</pre>"
            ],
            "text/plain": [
              "Unexpected JPEG decode failure\t file: ./PetImages/Cat/660.jpg"
            ]
          },
          "metadata": {
            "tags": []
          }
        },
        {
          "output_type": "display_data",
          "data": {
            "text/html": [
              "<pre>Unexpected JPEG decode failure\t file: ./PetImages/Cat/666.jpg</pre>"
            ],
            "text/plain": [
              "Unexpected JPEG decode failure\t file: ./PetImages/Cat/666.jpg"
            ]
          },
          "metadata": {
            "tags": []
          }
        },
        {
          "output_type": "display_data",
          "data": {
            "text/html": [
              "<pre>Unexpected JPEG decode failure\t file: ./PetImages/Cat/6768.jpg</pre>"
            ],
            "text/plain": [
              "Unexpected JPEG decode failure\t file: ./PetImages/Cat/6768.jpg"
            ]
          },
          "metadata": {
            "tags": []
          }
        },
        {
          "output_type": "display_data",
          "data": {
            "text/html": [
              "<pre>Unexpected JPEG decode failure\t file: ./PetImages/Cat/6900.jpg</pre>"
            ],
            "text/plain": [
              "Unexpected JPEG decode failure\t file: ./PetImages/Cat/6900.jpg"
            ]
          },
          "metadata": {
            "tags": []
          }
        },
        {
          "output_type": "display_data",
          "data": {
            "text/html": [
              "<pre>Unexpected JPEG decode failure\t file: ./PetImages/Cat/6906.jpg</pre>"
            ],
            "text/plain": [
              "Unexpected JPEG decode failure\t file: ./PetImages/Cat/6906.jpg"
            ]
          },
          "metadata": {
            "tags": []
          }
        },
        {
          "output_type": "display_data",
          "data": {
            "text/html": [
              "<pre>Unexpected JPEG decode failure\t file: ./PetImages/Cat/6980.jpg</pre>"
            ],
            "text/plain": [
              "Unexpected JPEG decode failure\t file: ./PetImages/Cat/6980.jpg"
            ]
          },
          "metadata": {
            "tags": []
          }
        },
        {
          "output_type": "display_data",
          "data": {
            "text/html": [
              "<pre>Unexpected JPEG decode failure\t file: ./PetImages/Cat/7003.jpg</pre>"
            ],
            "text/plain": [
              "Unexpected JPEG decode failure\t file: ./PetImages/Cat/7003.jpg"
            ]
          },
          "metadata": {
            "tags": []
          }
        },
        {
          "output_type": "display_data",
          "data": {
            "text/html": [
              "<pre>Unexpected JPEG decode failure\t file: ./PetImages/Cat/7502.jpg</pre>"
            ],
            "text/plain": [
              "Unexpected JPEG decode failure\t file: ./PetImages/Cat/7502.jpg"
            ]
          },
          "metadata": {
            "tags": []
          }
        },
        {
          "output_type": "display_data",
          "data": {
            "text/html": [
              "<pre>Unexpected JPEG decode failure\t file: ./PetImages/Cat/7642.jpg</pre>"
            ],
            "text/plain": [
              "Unexpected JPEG decode failure\t file: ./PetImages/Cat/7642.jpg"
            ]
          },
          "metadata": {
            "tags": []
          }
        },
        {
          "output_type": "display_data",
          "data": {
            "text/html": [
              "<pre>Unexpected JPEG decode failure\t file: ./PetImages/Cat/7647.jpg</pre>"
            ],
            "text/plain": [
              "Unexpected JPEG decode failure\t file: ./PetImages/Cat/7647.jpg"
            ]
          },
          "metadata": {
            "tags": []
          }
        },
        {
          "output_type": "display_data",
          "data": {
            "text/html": [
              "<pre>Unexpected JPEG decode failure\t file: ./PetImages/Cat/7845.jpg</pre>"
            ],
            "text/plain": [
              "Unexpected JPEG decode failure\t file: ./PetImages/Cat/7845.jpg"
            ]
          },
          "metadata": {
            "tags": []
          }
        },
        {
          "output_type": "display_data",
          "data": {
            "text/html": [
              "<pre>Unexpected JPEG decode failure\t file: ./PetImages/Cat/7968.jpg</pre>"
            ],
            "text/plain": [
              "Unexpected JPEG decode failure\t file: ./PetImages/Cat/7968.jpg"
            ]
          },
          "metadata": {
            "tags": []
          }
        },
        {
          "output_type": "display_data",
          "data": {
            "text/html": [
              "<pre>Unexpected JPEG decode failure\t file: ./PetImages/Cat/7978.jpg</pre>"
            ],
            "text/plain": [
              "Unexpected JPEG decode failure\t file: ./PetImages/Cat/7978.jpg"
            ]
          },
          "metadata": {
            "tags": []
          }
        },
        {
          "output_type": "display_data",
          "data": {
            "text/html": [
              "<pre>Unexpected JPEG decode failure\t file: ./PetImages/Cat/8183.jpg</pre>"
            ],
            "text/plain": [
              "Unexpected JPEG decode failure\t file: ./PetImages/Cat/8183.jpg"
            ]
          },
          "metadata": {
            "tags": []
          }
        },
        {
          "output_type": "display_data",
          "data": {
            "text/html": [
              "<pre>Unexpected JPEG decode failure\t file: ./PetImages/Cat/8295.jpg</pre>"
            ],
            "text/plain": [
              "Unexpected JPEG decode failure\t file: ./PetImages/Cat/8295.jpg"
            ]
          },
          "metadata": {
            "tags": []
          }
        },
        {
          "output_type": "display_data",
          "data": {
            "text/html": [
              "<pre>Unexpected JPEG decode failure\t file: ./PetImages/Cat/8415.jpg</pre>"
            ],
            "text/plain": [
              "Unexpected JPEG decode failure\t file: ./PetImages/Cat/8415.jpg"
            ]
          },
          "metadata": {
            "tags": []
          }
        },
        {
          "output_type": "display_data",
          "data": {
            "text/html": [
              "<pre>Unexpected JPEG decode failure\t file: ./PetImages/Cat/8470.jpg</pre>"
            ],
            "text/plain": [
              "Unexpected JPEG decode failure\t file: ./PetImages/Cat/8470.jpg"
            ]
          },
          "metadata": {
            "tags": []
          }
        },
        {
          "output_type": "display_data",
          "data": {
            "text/html": [
              "<pre>Unexpected JPEG decode failure\t file: ./PetImages/Cat/850.jpg</pre>"
            ],
            "text/plain": [
              "Unexpected JPEG decode failure\t file: ./PetImages/Cat/850.jpg"
            ]
          },
          "metadata": {
            "tags": []
          }
        },
        {
          "output_type": "display_data",
          "data": {
            "text/html": [
              "<pre>Unexpected JPEG decode failure\t file: ./PetImages/Cat/8553.jpg</pre>"
            ],
            "text/plain": [
              "Unexpected JPEG decode failure\t file: ./PetImages/Cat/8553.jpg"
            ]
          },
          "metadata": {
            "tags": []
          }
        },
        {
          "output_type": "display_data",
          "data": {
            "text/html": [
              "<pre>Unexpected JPEG decode failure\t file: ./PetImages/Cat/8832.jpg</pre>"
            ],
            "text/plain": [
              "Unexpected JPEG decode failure\t file: ./PetImages/Cat/8832.jpg"
            ]
          },
          "metadata": {
            "tags": []
          }
        },
        {
          "output_type": "display_data",
          "data": {
            "text/html": [
              "<pre>Unexpected JPEG decode failure\t file: ./PetImages/Cat/8958.jpg</pre>"
            ],
            "text/plain": [
              "Unexpected JPEG decode failure\t file: ./PetImages/Cat/8958.jpg"
            ]
          },
          "metadata": {
            "tags": []
          }
        },
        {
          "output_type": "display_data",
          "data": {
            "text/html": [
              "<pre>Unexpected JPEG decode failure\t file: ./PetImages/Cat/910.jpg</pre>"
            ],
            "text/plain": [
              "Unexpected JPEG decode failure\t file: ./PetImages/Cat/910.jpg"
            ]
          },
          "metadata": {
            "tags": []
          }
        },
        {
          "output_type": "display_data",
          "data": {
            "text/html": [
              "<pre>Unexpected JPEG decode failure\t file: ./PetImages/Cat/9100.jpg</pre>"
            ],
            "text/plain": [
              "Unexpected JPEG decode failure\t file: ./PetImages/Cat/9100.jpg"
            ]
          },
          "metadata": {
            "tags": []
          }
        },
        {
          "output_type": "display_data",
          "data": {
            "text/html": [
              "<pre>Unexpected JPEG decode failure\t file: ./PetImages/Cat/9171.jpg</pre>"
            ],
            "text/plain": [
              "Unexpected JPEG decode failure\t file: ./PetImages/Cat/9171.jpg"
            ]
          },
          "metadata": {
            "tags": []
          }
        },
        {
          "output_type": "display_data",
          "data": {
            "text/html": [
              "<pre>Unexpected JPEG decode failure\t file: ./PetImages/Cat/9208.jpg</pre>"
            ],
            "text/plain": [
              "Unexpected JPEG decode failure\t file: ./PetImages/Cat/9208.jpg"
            ]
          },
          "metadata": {
            "tags": []
          }
        },
        {
          "output_type": "display_data",
          "data": {
            "text/html": [
              "<pre>Unexpected JPEG decode failure\t file: ./PetImages/Cat/9328.jpg</pre>"
            ],
            "text/plain": [
              "Unexpected JPEG decode failure\t file: ./PetImages/Cat/9328.jpg"
            ]
          },
          "metadata": {
            "tags": []
          }
        },
        {
          "output_type": "display_data",
          "data": {
            "text/html": [
              "<pre>Unexpected JPEG decode failure\t file: ./PetImages/Cat/936.jpg</pre>"
            ],
            "text/plain": [
              "Unexpected JPEG decode failure\t file: ./PetImages/Cat/936.jpg"
            ]
          },
          "metadata": {
            "tags": []
          }
        },
        {
          "output_type": "display_data",
          "data": {
            "text/html": [
              "<pre>Unexpected JPEG decode failure\t file: ./PetImages/Cat/9361.jpg</pre>"
            ],
            "text/plain": [
              "Unexpected JPEG decode failure\t file: ./PetImages/Cat/9361.jpg"
            ]
          },
          "metadata": {
            "tags": []
          }
        },
        {
          "output_type": "display_data",
          "data": {
            "text/html": [
              "<pre>Unexpected JPEG decode failure\t file: ./PetImages/Cat/9565.jpg</pre>"
            ],
            "text/plain": [
              "Unexpected JPEG decode failure\t file: ./PetImages/Cat/9565.jpg"
            ]
          },
          "metadata": {
            "tags": []
          }
        },
        {
          "output_type": "display_data",
          "data": {
            "text/html": [
              "<pre>Unexpected JPEG decode failure\t file: ./PetImages/Cat/9619.jpg</pre>"
            ],
            "text/plain": [
              "Unexpected JPEG decode failure\t file: ./PetImages/Cat/9619.jpg"
            ]
          },
          "metadata": {
            "tags": []
          }
        },
        {
          "output_type": "display_data",
          "data": {
            "text/html": [
              "<pre>Unexpected JPEG decode failure\t file: ./PetImages/Cat/9778.jpg</pre>"
            ],
            "text/plain": [
              "Unexpected JPEG decode failure\t file: ./PetImages/Cat/9778.jpg"
            ]
          },
          "metadata": {
            "tags": []
          }
        },
        {
          "output_type": "display_data",
          "data": {
            "text/html": [
              "<pre>Unexpected JPEG decode failure\t file: ./PetImages/Dog/10158.jpg</pre>"
            ],
            "text/plain": [
              "Unexpected JPEG decode failure\t file: ./PetImages/Dog/10158.jpg"
            ]
          },
          "metadata": {
            "tags": []
          }
        },
        {
          "output_type": "display_data",
          "data": {
            "text/html": [
              "<pre>Unexpected JPEG decode failure\t file: ./PetImages/Dog/1017.jpg</pre>"
            ],
            "text/plain": [
              "Unexpected JPEG decode failure\t file: ./PetImages/Dog/1017.jpg"
            ]
          },
          "metadata": {
            "tags": []
          }
        },
        {
          "output_type": "display_data",
          "data": {
            "text/html": [
              "<pre>Unexpected JPEG decode failure\t file: ./PetImages/Dog/10173.jpg</pre>"
            ],
            "text/plain": [
              "Unexpected JPEG decode failure\t file: ./PetImages/Dog/10173.jpg"
            ]
          },
          "metadata": {
            "tags": []
          }
        },
        {
          "output_type": "display_data",
          "data": {
            "text/html": [
              "<pre>Unexpected JPEG decode failure\t file: ./PetImages/Dog/10351.jpg</pre>"
            ],
            "text/plain": [
              "Unexpected JPEG decode failure\t file: ./PetImages/Dog/10351.jpg"
            ]
          },
          "metadata": {
            "tags": []
          }
        },
        {
          "output_type": "display_data",
          "data": {
            "text/html": [
              "<pre>Unexpected JPEG decode failure\t file: ./PetImages/Dog/10353.jpg</pre>"
            ],
            "text/plain": [
              "Unexpected JPEG decode failure\t file: ./PetImages/Dog/10353.jpg"
            ]
          },
          "metadata": {
            "tags": []
          }
        },
        {
          "output_type": "display_data",
          "data": {
            "text/html": [
              "<pre>Unexpected JPEG decode failure\t file: ./PetImages/Dog/10383.jpg</pre>"
            ],
            "text/plain": [
              "Unexpected JPEG decode failure\t file: ./PetImages/Dog/10383.jpg"
            ]
          },
          "metadata": {
            "tags": []
          }
        },
        {
          "output_type": "display_data",
          "data": {
            "text/html": [
              "<pre>Unexpected JPEG decode failure\t file: ./PetImages/Dog/10401.jpg</pre>"
            ],
            "text/plain": [
              "Unexpected JPEG decode failure\t file: ./PetImages/Dog/10401.jpg"
            ]
          },
          "metadata": {
            "tags": []
          }
        },
        {
          "output_type": "display_data",
          "data": {
            "text/html": [
              "<pre>Unexpected JPEG decode failure\t file: ./PetImages/Dog/10637.jpg</pre>"
            ],
            "text/plain": [
              "Unexpected JPEG decode failure\t file: ./PetImages/Dog/10637.jpg"
            ]
          },
          "metadata": {
            "tags": []
          }
        },
        {
          "output_type": "display_data",
          "data": {
            "text/html": [
              "<pre>Unexpected JPEG decode failure\t file: ./PetImages/Dog/10678.jpg</pre>"
            ],
            "text/plain": [
              "Unexpected JPEG decode failure\t file: ./PetImages/Dog/10678.jpg"
            ]
          },
          "metadata": {
            "tags": []
          }
        },
        {
          "output_type": "display_data",
          "data": {
            "text/html": [
              "<pre>Unexpected JPEG decode failure\t file: ./PetImages/Dog/10705.jpg</pre>"
            ],
            "text/plain": [
              "Unexpected JPEG decode failure\t file: ./PetImages/Dog/10705.jpg"
            ]
          },
          "metadata": {
            "tags": []
          }
        },
        {
          "output_type": "display_data",
          "data": {
            "text/html": [
              "<pre>Unexpected JPEG decode failure\t file: ./PetImages/Dog/10726.jpg</pre>"
            ],
            "text/plain": [
              "Unexpected JPEG decode failure\t file: ./PetImages/Dog/10726.jpg"
            ]
          },
          "metadata": {
            "tags": []
          }
        },
        {
          "output_type": "display_data",
          "data": {
            "text/html": [
              "<pre>Unexpected JPEG decode failure\t file: ./PetImages/Dog/10733.jpg</pre>"
            ],
            "text/plain": [
              "Unexpected JPEG decode failure\t file: ./PetImages/Dog/10733.jpg"
            ]
          },
          "metadata": {
            "tags": []
          }
        },
        {
          "output_type": "display_data",
          "data": {
            "text/html": [
              "<pre>Unexpected JPEG decode failure\t file: ./PetImages/Dog/10747.jpg</pre>"
            ],
            "text/plain": [
              "Unexpected JPEG decode failure\t file: ./PetImages/Dog/10747.jpg"
            ]
          },
          "metadata": {
            "tags": []
          }
        },
        {
          "output_type": "display_data",
          "data": {
            "text/html": [
              "<pre>Unexpected JPEG decode failure\t file: ./PetImages/Dog/10797.jpg</pre>"
            ],
            "text/plain": [
              "Unexpected JPEG decode failure\t file: ./PetImages/Dog/10797.jpg"
            ]
          },
          "metadata": {
            "tags": []
          }
        },
        {
          "output_type": "display_data",
          "data": {
            "text/html": [
              "<pre>Unexpected JPEG decode failure\t file: ./PetImages/Dog/10863.jpg</pre>"
            ],
            "text/plain": [
              "Unexpected JPEG decode failure\t file: ./PetImages/Dog/10863.jpg"
            ]
          },
          "metadata": {
            "tags": []
          }
        },
        {
          "output_type": "display_data",
          "data": {
            "text/html": [
              "<pre>Unexpected JPEG decode failure\t file: ./PetImages/Dog/10907.jpg</pre>"
            ],
            "text/plain": [
              "Unexpected JPEG decode failure\t file: ./PetImages/Dog/10907.jpg"
            ]
          },
          "metadata": {
            "tags": []
          }
        },
        {
          "output_type": "display_data",
          "data": {
            "text/html": [
              "<pre>Unexpected JPEG decode failure\t file: ./PetImages/Dog/10969.jpg</pre>"
            ],
            "text/plain": [
              "Unexpected JPEG decode failure\t file: ./PetImages/Dog/10969.jpg"
            ]
          },
          "metadata": {
            "tags": []
          }
        },
        {
          "output_type": "display_data",
          "data": {
            "text/html": [
              "<pre>Unexpected JPEG decode failure\t file: ./PetImages/Dog/10972.jpg</pre>"
            ],
            "text/plain": [
              "Unexpected JPEG decode failure\t file: ./PetImages/Dog/10972.jpg"
            ]
          },
          "metadata": {
            "tags": []
          }
        },
        {
          "output_type": "display_data",
          "data": {
            "text/html": [
              "<pre>Unexpected JPEG decode failure\t file: ./PetImages/Dog/11166.jpg</pre>"
            ],
            "text/plain": [
              "Unexpected JPEG decode failure\t file: ./PetImages/Dog/11166.jpg"
            ]
          },
          "metadata": {
            "tags": []
          }
        },
        {
          "output_type": "display_data",
          "data": {
            "text/html": [
              "<pre>Unexpected JPEG decode failure\t file: ./PetImages/Dog/11233.jpg</pre>"
            ],
            "text/plain": [
              "Unexpected JPEG decode failure\t file: ./PetImages/Dog/11233.jpg"
            ]
          },
          "metadata": {
            "tags": []
          }
        },
        {
          "output_type": "display_data",
          "data": {
            "text/html": [
              "<pre>Unexpected JPEG decode failure\t file: ./PetImages/Dog/11253.jpg</pre>"
            ],
            "text/plain": [
              "Unexpected JPEG decode failure\t file: ./PetImages/Dog/11253.jpg"
            ]
          },
          "metadata": {
            "tags": []
          }
        },
        {
          "output_type": "display_data",
          "data": {
            "text/html": [
              "<pre>Unexpected JPEG decode failure\t file: ./PetImages/Dog/11285.jpg</pre>"
            ],
            "text/plain": [
              "Unexpected JPEG decode failure\t file: ./PetImages/Dog/11285.jpg"
            ]
          },
          "metadata": {
            "tags": []
          }
        },
        {
          "output_type": "display_data",
          "data": {
            "text/html": [
              "<pre>Unexpected JPEG decode failure\t file: ./PetImages/Dog/11410.jpg</pre>"
            ],
            "text/plain": [
              "Unexpected JPEG decode failure\t file: ./PetImages/Dog/11410.jpg"
            ]
          },
          "metadata": {
            "tags": []
          }
        },
        {
          "output_type": "display_data",
          "data": {
            "text/html": [
              "<pre>Unexpected JPEG decode failure\t file: ./PetImages/Dog/11560.jpg</pre>"
            ],
            "text/plain": [
              "Unexpected JPEG decode failure\t file: ./PetImages/Dog/11560.jpg"
            ]
          },
          "metadata": {
            "tags": []
          }
        },
        {
          "output_type": "display_data",
          "data": {
            "text/html": [
              "<pre>Unexpected JPEG decode failure\t file: ./PetImages/Dog/11590.jpg</pre>"
            ],
            "text/plain": [
              "Unexpected JPEG decode failure\t file: ./PetImages/Dog/11590.jpg"
            ]
          },
          "metadata": {
            "tags": []
          }
        },
        {
          "output_type": "display_data",
          "data": {
            "text/html": [
              "<pre>Unexpected JPEG decode failure\t file: ./PetImages/Dog/11675.jpg</pre>"
            ],
            "text/plain": [
              "Unexpected JPEG decode failure\t file: ./PetImages/Dog/11675.jpg"
            ]
          },
          "metadata": {
            "tags": []
          }
        },
        {
          "output_type": "display_data",
          "data": {
            "text/html": [
              "<pre>Unexpected JPEG decode failure\t file: ./PetImages/Dog/1168.jpg</pre>"
            ],
            "text/plain": [
              "Unexpected JPEG decode failure\t file: ./PetImages/Dog/1168.jpg"
            ]
          },
          "metadata": {
            "tags": []
          }
        },
        {
          "output_type": "display_data",
          "data": {
            "text/html": [
              "<pre>Unexpected JPEG decode failure\t file: ./PetImages/Dog/11692.jpg</pre>"
            ],
            "text/plain": [
              "Unexpected JPEG decode failure\t file: ./PetImages/Dog/11692.jpg"
            ]
          },
          "metadata": {
            "tags": []
          }
        },
        {
          "output_type": "display_data",
          "data": {
            "text/html": [
              "<pre>Unexpected JPEG decode failure\t file: ./PetImages/Dog/11702.jpg</pre>"
            ],
            "text/plain": [
              "Unexpected JPEG decode failure\t file: ./PetImages/Dog/11702.jpg"
            ]
          },
          "metadata": {
            "tags": []
          }
        },
        {
          "output_type": "display_data",
          "data": {
            "text/html": [
              "<pre>Unexpected JPEG decode failure\t file: ./PetImages/Dog/11849.jpg</pre>"
            ],
            "text/plain": [
              "Unexpected JPEG decode failure\t file: ./PetImages/Dog/11849.jpg"
            ]
          },
          "metadata": {
            "tags": []
          }
        },
        {
          "output_type": "display_data",
          "data": {
            "text/html": [
              "<pre>Unexpected JPEG decode failure\t file: ./PetImages/Dog/11853.jpg</pre>"
            ],
            "text/plain": [
              "Unexpected JPEG decode failure\t file: ./PetImages/Dog/11853.jpg"
            ]
          },
          "metadata": {
            "tags": []
          }
        },
        {
          "output_type": "display_data",
          "data": {
            "text/html": [
              "<pre>Unexpected JPEG decode failure\t file: ./PetImages/Dog/11912.jpg</pre>"
            ],
            "text/plain": [
              "Unexpected JPEG decode failure\t file: ./PetImages/Dog/11912.jpg"
            ]
          },
          "metadata": {
            "tags": []
          }
        },
        {
          "output_type": "display_data",
          "data": {
            "text/html": [
              "<pre>Unexpected JPEG decode failure\t file: ./PetImages/Dog/12102.jpg</pre>"
            ],
            "text/plain": [
              "Unexpected JPEG decode failure\t file: ./PetImages/Dog/12102.jpg"
            ]
          },
          "metadata": {
            "tags": []
          }
        },
        {
          "output_type": "display_data",
          "data": {
            "text/html": [
              "<pre>Unexpected JPEG decode failure\t file: ./PetImages/Dog/12114.jpg</pre>"
            ],
            "text/plain": [
              "Unexpected JPEG decode failure\t file: ./PetImages/Dog/12114.jpg"
            ]
          },
          "metadata": {
            "tags": []
          }
        },
        {
          "output_type": "display_data",
          "data": {
            "text/html": [
              "<pre>Unexpected JPEG decode failure\t file: ./PetImages/Dog/12289.jpg</pre>"
            ],
            "text/plain": [
              "Unexpected JPEG decode failure\t file: ./PetImages/Dog/12289.jpg"
            ]
          },
          "metadata": {
            "tags": []
          }
        },
        {
          "output_type": "display_data",
          "data": {
            "text/html": [
              "<pre>Unexpected JPEG decode failure\t file: ./PetImages/Dog/1259.jpg</pre>"
            ],
            "text/plain": [
              "Unexpected JPEG decode failure\t file: ./PetImages/Dog/1259.jpg"
            ]
          },
          "metadata": {
            "tags": []
          }
        },
        {
          "output_type": "display_data",
          "data": {
            "text/html": [
              "<pre>Unexpected JPEG decode failure\t file: ./PetImages/Dog/1308.jpg</pre>"
            ],
            "text/plain": [
              "Unexpected JPEG decode failure\t file: ./PetImages/Dog/1308.jpg"
            ]
          },
          "metadata": {
            "tags": []
          }
        },
        {
          "output_type": "display_data",
          "data": {
            "text/html": [
              "<pre>Unexpected JPEG decode failure\t file: ./PetImages/Dog/1356.jpg</pre>"
            ],
            "text/plain": [
              "Unexpected JPEG decode failure\t file: ./PetImages/Dog/1356.jpg"
            ]
          },
          "metadata": {
            "tags": []
          }
        },
        {
          "output_type": "display_data",
          "data": {
            "text/html": [
              "<pre>Unexpected JPEG decode failure\t file: ./PetImages/Dog/1866.jpg</pre>"
            ],
            "text/plain": [
              "Unexpected JPEG decode failure\t file: ./PetImages/Dog/1866.jpg"
            ]
          },
          "metadata": {
            "tags": []
          }
        },
        {
          "output_type": "display_data",
          "data": {
            "text/html": [
              "<pre>Unexpected JPEG decode failure\t file: ./PetImages/Dog/1884.jpg</pre>"
            ],
            "text/plain": [
              "Unexpected JPEG decode failure\t file: ./PetImages/Dog/1884.jpg"
            ]
          },
          "metadata": {
            "tags": []
          }
        },
        {
          "output_type": "display_data",
          "data": {
            "text/html": [
              "<pre>Unexpected JPEG decode failure\t file: ./PetImages/Dog/1900.jpg</pre>"
            ],
            "text/plain": [
              "Unexpected JPEG decode failure\t file: ./PetImages/Dog/1900.jpg"
            ]
          },
          "metadata": {
            "tags": []
          }
        },
        {
          "output_type": "display_data",
          "data": {
            "text/html": [
              "<pre>Unexpected JPEG decode failure\t file: ./PetImages/Dog/2317.jpg</pre>"
            ],
            "text/plain": [
              "Unexpected JPEG decode failure\t file: ./PetImages/Dog/2317.jpg"
            ]
          },
          "metadata": {
            "tags": []
          }
        },
        {
          "output_type": "display_data",
          "data": {
            "text/html": [
              "<pre>Unexpected JPEG decode failure\t file: ./PetImages/Dog/2353.jpg</pre>"
            ],
            "text/plain": [
              "Unexpected JPEG decode failure\t file: ./PetImages/Dog/2353.jpg"
            ]
          },
          "metadata": {
            "tags": []
          }
        },
        {
          "output_type": "display_data",
          "data": {
            "text/html": [
              "<pre>Unexpected JPEG decode failure\t file: ./PetImages/Dog/2384.jpg</pre>"
            ],
            "text/plain": [
              "Unexpected JPEG decode failure\t file: ./PetImages/Dog/2384.jpg"
            ]
          },
          "metadata": {
            "tags": []
          }
        },
        {
          "output_type": "display_data",
          "data": {
            "text/html": [
              "<pre>Unexpected JPEG decode failure\t file: ./PetImages/Dog/2479.jpg</pre>"
            ],
            "text/plain": [
              "Unexpected JPEG decode failure\t file: ./PetImages/Dog/2479.jpg"
            ]
          },
          "metadata": {
            "tags": []
          }
        },
        {
          "output_type": "display_data",
          "data": {
            "text/html": [
              "<pre>Unexpected JPEG decode failure\t file: ./PetImages/Dog/2494.jpg</pre>"
            ],
            "text/plain": [
              "Unexpected JPEG decode failure\t file: ./PetImages/Dog/2494.jpg"
            ]
          },
          "metadata": {
            "tags": []
          }
        },
        {
          "output_type": "display_data",
          "data": {
            "text/html": [
              "<pre>Unexpected JPEG decode failure\t file: ./PetImages/Dog/2688.jpg</pre>"
            ],
            "text/plain": [
              "Unexpected JPEG decode failure\t file: ./PetImages/Dog/2688.jpg"
            ]
          },
          "metadata": {
            "tags": []
          }
        },
        {
          "output_type": "display_data",
          "data": {
            "text/html": [
              "<pre>Unexpected JPEG decode failure\t file: ./PetImages/Dog/2877.jpg</pre>"
            ],
            "text/plain": [
              "Unexpected JPEG decode failure\t file: ./PetImages/Dog/2877.jpg"
            ]
          },
          "metadata": {
            "tags": []
          }
        },
        {
          "output_type": "display_data",
          "data": {
            "text/html": [
              "<pre>Unexpected JPEG decode failure\t file: ./PetImages/Dog/2905.jpg</pre>"
            ],
            "text/plain": [
              "Unexpected JPEG decode failure\t file: ./PetImages/Dog/2905.jpg"
            ]
          },
          "metadata": {
            "tags": []
          }
        },
        {
          "output_type": "display_data",
          "data": {
            "text/html": [
              "<pre>Unexpected JPEG decode failure\t file: ./PetImages/Dog/2915.jpg</pre>"
            ],
            "text/plain": [
              "Unexpected JPEG decode failure\t file: ./PetImages/Dog/2915.jpg"
            ]
          },
          "metadata": {
            "tags": []
          }
        },
        {
          "output_type": "display_data",
          "data": {
            "text/html": [
              "<pre>Unexpected JPEG decode failure\t file: ./PetImages/Dog/296.jpg</pre>"
            ],
            "text/plain": [
              "Unexpected JPEG decode failure\t file: ./PetImages/Dog/296.jpg"
            ]
          },
          "metadata": {
            "tags": []
          }
        },
        {
          "output_type": "display_data",
          "data": {
            "text/html": [
              "<pre>Unexpected JPEG decode failure\t file: ./PetImages/Dog/3038.jpg</pre>"
            ],
            "text/plain": [
              "Unexpected JPEG decode failure\t file: ./PetImages/Dog/3038.jpg"
            ]
          },
          "metadata": {
            "tags": []
          }
        },
        {
          "output_type": "display_data",
          "data": {
            "text/html": [
              "<pre>Unexpected JPEG decode failure\t file: ./PetImages/Dog/3136.jpg</pre>"
            ],
            "text/plain": [
              "Unexpected JPEG decode failure\t file: ./PetImages/Dog/3136.jpg"
            ]
          },
          "metadata": {
            "tags": []
          }
        },
        {
          "output_type": "display_data",
          "data": {
            "text/html": [
              "<pre>Unexpected JPEG decode failure\t file: ./PetImages/Dog/3155.jpg</pre>"
            ],
            "text/plain": [
              "Unexpected JPEG decode failure\t file: ./PetImages/Dog/3155.jpg"
            ]
          },
          "metadata": {
            "tags": []
          }
        },
        {
          "output_type": "display_data",
          "data": {
            "text/html": [
              "<pre>Unexpected JPEG decode failure\t file: ./PetImages/Dog/3288.jpg</pre>"
            ],
            "text/plain": [
              "Unexpected JPEG decode failure\t file: ./PetImages/Dog/3288.jpg"
            ]
          },
          "metadata": {
            "tags": []
          }
        },
        {
          "output_type": "display_data",
          "data": {
            "text/html": [
              "<pre>Unexpected JPEG decode failure\t file: ./PetImages/Dog/3320.jpg</pre>"
            ],
            "text/plain": [
              "Unexpected JPEG decode failure\t file: ./PetImages/Dog/3320.jpg"
            ]
          },
          "metadata": {
            "tags": []
          }
        },
        {
          "output_type": "display_data",
          "data": {
            "text/html": [
              "<pre>Unexpected JPEG decode failure\t file: ./PetImages/Dog/3546.jpg</pre>"
            ],
            "text/plain": [
              "Unexpected JPEG decode failure\t file: ./PetImages/Dog/3546.jpg"
            ]
          },
          "metadata": {
            "tags": []
          }
        },
        {
          "output_type": "display_data",
          "data": {
            "text/html": [
              "<pre>Unexpected JPEG decode failure\t file: ./PetImages/Dog/3588.jpg</pre>"
            ],
            "text/plain": [
              "Unexpected JPEG decode failure\t file: ./PetImages/Dog/3588.jpg"
            ]
          },
          "metadata": {
            "tags": []
          }
        },
        {
          "output_type": "display_data",
          "data": {
            "text/html": [
              "<pre>Unexpected JPEG decode failure\t file: ./PetImages/Dog/3885.jpg</pre>"
            ],
            "text/plain": [
              "Unexpected JPEG decode failure\t file: ./PetImages/Dog/3885.jpg"
            ]
          },
          "metadata": {
            "tags": []
          }
        },
        {
          "output_type": "display_data",
          "data": {
            "text/html": [
              "<pre>Unexpected JPEG decode failure\t file: ./PetImages/Dog/3927.jpg</pre>"
            ],
            "text/plain": [
              "Unexpected JPEG decode failure\t file: ./PetImages/Dog/3927.jpg"
            ]
          },
          "metadata": {
            "tags": []
          }
        },
        {
          "output_type": "display_data",
          "data": {
            "text/html": [
              "<pre>Unexpected JPEG decode failure\t file: ./PetImages/Dog/4086.jpg</pre>"
            ],
            "text/plain": [
              "Unexpected JPEG decode failure\t file: ./PetImages/Dog/4086.jpg"
            ]
          },
          "metadata": {
            "tags": []
          }
        },
        {
          "output_type": "display_data",
          "data": {
            "text/html": [
              "<pre>Unexpected JPEG decode failure\t file: ./PetImages/Dog/4134.jpg</pre>"
            ],
            "text/plain": [
              "Unexpected JPEG decode failure\t file: ./PetImages/Dog/4134.jpg"
            ]
          },
          "metadata": {
            "tags": []
          }
        },
        {
          "output_type": "display_data",
          "data": {
            "text/html": [
              "<pre>Unexpected JPEG decode failure\t file: ./PetImages/Dog/414.jpg</pre>"
            ],
            "text/plain": [
              "Unexpected JPEG decode failure\t file: ./PetImages/Dog/414.jpg"
            ]
          },
          "metadata": {
            "tags": []
          }
        },
        {
          "output_type": "display_data",
          "data": {
            "text/html": [
              "<pre>Unexpected JPEG decode failure\t file: ./PetImages/Dog/4203.jpg</pre>"
            ],
            "text/plain": [
              "Unexpected JPEG decode failure\t file: ./PetImages/Dog/4203.jpg"
            ]
          },
          "metadata": {
            "tags": []
          }
        },
        {
          "output_type": "display_data",
          "data": {
            "text/html": [
              "<pre>Unexpected JPEG decode failure\t file: ./PetImages/Dog/4257.jpg</pre>"
            ],
            "text/plain": [
              "Unexpected JPEG decode failure\t file: ./PetImages/Dog/4257.jpg"
            ]
          },
          "metadata": {
            "tags": []
          }
        },
        {
          "output_type": "display_data",
          "data": {
            "text/html": [
              "<pre>Unexpected JPEG decode failure\t file: ./PetImages/Dog/4301.jpg</pre>"
            ],
            "text/plain": [
              "Unexpected JPEG decode failure\t file: ./PetImages/Dog/4301.jpg"
            ]
          },
          "metadata": {
            "tags": []
          }
        },
        {
          "output_type": "display_data",
          "data": {
            "text/html": [
              "<pre>Unexpected JPEG decode failure\t file: ./PetImages/Dog/4367.jpg</pre>"
            ],
            "text/plain": [
              "Unexpected JPEG decode failure\t file: ./PetImages/Dog/4367.jpg"
            ]
          },
          "metadata": {
            "tags": []
          }
        },
        {
          "output_type": "display_data",
          "data": {
            "text/html": [
              "<pre>Unexpected JPEG decode failure\t file: ./PetImages/Dog/4640.jpg</pre>"
            ],
            "text/plain": [
              "Unexpected JPEG decode failure\t file: ./PetImages/Dog/4640.jpg"
            ]
          },
          "metadata": {
            "tags": []
          }
        },
        {
          "output_type": "display_data",
          "data": {
            "text/html": [
              "<pre>Unexpected JPEG decode failure\t file: ./PetImages/Dog/4654.jpg</pre>"
            ],
            "text/plain": [
              "Unexpected JPEG decode failure\t file: ./PetImages/Dog/4654.jpg"
            ]
          },
          "metadata": {
            "tags": []
          }
        },
        {
          "output_type": "display_data",
          "data": {
            "text/html": [
              "<pre>Unexpected JPEG decode failure\t file: ./PetImages/Dog/4924.jpg</pre>"
            ],
            "text/plain": [
              "Unexpected JPEG decode failure\t file: ./PetImages/Dog/4924.jpg"
            ]
          },
          "metadata": {
            "tags": []
          }
        },
        {
          "output_type": "display_data",
          "data": {
            "text/html": [
              "<pre>Unexpected JPEG decode failure\t file: ./PetImages/Dog/50.jpg</pre>"
            ],
            "text/plain": [
              "Unexpected JPEG decode failure\t file: ./PetImages/Dog/50.jpg"
            ]
          },
          "metadata": {
            "tags": []
          }
        },
        {
          "output_type": "display_data",
          "data": {
            "text/html": [
              "<pre>Unexpected JPEG decode failure\t file: ./PetImages/Dog/5104.jpg</pre>"
            ],
            "text/plain": [
              "Unexpected JPEG decode failure\t file: ./PetImages/Dog/5104.jpg"
            ]
          },
          "metadata": {
            "tags": []
          }
        },
        {
          "output_type": "display_data",
          "data": {
            "text/html": [
              "<pre>Unexpected JPEG decode failure\t file: ./PetImages/Dog/522.jpg</pre>"
            ],
            "text/plain": [
              "Unexpected JPEG decode failure\t file: ./PetImages/Dog/522.jpg"
            ]
          },
          "metadata": {
            "tags": []
          }
        },
        {
          "output_type": "display_data",
          "data": {
            "text/html": [
              "<pre>Unexpected JPEG decode failure\t file: ./PetImages/Dog/5243.jpg</pre>"
            ],
            "text/plain": [
              "Unexpected JPEG decode failure\t file: ./PetImages/Dog/5243.jpg"
            ]
          },
          "metadata": {
            "tags": []
          }
        },
        {
          "output_type": "display_data",
          "data": {
            "text/html": [
              "<pre>Unexpected JPEG decode failure\t file: ./PetImages/Dog/5263.jpg</pre>"
            ],
            "text/plain": [
              "Unexpected JPEG decode failure\t file: ./PetImages/Dog/5263.jpg"
            ]
          },
          "metadata": {
            "tags": []
          }
        },
        {
          "output_type": "display_data",
          "data": {
            "text/html": [
              "<pre>Unexpected JPEG decode failure\t file: ./PetImages/Dog/543.jpg</pre>"
            ],
            "text/plain": [
              "Unexpected JPEG decode failure\t file: ./PetImages/Dog/543.jpg"
            ]
          },
          "metadata": {
            "tags": []
          }
        },
        {
          "output_type": "display_data",
          "data": {
            "text/html": [
              "<pre>Unexpected JPEG decode failure\t file: ./PetImages/Dog/5547.jpg</pre>"
            ],
            "text/plain": [
              "Unexpected JPEG decode failure\t file: ./PetImages/Dog/5547.jpg"
            ]
          },
          "metadata": {
            "tags": []
          }
        },
        {
          "output_type": "display_data",
          "data": {
            "text/html": [
              "<pre>Unexpected JPEG decode failure\t file: ./PetImages/Dog/5604.jpg</pre>"
            ],
            "text/plain": [
              "Unexpected JPEG decode failure\t file: ./PetImages/Dog/5604.jpg"
            ]
          },
          "metadata": {
            "tags": []
          }
        },
        {
          "output_type": "display_data",
          "data": {
            "text/html": [
              "<pre>Unexpected JPEG decode failure\t file: ./PetImages/Dog/561.jpg</pre>"
            ],
            "text/plain": [
              "Unexpected JPEG decode failure\t file: ./PetImages/Dog/561.jpg"
            ]
          },
          "metadata": {
            "tags": []
          }
        },
        {
          "output_type": "display_data",
          "data": {
            "text/html": [
              "<pre>Unexpected JPEG decode failure\t file: ./PetImages/Dog/5618.jpg</pre>"
            ],
            "text/plain": [
              "Unexpected JPEG decode failure\t file: ./PetImages/Dog/5618.jpg"
            ]
          },
          "metadata": {
            "tags": []
          }
        },
        {
          "output_type": "display_data",
          "data": {
            "text/html": [
              "<pre>Unexpected JPEG decode failure\t file: ./PetImages/Dog/565.jpg</pre>"
            ],
            "text/plain": [
              "Unexpected JPEG decode failure\t file: ./PetImages/Dog/565.jpg"
            ]
          },
          "metadata": {
            "tags": []
          }
        },
        {
          "output_type": "display_data",
          "data": {
            "text/html": [
              "<pre>Unexpected JPEG decode failure\t file: ./PetImages/Dog/573.jpg</pre>"
            ],
            "text/plain": [
              "Unexpected JPEG decode failure\t file: ./PetImages/Dog/573.jpg"
            ]
          },
          "metadata": {
            "tags": []
          }
        },
        {
          "output_type": "display_data",
          "data": {
            "text/html": [
              "<pre>Unexpected JPEG decode failure\t file: ./PetImages/Dog/5730.jpg</pre>"
            ],
            "text/plain": [
              "Unexpected JPEG decode failure\t file: ./PetImages/Dog/5730.jpg"
            ]
          },
          "metadata": {
            "tags": []
          }
        },
        {
          "output_type": "display_data",
          "data": {
            "text/html": [
              "<pre>Unexpected JPEG decode failure\t file: ./PetImages/Dog/5736.jpg</pre>"
            ],
            "text/plain": [
              "Unexpected JPEG decode failure\t file: ./PetImages/Dog/5736.jpg"
            ]
          },
          "metadata": {
            "tags": []
          }
        },
        {
          "output_type": "display_data",
          "data": {
            "text/html": [
              "<pre>Unexpected JPEG decode failure\t file: ./PetImages/Dog/5790.jpg</pre>"
            ],
            "text/plain": [
              "Unexpected JPEG decode failure\t file: ./PetImages/Dog/5790.jpg"
            ]
          },
          "metadata": {
            "tags": []
          }
        },
        {
          "output_type": "display_data",
          "data": {
            "text/html": [
              "<pre>Unexpected JPEG decode failure\t file: ./PetImages/Dog/5955.jpg</pre>"
            ],
            "text/plain": [
              "Unexpected JPEG decode failure\t file: ./PetImages/Dog/5955.jpg"
            ]
          },
          "metadata": {
            "tags": []
          }
        },
        {
          "output_type": "display_data",
          "data": {
            "text/html": [
              "<pre>Unexpected JPEG decode failure\t file: ./PetImages/Dog/6032.jpg</pre>"
            ],
            "text/plain": [
              "Unexpected JPEG decode failure\t file: ./PetImages/Dog/6032.jpg"
            ]
          },
          "metadata": {
            "tags": []
          }
        },
        {
          "output_type": "display_data",
          "data": {
            "text/html": [
              "<pre>Unexpected JPEG decode failure\t file: ./PetImages/Dog/6059.jpg</pre>"
            ],
            "text/plain": [
              "Unexpected JPEG decode failure\t file: ./PetImages/Dog/6059.jpg"
            ]
          },
          "metadata": {
            "tags": []
          }
        },
        {
          "output_type": "display_data",
          "data": {
            "text/html": [
              "<pre>Unexpected JPEG decode failure\t file: ./PetImages/Dog/6213.jpg</pre>"
            ],
            "text/plain": [
              "Unexpected JPEG decode failure\t file: ./PetImages/Dog/6213.jpg"
            ]
          },
          "metadata": {
            "tags": []
          }
        },
        {
          "output_type": "display_data",
          "data": {
            "text/html": [
              "<pre>Unexpected JPEG decode failure\t file: ./PetImages/Dog/6238.jpg</pre>"
            ],
            "text/plain": [
              "Unexpected JPEG decode failure\t file: ./PetImages/Dog/6238.jpg"
            ]
          },
          "metadata": {
            "tags": []
          }
        },
        {
          "output_type": "display_data",
          "data": {
            "text/html": [
              "<pre>Unexpected JPEG decode failure\t file: ./PetImages/Dog/6305.jpg</pre>"
            ],
            "text/plain": [
              "Unexpected JPEG decode failure\t file: ./PetImages/Dog/6305.jpg"
            ]
          },
          "metadata": {
            "tags": []
          }
        },
        {
          "output_type": "display_data",
          "data": {
            "text/html": [
              "<pre>Unexpected JPEG decode failure\t file: ./PetImages/Dog/6318.jpg</pre>"
            ],
            "text/plain": [
              "Unexpected JPEG decode failure\t file: ./PetImages/Dog/6318.jpg"
            ]
          },
          "metadata": {
            "tags": []
          }
        },
        {
          "output_type": "display_data",
          "data": {
            "text/html": [
              "<pre>Unexpected JPEG decode failure\t file: ./PetImages/Dog/6430.jpg</pre>"
            ],
            "text/plain": [
              "Unexpected JPEG decode failure\t file: ./PetImages/Dog/6430.jpg"
            ]
          },
          "metadata": {
            "tags": []
          }
        },
        {
          "output_type": "display_data",
          "data": {
            "text/html": [
              "<pre>Unexpected JPEG decode failure\t file: ./PetImages/Dog/6500.jpg</pre>"
            ],
            "text/plain": [
              "Unexpected JPEG decode failure\t file: ./PetImages/Dog/6500.jpg"
            ]
          },
          "metadata": {
            "tags": []
          }
        },
        {
          "output_type": "display_data",
          "data": {
            "text/html": [
              "<pre>Unexpected JPEG decode failure\t file: ./PetImages/Dog/6503.jpg</pre>"
            ],
            "text/plain": [
              "Unexpected JPEG decode failure\t file: ./PetImages/Dog/6503.jpg"
            ]
          },
          "metadata": {
            "tags": []
          }
        },
        {
          "output_type": "display_data",
          "data": {
            "text/html": [
              "<pre>Unexpected JPEG decode failure\t file: ./PetImages/Dog/6555.jpg</pre>"
            ],
            "text/plain": [
              "Unexpected JPEG decode failure\t file: ./PetImages/Dog/6555.jpg"
            ]
          },
          "metadata": {
            "tags": []
          }
        },
        {
          "output_type": "display_data",
          "data": {
            "text/html": [
              "<pre>Unexpected JPEG decode failure\t file: ./PetImages/Dog/663.jpg</pre>"
            ],
            "text/plain": [
              "Unexpected JPEG decode failure\t file: ./PetImages/Dog/663.jpg"
            ]
          },
          "metadata": {
            "tags": []
          }
        },
        {
          "output_type": "display_data",
          "data": {
            "text/html": [
              "<pre>Unexpected JPEG decode failure\t file: ./PetImages/Dog/6718.jpg</pre>"
            ],
            "text/plain": [
              "Unexpected JPEG decode failure\t file: ./PetImages/Dog/6718.jpg"
            ]
          },
          "metadata": {
            "tags": []
          }
        },
        {
          "output_type": "display_data",
          "data": {
            "text/html": [
              "<pre>Unexpected JPEG decode failure\t file: ./PetImages/Dog/6855.jpg</pre>"
            ],
            "text/plain": [
              "Unexpected JPEG decode failure\t file: ./PetImages/Dog/6855.jpg"
            ]
          },
          "metadata": {
            "tags": []
          }
        },
        {
          "output_type": "display_data",
          "data": {
            "text/html": [
              "<pre>Unexpected JPEG decode failure\t file: ./PetImages/Dog/7112.jpg</pre>"
            ],
            "text/plain": [
              "Unexpected JPEG decode failure\t file: ./PetImages/Dog/7112.jpg"
            ]
          },
          "metadata": {
            "tags": []
          }
        },
        {
          "output_type": "display_data",
          "data": {
            "text/html": [
              "<pre>Unexpected JPEG decode failure\t file: ./PetImages/Dog/7128.jpg</pre>"
            ],
            "text/plain": [
              "Unexpected JPEG decode failure\t file: ./PetImages/Dog/7128.jpg"
            ]
          },
          "metadata": {
            "tags": []
          }
        },
        {
          "output_type": "display_data",
          "data": {
            "text/html": [
              "<pre>Unexpected JPEG decode failure\t file: ./PetImages/Dog/7133.jpg</pre>"
            ],
            "text/plain": [
              "Unexpected JPEG decode failure\t file: ./PetImages/Dog/7133.jpg"
            ]
          },
          "metadata": {
            "tags": []
          }
        },
        {
          "output_type": "display_data",
          "data": {
            "text/html": [
              "<pre>Unexpected JPEG decode failure\t file: ./PetImages/Dog/719.jpg</pre>"
            ],
            "text/plain": [
              "Unexpected JPEG decode failure\t file: ./PetImages/Dog/719.jpg"
            ]
          },
          "metadata": {
            "tags": []
          }
        },
        {
          "output_type": "display_data",
          "data": {
            "text/html": [
              "<pre>Unexpected JPEG decode failure\t file: ./PetImages/Dog/7311.jpg</pre>"
            ],
            "text/plain": [
              "Unexpected JPEG decode failure\t file: ./PetImages/Dog/7311.jpg"
            ]
          },
          "metadata": {
            "tags": []
          }
        },
        {
          "output_type": "display_data",
          "data": {
            "text/html": [
              "<pre>Unexpected JPEG decode failure\t file: ./PetImages/Dog/7369.jpg</pre>"
            ],
            "text/plain": [
              "Unexpected JPEG decode failure\t file: ./PetImages/Dog/7369.jpg"
            ]
          },
          "metadata": {
            "tags": []
          }
        },
        {
          "output_type": "display_data",
          "data": {
            "text/html": [
              "<pre>Unexpected JPEG decode failure\t file: ./PetImages/Dog/7459.jpg</pre>"
            ],
            "text/plain": [
              "Unexpected JPEG decode failure\t file: ./PetImages/Dog/7459.jpg"
            ]
          },
          "metadata": {
            "tags": []
          }
        },
        {
          "output_type": "display_data",
          "data": {
            "text/html": [
              "<pre>Unexpected JPEG decode failure\t file: ./PetImages/Dog/7514.jpg</pre>"
            ],
            "text/plain": [
              "Unexpected JPEG decode failure\t file: ./PetImages/Dog/7514.jpg"
            ]
          },
          "metadata": {
            "tags": []
          }
        },
        {
          "output_type": "display_data",
          "data": {
            "text/html": [
              "<pre>Unexpected JPEG decode failure\t file: ./PetImages/Dog/7652.jpg</pre>"
            ],
            "text/plain": [
              "Unexpected JPEG decode failure\t file: ./PetImages/Dog/7652.jpg"
            ]
          },
          "metadata": {
            "tags": []
          }
        },
        {
          "output_type": "display_data",
          "data": {
            "text/html": [
              "<pre>Unexpected JPEG decode failure\t file: ./PetImages/Dog/7718.jpg</pre>"
            ],
            "text/plain": [
              "Unexpected JPEG decode failure\t file: ./PetImages/Dog/7718.jpg"
            ]
          },
          "metadata": {
            "tags": []
          }
        },
        {
          "output_type": "display_data",
          "data": {
            "text/html": [
              "<pre>Unexpected JPEG decode failure\t file: ./PetImages/Dog/7739.jpg</pre>"
            ],
            "text/plain": [
              "Unexpected JPEG decode failure\t file: ./PetImages/Dog/7739.jpg"
            ]
          },
          "metadata": {
            "tags": []
          }
        },
        {
          "output_type": "display_data",
          "data": {
            "text/html": [
              "<pre>Unexpected JPEG decode failure\t file: ./PetImages/Dog/7743.jpg</pre>"
            ],
            "text/plain": [
              "Unexpected JPEG decode failure\t file: ./PetImages/Dog/7743.jpg"
            ]
          },
          "metadata": {
            "tags": []
          }
        },
        {
          "output_type": "display_data",
          "data": {
            "text/html": [
              "<pre>Unexpected JPEG decode failure\t file: ./PetImages/Dog/7969.jpg</pre>"
            ],
            "text/plain": [
              "Unexpected JPEG decode failure\t file: ./PetImages/Dog/7969.jpg"
            ]
          },
          "metadata": {
            "tags": []
          }
        },
        {
          "output_type": "display_data",
          "data": {
            "text/html": [
              "<pre>Unexpected JPEG decode failure\t file: ./PetImages/Dog/8126.jpg</pre>"
            ],
            "text/plain": [
              "Unexpected JPEG decode failure\t file: ./PetImages/Dog/8126.jpg"
            ]
          },
          "metadata": {
            "tags": []
          }
        },
        {
          "output_type": "display_data",
          "data": {
            "text/html": [
              "<pre>Unexpected JPEG decode failure\t file: ./PetImages/Dog/8194.jpg</pre>"
            ],
            "text/plain": [
              "Unexpected JPEG decode failure\t file: ./PetImages/Dog/8194.jpg"
            ]
          },
          "metadata": {
            "tags": []
          }
        },
        {
          "output_type": "display_data",
          "data": {
            "text/html": [
              "<pre>Unexpected JPEG decode failure\t file: ./PetImages/Dog/8364.jpg</pre>"
            ],
            "text/plain": [
              "Unexpected JPEG decode failure\t file: ./PetImages/Dog/8364.jpg"
            ]
          },
          "metadata": {
            "tags": []
          }
        },
        {
          "output_type": "display_data",
          "data": {
            "text/html": [
              "<pre>Unexpected JPEG decode failure\t file: ./PetImages/Dog/8521.jpg</pre>"
            ],
            "text/plain": [
              "Unexpected JPEG decode failure\t file: ./PetImages/Dog/8521.jpg"
            ]
          },
          "metadata": {
            "tags": []
          }
        },
        {
          "output_type": "display_data",
          "data": {
            "text/html": [
              "<pre>Unexpected JPEG decode failure\t file: ./PetImages/Dog/8557.jpg</pre>"
            ],
            "text/plain": [
              "Unexpected JPEG decode failure\t file: ./PetImages/Dog/8557.jpg"
            ]
          },
          "metadata": {
            "tags": []
          }
        },
        {
          "output_type": "display_data",
          "data": {
            "text/html": [
              "<pre>Unexpected JPEG decode failure\t file: ./PetImages/Dog/8563.jpg</pre>"
            ],
            "text/plain": [
              "Unexpected JPEG decode failure\t file: ./PetImages/Dog/8563.jpg"
            ]
          },
          "metadata": {
            "tags": []
          }
        },
        {
          "output_type": "display_data",
          "data": {
            "text/html": [
              "<pre>Unexpected JPEG decode failure\t file: ./PetImages/Dog/8641.jpg</pre>"
            ],
            "text/plain": [
              "Unexpected JPEG decode failure\t file: ./PetImages/Dog/8641.jpg"
            ]
          },
          "metadata": {
            "tags": []
          }
        },
        {
          "output_type": "display_data",
          "data": {
            "text/html": [
              "<pre>Unexpected JPEG decode failure\t file: ./PetImages/Dog/8693.jpg</pre>"
            ],
            "text/plain": [
              "Unexpected JPEG decode failure\t file: ./PetImages/Dog/8693.jpg"
            ]
          },
          "metadata": {
            "tags": []
          }
        },
        {
          "output_type": "display_data",
          "data": {
            "text/html": [
              "<pre>Unexpected JPEG decode failure\t file: ./PetImages/Dog/8715.jpg</pre>"
            ],
            "text/plain": [
              "Unexpected JPEG decode failure\t file: ./PetImages/Dog/8715.jpg"
            ]
          },
          "metadata": {
            "tags": []
          }
        },
        {
          "output_type": "display_data",
          "data": {
            "text/html": [
              "<pre>Unexpected JPEG decode failure\t file: ./PetImages/Dog/8730.jpg</pre>"
            ],
            "text/plain": [
              "Unexpected JPEG decode failure\t file: ./PetImages/Dog/8730.jpg"
            ]
          },
          "metadata": {
            "tags": []
          }
        },
        {
          "output_type": "display_data",
          "data": {
            "text/html": [
              "<pre>Unexpected JPEG decode failure\t file: ./PetImages/Dog/8889.jpg</pre>"
            ],
            "text/plain": [
              "Unexpected JPEG decode failure\t file: ./PetImages/Dog/8889.jpg"
            ]
          },
          "metadata": {
            "tags": []
          }
        },
        {
          "output_type": "display_data",
          "data": {
            "text/html": [
              "<pre>Unexpected JPEG decode failure\t file: ./PetImages/Dog/9026.jpg</pre>"
            ],
            "text/plain": [
              "Unexpected JPEG decode failure\t file: ./PetImages/Dog/9026.jpg"
            ]
          },
          "metadata": {
            "tags": []
          }
        },
        {
          "output_type": "display_data",
          "data": {
            "text/html": [
              "<pre>Unexpected JPEG decode failure\t file: ./PetImages/Dog/9043.jpg</pre>"
            ],
            "text/plain": [
              "Unexpected JPEG decode failure\t file: ./PetImages/Dog/9043.jpg"
            ]
          },
          "metadata": {
            "tags": []
          }
        },
        {
          "output_type": "display_data",
          "data": {
            "text/html": [
              "<pre>Unexpected JPEG decode failure\t file: ./PetImages/Dog/9145.jpg</pre>"
            ],
            "text/plain": [
              "Unexpected JPEG decode failure\t file: ./PetImages/Dog/9145.jpg"
            ]
          },
          "metadata": {
            "tags": []
          }
        },
        {
          "output_type": "display_data",
          "data": {
            "text/html": [
              "<pre>Unexpected JPEG decode failure\t file: ./PetImages/Dog/9188.jpg</pre>"
            ],
            "text/plain": [
              "Unexpected JPEG decode failure\t file: ./PetImages/Dog/9188.jpg"
            ]
          },
          "metadata": {
            "tags": []
          }
        },
        {
          "output_type": "display_data",
          "data": {
            "text/html": [
              "<pre>Unexpected JPEG decode failure\t file: ./PetImages/Dog/9367.jpg</pre>"
            ],
            "text/plain": [
              "Unexpected JPEG decode failure\t file: ./PetImages/Dog/9367.jpg"
            ]
          },
          "metadata": {
            "tags": []
          }
        },
        {
          "output_type": "display_data",
          "data": {
            "text/html": [
              "<pre>Unexpected JPEG decode failure\t file: ./PetImages/Dog/9414.jpg</pre>"
            ],
            "text/plain": [
              "Unexpected JPEG decode failure\t file: ./PetImages/Dog/9414.jpg"
            ]
          },
          "metadata": {
            "tags": []
          }
        },
        {
          "output_type": "display_data",
          "data": {
            "text/html": [
              "<pre>Unexpected JPEG decode failure\t file: ./PetImages/Dog/9500.jpg</pre>"
            ],
            "text/plain": [
              "Unexpected JPEG decode failure\t file: ./PetImages/Dog/9500.jpg"
            ]
          },
          "metadata": {
            "tags": []
          }
        },
        {
          "output_type": "display_data",
          "data": {
            "text/html": [
              "<pre>Unexpected JPEG decode failure\t file: ./PetImages/Dog/9556.jpg</pre>"
            ],
            "text/plain": [
              "Unexpected JPEG decode failure\t file: ./PetImages/Dog/9556.jpg"
            ]
          },
          "metadata": {
            "tags": []
          }
        },
        {
          "output_type": "display_data",
          "data": {
            "text/html": [
              "<pre>Unexpected JPEG decode failure\t file: ./PetImages/Dog/9640.jpg</pre>"
            ],
            "text/plain": [
              "Unexpected JPEG decode failure\t file: ./PetImages/Dog/9640.jpg"
            ]
          },
          "metadata": {
            "tags": []
          }
        },
        {
          "output_type": "display_data",
          "data": {
            "text/html": [
              "<pre>Unexpected JPEG decode failure\t file: ./PetImages/Dog/9643.jpg</pre>"
            ],
            "text/plain": [
              "Unexpected JPEG decode failure\t file: ./PetImages/Dog/9643.jpg"
            ]
          },
          "metadata": {
            "tags": []
          }
        },
        {
          "output_type": "display_data",
          "data": {
            "text/html": [
              "<pre>Unexpected JPEG decode failure\t file: ./PetImages/Dog/9851.jpg</pre>"
            ],
            "text/plain": [
              "Unexpected JPEG decode failure\t file: ./PetImages/Dog/9851.jpg"
            ]
          },
          "metadata": {
            "tags": []
          }
        },
        {
          "output_type": "display_data",
          "data": {
            "text/html": [
              "<pre>Unexpected JPEG decode failure\t file: ./PetImages/Dog/9961.jpg</pre>"
            ],
            "text/plain": [
              "Unexpected JPEG decode failure\t file: ./PetImages/Dog/9961.jpg"
            ]
          },
          "metadata": {
            "tags": []
          }
        },
        {
          "output_type": "display_data",
          "data": {
            "text/html": [
              "<pre>Unexpected JPEG decode failure\t file: ./PetImages/Dog/9967.jpg</pre>"
            ],
            "text/plain": [
              "Unexpected JPEG decode failure\t file: ./PetImages/Dog/9967.jpg"
            ]
          },
          "metadata": {
            "tags": []
          }
        }
      ]
    },
    {
      "metadata": {
        "id": "R0QYdhOL1Rtk",
        "colab_type": "code",
        "colab": {
          "base_uri": "https://localhost:8080/",
          "height": 245
        },
        "outputId": "8512fb10-0595-4329-ad02-ff8489c23817"
      },
      "cell_type": "code",
      "source": [
        "reference_data.head()"
      ],
      "execution_count": 12,
      "outputs": [
        {
          "output_type": "execute_result",
          "data": {
            "text/html": [
              "<div style=\"max-height:1000px;max-width:1500px;overflow:auto;\"><table frame=\"box\" rules=\"cols\">\n",
              "    <tr>\n",
              "        <th style=\"padding-left: 1em; padding-right: 1em; text-align: center\">path</th>\n",
              "        <th style=\"padding-left: 1em; padding-right: 1em; text-align: center\">image</th>\n",
              "        <th style=\"padding-left: 1em; padding-right: 1em; text-align: center\">label</th>\n",
              "    </tr>\n",
              "    <tr>\n",
              "        <td style=\"padding-left: 1em; padding-right: 1em; text-align: center; vertical-align: top\">./PetImages/Cat/0.jpg</td>\n",
              "        <td style=\"padding-left: 1em; padding-right: 1em; text-align: center; vertical-align: top\">Height: 375 Width: 500</td>\n",
              "        <td style=\"padding-left: 1em; padding-right: 1em; text-align: center; vertical-align: top\">cat</td>\n",
              "    </tr>\n",
              "    <tr>\n",
              "        <td style=\"padding-left: 1em; padding-right: 1em; text-align: center; vertical-align: top\">./PetImages/Cat/1.jpg</td>\n",
              "        <td style=\"padding-left: 1em; padding-right: 1em; text-align: center; vertical-align: top\">Height: 281 Width: 300</td>\n",
              "        <td style=\"padding-left: 1em; padding-right: 1em; text-align: center; vertical-align: top\">cat</td>\n",
              "    </tr>\n",
              "    <tr>\n",
              "        <td style=\"padding-left: 1em; padding-right: 1em; text-align: center; vertical-align: top\">./PetImages/Cat/10.jpg</td>\n",
              "        <td style=\"padding-left: 1em; padding-right: 1em; text-align: center; vertical-align: top\">Height: 500 Width: 489</td>\n",
              "        <td style=\"padding-left: 1em; padding-right: 1em; text-align: center; vertical-align: top\">cat</td>\n",
              "    </tr>\n",
              "    <tr>\n",
              "        <td style=\"padding-left: 1em; padding-right: 1em; text-align: center; vertical-align: top\">./PetImages/Cat/100.jpg</td>\n",
              "        <td style=\"padding-left: 1em; padding-right: 1em; text-align: center; vertical-align: top\">Height: 500 Width: 403</td>\n",
              "        <td style=\"padding-left: 1em; padding-right: 1em; text-align: center; vertical-align: top\">cat</td>\n",
              "    </tr>\n",
              "    <tr>\n",
              "        <td style=\"padding-left: 1em; padding-right: 1em; text-align: center; vertical-align: top\">./PetImages/Cat/1000.jpg</td>\n",
              "        <td style=\"padding-left: 1em; padding-right: 1em; text-align: center; vertical-align: top\">Height: 150 Width: 150</td>\n",
              "        <td style=\"padding-left: 1em; padding-right: 1em; text-align: center; vertical-align: top\">cat</td>\n",
              "    </tr>\n",
              "    <tr>\n",
              "        <td style=\"padding-left: 1em; padding-right: 1em; text-align: center; vertical-align: top\">./PetImages/Cat/10000.jpg</td>\n",
              "        <td style=\"padding-left: 1em; padding-right: 1em; text-align: center; vertical-align: top\">Height: 360 Width: 431</td>\n",
              "        <td style=\"padding-left: 1em; padding-right: 1em; text-align: center; vertical-align: top\">cat</td>\n",
              "    </tr>\n",
              "    <tr>\n",
              "        <td style=\"padding-left: 1em; padding-right: 1em; text-align: center; vertical-align: top\">./PetImages/Cat/10001.jpg</td>\n",
              "        <td style=\"padding-left: 1em; padding-right: 1em; text-align: center; vertical-align: top\">Height: 375 Width: 500</td>\n",
              "        <td style=\"padding-left: 1em; padding-right: 1em; text-align: center; vertical-align: top\">cat</td>\n",
              "    </tr>\n",
              "    <tr>\n",
              "        <td style=\"padding-left: 1em; padding-right: 1em; text-align: center; vertical-align: top\">./PetImages/Cat/10002.jpg</td>\n",
              "        <td style=\"padding-left: 1em; padding-right: 1em; text-align: center; vertical-align: top\">Height: 471 Width: 500</td>\n",
              "        <td style=\"padding-left: 1em; padding-right: 1em; text-align: center; vertical-align: top\">cat</td>\n",
              "    </tr>\n",
              "    <tr>\n",
              "        <td style=\"padding-left: 1em; padding-right: 1em; text-align: center; vertical-align: top\">./PetImages/Cat/10003.jpg</td>\n",
              "        <td style=\"padding-left: 1em; padding-right: 1em; text-align: center; vertical-align: top\">Height: 375 Width: 500</td>\n",
              "        <td style=\"padding-left: 1em; padding-right: 1em; text-align: center; vertical-align: top\">cat</td>\n",
              "    </tr>\n",
              "    <tr>\n",
              "        <td style=\"padding-left: 1em; padding-right: 1em; text-align: center; vertical-align: top\">./PetImages/Cat/10004.jpg</td>\n",
              "        <td style=\"padding-left: 1em; padding-right: 1em; text-align: center; vertical-align: top\">Height: 240 Width: 320</td>\n",
              "        <td style=\"padding-left: 1em; padding-right: 1em; text-align: center; vertical-align: top\">cat</td>\n",
              "    </tr>\n",
              "</table>\n",
              "[10 rows x 3 columns]<br/>\n",
              "</div>"
            ],
            "text/plain": [
              "Columns:\n",
              "\tpath\tstr\n",
              "\timage\tImage\n",
              "\tlabel\tstr\n",
              "\n",
              "Rows: 10\n",
              "\n",
              "Data:\n",
              "+---------------------------+------------------------+-------+\n",
              "|            path           |         image          | label |\n",
              "+---------------------------+------------------------+-------+\n",
              "|   ./PetImages/Cat/0.jpg   | Height: 375 Width: 500 |  cat  |\n",
              "|   ./PetImages/Cat/1.jpg   | Height: 281 Width: 300 |  cat  |\n",
              "|   ./PetImages/Cat/10.jpg  | Height: 500 Width: 489 |  cat  |\n",
              "|  ./PetImages/Cat/100.jpg  | Height: 500 Width: 403 |  cat  |\n",
              "|  ./PetImages/Cat/1000.jpg | Height: 150 Width: 150 |  cat  |\n",
              "| ./PetImages/Cat/10000.jpg | Height: 360 Width: 431 |  cat  |\n",
              "| ./PetImages/Cat/10001.jpg | Height: 375 Width: 500 |  cat  |\n",
              "| ./PetImages/Cat/10002.jpg | Height: 471 Width: 500 |  cat  |\n",
              "| ./PetImages/Cat/10003.jpg | Height: 375 Width: 500 |  cat  |\n",
              "| ./PetImages/Cat/10004.jpg | Height: 240 Width: 320 |  cat  |\n",
              "+---------------------------+------------------------+-------+\n",
              "[10 rows x 3 columns]"
            ]
          },
          "metadata": {
            "tags": []
          },
          "execution_count": 12
        }
      ]
    },
    {
      "metadata": {
        "id": "JYMbrNNI24mn",
        "colab_type": "code",
        "colab": {
          "base_uri": "https://localhost:8080/",
          "height": 93
        },
        "outputId": "9dcdc8d8-4838-4834-efd2-188da96414a3"
      },
      "cell_type": "code",
      "source": [
        "reference_data.groupby('label', [tc.aggregate.COUNT])"
      ],
      "execution_count": 13,
      "outputs": [
        {
          "output_type": "execute_result",
          "data": {
            "text/html": [
              "<div style=\"max-height:1000px;max-width:1500px;overflow:auto;\"><table frame=\"box\" rules=\"cols\">\n",
              "    <tr>\n",
              "        <th style=\"padding-left: 1em; padding-right: 1em; text-align: center\">label</th>\n",
              "        <th style=\"padding-left: 1em; padding-right: 1em; text-align: center\">Count</th>\n",
              "    </tr>\n",
              "    <tr>\n",
              "        <td style=\"padding-left: 1em; padding-right: 1em; text-align: center; vertical-align: top\">dog</td>\n",
              "        <td style=\"padding-left: 1em; padding-right: 1em; text-align: center; vertical-align: top\">12364</td>\n",
              "    </tr>\n",
              "    <tr>\n",
              "        <td style=\"padding-left: 1em; padding-right: 1em; text-align: center; vertical-align: top\">cat</td>\n",
              "        <td style=\"padding-left: 1em; padding-right: 1em; text-align: center; vertical-align: top\">12405</td>\n",
              "    </tr>\n",
              "</table>\n",
              "[2 rows x 2 columns]<br/>\n",
              "</div>"
            ],
            "text/plain": [
              "Columns:\n",
              "\tlabel\tstr\n",
              "\tCount\tint\n",
              "\n",
              "Rows: 2\n",
              "\n",
              "Data:\n",
              "+-------+-------+\n",
              "| label | Count |\n",
              "+-------+-------+\n",
              "|  dog  | 12364 |\n",
              "|  cat  | 12405 |\n",
              "+-------+-------+\n",
              "[2 rows x 2 columns]"
            ]
          },
          "metadata": {
            "tags": []
          },
          "execution_count": 13
        }
      ]
    },
    {
      "metadata": {
        "id": "lTJcPgsIeJDs",
        "colab_type": "code",
        "colab": {}
      },
      "cell_type": "code",
      "source": [
        "from IPython.display import display\n",
        "from IPython.display import HTML\n",
        "from PIL import Image\n",
        "from io import BytesIO\n",
        "import glob\n",
        "import random\n",
        "import base64\n",
        "import pandas as pd\n",
        "\n",
        "def get_thumbnail(path):\n",
        "  i = Image.open(path)\n",
        "  i.thumbnail((150, 150), Image.LANCZOS)\n",
        "  return i\n",
        "  \n",
        "def get_thumbnail_from_image(img):\n",
        "  i = img.copy()\n",
        "  i.thumbnail((150, 150), Image.LANCZOS)\n",
        "  return i\n",
        "\n",
        "def image_base64(im):\n",
        "  if isinstance(im, str):\n",
        "    im = get_thumbnail(im)\n",
        "  with BytesIO() as buffer:\n",
        "    im.save(buffer, 'jpeg')\n",
        "    return base64.b64encode(buffer.getvalue()).decode()\n",
        "\n",
        "def image_formatter(im):\n",
        "  return f'<img style=\"display:inline;margin:1px\" src=\"data:image/jpeg;base64,{image_base64(im)}\">'\n",
        "  \n",
        "def preview_images(reference_data, num_previews=30):\n",
        "  images = list(map(lambda x:image_formatter(get_thumbnail(x)), reference_data[0:num_previews]['path']))\n",
        "  display(HTML(''.join(images)))"
      ],
      "execution_count": 0,
      "outputs": []
    },
    {
      "metadata": {
        "id": "WeubJBVOmIxz",
        "colab_type": "code",
        "colab": {
          "base_uri": "https://localhost:8080/",
          "height": 947
        },
        "outputId": "6645dfeb-c15e-4ad5-a41a-013ffa2459b9"
      },
      "cell_type": "code",
      "source": [
        "preview_images(reference_data)\n",
        "preview_images(reference_data[reference_data[\"label\"]==\"dog\"])"
      ],
      "execution_count": 38,
      "outputs": [
        {
          "output_type": "display_data",
          "data": {
            "text/html": [
              "<img style=\"display:inline;margin:1px\" src=\"data:image/jpeg;base64,/9j/4AAQSkZJRgABAQAAAQABAAD/2wBDAAgGBgcGBQgHBwcJCQgKDBQNDAsLDBkSEw8UHRofHh0aHBwgJC4nICIsIxwcKDcpLDAxNDQ0Hyc5PTgyPC4zNDL/2wBDAQkJCQwLDBgNDRgyIRwhMjIyMjIyMjIyMjIyMjIyMjIyMjIyMjIyMjIyMjIyMjIyMjIyMjIyMjIyMjIyMjIyMjL/wAARCABwAJYDASIAAhEBAxEB/8QAHwAAAQUBAQEBAQEAAAAAAAAAAAECAwQFBgcICQoL/8QAtRAAAgEDAwIEAwUFBAQAAAF9AQIDAAQRBRIhMUEGE1FhByJxFDKBkaEII0KxwRVS0fAkM2JyggkKFhcYGRolJicoKSo0NTY3ODk6Q0RFRkdISUpTVFVWV1hZWmNkZWZnaGlqc3R1dnd4eXqDhIWGh4iJipKTlJWWl5iZmqKjpKWmp6ipqrKztLW2t7i5usLDxMXGx8jJytLT1NXW19jZ2uHi4+Tl5ufo6erx8vP09fb3+Pn6/8QAHwEAAwEBAQEBAQEBAQAAAAAAAAECAwQFBgcICQoL/8QAtREAAgECBAQDBAcFBAQAAQJ3AAECAxEEBSExBhJBUQdhcRMiMoEIFEKRobHBCSMzUvAVYnLRChYkNOEl8RcYGRomJygpKjU2Nzg5OkNERUZHSElKU1RVVldYWVpjZGVmZ2hpanN0dXZ3eHl6goOEhYaHiImKkpOUlZaXmJmaoqOkpaanqKmqsrO0tba3uLm6wsPExcbHyMnK0tPU1dbX2Nna4uPk5ebn6Onq8vP09fb3+Pn6/9oADAMBAAIRAxEAPwDsoDgVfikjHBOKzYm+WpUb95wK+XPYNhCOoqzGQeDVGNuBViNuakGjO1bSItxukjG/sa5DUcPGyxgb/wCVemKFlQqwyDXLazoLRytcQruB6j1q1qrM2o1re6zz6ztJZpX3Kx5znsfxr0LwrqMlttsriQMP4Dnt6VhEqnyFNrDqMYp6Kdwkicq4OR7Vz1XKMrrY61QhOFup6YCCM0VlaNqP2u2CycSrwwrVraMlJXR5E4OEnFhUclSVHJ1psSKl5ewWMHnXD7UyB0zk1LDMk8SyRnKt0Ncl4t1O2FzDZvOyMvzkLW9oR3aZGwcup5BNc6qN1eXodMqSjSU3uadOFNFPFdUTmY8DNRSgAVOoqKYc1o1oStyjJHnmirG3iis+U15jjIeRVpIMnO9/zqpAelX4jxUs0Raj+UAZJ+tWFbiqy1Ip4qRl6KXBq8jB1wcEGsUSYNXbeb3pJ2JlG5BqegW18hKDZJ2Irl10y5025ZJk3IejGu9VsisfVrtSRENpPqaKkko6m2GqT51FGZA32eZJU4I647iuqikEkasDnIrlMYQ1uaTP5lmoJ5Xg/hXNh5e80a4yF4qRpg1BcSeXGznsM05pUT77qv1OK5/xD4isLSylRZTLKykBYlLY+pHArqk9DgiryRxU2ptqGtTs0AK7sDIr0fTAF06EKMDb0FeRaYbgz7zKMM2RxXrthuFlEG67a5aStUZ34pJQSRdGc1IBUKmpVNd0Dz5ImWoJT85qUHioJT85q5v3SYrUQUUimipT0KaOLh4FXENU4qtJWbNkWkapFaoFNSrUjFZsc1jXWrXGmTEs+5eoz6VtMuVrB1tYiVMrbQoPOKzqbGlP4i1D4vkkTaI0Qnjcf6Vj3+tgyACYbz/F2FYd1cWpnAt5d4HBbsKl8jT7rcsd0JH6MF7VxtSbvNux2x5IfAtTodNv/NtXlZy67sBietb2jXsMZkVpFUE5+Y4rldOSOOFLVZQRnrU15BD9jkO/LEFl/CnCXLqjadNVIcrN7WL22kmXbPEQD/eBrB1yVZdHkjiljLEdiKwAm0jdyfSrdvFG8ZkdQzf3fSutY9xhy8pwPLo83NzFPRU8ySJWHzAjNerWrYt0HoK8yto1j1WIxrtBPIJr0W2lHlr06VnQ1bkPFdEaaHNTqapxNmrKmuyBwyRKDUMh+Y1KDxVeQ/Mac9hRWoqmimKaKhMqxyEQq0vFVVbahPoK5XUtc1GK7ZEn2L2AFNRbKvY7pOasIOK8yHiDU/8An6anDX9T/wCft6fs2HOj08cis/UbIXC5Bww9uorg11vU3YKLuUk9ga0bc63LIWmF0kKjLM4IGPc1EoaajjLXQjuUtredo9ijLenQd6j1B0tLL/R9iRt8x2pwfy61z+tay1xqQhgtvPAPA3Y5960p7m4uLVVlZQSACiDge1YLDWXO3odbrfZ6mZBqMiyGfzdmBhFYc+5IrU0/UJbidxlypjIUnpuplppNoo8ydDu6810EL2VnpZIwH6gConKMnaKN1U5UYqxyGU78+nWrdrEUlIc7QewrMOqqtz5sjqIwe5rXsre81V1ms4JWQ9GKEA/Q1lKlPlbaE68bpXFe38q7jdH5zkiuvtJCY1ye1Zw8N3FpatdXk6IwGcBc4rnoPFNxb3DIUWSNWwD0JFbYWErO5zYipGTVj0uBvlq2h4rjLLxlaMAJonT9a3IPEWmSrkXSL/vGutJo5mrlq/1y00xgLlmUdzjIFUB4q0eZsrfRjP8Ae4qprfkalasY5EYD3615reW/lyMpXBB7jFXFKehL909hh1KzlGUuYyP94UV4NcNIsm1GZR/snFFUqPmS6nkeqA/Ia4bXDtvPrXbA8VxXiNds4b3qYblS2MwSU8PVQPTw9aGZ03hjVrXSdQa5ntxK4XEeedp9a0fEnj25urB4bS2RMrwx7GuMSTB4olk3KQaylBSepalYPCxbU9YS1lKRFjukkavV28I6RBZvcG5J2LksWGK8RdvJuQ6Eqw7jir0+t3Ulr5UlxK688FjjmnWoudrbFQnb1NHW/EKW928Fph0Q4EnY1g3Ws3s8RG8ge1UC29smpQMpjFbQpQppJIUpSm7tmennNdRs7M6q4JQng89K9m0v4l3MNqU+xxDsvzcAeleULCA2cVdjdgAM0YhKpbyFCPLc7bWvFepauNktyEhP/LOJcD8T1NY0eDzmssXAjXfI2FFZl34oePKWsKnH8bnP6VFGjJ6RQpyjHc7JDUmeK4CPxNqOcl1x7Cp28R3sy7RMUz3A/rW/1eaIVaLOlv7i5QFYbiSPPXaxGawpLq/Qk+ezf73NUxK8nzGRi3fJqeKaFCPOSRvUg9KahyhfmA6rdA/PErfQUU2W5gZv3ccgHqxBzRVJJ9CXdO1z2TdxXJ+Jxwx9Oa6XfxXPeJFLQtjutcUdzeWxygkp4aqSP8o5p4et3ExLgfFNeTA61X8yopZeOtLlKILh8t1qs7nHWlkYlqZiuhKyELHknk1cQZFV40yauRqoHXJqJmkRwSnhTSZGKQtWVh3M3WLkJEIwST3A7Vhgsy4Aya2dURXQsTzXPrIUYj0r0MOlyaHHWb5tR5jmXmhbh4wd2RU6zgimsyseVFbX6NGVuzLFje7mxV83AzisiMornFTM5zxWc4JvQuM2kXWfJ4NFVBLgdaKjkY+Y9xD5FZutrvtc+1WI5M1HqI32Zry1ozsex5wTskdT2NODgU28Hl37j1qAyAd67EroxuWTJxULvmojJSGTNPlC4jGgUwt75pQ2T0p2C5YTAqdDxVZTUymoaLuT7himO/BpM8VG7cVKQXM69kO05rKjiuLlykEWfUgVr3Sh1OayRNPYT+ZA5Vq7qPw2W5y1N9R01hd2ozNC6r/exxUYUsOtdBYeLIgm2+g8xv71Q6hf6NdZaKHy2PdeKFUqXtKP3CcY2umYDhkPBpVlbuabM6bjsYke9QbveulK6Mrlky+9FVd1FHKFz//Z\"><img style=\"display:inline;margin:1px\" src=\"data:image/jpeg;base64,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\"><img style=\"display:inline;margin:1px\" src=\"data:image/jpeg;base64,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\"><img style=\"display:inline;margin:1px\" src=\"data:image/jpeg;base64,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\"><img style=\"display:inline;margin:1px\" src=\"data:image/jpeg;base64,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\"><img style=\"display:inline;margin:1px\" src=\"data:image/jpeg;base64,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\"><img style=\"display:inline;margin:1px\" src=\"data:image/jpeg;base64,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\"><img style=\"display:inline;margin:1px\" src=\"data:image/jpeg;base64,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\"><img style=\"display:inline;margin:1px\" src=\"data:image/jpeg;base64,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\"><img style=\"display:inline;margin:1px\" src=\"data:image/jpeg;base64,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\"><img style=\"display:inline;margin:1px\" src=\"data:image/jpeg;base64,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\"><img style=\"display:inline;margin:1px\" src=\"data:image/jpeg;base64,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\"><img style=\"display:inline;margin:1px\" src=\"data:image/jpeg;base64,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\"><img style=\"display:inline;margin:1px\" src=\"data:image/jpeg;base64,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\"><img style=\"display:inline;margin:1px\" src=\"data:image/jpeg;base64,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\"><img style=\"display:inline;margin:1px\" src=\"data:image/jpeg;base64,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\"><img style=\"display:inline;margin:1px\" src=\"data:image/jpeg;base64,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\"><img style=\"display:inline;margin:1px\" src=\"data:image/jpeg;base64,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\"><img style=\"display:inline;margin:1px\" src=\"data:image/jpeg;base64,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\"><img style=\"display:inline;margin:1px\" src=\"data:image/jpeg;base64,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\"><img style=\"display:inline;margin:1px\" src=\"data:image/jpeg;base64,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\"><img style=\"display:inline;margin:1px\" src=\"data:image/jpeg;base64,/9j/4AAQSkZJRgABAQAAAQABAAD/2wBDAAgGBgcGBQgHBwcJCQgKDBQNDAsLDBkSEw8UHRofHh0aHBwgJC4nICIsIxwcKDcpLDAxNDQ0Hyc5PTgyPC4zNDL/2wBDAQkJCQwLDBgNDRgyIRwhMjIyMjIyMjIyMjIyMjIyMjIyMjIyMjIyMjIyMjIyMjIyMjIyMjIyMjIyMjIyMjIyMjL/wAARCABmAJYDASIAAhEBAxEB/8QAHwAAAQUBAQEBAQEAAAAAAAAAAAECAwQFBgcICQoL/8QAtRAAAgEDAwIEAwUFBAQAAAF9AQIDAAQRBRIhMUEGE1FhByJxFDKBkaEII0KxwRVS0fAkM2JyggkKFhcYGRolJicoKSo0NTY3ODk6Q0RFRkdISUpTVFVWV1hZWmNkZWZnaGlqc3R1dnd4eXqDhIWGh4iJipKTlJWWl5iZmqKjpKWmp6ipqrKztLW2t7i5usLDxMXGx8jJytLT1NXW19jZ2uHi4+Tl5ufo6erx8vP09fb3+Pn6/8QAHwEAAwEBAQEBAQEBAQAAAAAAAAECAwQFBgcICQoL/8QAtREAAgECBAQDBAcFBAQAAQJ3AAECAxEEBSExBhJBUQdhcRMiMoEIFEKRobHBCSMzUvAVYnLRChYkNOEl8RcYGRomJygpKjU2Nzg5OkNERUZHSElKU1RVVldYWVpjZGVmZ2hpanN0dXZ3eHl6goOEhYaHiImKkpOUlZaXmJmaoqOkpaanqKmqsrO0tba3uLm6wsPExcbHyMnK0tPU1dbX2Nna4uPk5ebn6Onq8vP09fb3+Pn6/9oADAMBAAIRAxEAPwD3KF8CrinIrIjfaMHAIrQtnDAc1ckIsU1jxTqhlYioQyF2Gcmq8kqjNMnc84wTWXdXHlRszYGO9apCuF7eQQnMkiov+0a8113xFdaneyR20zR2sZwm043Y7mk8Raq91cGONicnaOazHt3trX5lxkZNJsuMep22jXJ1DSIZnkBkC4k9QRwf8+9Tt5QHXJz1B4rmfC8x+xXURPyiTJ59q13mIO01otjOWjLRZULZZQSMYqeEDy92QB2HrWbvLnLdelXIyfLDZ46fjSY0XNyN1pGVSPlP51Ahz6A0pcg47Z4qRkijZ90dKXPy9gT05pw5TP6VE5x8w6+nWlcZFIxyc9aqq5a8g95V/nU8uSuTVSHcL23Y44lTj8adwPPfFTZ8Q3p/6bv/AOhGiovEhDa3dk/89n/9CNFQM9a1/XbvTdCSW3uEa6aUK7jBAzk8Dt2rF0vx7rFnMv2h0uo+6yKAfwIrjjJIUZCzEE5wT3q5ayq4UnGe2RQ2Uons+k+MtK1UKhl+zTn/AJZzHGT7Hoa0rqURqWY4A5JNeH3bMkQJi2gjIYDFRnX9Qey+xm8lMPZC3T6H+lCJcT0bVfFunWUnlpIZ5D/DHziuW1XxNeXkDRpbGND3JzWJpKxSyjepyD1PrXSG3+QAxHa/A496idVp2NIUk1c4jzJHuw5U8H8qnurkOoXknqQfSukvdEeFQ8UK5U/PgdRWRqVmW4hXLYyc8ZpKpcrlsN8MzgyXUR+8cPXRMMcEdelcr4fUw6xKsw2Hyz14z0rduNVt4jJ8xLgZ69a3Uko6mEotvQulwnGQMdzUwu4I1UGRc/WuQutQubjO04HtWNKl0csztzz17Vm6ybNPYtbnp0dxGwyrjHXrUwIYjB715Eup3cDArM+QeBmt3TfGM0bqLlSy56jiquRynpEZzkZNI6+tZun65ZXcaMsyAtwATz+VaZkjb5sjFILFeVcYxVS2AN9bD/pqufzq3Ll/u/niqkIKajbk/wDPVf507iPMfEBzq1z/ANdW/maKTX23avc/9dG/nRUjOj1bT2srtxg7Scis5mMEiv8Awt1+tdx4gbTbjTmkW7RpVGQoRuf0rh5L23ltHgeFwxYFWyPlND0ZUdi/Jfb7ZUkBZYxnJJ/CqEKLPMegXPQ1VRpCShJx0PuK07T5EZYoxJNjOPQUnoVudLpUAbULe1jj3RSId5285x1r0S006EWiIQGAHWvJLKSUecYbqZHIyoQknOOciuw8G6xOujbJmZgrkID6d/1qbdR3b0RoeJrr+zY8WsavPIDjfyFA749a420tr6/leczIRbqshEi4JDZ4OK7ya0t9cnQyllKDB2nBPpUV7okNhZGG0GFdtzknJY+5NS9roa3szzPUS0WosxGH2Hr/AA1mxHc5Z2z7k11t/pLT30xH/PPGSK4a73Wdw8LM2VPdcUJNxHzJSNePaBt79T7U2Z0EbBvyrGivXzt3ZJP0qWV2C59qhU7M0dS6KFzgyNgfKKqMx7VrGLzIi4APPNUpoMDBGOa2TMWhLSSVZlZHIcHI9q9E0LVJH8uGY57BvX615xAdkmADyeDXQwXphhVFbDd2Hb6UpN9AST3PX4LMyqpVDyeuO1YOpMbTWEjA/wBWwd2bgD0H1PpXP2PiTU5Y0VdQuQF4AV6dNJLPP588kksvZpHJIqkyWjidZBbU5ycZLknFFdTcW1vLxJChGc9BRTuLlYS3MnljcNyOOOawbxAkpZVwprom0S92sywOwUZOOao3FmGiTPVlyQe1IZlRPxuHOK2dLQ3NlN5GBKvOPWs1YPs8gLLu9q6PR4UZsxuFVvvKOgqZXKRoeHGluL6KKSJo48HzQyAbvx61113YxwRRCzhRYkPKKMcVnxRhI0ZOGXoQOasyXksiCNhtzxmk1pYE7O5YsZYVvN6tsAXaQT1NaEziVwFOfrWTb2ysQAC1bdtbCNOeSaEhzab0M2WzCKzADJrzPxjZILkyALyeTtI5+tevTRgjjpXDeKdLVlaRYwzEHGT0q0ZnlBXy2yuQR69asxMZEAP5Uy7Qo5BH5VVVnQ5DEUNFLQtGUqGGSCemKQSFwFYj0zVeSUs3Qc1f02JJF3NjAOOaT0Q1qyp/qHy6njoafHd4BGMk1oTWoldw/wAq/wAOaoLaNc3ot4gAO59BUp3Bqx02lQk2W4KwJGdwFTOknXzCfrU9vJDZJHbM6s5X7gODirPnxrkCFcH1ANUkJu5lneeDk49KK1Ptqg8RhfooopiubdzrFhZDAmzIOipya56fbeSGWMEBmJ2HqP8AGoNLt/tMIIEfzDqvJq3JaPDJtkzntigCFrAtG5ZRwOckA/lVe1R7S9XDYjB5AFaG1j/eP1NOit2e4RcZI+Y47UgN23mmAUk5UnB4robNEkQbgDWHboTCDjleorbsnAUYoA0UjSMfIAKkGcVETkU9G560rgOI9azdU00X0RUZU9iCRWqPzprsAKYHjniLw3NDPmKF3OecCuSmsbiNyGjI5xzX0FcJHMMSIGB61gajpWmj940MaheeRTuI8UlgkjPzLyenHWtjSdNuVBeSNkB6EiusbT7WbUTcLHu2fcBHA96sNCB8zEBveolLoUjGXTVlKm4DSY6AnA/Kr9vptqkg2QIhPccGra2w5z+Zp6oWUsOfwqEx7mLN4ftmvxOZpUkXkDfkYq08KqcI4b1xT5GMkjEkqB95s1PaPKQUigAj/vMOtNSaCxUMZNFadvZfaGbc5BHcCiq50I8r0vWntpFWRzt9QxGK7iyvzdwq4uGYAcAtnFeTK3P9K09O1KazlDRuQO47U2hJnqts6zsyhssvUbcVahDwzeaF4xgj1rL0HVoL9NzIqXGOSO9bxeTnCgjtx0rPmktyml0JxqCAgBHUnjFa1lHOxyfkHWsixQNcB50wqjIyOCe1bYvbfGN5HHUKafNoFjSjDbeSpqQHHU1lRalH6kj6VOdRtwCWfA75BpXCxoeaAOCahkmwDkmqovYHUlJFYexqjc6tEpKxrvbpjtVCLU14salmYKo7mudv7mS9fJBWIdB6+9LLI9xJumfIBwAOgpGhjK4DMCO4pN9gIPKUADbxn1oaFPz461YUAIBtPSkAU8heT+lSMrbNxUDn2q0sKRjaWXd6DrTFRdxydgP5mrKW6bPl3Y7npQBi6jYvHIbgsBCBkg9jTLSSacGRuE6KOn41uSr5ivFJ88TcHmq+nadI9yY2IWJPTqRQBALvyx5UTBNp6ng0VtSeHrC4w0keXHG4dxRS0A+bwoGT74pUc0UV0GaOp8MaobS6UFNy5/KvU7a+HynYeRRRWUty0WROzENjqeh6VJ85YklcAnjFFFQMjN19lj3MC5J47VGZ5bsYBEaHjA5NFFAyvMAsscCfKzgtv9AOv41LtXGAvPHJNFFMTFVFLc5/OpGjOQM/nzRRTQh4s94BDAc+lJ5JUFc0UUAOjji3D5MsO5o8osxBbPNFFABGpjJAxz1pfNMRLJxzz70UUgLI1GRFCkflRRRTSGf/2Q==\"><img style=\"display:inline;margin:1px\" src=\"data:image/jpeg;base64,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\"><img style=\"display:inline;margin:1px\" src=\"data:image/jpeg;base64,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\"><img style=\"display:inline;margin:1px\" src=\"data:image/jpeg;base64,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\"><img style=\"display:inline;margin:1px\" src=\"data:image/jpeg;base64,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\"><img style=\"display:inline;margin:1px\" src=\"data:image/jpeg;base64,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\"><img style=\"display:inline;margin:1px\" src=\"data:image/jpeg;base64,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\"><img style=\"display:inline;margin:1px\" src=\"data:image/jpeg;base64,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\"><img style=\"display:inline;margin:1px\" src=\"data:image/jpeg;base64,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\">"
            ],
            "text/plain": [
              "<IPython.core.display.HTML object>"
            ]
          },
          "metadata": {
            "tags": []
          }
        },
        {
          "output_type": "display_data",
          "data": {
            "text/html": [
              "<img style=\"display:inline;margin:1px\" src=\"data:image/jpeg;base64,/9j/4AAQSkZJRgABAQAAAQABAAD/2wBDAAgGBgcGBQgHBwcJCQgKDBQNDAsLDBkSEw8UHRofHh0aHBwgJC4nICIsIxwcKDcpLDAxNDQ0Hyc5PTgyPC4zNDL/2wBDAQkJCQwLDBgNDRgyIRwhMjIyMjIyMjIyMjIyMjIyMjIyMjIyMjIyMjIyMjIyMjIyMjIyMjIyMjIyMjIyMjIyMjL/wAARCABwAJYDASIAAhEBAxEB/8QAHwAAAQUBAQEBAQEAAAAAAAAAAAECAwQFBgcICQoL/8QAtRAAAgEDAwIEAwUFBAQAAAF9AQIDAAQRBRIhMUEGE1FhByJxFDKBkaEII0KxwRVS0fAkM2JyggkKFhcYGRolJicoKSo0NTY3ODk6Q0RFRkdISUpTVFVWV1hZWmNkZWZnaGlqc3R1dnd4eXqDhIWGh4iJipKTlJWWl5iZmqKjpKWmp6ipqrKztLW2t7i5usLDxMXGx8jJytLT1NXW19jZ2uHi4+Tl5ufo6erx8vP09fb3+Pn6/8QAHwEAAwEBAQEBAQEBAQAAAAAAAAECAwQFBgcICQoL/8QAtREAAgECBAQDBAcFBAQAAQJ3AAECAxEEBSExBhJBUQdhcRMiMoEIFEKRobHBCSMzUvAVYnLRChYkNOEl8RcYGRomJygpKjU2Nzg5OkNERUZHSElKU1RVVldYWVpjZGVmZ2hpanN0dXZ3eHl6goOEhYaHiImKkpOUlZaXmJmaoqOkpaanqKmqsrO0tba3uLm6wsPExcbHyMnK0tPU1dbX2Nna4uPk5ebn6Onq8vP09fb3+Pn6/9oADAMBAAIRAxEAPwDQ0eLifg43DpTL2LbLNx0YNVrR1GyfOM7/AOlGooBK47NHnpWnUCvGm6MfSnQJ85+lJbt/o4PtUZvre2cmWVQfQcn8hVFJN6IuFAJlPrUEACnHoCKpS6w0wC28JH+3If6CoP8ASJiS0zcnJC8Cg6IYWpLyNzMawoWZQMjqcd6gnvLQBl84E784Tn+VZ0eng8kZPvVtLIDHy0HRHAPqxovY/McpBIQykEYxz/nNaWneI7vT4ZI4rONt5BzI54IGDwPwqiTbREB5UHtuFPWS2MixiZNzfdUnBP09aDRYSitG/wAS9J4m1mUk+bDED2jhHH55qu+o6lP/AKzUrj6Bgv8AIVVvx9naKOW5FsJfu4UGRvoDwB7msm70iMyN9k8RTNJIAQstwcnJxt446mpujKVTDU3ZRuazQtcswN3LIw6hpS2P1qrNYeVlvLDAdeM1VtNLvbN3FrciVo5ACsi4wMZPPWtpHnMwiuljQsuY5EJ59jmmmdFCtRqPlSszJa0Ujcg4PaqjwAZwOh5B7Vtz2zK29PlYH5wO3v8ASs+8BwHwA/cjowpnS4W6G3p8e67RCMgLvB/z9a0ZoeOlQ6RGRdSkjgRLgj3rRlHFRBaHzsviMGa3y/Sir00fzUVRJn2VzDZ2t1PcSiONXGST7Vjal4oW4kUWkBAUEB5D1/AVBrj50t1zjNyhx6/KaxYY8kAdaSR24ejGa5mXFuLqddrzPs/uqcCrMFt7Uttb98VsW9oSBuGM9M1R6dOklsiCC37YrQit8AcU9IQsgAHaryQOO1B1RgQpBx04ritb8SzT6oun2C5tASJZV5MhBwVHovqe9ehrGcAEVwniPwZcwX0+paVG9wJiXkgzyreq/wCFS7mWKhUdO1Mg0xdJa6FpeTmWcuFCA5X3/L2qeJIbvxdDa28kgsQ+4lmxuQeo9/61w2k2M1vPIZrV2Ctzk7Sn5d+a6SxlW01idJmIZYCp5xnaQf5c1B8+42dmdJq8Nnf36vfyzfvJ/L8yJWbyUH8W0cnngCsfUNmi38UscDG4kjBiDIc5yQD7HAB5HetmK/8AsklrcvgKiyNJjr9/k/XGKleez8RaPqMl3crFqQaRYEZdqxqSMAE85IH4ZNAupi2Him/mvIbWwcQzSITK0o4f26dfpW+mpJcWzgMN0LgnjjGeQa5Gx0soLg3UdvaCOMtD5TAO57fd/n14FX7I3M1g7SvvlICSuOpBOAT+fNFxxummjsWBZcqv7xBwP7w9KzLu3Pl+ZGC8J/NKv2cjLbQeZneEGQevSphiC6I/5ZSgnn1rQ+oceaKZe0P95BNJgjkIfqB/9erk2BxWZazyafvEcPmQO25lU/Mp9RnqParplSdRImce4wRRFWR83iMPUpP3lp3IXXJopzHNFS3qclzz7XP9VCM8GUH68GmWVuSAeme9O1hN81lGMHfLnH0U1pwWpWMEDcB6VR7OBjeLZNDB8uAOOgraMapbDGd64qpZKsoGOorRdCCB2YAfiKD1oRHQQgytJ7AClupkhiZyrsRziMZIqG5vksbcSMrFSeSB90etcBq3i68laaG2RU3EujFgT27fh+tJsipWjSXvHXS+MtKiwBOXZV3HavA46H0P8qy38eyBo5zarFatJtDFssRt9O/Neam5hs8yvJulc5dd27OfUfWql9rBvpogVARMLkDGB/Sp5meZPMJt6GzdarPd6zdS2LvGsj7mY8At3x6VbnD6g/2h3P2oLtlA4yeASPTgdKxJy1uUkgx5MjFiB6Cr1jfRW53faSSy7ySP4s9MflSPPnNyk5M7m0tLu40WFZJVlhiYbnA52gEZPuPXvj1qtDFaxA3EFzFdEMw8qVd2eeo9aybHVZhbXE1vHL5MvzOkUnzqe5GR/wDrFaK3kn2W28rznEDfaEEiAA9c8AYGOc5P86QRSe7J2aK5Z7RkMEknzLHDFgnH94nkcZxV+3tIlVDECkwUZDHhwMD+n61xWpa5e3c8s0s+97l9+8cZAGAOOn0rtPChe/SKc+ZIEGDM4I344xxxkeueaa3NqVH2lRKOx0bKFUJInyjow9PWo3QtH5ZOWU5U+1X5Qrrgjis9t8Dj+JB0PpWh9GtrDreYFCG6rXK+PdS1XRxYXWnX0tvGxZHVcFWPBGQfbNdNJtBMi/dYc+/rWN4u086h4cnUEtJCPORfdev6Zo6HNi6fPSkjhx8RfES8Ge3Yj1gWiuXZSGyOhFFRc+bsj13WrYW2sQohXYsTMpxkqSccflViylaP7q4B6k85quok1C8kuphguen90dhW/BFGMbUUfSrPewdOVOmkynZK324tkIhJPsa0ru7gtYnad1WNRk5P8qUwsDuTYw7qeP1rhPGGtStcPBEmUiODkfxdwfpQ3Y6K1VUYczMPxVrsdxqUksbuwB2oA3AUfTvXOOlxfLEUVQJCxwo54/z0qW9bCvbn57iTG+U9ucn+laC3FtYWMc8TO7KQoUjHyBsk+wP+elZngVa0qkuZmY2iTQz7HBYqik8fxHoKk1LQ5bVoYgBvkO1mHrW9Z38GoQOzI0SMT8+M4/8ArVajP2m6eHapiDKcZ5LnKnHtz+lCVzE56/txYaNpsUkbl5w8jHuqnhRSX+lkwRXsGUhKqZEByF9x/niur8S2RluYWVcKioFbHHDAEH8DWff2E8CyW8eWR12bc7iO4/X9D9K0rLlm49hnNyGOK4Cl5PLAzGwONy9q6fTvP8u5tbeQtBLEJYt7kBh/F7ZH58ViXFjPKYZWVgyhYypGCMV0wgk+xxH91AyKPM3Db+P5VkNJlfThp0OWvNqTbtpDNwD/AJ716To0lv8A2VBJbokaSLuwoA5rzGS5soLnHmI/AA2qW3epINbNp4ttbKxitraCVljUKoYqM+/WrjoehhKkaMnzs9AZgxByD61SaUDdxxkiuNuPFl/JB5kSWkeTgIZCzn8B2qjF4g1wnY0kLs5wMwgck/WqujrlmFHY7+IoRJGSCjDOKztTvra0i8qa4jG4YIZgOK4/xDbeJbHbNeXJjiY7cW7fKD6ECuSe2kdix/eHuzDP5k0uYxq5hb3VErylA5WMFkBIB9RRVo2cnlht8fX0OKKg8hs7t/E9lAoEK3Ex7nG0D6VPcapeWlrHdXGkXUUEmNkrOGzn6cj8a4+4mNzcSTCJIw7FtiDCr7CtdfEOoS6G2lSL5kZK4fksADnFXc6/r1XXX8DUPim5ZkjsIzLK3HlyEjPsP/11yl8XumurqWUifG7ZnADEjOPTHP5Vb8q9h2TfZ5owDlHKleeowaxJra5klZbhspLJwc9ST6UmzGpiJ1VaTM+23XPnksW25YnPJ9K6L+z0exXCZmdR8o54GP8AGs86e2nzSq42hx0Hb5q6S3m3kNCmYwuTjqOM/wCfpUmRz2oyzWkgjt12xxjb8o4x3H51q+EUubnW45ZCTHtLk+oA4/U0y3kh2yxyYf8AeMcY4wev4d62NHWKxgvbyKN0WNRHGr9264H4la1oK9RN7LUCnda6ZPFpsmkK2yzbcN0OAOR+NattBZ6izS3E5j82MhVT+H0571zL2s8/kboY49rmR3bG4sc5/Cupi0xLmyhMbfZ2TGGJ3b+Ofb0rObcpOTDQY9vtjJuCWKkqrdCR15B/n0+lVtSuFlsEadU/dPg7TtJB7HHvXV3NlHdaagEqmSNCGYpnBI4/CvProX9tZyWLafu2Egsi5wSflP8An1qSik+xXZkLKucDc2SK24bXRYtBimecNqTPu8sqQoXP3Tjpkc5rLWxuPIWS4jVSwwIs5bGOp9K3tJ1LT9N0S5tX04zXsy7BO7BlHpwemPbrVIUdHqZM6WkcwNlNIYyc+VIQWQ+zd/yqS40u8tXBuoJIQed8qkD65qFLcSL8y855OK2b251e50y3+1hjbwArFKwPJPv34FMlNasx7ieWdf3k8swH3fMbP6Vd0Sz0m7inTU53jlyPLJbaMd8ds1WSFWkQFFLnkMo5/wDr1o2Gn2Rnjl1R3W1YkK0IDZI7EDkflQOMne71MW6stkskClZo0f5ZE5DD1orf1tNMlmjTSLcwwIDmTbgyH/CimRJK5mxiyhhYGyuHn/hZ5cL+QHP51WMrgZJ9sDigM+cAnH1rpbCTQH0uEXtvcNeIfmCE/P8AjnA+lA1qc+iySEAsTyPvNwK0bjSLYWxE15bTT9VRAW/Jh0rSsdEm1O4mOnxokIbo8n3R6epqHV9HvdK8v7SqBZCQhR85xSHyu17GLLYxM5M7Ssx988VFDpd/HcIunSMN/GCRg/mK27PU5ra0e3ENvLGTnEsQY5+vWmTu91NvdFjLY/dxLtz9FoUbhchksPKREFwsk6jEjKMKD7HvVuOwe6t47eK5tI40z8k0u1mPdjWvLoC2WkNc39yLe4IzBbAAlj7/AOeKw2YIOVzkVV7JpA01uR/YbZJnt5rpIpUON6/PGfxHP86l0kGG8JLxlAcAFjhue1RMIpcDaVPqOa1WstPtowpuPtVx3WMYjX6k9TUCC51P+zbmCNQzRSBg0gyeccAfn+RqnFq6wanajSZy03l7SsoyCM5Cn6c/SrDeaw3h2O3sD0FY97p9yJIbrT4+UbmNuB9R/Wpaa2LjJdSGZ5jeSIwZSW5IXjJ5IrVlns5dOWJNLhScY3TK5P6H/wCvVrTWgt5zLrFobli26JVO0BegyTjIHP1zVLVSk1/LLFAIIWbIiXoBjiqQnotGVhuhdZBsypBCnkH60+6ubm9bzbq5Zv7oPQD0AHStbT9bt9O0z7OdJtppck+bJyW+orImlN5cvNPgMxzhFwB7AdqYnZLRhpd4+l6nb3qL5gjblemQRgj24NWdd12PVsJBYxWsIbcQoyznpkmorKOyllkjvJHiRl+SRRna3uO4qtdaf5cRmimjmiJxvQ9/cdRTFzO1uhQbK8ocZ9Diio2PODwRRQTcswwPMfkRm+grTh0+fZxHjjnPGKWXXFaHbbx+W547YH0qt5l3ckbvOkz2wT+lav2S6t/gBYKm3lybhUb1jJJH5U2VzcSb5JZZW/vOf8c1V4BwQwPTBqZWCgYPJ5z6VDkuiC501l4N1aaAShIYMjIDsd38jisa4hlsL6S3lys0L4JRs8+uaYNTvSmz7XOUPYyNimqGZshSWPXHNS22U3G2hYnnmnlMtxK0sjcF3Oam02a0trjzbyzW7hZSpjY4wfUVtWPhG4kgF1qEq2dv95i5+bb9O341zV8YxeSR20heEMQjFdpYeuKQPmWrNvVbLREs4r7SLwkyNhrZzll9/UfjWVbI5OxRlnOABySarRrjjvWjpV2+n3sN1GiM0RyAw4oBtNm9F4a1vT411BI1zF8/lBwWA9x/SrGv+J4b7QVtI7ZkllKlmwNq45496zNR8SanqashuCkR4Mcfyj9OTWYhaRTG5yh6exoG5paRIJZLvVriNC8k1yQEQHkkDtTNssJa3mtnLA4KnIZTShpbS5SaFys0TblcdQRT7rX9RvJS9xdSFh/d+UfkKCboLixikjRrVJkkx88cpBz/ALpH8jWaY9rEEdDgj0q4lwxb5ic9QSafPsv5FVDtueg9JP8A6/8AOglsr22m32oK32O1ln2/eKrwPxqndW9zZyvFPHJBKOqsMHH0rr9P8Zw6Tpkdn9hkDRLtO1gAx7k+9crretTazfG5lULxtVR2H9aZbUVHR6mTKwZvmUNRTXRnOR275xRSMz//2Q==\"><img style=\"display:inline;margin:1px\" src=\"data:image/jpeg;base64,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\"><img style=\"display:inline;margin:1px\" src=\"data:image/jpeg;base64,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\"><img style=\"display:inline;margin:1px\" src=\"data:image/jpeg;base64,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\"><img style=\"display:inline;margin:1px\" src=\"data:image/jpeg;base64,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\"><img style=\"display:inline;margin:1px\" src=\"data:image/jpeg;base64,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\"><img style=\"display:inline;margin:1px\" src=\"data:image/jpeg;base64,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\"><img style=\"display:inline;margin:1px\" src=\"data:image/jpeg;base64,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\"><img style=\"display:inline;margin:1px\" src=\"data:image/jpeg;base64,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\"><img style=\"display:inline;margin:1px\" src=\"data:image/jpeg;base64,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\"><img style=\"display:inline;margin:1px\" src=\"data:image/jpeg;base64,/9j/4AAQSkZJRgABAQAAAQABAAD/2wBDAAgGBgcGBQgHBwcJCQgKDBQNDAsLDBkSEw8UHRofHh0aHBwgJC4nICIsIxwcKDcpLDAxNDQ0Hyc5PTgyPC4zNDL/2wBDAQkJCQwLDBgNDRgyIRwhMjIyMjIyMjIyMjIyMjIyMjIyMjIyMjIyMjIyMjIyMjIyMjIyMjIyMjIyMjIyMjIyMjL/wAARCACWAFwDASIAAhEBAxEB/8QAHwAAAQUBAQEBAQEAAAAAAAAAAAECAwQFBgcICQoL/8QAtRAAAgEDAwIEAwUFBAQAAAF9AQIDAAQRBRIhMUEGE1FhByJxFDKBkaEII0KxwRVS0fAkM2JyggkKFhcYGRolJicoKSo0NTY3ODk6Q0RFRkdISUpTVFVWV1hZWmNkZWZnaGlqc3R1dnd4eXqDhIWGh4iJipKTlJWWl5iZmqKjpKWmp6ipqrKztLW2t7i5usLDxMXGx8jJytLT1NXW19jZ2uHi4+Tl5ufo6erx8vP09fb3+Pn6/8QAHwEAAwEBAQEBAQEBAQAAAAAAAAECAwQFBgcICQoL/8QAtREAAgECBAQDBAcFBAQAAQJ3AAECAxEEBSExBhJBUQdhcRMiMoEIFEKRobHBCSMzUvAVYnLRChYkNOEl8RcYGRomJygpKjU2Nzg5OkNERUZHSElKU1RVVldYWVpjZGVmZ2hpanN0dXZ3eHl6goOEhYaHiImKkpOUlZaXmJmaoqOkpaanqKmqsrO0tba3uLm6wsPExcbHyMnK0tPU1dbX2Nna4uPk5ebn6Onq8vP09fb3+Pn6/9oADAMBAAIRAxEAPwDxMXdyuMTyj6MRTzf3jIyG5lKsMEFiQaj2GnBeckZFZcxVhkTspALnaOgJyB+FSyy+Zks2Tj0puwd67zSfB1n4g8IG7tV8m8QkM4bcAw7MOuD+lNSuNHFWJww5wBGB+tVLg5vHPbI61qy6Zeabd3EFxbsjwhd3pj19+tZTKzzkleCetHW51VH+7SFuJFeNQOoqq3Kc9jVwQGQhVBLE4AHeprLRbzVLgW9pEzuzFc4IAwM8mmnc5r6EDL/oi4HaorPi7TPOCa9RtPB1jo+i3cmqukh8jCyEBhGT39AfSvL4vkvTjnGanozpc4yqRt0sJOitOFGBx1FQFSpI64qX/lsD7VE/DfXmqRlUs9fM09nsaSRGCZXrVzZUcwKxE8VzKepkUoptzbX61758HdNC+H72dnYxSY4IAAPvnrXgen2cmo6jFaxHDysFB9K+oPCcQ8P+HJbCXazhQGZWznjHB6Gujl1uBi+INJg1kAC1RY0UjzdnUDkfUV4bqWnPp17LayMjPEcHac4r3PWL55rS4tbfdIMYAA2gDHOD361xdpoNvcxzGWIrcxEkhx97HFKSvoPVnF6AIrbxBZQXUSzfaGVDAMl1DY2t7EcH6V7JBaWcF5HaRwmMlmBbbg9gPx/wrGhsRBcTjTrEn7X827ygXyf4c+nWuq0BTBG0N9ZOZgPkkLb/AMMgnH5VSViTE+MFgdP8JWFvZtiF3/fejYAIBrwRB5d6pYcZP419NePdN/t7wzbxCIvKp3BM4K/KeTjrXzjfwmF1DAhkcqRiok7St3NabtJGey4b8Kd5OSdysT7U8sV3gIh3ggFh0wc8ehqzH+8QPjGRQ5WVxzdmaBQ55PHrVO/kVY9uQc1ruoUYUZrntSyJscfQVzUfekQ9DtvhbaWs15eTTXCCVABHBuwzk98YyQPY17RFasLJd2oQBOCVkfgfpXz54Gkl/tjyIGhWRwSryOF28ds9foK9Pmu9QCLaSXZRGPLRsB+tdpNj0HTzaSSmNYcFSCH5PI9Dj+lVLuK3EkupTIBDI4V8KAcYPT6CuH8LvcaXPK7xX320sMDeSkinjGT1z2PtVrxJrUsdq0RR02ggxuMMh7/WkNo6nUrqxaxuRaIM2yABx36AD9f0rYtZYbHSYFjkMEhUFgqjJOK8d8PeIpIrpUuZkhhkDbzJ0JrT8Q+JLu8VVt9SmiYtiOKBQAydmz/EaAUeh38l3diQfZn82GX7x3Z4PXr0/CvA/Gunrp+t3Fv5pk8ybcpbGcE5ycV6VZaxNHILe71F50Pys+0Aqcd/8a4bx1YG71z7RHLGzMgHmYwX+uDjPT61nUcUk2OHxanKWsCyW25gCCzYz9al8kDgAYq/BZ+RbpEeSB19TTjbj6Vxyq3bG9WPe2x3b6CsXVrIRgSDJ+profNdUzKvWsjVgkiAksT2APFRQnJTG1oaHw60qC+1wTzi4k8jlIYVxvbsWc8Ko6k816VqNuwnlg8sBIkB9j9M9vevGNG1q70C9NzZ7BKRt/eLuH5dK9V8C6lJ4v8A9HvpZGupZw0szEfdHJx7dPxNenczOp0e11CDTzOsMYGDtJky6gcFs4wB1A/Sub1ywupZZI52aXzV3R7R90+x78fnzXtiaValVg+yjyExgduPWvLvGeqSza7e6e/kW0EMgiDYILHAwSe3WnYaZxkOhXNrEk8YE1zgMqbQflPAwDyT9BXVWlneS6c7XWmyW14owQUG1+nzY7HqD+FVtM1OVLu2sZpLe+RpEiG07WjLHAIYema9GvNIudEQT2snnEfejOcN+ZOPzpPQN9Dx97KS2vRHOFLHLlQCVcA9P/rVhXSB5m2DagYhF3EhR6AmvWPFthaajoy61aQmFQ2y5iYYaM+v/wBavKyQCw/iHBx0rgxk9UkVFFXZtHXP4VWabDECJmHY9M1dUtuIOMeop5jBP3v0rjUrbjEezLuW8wbT0yagbTkOcke5q3sZFLIVPsar+dNISPlx3xSjKXRjOS1WBILsrG24V6h8Crffrc9wTlUKx47DPOf0rzDVsfbWxjHtXp3wWvFtjqCAHzXKMnHGV6/oT+VevB+4mybXdj3261qys8tcTrGFUsxJ6AZ/wrz7xVaaZ4qQXdhewQ6i0KmSKZdvmDG4c9jj69qpeILZ5z5kzefbsGWRAcFSMj/Cuu0zX9H1a1gtru1hYbF27lBwcY/+tTjUbepo6SirrU5LwtpmleH57a81m+tJrgODDDCS2xjzuZs498D+ldDN4ys9SumhglJwCOG/zmrniFfDw8PTWf2W3+zyKWVUQDDdQc9QQa8ts9OgtVX7LCUBBlR93foQfbNTUm07JlUoRau0dzq7zLousxNyHgB5zxjkH8Bwa8Zju/MyuQcDOT3r3uW7t5NJtNRgnj814kXJOOR1yeDzjH9D0rw/xUrRaxMhSMqxLxyBAp2nnDAYBI9QBnrWGIpqSTM76kDSkDB2MvbmoDcRA4K8/WqQlLAAgexqMysCRuH4CuRUwNtN07MNnX7xNRS2QSTA+7Wl5W5QSpyex4zVWdWyQQF+XGB3rBSGcnqNi8uqx28CktKcKPrXbeHdNuvDN9b3ClpIpFPmsvBQg8EfSsHQbO61HxPJcRwq8VmpeRpOigDA/GvRdHvlkJMwLNtChfQdgPxr2acbwSZm5WehJf6/Z3MEctvIjNJGTOu7gP8AxDHYHqPrWVZX32WZvnIQ8qO+3nrTNY06J72cwW6RmVwGZV+9xjP+evetSHw7M0CLJNFEYNmx0JyOBtx3p+xu9zRV2lsQ6jftOiss2S69uje9ZcH2gPDcXAdV58vaMkkjjjuPet++09rayjmMNndPKJIFYR7GbjJbAOO3JwOtR2jrdakXnEYYkKFIwE9BjsMdPpTVFJ3YnXdrIoXb3vkCMSMqIrOVXn5STkY71x95JDMwIbOFC8HjivSbuZQoGdrqSM4B+X8OtcXrulxNb/a7QbZP+WsS9D6kVlXot+9FkRn3OeVInbYoB980r253HBz9DUYWdBuVfw6U9JpNvLSr7AVxa9GWbz+YsmDk56nrWZqNz5EGFVjLIdqDPet+cRxpvRwXz09PeuT10SC5gn3fKhDEehzWNCKlNJg2dja2y6V4WjslVklkIe5cnlnPOM9gOK0NKiIg3Yw7kYx1PuayIH8/T4g0ZYyNuCuOcdifyru/DOmrMqh9uGx7fpXtIyKV7bE3WxwxIbcO+f8ACnMsqxu0kuVIxEucHPGCfy/lXZ3WkLcRSziPagBIcHjIrhwktxq02otBI1hG/ludvUspHANUwsUdP1GC25vYpZljYsqocc59aqtffarqa7t0dJUOWUgEFSeDkd88Yq9LptvHAXMcojDYZhyE9M+1anhLw5cTvfebcQtptzFwgI3bs4GfTHNJNsjmTbVmc+LmSSNPLRvMQZIYEVm318kMRdI9yjkpyPyIrubnRG0wmO7V0TokhPBHoW9frXnmswyJfSffdN2B5g5Htx1pyXulIwxdYb5QwT0Y5/WpkuE2/MBn3qSDT/MlBchck4HrV37ACTg8Z7gV4kpRubE8zck8bj931rn/ABEd9vGgyo3cc8fjWs7uyIBJkkZwBWVqUck5gt1Dl5pFjUY9TijDr94gex2WlWwbT7TyCzxABd57nHJJ/pXpWhWiQ2ieYGJcZAbPI96xdGt7NdNEERVbTTIvLLKBh5D1we4HrVuTVVFpOlq7POzhG2thYk749SemfSvaSsY3OhvL+EWjQweWysMbyO/QkLnH0zXLyO5aa0tVcLIRlScjA6say7jUJLiaCC3P7r7hwf4iT3/DFXdkltZXES72mnHllx0A6/5/H2os2O6C21FLJTAiKTJnez88e49DWjpmppayM5txtfPAwpYZ7Vy6aXdFkQoxlLJgjuG//VV7Wme0t1mwAVKhVQ8nrn6dDQkwujo7iaO505RK6lZMgbjgx46An6d642405ZoyxcOuSuVOenrRZak18nzDEfKsm7Jcdf5gflVuG9iTRr8YaOaKSJoULb8HcQe3THX2qiWcdeWT21w0IBGGyuB61QklnikKLOmB6rmt/VZ1/tORFBAXC49P89KyHi8xyTGxOcZA614dVctRo2im9irclo5PlyR2OayNQvZYNk53KVbarL1X1P1Irp2t4o4/mA2HsOpqjqVpDcWEsSxrnGVPHX69aKM1GSbQHS6Lq8sXhySK1J2KIyNvodwz9c1fnka00YSRkI8zc7e+K4XwxfzQoiZzG0ZieNuhUn19cjI9DXX3t35unwREHCAkMeSD617MHdGbWpDp7o2YEdhMfmX/AHgc/wA67KxuV+wbpjgyKHHqfmrjtIMccpu5WAO8EHGcEDk49xXRvCz2khU4GAq54CKMmqTJZoR3scl4rRYEquDj1BHT8MmsnV4y005+8hVpPL75zk/1/CsO1vHg1CUhjhTuDAenT8K1rnUYpEhFxJsPC7j3/wA9PyouBz+nqIZQzMTKzjcOgUegqbUtTjsboyld/lEsmOcnGACO1MnRfOXBKySguc9hnA/lWLrrNLFu/i9RSvoBPFdfaGMhYyM5ySTyfer1tLEkRDSKCSTiudhVxGpbO3bwQcH/ADmrQ24G7IPs+K8WrG8nc7cJiZYap7SKuzXNvHGWyCdrYzmoblFTedinC429uRRRWC3MDL0OLdbiVjycvgdOtdTd25jgUZH+rGfx5oor3oaQM3uUI52WyMyqoMb4dexx6VJca7cNYSRqOhxyeMnr/SiisXOSWg7FQXZhO4gsuQhX1x/Sq+os11C0G9k2E4IPeiiuerVndahYIr57y/gJzh0C8noBV7WrRRCsiAAdMfhRRXdSd1qSzAt5GCOjMdgONtTAAZGxW9260UV51RXmykf/2Q==\"><img style=\"display:inline;margin:1px\" src=\"data:image/jpeg;base64,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\"><img style=\"display:inline;margin:1px\" src=\"data:image/jpeg;base64,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\"><img style=\"display:inline;margin:1px\" src=\"data:image/jpeg;base64,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\"><img style=\"display:inline;margin:1px\" src=\"data:image/jpeg;base64,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\"><img style=\"display:inline;margin:1px\" src=\"data:image/jpeg;base64,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\"><img style=\"display:inline;margin:1px\" src=\"data:image/jpeg;base64,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\"><img style=\"display:inline;margin:1px\" src=\"data:image/jpeg;base64,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\"><img style=\"display:inline;margin:1px\" src=\"data:image/jpeg;base64,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\"><img style=\"display:inline;margin:1px\" src=\"data:image/jpeg;base64,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\"><img style=\"display:inline;margin:1px\" src=\"data:image/jpeg;base64,/9j/4AAQSkZJRgABAQAAAQABAAD/2wBDAAgGBgcGBQgHBwcJCQgKDBQNDAsLDBkSEw8UHRofHh0aHBwgJC4nICIsIxwcKDcpLDAxNDQ0Hyc5PTgyPC4zNDL/2wBDAQkJCQwLDBgNDRgyIRwhMjIyMjIyMjIyMjIyMjIyMjIyMjIyMjIyMjIyMjIyMjIyMjIyMjIyMjIyMjIyMjIyMjL/wAARCACWAHoDASIAAhEBAxEB/8QAHwAAAQUBAQEBAQEAAAAAAAAAAAECAwQFBgcICQoL/8QAtRAAAgEDAwIEAwUFBAQAAAF9AQIDAAQRBRIhMUEGE1FhByJxFDKBkaEII0KxwRVS0fAkM2JyggkKFhcYGRolJicoKSo0NTY3ODk6Q0RFRkdISUpTVFVWV1hZWmNkZWZnaGlqc3R1dnd4eXqDhIWGh4iJipKTlJWWl5iZmqKjpKWmp6ipqrKztLW2t7i5usLDxMXGx8jJytLT1NXW19jZ2uHi4+Tl5ufo6erx8vP09fb3+Pn6/8QAHwEAAwEBAQEBAQEBAQAAAAAAAAECAwQFBgcICQoL/8QAtREAAgECBAQDBAcFBAQAAQJ3AAECAxEEBSExBhJBUQdhcRMiMoEIFEKRobHBCSMzUvAVYnLRChYkNOEl8RcYGRomJygpKjU2Nzg5OkNERUZHSElKU1RVVldYWVpjZGVmZ2hpanN0dXZ3eHl6goOEhYaHiImKkpOUlZaXmJmaoqOkpaanqKmqsrO0tba3uLm6wsPExcbHyMnK0tPU1dbX2Nna4uPk5ebn6Onq8vP09fb3+Pn6/9oADAMBAAIRAxEAPwDmJ4TFaJApUOJCWYnaM+vPqOfbmqd0mXVlVWEYGChzx24/Pn3q3PLcNabZ41O05PAIZSepx3yOvvUEKqG894zwAqr6rggn3PSpVRqJxyptvmRkuw+z3OZWQynbhRuB5yc+/cfjRLYwhrWMy43j7zDjOOO/XHH1rQ0+3SAF5UBSSUjy5B0POP0rcRYZUH2ixtHQHIXy9pH0IrOpX5Wk0dOHw0pwbTSOOt7VEjfzJiVEnlhRwQQCe/fj8u9aV5dRTDZPNtuYQSvyHaSwHBPYH0963LvSdD1aDZbr9juhyGGcN9R3+tc3qFhLp9wbe4YByu5ZWfKsM4BPuMVLnGeqeoSozg/fXzLdtIbW5DIY45XtjhFUEAntg9c1uRaU6WCJf3IBcZMYUNtH5cf/AF6xvDFtAZLq/nMskqMPKMg4J5yfz7VZl1XN9HE3zOcs244A5wOfWsZN83Kjelh4uPPPY2oodOctbvHPE0o2rKDwufao7We3a52TKri3kCeYzdH5HTqBUli7SObiRAI413HnOcVl3Vqlx5bLHHb3FwQ6s0gyRgkZ9jjj/wCtV0k3e5OKpwTjyqxozo0MSi1miJMpbbHkhRnpj+tNkultLVZXAZipjVW7kj8u/eqWl3L+bFFNKrorbElJyASCMZPapr6BWuRbStnL7sqvGemR2q7a6nH1INPlYkbozJG5OSpxtPce1XjqNzb6S1lDgjzAVYKAXB5OT0x9Kx3f7CHhizIgkLHLZAyMYyOtSW0224SJpVKA5VcnCjOepq2raoSZs+HrO2v7e88ya4iljYTCRGCjbn5lYnpnOB7ipX0nQ5ZGkOpQIWJba1tkrnsTWMgaGNfMIaNifkyecHrx1/8A1VcK3G4/vbUexHIpc7Ww7lSe+tprKxgEMcMyqUknRj+9BztyPbIrMLOgkaQ/MICxIP3m44HpUMUgja3lWJZGj2YG7Gecn8O1PWQ3TySzzptnchkRDhWY9R+P0q04x95hJN2iFvdmVcSKcLgMqnJIPQ5rXfdIoeJgBGfmPp+HcVnbEtmRTGBbhSoOMkHdwSBzzyf51Y08zTxssLqXXIJ9fwrlqNSd0deEk0+WXUzl1Ce91pLOBT5Y6MQMjHevRbbSreWyiE8akqPvuoJPfvXFaFps9tqLNO3zlvmjXGMdcn1P8q6lvFdmt49hIpEqAED1Ht61lOzl7qPQV+WzNODR4rh8sY3jAxtziuV8S6HDYTxXqqYhCf3oJJVlPv25rQuvFaaWh8qEtuIC4H8/QVttLa67priK4jeQJ8wB+7kfyoipR95oG09LmHpUz3tnPOihlUYChwFx9ea5yCCOOe4WIhyfvxlc/L6g+uTxXf8AhvQLW3s2VGdfNUh43Odp9vauI1yFdOv57cyxIX3CPYWJVR0AIGDnnj1NbU12OHFtto3nutLbRxHGqA2yjZCCQd56yN6Ac9fasAXZu8XEEX8Ww5J4J/TPGayY7ho7szRvhZAwAbONuPT05rRt75UEUQjDKjKQCuMqV4P5Vqzka01JW0W5uFeOyiZ5VAeReh24POewxknPpVRIhh4920eXncfmIA/lmuntzBJJbypdNAHODHFnftHJyO45/PFY0t1sedFY8/uwFUBgmcgn8O1NSutTN6FSJ5ZomZXcTEkAfhwfelEETjc7TIx5KgqQD6daSBsbWaMtu+UCN/u5zz6d/p1q2dUtoWMT20ZZDtJIySRU37AY8zwWdyWVA6pwEzjGOn61WVhJaXDLuM+5SSDxtGefrkj+dAjh3GN+CI8Zbg5qKIbPujIVvnAP3h7D1FdDt1KvfRDvtabo2IcQ+WA2PvFsfMfxNavha9hgvpBIfmVflBBxzWdcGEXLMyeZGV42/IMkcHP1wafpEa2k8U8o+eRiAze2P8azmoyg3YdO8aiv/XQ6d5Xud4hdUaQN83oP8awTpcNhqFvIk5ePqqMMEc9z35rXuHKYljCkA446j61ycl8zalM052vFIEUZ4Bz1rmw13JpHrYmyimzq9QtYh5SSkmM8kr1rsNG0uwit1NuCWZfmmJyzZ9/y4rz9b0XQINxG5QcqHBOK2vD2pTjUksUkO3yzNt9R2/WuitTfJuc9KonI7SGR9PkhVmGJW2k+h9a8612yupfEThxGZFlbAwegIPH555rr7uf7TLBC2AA+SAcn/wCtXnmp308OryrLvlPzR5kyG2/XqCOK5qDvdIeMXKos1REocRFFl2hvnJGcdcAdv8mobuxnuFaSEwNztMa8sAAPzrBS+dZoBKzTlAQoPJHGf8/Wta3vRJAYVl+aMbsjhuDzz27Vq04M4t0WYjJDPEUPlyctnd0z7flVmGSOUr9pXEsZIJRQMZHGcdRx+tO0tbSTUIpb23NxwSjJJgA9s/h37EVuy+FXfWFKT+VbLE3nSsRs+9hRn3BFNLmWhEld6HO3yzG0gu4Y2ijYoCsY3bRnPXuM9scGsOXVCZXJCKSxyplYY9sZ4rqb9rDT7821vuvrXcUDsBtb1C47Z7+1Na8tWYsykMTkjyO/5VcWtrEP3dzi3WSWZu6oPmOPXtU8jCO2hGOpJPH0AH+fWpggSynUEZZwevJxmmQMsksD/dETgZxnPIOcf56Vu03fyf6HPTqNPclXE3msVZcKRhlzgbsAE9qiikSZII8FQjMC3Xcc8Yp09x+9uYEz++P3j97hs/rUunhU1GJEIYY/i6D1x9KhwUYtL+tDohVbkn5/r/kbujEea8c+DkZ+Y1keK9DYypeWqiRJCEkX05wD/Srt5E0NwCpAYHK/WtURrLY7ZAzHGGB4ABzz9a82nNwlc+gnBTjZnG6ToOopcmFI9gIIZnAAUDk5P4V1+iKlsxu2jId0WNN3UIOfzJ/TFQj+0ZW8qTUHMRHOIlVn9iw5/wAavWkJl3bjt2rsUYxnFb1sQnHlTIjQipXSNi2gaW6DlM+YRjJ6CvOfFFpLY+Jr22ZNzysvl8dVPSvVNMhcNGXwWIGMdK5r4leH7i9lh1C2TzGjjCSIoySoJOfwrPCy5ZNvqZ4yPPG3Y4WKC4sXVX2F5D+8jOOAOhBHQ1bVc73UL5i8Fn6ruz2rMtxPLNukYKscm/aOv/1z7Vtw6dc3FwTZq8rqjXDRCMkbB13H16VtNvm3PLaslc0NPzaCNpoowEQKcHK55yTjsTg0t1dRXdzaxXDyf2YJA1wqSkgjOSAD/kYqvpauVe23GWBAMqp4AI6Z9O9X1tJL65eG2mkaeKMuIgBho8ZOCPpis4JuehG50reGtL1HXfM02aG1sgikOr7t0gGSACeDgZ9COauJo2kRRrHc6jqKzoAsgS8hChh1x83TNcDY6jt/49yPJmfawZRgOPl6Hpw2Poas/Z7d/neBNzcncuTn3Oea6L90Ckmc0QsjsD12gHntnpTp7lYHtmSIZiAyD0Yg9f8APpULOI4F2n5i3Ix0/GhxmUbgfu4rsls2cMVqkLKDHbSTbuWbafU96k0p1tL+NrlUDDAcOOnPpWfJnmUjhjtUjvj/APXQ0r3N1NKSxYfOSBz1FRJbo2ppqzPQL6ASKJEA3Z4pbbe/mB8nC4Py9/apYY5ZYrcryXRevbityKxMUJCKNxHGe3vXkcruz6XnXKjGS2lMZdR87cE4z7cCrlhZNII2yxXcVcNWgsaWuUfLHqKIQ6QrGDtzlm/HtWb8y+bsadpt3RxoclDjPtU00SzXflyDcjZVge4IpbKAQwByoGeKkgUGZpSe1axWhm2eW+KdFj0XWYobaFUglBkSUMQQBwV9/wDAim6RrtxoUN3Y2dvaSF1CzvMmBgnBABONvODXceLbSHUNFnYIHmgVniJ4wcYP6V5vBAXjkiYAIbaKJjnkktlh7np+ddtFKe7tY8XG3ozTWz/r9TQt3jsECGIMvTO7gsRn5T36H8qmttRuLS1u7e2WKP7XsQykfOoYncA3pgce9ZqzBLhlYfuVkkPzDgEHA/LBq9ZTxJNIblPOEmEiRW2YYA4JOOcdfenCi6c7I43V5k3sZMUYt8WyrnYzsSv8TZyePpS74X+drm5QtyUUjC+w4qea3cIZGJ2xgEt05znP6VEkMzIrARgEZ53Z/nWs1qVCbcdjL2bsD3xUdzK4u2TcRn5W464//VU8rIhUoCMKGPfn/OKrS4eZ5DjJ3ZY/w1vKyMoEMsavHEkRLM33uf4s9B+GKtxMkEbLtLLyJPX3x9OPriqhwoG3cMDIJ60QNvVefnDYPsPesZa69Drpta9z0DTtcjjs4Uij3yRqBk9cYrdsvEEU1kzyJtZPvD0rznRCU1ON4w2yRWXGe+O49xzXRsYbeQhv4uMVw1HyysevRXPC7OhTWrK4CneQ7EDaRWmk0ZlGDuDYAPrXGW6RXQYRvyOCB1FbVpH9mVUG8hR1bop/2a55aHQkjqru4RJUiTOxcA49ScVmTX7x/uwep6+1Z91dyqCSDneoVievNJJKJrk5HG7BI9PWocm2WoWWpuwqk0ZVsMrDGD3B61yml+GbaTWri1uJpFjhILNkZc8Ec9sjHr0rorAsnyE5IwPr71z/AI1hWC4sr7djJZWyuQxVSwz+v5V1Ye0ppM4MdBezcn0NPwpLa6xKlp9lhN7bwsI5yu/CZPJB+8eP1rip0hkleS2Y7ftBC5UAgc+nT1/Sr+i6tJ4f1iN48TOkCCTy3wjM46Ej39KqXtxN/aF3NOSWLvjYuOvUjH1Ir0ZPlu30PCl76Ub/APDCxlZ4CASySSAMfXapxVcmcnIVcHplqtRqwiEacSfMy8cjgA8dzj+dXRJCQNyIT3IPWnTlZWbMqrV07X+84gZkC7CR8oIPTFVQHd5VUgk/w579at/8tMHuDz9O9RpCXQ7V3EybcA8HHJJ9u1FWVvU6KcbkJXcFUvvbAG7scDtUcUZbcyZUAnLGrboftYUZ3kHqelVo2+zjY67vnOVzjOTQo+7ZlJu91/WpqaG7R65Ci52sAG59uK6vWoAMMMD5ecVyOhoIvEcZLbjwME+xzXY68+LZmHJIwO3PYVw4iK57I9jBzfsrv+tDB0C6lTUNoOS0mQvqO9ejRDzNu9e3A9K4bwrp7nUx50TpLAhZ1bqpPT+teiW6A7RWElrY6IyurmJ4mKQraopByTj8utUre+tmkC7wXHUDrXPeLNeb/hI5LdFBgiURx4PQ9617PRFl0+CYoBKpDcd6mdNrU1pzTVmdPb3sMjLtdAcYwT2o1m2Go6Ld2oI3tE3ltjOGwcEfy/GqFpCywBPJXuTk9PTBrVsIJg4EzKG5xtPBFZwnKMrodSEJRaex5wsZWaW3eZFdZrZuTjAC8k+w4p2qAWrwvHu6ZHGS4LYIb06fXnNdFdaPb2t/dKmd0jlmXYeDnI5/XioJ7eM3So8/72dy2Cc726nd65969mUnOFuh89HDRpy01e39fcZ6P9qvrS5tLeSQhXDonJIIxn8CKYdI1oEhbebb24HT8q6CDTVjCsB5TKCFMeQfpn0qwLSMAZjkJ9fObn9ahwnJJNijRjHZHnK2kyqzS7T3AU4AHpSRwP5bKiqi88AdeaoWv/CQXcYkWQIG6Z2jj6YrSt7fWlQrLNbOfdTn8xiqlC7u2dCik9CL7GTJ5pLh+xI9ahuLVNxlaMKeSSDgVpPa6nIDme3i91i3H9TVKTw7PezBJ72aVj0AwAP8KbstyktdEJoYjvdajhgILKC7Mv8ACB/kVseLLqXTtPRgxdncLGvv1NaHh7Q7fw+khQNJNOAGfsAOwrN8XM93dQWcYBZMn5eSScYrjup1brodqThSafU1fh3bTJpU95cNumu5N/0A4H9a7xZkitGlYhSB1PFc94d0d9O0y2gdzvRcMRxz1qt4w1k2luNNgiEkjjMuT90dh71mrzm7Fu0II4TXVZtVkvcAh5N4x9a9K8N3IudJgnflXXAx/CR2rzC4u559sUsCLHuGSnOBXWeFNais70abM2La5OYz/cbt+BrVp7Mm6a0O1RQjEHoTkGrsaCSIyYAYfdI7muc8QXFzaPKS4SH7q4/Q1s6PdJLaqdwIBBPpXKlrY3e1xJ7ffM0zZUucncOtOj0xHj8wKjOeCR1x6fpWnqogks/LkKgMPX+VZmkW6WkcjpJlN+Ovp1rpVecbLc5nQhK7Fa32Y6EnqB1Hsab5Pv8ApV93BlEiNz1UjrTcn0rui7pM4ZRs2jwz+w9Stzyjhh3Uf4VZiuNUtCC6SSIOoZSf1r0KW03rnABFVxBg4Oaq7Ecx/bmmCNSZJN/8cZjIK/n1qufEFilwskUkkbdCCgZSPfBrtUsbeXDPBEzYxlkBNSjS4FPywxDP+wKTUWrNFJtO6OFk8VRJcvNudlI4+XBX6dq6bw/pKSrDqlxu3yDeqyj5vYn/AAq7d6MZYz5KR7vdeKtQJfmC6VoBHOV2wSFgQvGBgdsVy1YNK1NHRTmpO9Rm2LmCDT5Ll8FY+cDuew/OuImspb+4e4lBZ5Dkk11WyWWxgt5VCqgAYKc7iPeiONMYUDHTiqoU+Ra7k1qnM9NjirnQJGjJRNx+lP0iaw02CSO6RUmRc7JFxvb1JPYccV2wiGealFup/hUj3FXUpKasyadVwd0Ys5hvo0it4vtJCgFv4U9qhg0jUYXUwSrAueicg+9dEIUXkDafYYqRMrw3NZxwsE7vU0liZtWWhBJDLdJGJpHUoMZQ4zT4NOhhtltw7mJei5/me9TkYGecUo9cVqqUOxk6ku5KsYRQEHFPFtMwDBGIPIO2mByBg/pS72/u1oZmEI8emaUoGGGGaKKAI3hAGV4NSx5AAbBzRRQBZ2njpgdfXNPxtBJ570UUhi4AHSkwegx1oooAUx88npTxgY96KKYEgPb8aePmwMAUUUCDy+ODzSDqQeo9DRRQA8r60zefb8qKKAP/2Q==\"><img style=\"display:inline;margin:1px\" src=\"data:image/jpeg;base64,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\"><img style=\"display:inline;margin:1px\" src=\"data:image/jpeg;base64,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\"><img style=\"display:inline;margin:1px\" src=\"data:image/jpeg;base64,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\"><img style=\"display:inline;margin:1px\" src=\"data:image/jpeg;base64,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\"><img style=\"display:inline;margin:1px\" src=\"data:image/jpeg;base64,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\"><img style=\"display:inline;margin:1px\" src=\"data:image/jpeg;base64,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\"><img style=\"display:inline;margin:1px\" src=\"data:image/jpeg;base64,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\"><img style=\"display:inline;margin:1px\" src=\"data:image/jpeg;base64,/9j/4AAQSkZJRgABAQAAAQABAAD/2wBDAAgGBgcGBQgHBwcJCQgKDBQNDAsLDBkSEw8UHRofHh0aHBwgJC4nICIsIxwcKDcpLDAxNDQ0Hyc5PTgyPC4zNDL/2wBDAQkJCQwLDBgNDRgyIRwhMjIyMjIyMjIyMjIyMjIyMjIyMjIyMjIyMjIyMjIyMjIyMjIyMjIyMjIyMjIyMjIyMjL/wAARCACNAJYDASIAAhEBAxEB/8QAHwAAAQUBAQEBAQEAAAAAAAAAAAECAwQFBgcICQoL/8QAtRAAAgEDAwIEAwUFBAQAAAF9AQIDAAQRBRIhMUEGE1FhByJxFDKBkaEII0KxwRVS0fAkM2JyggkKFhcYGRolJicoKSo0NTY3ODk6Q0RFRkdISUpTVFVWV1hZWmNkZWZnaGlqc3R1dnd4eXqDhIWGh4iJipKTlJWWl5iZmqKjpKWmp6ipqrKztLW2t7i5usLDxMXGx8jJytLT1NXW19jZ2uHi4+Tl5ufo6erx8vP09fb3+Pn6/8QAHwEAAwEBAQEBAQEBAQAAAAAAAAECAwQFBgcICQoL/8QAtREAAgECBAQDBAcFBAQAAQJ3AAECAxEEBSExBhJBUQdhcRMiMoEIFEKRobHBCSMzUvAVYnLRChYkNOEl8RcYGRomJygpKjU2Nzg5OkNERUZHSElKU1RVVldYWVpjZGVmZ2hpanN0dXZ3eHl6goOEhYaHiImKkpOUlZaXmJmaoqOkpaanqKmqsrO0tba3uLm6wsPExcbHyMnK0tPU1dbX2Nna4uPk5ebn6Onq8vP09fb3+Pn6/9oADAMBAAIRAxEAPwDvb3x2bS9gVYBLDKOUA5GB2P8AjXEeK9blu7OREbZBMQxjBztOScU95GaIecRGxUZdBzg/X2rntYiZbRRFnyQ2MHGQSOp78159JN1FdndicNGEXJHNSnJIPPt6iqjozghcuvqOoq5KhPHRl6V0dnq9hpfh1bEWMbXNz+8uJ3xuwPuqvoO5r0m7HnJGV4f8NKLdL6/njKTbikMZzIMHHzDtn3rtYpdIt4ghsCMDgnBJrK0OOfVGQQws4Zwnye9dT4x8GvoyWdxbzSSpMwiZSOVc9APXPNONRrY2hUlBaEFl440/w5fFIdOkaGdQsr4AwPUD+LqeOK5HxHcL4o17UdS0vTrj7EpBkl2HIwoG5uy5x0re8WeG7nQ9NtZNRWIrOOCvVGxkg1j6FavrC3GmaXbknZ57qsjBSV4z1wT7Gs5az5+opSc3qcFNZz37eVaQySTZyqKOT61SSGSKUpMjK6HBRhgg++a9z8CeC10tm1K73tMV2qsigbPX+lXfEv8AZazmY2tu90eA2wbj9TXPUxKjK1jeGFvDmk7Hk2j2M1wu5h5UeACW4Jz6Vp29oZ0eGJg3ku0Zd/k6H0/Gp73Uo1ne2faSWy7DDDHtVia7S5tUVC6RMvJZACBntj6VisbO+2jPNk9dCSwK2zRQMwkdnBK9NpHvWlNNAZ2E2G2kkqWxwfesexNu9xBJDKHUHLBl+YcHqPTiqi3kT38RIjYJ8uWT5T/9esqzd3KLvc2dS0YuLOjtw9tbu68l+Nw525quYnYTKDHtTk7j6dO3eo7a9EyC3cbVYMEYYAx/nr9arm8SKGSSQOhPROgBHU/SueFV3dxxxUk297nQxNDDpLoIsuxAKgHJIHP8qooI5Ahii3s3VQ+MfhUNjI8ukSXCSjflVHPIXnIqKyvleYpAVUo2N5XAJrRym7HVhpuyk+vT/M1UiBlk81AjZ5BkHWioCiRplvs5LYK/e5FFNTdj1OWEtbiXLO8rKhWRwAWjDfc/EfhT1t7VCq4R5GwpHJGPoePWqmn2wgsliZV+0yfM7A8k568+1S3EcaxNGkpEuOq9j7fnW7iSpr4munU6zVPhJpt1bmexvZLRiN2xl8xP8RXE+B/AZ8X65ePfyuumWT+Wxi4MzA4wD2Hc17I13LdeDpprfmU2hZfc7azvhfbRp4UWZF2tK5ZhjFdFOUpLc8qas3oVNTsYtG0/7JpVmNLe3c+QyMVEid8t15x16jFchf6/qlzp9nbXEkkqwTmVJnU/vGBzwT1A/rXscV/Bc6hdae6YmgCsVYZDIw4YfjkfhXNeOdJm1FLBLQRbomY7C4U84xwfpWtrakXvocfq/iCbxvaGxuLK3t7WNdwuXJ3LIBjg9iWyMEdO9ee+A7260fxZ/Zt8r27q7RTRuccE9Pzr6DufDukSTefNZp9olIkKAnaXGMtgcZryn4hJa/8AC2NFlaJQ2EWbjG/0z61F220x3Sszq9Q1G4msbiSyQJa28bO0pGF4GcD1NeZXGqxzXW65OZSAQWPUegxXq3jaMWvgDVfJRfmhCAE7RgsB/WvAboTwqzT2+GR87s557D6VxVKSTSuLE1pTaWyNm5NtfXcMr20jKVIbb8i8d89zUN5DcW8aLDIGZflii6sR9PSqcWuRySCO4iDQEBWBBx+HpVoqgnzCsiHbkb8nP/1qzjFppS2OPXqQaYXu7oQSBopWbk9Aq49+KtzQyi+lW0O9UdckHBYZxwDxS2Ykk1RpBmW5Ee2QlcqAOhBHTsKnv1uxK8iABCodiHOMk9CfU+gqpTXNyhfohLrUVMqIJVXLEtxyD61fhkkumguIxFIA224LLuUDtkdR+VZENra/YpNRuIH85JdskT5+UH0Hf86S9lfS1+1WvlCGV/lOfmBPqv0rJRWyJtqbtzDY2j+YjSJGZMB4zlAMjtU0Fh9nnkf7RMFY7lBUfOD71kJMLpZEEjSbxufg4HvkdOatxRTT2zTS3AQoVAXqWqLyStcpVJLZnUraahISkFpIWT74AVgM/j9aKoWerSWSqI90M5X5ndj84oq3GHU6PrC6r8zOvNTt43jCSNM7LsUE/Ngdz6c8VLa5WMOzLGD0Gc//AF8+9Y1tDDbO00somck4VVOOP8OlVrvVy4zAqtzyM9BXXboei5t+87HtngfWYbi1exeQM0fGCckqelbvhWGTTlvdMMCxwQTs1vtbOY255H1zXjPgQiDxTbSG5JkvleOMngKQNwz6jII/GvaARfWwaOZ7a6Q43r1U+hB4Iq4S5HciqlPYp+J/M0rUrTxLAjMttG0V3GpALQnnP4GvP/FTapqXi28OiXEM2+NWkglIDQfKOT/s9Dkcc16bcQXEmntHcPFdZUq2Y8FxjnvXkuo6vc6XdTP/AGbqLQWTZCThnhBB45UfMB1wTgVsql9DH2Ttc9b0MRaT4Ws3vrpXNvbhGmkOM46nn3/pXhfi/wAUQan4qGpEhkt5AUH+6eMGud134ia/r4Fvd3IFsv3Yo1CADtnHU1yks0p3FmyDx+FaJGLPefHGu2niPwHYyWm/yZryMyKRyAgLEHHvivHdTYi4l8uXfuJO0k5Ap2jXrz2r2UsriMncuD0OMZqO9dSv2ZpGRVbcA6AY7ZyP5VzVItTT6GUm29SnDJwFPmFSPugfxdq0VvyLgGaWSVYyCxBHAzzj3rKSVWbKlQyjAcsQT7j0rQjsIbZHF4GDMNylkI2nP5+9RNLqTKxrQ372yyvD5n2bblMAfKpznPr6YqNtSuYyJgkogGAGCnr1x7HFQzX4ktxFGBuAwZxkCTvgg96u6VdQtBJBdPKZpZVUpIf3bLgYP19/SueUbe80Z26sd/asl5MSbcb5cM+eM45z/Kku3tdQDRSrKkiuoDL0B9MdKr69OwldYwFUNlD3HoM1DZzWsyuhB85kJcu3DHsPr6UKOnMhW6o6mKD7FHDEZYzaEYYKBvA7g1US+aW+dU2NapwZN/b396zLHUYreRLa/jlLMpXcxK4PZvf6GtaG9SKxnhEEc4+YJghduedxx1rLlcXqrhtoSKtvclkS+VwhwDtxRWGtvJITi8jtlH3QTy3vRWmncL+ZPqOqwXVqn7iQTbdoc9Bz/kVXgtHaPczLAQM5deMVXN9NaTCELuYsNw2cd+h781qXTSzRxSLANpAPzKfl9857+ntXSevG1ROV9jo/h7o8moeMLN/tX7u1zcKxHLbewHoScfSu7mkvrLxdewW0UrwuqyurHCx8Y6+p4rhfAGmy3viFVt4lYQxmUEvyHGMY/GvWdP0TUo7O6M5iMkzliuPmJ+p4rWMU4WZlJuM7orWGtG4j3xkMn4gj61leMdUNn4R1W7ctgQOFXzFXcSMDHc9a6bSfDQjt2lvF/wBKYnHTCjtXI+P9BkfTpS0ERTB5ih29RjJqVSafkb/WI8u2p82q/wAmH++vWlO5owT+ddDJpao3zKDzjGO1Y1wmbjyoxnJwAK6jiIrZX8wCNSWJxxWxqMRhhiWeVmWRR84GGX2PqK3PC2heVcGa7TZ5alysi9R/jVDWXjuxNK2AEIWMY68nOKT1FYoW1nbeQ8TRt54+dLhWyCv09c1YuLm5lvoHkmY+XheeMCmaTL5Ye2kJCupUHPTNWY5Lawj+zyIgmfILH5ix7fzrlqxad9zGaaK/2iGSSf50PRfu7s46kH09qrbLiacOdwGSAynA/Cp7OaMRyNsaUd0B4Xnn86lluRJJFEQyxsdsiJg7QKzd09ESkUWBacbncIPlbcc4pIZ3M6LCirIh3K2eQexOanlVimxW+TfwVHOPc1VW2laaRoOGQ8EH5jmqVmtSlbqdFNPJf2Es968Zut2Dx8zr1yP89qp2l35SSLKi7ZOgA+76Yqq0gN5EHcNLgLx8v4n371Otvb3MhkundCF6jt71lyqK12Jsuoo8iP55VjmU8Kdmf896KYQrogghQqoILynhvoKKq1wUG9Ujf+1w+Qv2K3Vth5Odox0xn/Gq832i9uY2uI2QYAAbOB/nFRWlm8MpJLIwGCwbGf6YroLe2lKkMcr1ILdf8Ku9j04W5ddy54avpNI1SC7TmSM7SwAztP8AnvXvWn3n220Sfy2Td2brXgcUcPmIxJViwGAevI/WvaNPcWd/cK7ttf58H9aulIyqas6CsrxG0CaBeGcgIYyOfXtWkJVZQwYFcZzmvKPH3i1dQdtMsnPlRt8zg8Ma6r3MjzHU0USTPkAFjj6U/wAK6Ha3N1Jc3MROMkZPcVM2nPqF68aDKRgbif1rTurhdKsDHCw3nbkd9uOD+eKT7AU9duFh3FZGMauclTgkHr+tcfITMkjZ4PK/nW1JuuTIJAMseAfc/wBKb9hiC7QTgnaOO3X/ABpXAxUjKSBh0zUmqWYuYo5SxDKNp4646VdeFcEY5UZ+tSQQi6j8ney85BXrRL4WJbmJAk0CDyW2bgRIoGQR6GnxhYrgG7HqNynHPUZNdAbeGGJPMjkdXU/KGG7g4yfQdvwrKfTJpFUeWoXAOMcn61zXT3G6TJFuWdRBCJPKG4pvx0781BaXPku0bYjZm6oOnHf2oXT4owwZJAwOR82Bj0FPgtI5oGMMgjIYL5ecMQT1/Ws+WKTMpU7XuMgNtd3xWVA+FLbicZI+tTRWDvaERHzWkUuAhzsGcc1WvLKO2meGPfvj75xn161ettSiazt7KBbrzSSp9lPUZ/u0p3snAlp7oy76OeFltppYpkQD5R8oU/1NFbaL5bKkqRvOqlS27gjNFSqzStYnmfRHUQ6H5YOXbb/tdKvOgMBCncEwuN2Dio2ac5JcFCdwxgYok2IclzjqWPT/AD/hUSqWPSnNRQsMUKNE5kyA6k4GQACOBXs72QuHdwwyU+Vh7kmvEjMnl7A42jGMDjoK9j8L3Ul14RsriX75i25P8QUlQfyFa4apzNo5ufmZy/i/WL7RPDIW3lUTzMYmwfmC98V5nbo8zpkOzv68V6F4p05tX1S2TBMaA4GerE//AFq0rHwTg280pxFEpbaexxXXzcsRrVnP6Bo8dpo/nshM02/kjkEf/qridTuRHeKzqDIAQQ3IGTnFdld+LpZLqaCOEYikKK+Nu4DIzj8K43U7O4vLwmNGkmkYgJGuSefSlC71YSstjJe4jEyujKE5BB6E1WjuGaQhjhV6c5zV/VPC2v6Zbm4udGvI4SCd3lkj8fT8a5d9SOWVI8EdiOa00EbT/Mp2n3NELCOVWyD0zWNHq6nhwwbGOauw3Kvgg8elNCZ1Vtp8LHz3G5cZXgksT9KdJBLCx2RnY2QW9SPT2q7osS3+kowkxJGSjKBz7fX/AOtVq501o50DyBlxgYOBn2z0I9K4Ju0mjqi+ZXMS4sPMjDDIz8p5AGT79qyTpSJMWcEleQF4yff0rrfsQjDSSKzkE7YwR17YP+elV59NmgjjDPuD8kAcZz0OO/elGavoS3GWhyauyrmWLftPQk8+uapwyvbF3WJMnjYfTPrXTXGkyQhhJDIpHJG05A9faqM+nSSYkFoI1AyuOmAe+fpV3RLgrWMh7O7uUR7eOSSXGX8temf6cUVovLc7mk2Ojk/ejxyO1FO8uhzuE76HcTqF8sM6KuDt7HH+e1RW/lyxBG5GCMVYJExUqpT5SoLdjk4H44qKNUAYzf65juxjG3vn9a81u4OSlqNttMOpTRW9ujtJK3EajuOpz+v4V7DdCLSNGht0H7uCAKMccAVxXgvSjfa6biTcFtQJSc8lz0HHt1rq9RlN/rsWmKjMiMryEcgDOefyrvw0bRv3LSXQsWWjOTBNPjPlKWHo3U/zqt4112PQNBdl5lf5EQZ5P4V05IAyeK8Z+I+pm91xbZGHlwd+xOa6a0lCIXtqc7Y6dqf2f7ZbWYmhly5ydpU5yc5r1XwJ4dFjZC+ulQ3MvONn3Poetcj8PpfO1C7gupQ2IwI42bpz2FepzXIs9ImuAvEMRYAewopS5tQvdHP+M/FkOi2z20arJcMvKk9PrXiN5q+j6ncbb7T4wxYnzAox+YrSvkOqXctzdk+bM+7OS3OelULjSIdpVADnnORx9atsZgXeiW8nmyW20xjO4s2SPf8ApWACLbIVs5OV5rpXt5LGYqoJJBYKeeKxtRihkDTQjEpPzoR+opLRgzqPBN95moy2xPEsRKg9Aw/ya7lbd3k2M5f5scV5Z4cm+y3sMzZGDz+Neiwa1B1ZSd3IbONufb6VwY3SpfuSn0L72sbbwnXPIyNoqtdoIofs6FVj7nb+lOfVoba0kuS8aRj7+4YAFVNJ1u815omsrENZ5OGmbljnHy+grKknLVI0g4p3ZBFDJOxSSVmjf5ckbjkdKZLFPDJtmT5h8pPU4rojby2zCK8to7eQsWXjKMM9m9agmsHC7lkMmWyVCfmc+1bc1nZnQnFmF9hWVVYorKy5+Ugf1oq+3kxhggOc5OVAB98H8KKeocrNB40UoQVAI3MpHU7siui0G38P2djNNqYSW5WThZenoNo/nXNF45YpABhhja+cgY68en+FXSojhSZ9siDG0YPIPHNcVObhK9rnnx3sdXrfiq20608jSI03scb40AVeOoqt4Mk1HU9fvNTutyxGMcEcMx4H44H8qoWGg3us2xaFQkMv/LaTgEegHfpXfafYQaPpogi+6gLMx6se5NejRdWcueWiRoZ/i3VBpehTTh9snCoB1JPFeKybr95M7g2fmJ5IyeK6PxDqtxruozN862yuViTpx6n64NZAE6xnEC7uo2N0wev61y16/PLTYmUtbI0vDlppNjMtzqMj/aQ48sAlUXJAPI9K9K0zUbLVbCa1SdXRg0ZIPJB4zXkbhnjZZHxjuvfPf9KfY6jd6RcRPB5i5QDcyEBuefxq6VflVmhptIztY0y+8N6u9lfK+3JeN1H3055FZd3d2iNG8ZkWRwCeODXoXiDUo/FGgRSGImW0mV969Qp4Yf59Kx/+EYimgLpIWDfeXAH4j0Ndymmizi727jJjuUkSRojwR95s9sdqwb9lubhZkXEjff29Ku65oM2jX6Hc3zZ4PaqqQSuWCRM5/iVVzgj6fWtNNyWwiby8ADvzzSvrl3aTeVHtZQOB0+tXrbw7qN2HURiPau4MT7/4VTuNMe2ugc+YBLIjvnjAOAAOvY1DdOo+Xcm6J8an4hkis5FCxMfl2knb7sBXqOjWC2WmQw2jEwxAKPU8cEevPFcL4d1JLa+YSbVD4Bb0Pau9sNSt4QpVkJxj0DLjniq5FHRFo6+ytodU097W6USKwBIP8J/oRWRqGiXVgwaHE1vyFHcexFSr4r0+1WICQFyuQx78YJ+tYtz4vuNWJg8gKO8mTzx1x9K5q8oWsxuy1YC1NwgeEPG/QhELcDiiora8nUmOKbyXHXLYDDt/n3orh9rPoHtWZyKyq8Y3s3X5+B6fXpWzFIiQiO4J3ryFH8Q7YqpA+LeIEBi8pBY9fT+tXGPktzl9rHbuPTnFYpaWM4pbHQWvimXy9qKEjjXZtQYI44wP8imal4pmu9Ma3hSRGJYbjwSB/wDrH5VgXA2XLBQu08BSCR29+afKpUIm47CQuM9cnHPr1/St/bVOVxuJyexiXpEcYAJxjJUZGD71PE8SwOs3GGAY85I9MD0yamntoykilVbyyDlhncSC39Kr2bGaR0Zn3hd4cnPTjp+OfwFYtNEHd6HqOi2qSiK1gjmiTIdwN8gH16d+KsN4rhkukjdP3SgsVK535GFX+dcS0aFY3IPzoG68jOBjPertpCGRHzzJub6DdjArq+sTiklsaczNuPWdMe5kkawtkhPA2RYPqSf0rGvNRSzu2SwjLxSoSFcYxxyc/Sljt0mYxyfMTIfmP4/4UtxGkcOwL8mShHsSB1/Gs1iaiGm3ocdqum3OvTI0qhVUHnPA4J49T0rS0rQobaF22KULYXaeWbj9MVqR26QtFGAvKkZAxwc5H6frUdq7yHDOQjSBSF4z0H9axnXqT0kzNu71Io7QuzsflwpDsDjJNZ2reHzqFxHtbDbSCCmdpx/jyK6BnCzuAvRzg/ReKSZt31dBznkbuD/OnCrKF2ikchZeE4bSJ8y/aLjcyxEJhU4GM/7Xp9apJpJ3guswJz8hPJ57125xbz+XjcNnmHPc/wCNWJLeNX3hQflJGQCQcda0dectWyopJXZyI0nYP3rFQvIz0P8AwKr+nW4UIjru28knnj8KcH85DuAwATii4uJRcxxIQiFugHc1k53ZEpJrQsS2+7aArEDJTHoeT/n60VbjijfYGUhPmAVTjoQM0Vm5NMS5ujP/2Q==\"><img style=\"display:inline;margin:1px\" src=\"data:image/jpeg;base64,/9j/4AAQSkZJRgABAQAAAQABAAD/2wBDAAgGBgcGBQgHBwcJCQgKDBQNDAsLDBkSEw8UHRofHh0aHBwgJC4nICIsIxwcKDcpLDAxNDQ0Hyc5PTgyPC4zNDL/2wBDAQkJCQwLDBgNDRgyIRwhMjIyMjIyMjIyMjIyMjIyMjIyMjIyMjIyMjIyMjIyMjIyMjIyMjIyMjIyMjIyMjIyMjL/wAARCABwAJYDASIAAhEBAxEB/8QAHwAAAQUBAQEBAQEAAAAAAAAAAAECAwQFBgcICQoL/8QAtRAAAgEDAwIEAwUFBAQAAAF9AQIDAAQRBRIhMUEGE1FhByJxFDKBkaEII0KxwRVS0fAkM2JyggkKFhcYGRolJicoKSo0NTY3ODk6Q0RFRkdISUpTVFVWV1hZWmNkZWZnaGlqc3R1dnd4eXqDhIWGh4iJipKTlJWWl5iZmqKjpKWmp6ipqrKztLW2t7i5usLDxMXGx8jJytLT1NXW19jZ2uHi4+Tl5ufo6erx8vP09fb3+Pn6/8QAHwEAAwEBAQEBAQEBAQAAAAAAAAECAwQFBgcICQoL/8QAtREAAgECBAQDBAcFBAQAAQJ3AAECAxEEBSExBhJBUQdhcRMiMoEIFEKRobHBCSMzUvAVYnLRChYkNOEl8RcYGRomJygpKjU2Nzg5OkNERUZHSElKU1RVVldYWVpjZGVmZ2hpanN0dXZ3eHl6goOEhYaHiImKkpOUlZaXmJmaoqOkpaanqKmqsrO0tba3uLm6wsPExcbHyMnK0tPU1dbX2Nna4uPk5ebn6Onq8vP09fb3+Pn6/9oADAMBAAIRAxEAPwDyPWYZra7MzgtE7ZVs/d9jVQMGGQea6+WJLiJonXejDofSuPvLZ7C7eE525yhPcU6c76MUkOWXbU9rL/pcRzjDA1TU7q7Lwz8OtZ8QxxXSeXaWbnKzTE5YeqqOSPfgVpLVBHc9B0KTMcZB5YCukx8isPyqXSPAK6daxI+pPMVAGRGAK2JvC92sWFuYivqYzx+Gf615/s5XPQVaNjgvGUgfw7eRqpctEwCgckkcCvFLfwvqM/LoIQf7/X8q+l77wFNqFqMaggO4HBhwOPxrxPxRfXXh3XrrTrizYzwyfMQ2FZTyCD6EYreCklZHPVcZO5hr4PiAHmXUhbvtUChvB8GeLuUfVQa3bW/iv4BPExIPBB6g+lSkgH27UczIsjnB4Ojxk3rY9AgqaPwpZRsC8ssgH8JIXNb2CRwab368UuZhyowNcsIbTSStpAqrvXeQOcf/AK8VyuOa7HxHdx2+neSfmeb5VHpjGTXIKCx9q1hqiJbjkHGT0qVRk7jTQM8dquWVqbm6jhHRm5PoO9abIk6nQ7F5baztVHMx3Of7o65/lXpcNolpEqKONuMnjNZfhLTV+a58sZPCZ6BR0ro7iMtExAJZecGvOqyuz0aEeWNzn9SvjAwIbBzjJorB12Xz7oQhjiPrtPeinGF0RKrZ2KYACfwk1HcafDfJtuEU88ELU0TNv4APHIOOasnaq5yvPbPNa3OYh8L+ArfVfFFrb7ibQN5kqSfxIOo/HgV9FLptvbQIsKCNI1AAXoABwBXj3gVZR4mt3RiURWZuegIx/MivZr25SKxfzGCrjLH2rVSbWorW2C1+cmNuT1B9a0IwduKxdKuBcOkvKg8gN1IxW9iiIT3K0sJjbzEdVH8SN0P49q8x+LPgqx1vTJNXjuI7XUreLA3uAs4HIT/e9MfSsf43+ILgalaaJG5W3SMTyAHG5jwM/SvNLDWZLUgLcyoSehbIP4HiqWmqJ33G6bo9/pEs8F/A0MhCkIxGemc8VodAc8n9abdajdXkzS3EgllPAY9SKq/aZd+1gD6c1DUnqy24rbYvgAgD8xmleLGWXjnhSaznvljTLhgfocVBLqiyRsqS7TjHyoaXIwujM8TTxTTQIkisybt+O3SsuxsrnUbuO0s4WmmkOFRepq61pgZWHOO5GaSNpYW8yLMbL/EvBFarRWRG71Oy0T4auRHPrl19mXPzW8eC5H+90Fdxpfh/RbXUvs+n2MKrtyXxubH1Oe9eNSavqMihXvbhsDgGUmvUPhN9on069vLqaSXbKIow/O0AZP8AOuar7S129Dtouk3yxjqd0dOt4Y/k49qq3kUlvatIELDaSAOvSrMc6rps93IThmdxgZ+XOBx9KsXBVpEQbcRRh2XPOCOM1gn3OhpbbHjjASSO8jhHY7jkH/Cipb90N/cGDPl+Y20KeMZoroPPe4zyJEAYlQOxFO3DcQXHXrkYNQIwHOWb14xRGSTuA2np9Kkk6LwrrVtoerfab0uICjK7IMleODivRbjxBFdyBXjU20i7ly27Ppn0rx8GaM7nbcf1NQq8kFwZ7Vmt5u7If0I6EVSlpYNj6A0iK2ni3W8mCvOAa6WFiUAJyRXgOgfEDUdFu0e5s1uYeA7RHaWHfg969o0HWrTWNPjvbGfzbeTpxhlPdSOxHpVxYpO5xnxY8C3fiGKHVtLiEt1bxlJIR96RM5GPUjnivnm4ikhuXSSNkdTgqwwQR2Ir7VByK47xrpPh+z0bUdbu9ItJblIy3mtECxbGAa0uQfNlrKI4x5hJ3YAFPuLhBIY5YsKDgsDzVCd91ygGMk5wKl1V/wDSCo69/wAqYzRVUkiynzxMMZqmtkqXJ9hVrSz5dgxY9fu0j5Lkg9u9CYDZVdEK9Bt4rCeRtxU9K272dRaDLcmubnk3k4pXGIZAX4r2LwFMLTwBNsbbJcPL84/hY/KK8XUZPvXS6Le6hBaC3hu3S3Em8x8EE1nUi5qyNaM1B3Z7bNLFF9gsrVl/dqpYlv4VGB+ZxWZrXiaCC0vY96i8lXy0CDJI9c/ia8g1PVr6O/8AOivJkk2lS8bbcg9uO1bNsAbaNiCSyAk9ycetY+ycdzWVe+xKGU8dMUU3OD93I+lFUYXLQ2hfuocDk5pzzI4GFCAf3RxmoV8xZMdSM9QD/wDrpjA4bcSfXjipsBb3LsB3KcClln3Q4kWI57leao89myAeBUiRsmJHyOPvH0pWAc8I8vKvjPtxV/wz4k1LwpqRvbJfMgfAuLdvuyj29G9D+dVBdkoECKV5A3Cq742li5U9lHeqi2hNH0HpvjvStTt4pU3osihlDDBrnvivr9u/gG4S1mV2nkSMr3xnn+VeaaL4hk0iMW11HFLpjEk5zmIn39M/lWxrmkJ4g0kRWF80TIfP8l/uvx0z6dxihVZKVpbHRGhCcLw3PN7C0824MzcqnzfWoroxPI3Pzg1oTSpZac/lHLgY+prmZJJANxOWY5NdNzlLo1NkOzoqjpSDUCxYkjnjFY28mQknFTqynjPPrSAnuLh5SAarDn609iid9zGrOn2jajqNvZQlVlnkVAWOACTgZoA6X4eeEo/FPiJLS4lMcCIZZMdWUEcD0617d4n8F6LaeC79NM0yGCWOMSqYV+Y7fc9q8/tG1f4Z24ZdJt5I5WKPdGQkuRyBx90en0r0rw94ii8XaEyvG9vK8W2SPIyAw4I9R/hSvZ3Cx8x3uZr0oPXaK7B5bSxjCNMJAoAOOlcxd2htfEMloxYhLkx5YYJ+bHIr0kaJZ277pEGA2CCM81FUcTm2uoM/JFIV7YBNFdl9htW4ijjYD0FFZl2OUO7k7trAU1peNqxgHu3eqa3EzDiIqOmMg04pPKoZMjd6qakRKXMbhiBuzmpYroSR+Uqgk5AOPWqT29wXGXBGecdhSpYjOGywP1NADmmLOYlIyucrnn3qN2ZVAYOWIH8PSrAtLcNym7g/KVwAaGmL4XylG3g4HSi4WK4mlVNqRluc/Ma1dEi1C61CDTLZU+xXTBPIeVgUJ/iRxyv8qrwxRnDMQq9MYra0C3mfxFYG1AJE6kMFPGDz+maaGm1qjA8UeGLvwndQx3UTfZZsmIswkx/skjvWC+mxvI0/nZiCliAORXuHxRdJfC0ttIv7xiGVsZwwP/168P05wlnIj4IJ5BrojsQ9yfSdD03ULSWSeG9MobCGKVEXGO+4E5rRsvDFnDiR4kkPYTMzgfgMA0zRwRp6OxKiV2fAPTJ4/QVom7NuyqzMAeB1xmsZTlfQaSH3Xh+yu4iZVSAkYBjjSIceyitjwV4AEut2t8WDWVs4kbMe3cw6DPfn+VX/AAvqunwmRryIef8AwSSLkDnpjtXXXvjCx0+3aNLiOSV1zGqAkfUntTjJ23G4lPxe8F7EdPaMyxHDSL1HByBVDR7z+y9QhuooP3YHlyJ0+U+n04P4Vz8l5JJcM7zMVlbcxI71exFLIoUnJHVjwanm1HY63xxpGi3mki9u7O3+0K6CGbGwhiw7jr+Ncm9u5diNuxsjKNyPwrtvE2hLq/hXyJZHiZUWVSB91l55rlAzJ5ZVC271IFVPoJEKxvjEZQ44znFFOMkAc7GK+2zcKKgo4z7Ogc/KRjt3p6hV5HQnHPUUqgspGCSeDzTGBznOB3wKkkc2A/7sEDtmmmUQ8sAC3C5ocFiSWBHTJqBol3LyxXuG5/yKQDmuwXUYCkjA44ampKGUs5Ax/d6U1XREKxBVPQcDv6U1vMGCQ446bc80AWEZC6uRvUYOCeo9K9i0vXtGttGiufPt4bZBhVH3lPTGPWvHSd2FKnOOo5oVRjnqOpIqoysOx1fjHXDr13Da2o3xorEmMk7u/wDIV5wNNllvUhVWBkkAUKOoNeg+CdJmv/FNkY9xigYSuQOFA7fj0r1zWIdL0fT5tQe0gjMKl96xKDnHb3NbU3pdkS3PAJIkguJYYlKRxuUXPoOBTSu4Yf5sdKndjcTySuwDuxfA4GScmmFNw+UDJ9DkisW7ssSHzYY8RhuDnCnIx+NXYpSyBnAL9D61UUSRkD14x2qTzCZdq8DoBnpSAuQTAybZQxH8q29It5brU7S1jKsjyjoONvUn8hXPL+82jeRjq1d94LtorSza9RDLMzeXgEfKO2PrVRV2DOx8UXItPD07A43jywcevFeZQyGNSkjIyk5Vitdx4uvEl8MhWGWE6AhuATzxXHQpDJLj5cAZyDkr+NVPcERK0u75XO3HAwOPzoqxEXt5HB3FCeCRmipGcYWRUyxA/HrVbzzM/wAgI9Sf6VcePGA0WFHTK9frTo0hSQGSFtuOx6fSpJIymAuBnI4461G2BlTjGMFfWrBUGX/VsuPbtVSV0NwPvKAOh6GkMFt4V+dEAbvVgYZVV1Xjge9MgxJArswLgnKgVMqYfavOVIIYZFAEe1doVfrgdqfBbie6iiJwHcKW7jJoMXyL9KkQbemAw5DelAHtWh2NroFt5NlDGIxgSyty7N7nuay/iTqtt/wjZstw8+5YbFB52g8n6VwUfiTWYUWH7ZuRGDAMoIqjf3lzqFybi7mMkm0KGPAUDoAPStHU0sg5UZCQrHwpJ9TmplRAjfOykdMCpvKV8YGD6mkwy9gccdKyuOxCfmwQGZu+acW3xY2Hfnqe1SBdrA5Az6daXOxssCc8dKYiKMMi/Ln0PNa2lapd6c2IJAo3ZKnoTVHbGxyv3u4oVjggL8vTpTQzau9Wvb5j58wEZbdsXoOOtVkz5iyA5YHPHQ/0qmJXZsqoGOozViO5IhwEbA4PtRcDU/tGe2mZAgI45bBJ/EUVhuUkHzs5zzlWxRTQH//Z\">"
            ],
            "text/plain": [
              "<IPython.core.display.HTML object>"
            ]
          },
          "metadata": {
            "tags": []
          }
        }
      ]
    },
    {
      "metadata": {
        "id": "bkj4mooHEUvH",
        "colab_type": "text"
      },
      "cell_type": "markdown",
      "source": [
        "The task is to predict if a picture is a cat or a dog. Let’s explore the use of the image classifier on the Cats vs. Dogs dataset."
      ]
    },
    {
      "metadata": {
        "id": "hv8mbnBOe3O8",
        "colab_type": "code",
        "colab": {}
      },
      "cell_type": "code",
      "source": [
        "# Use all GPUs (default)\n",
        "tc.config.set_num_gpus(-1)\n",
        "\n",
        "# Use only 1 GPU\n",
        "#tc.config.set_num_gpus(1)\n",
        "\n",
        "# Use CPU\n",
        "#tc.config.set_num_gpus(0)"
      ],
      "execution_count": 0,
      "outputs": []
    },
    {
      "metadata": {
        "id": "a0h1uxKJEVed",
        "colab_type": "code",
        "colab": {}
      },
      "cell_type": "code",
      "source": [
        "# Make a train-test split\n",
        "train_data, test_data = reference_data.random_split(0.8)"
      ],
      "execution_count": 0,
      "outputs": []
    },
    {
      "metadata": {
        "id": "jWSTSkqO3jN9",
        "colab_type": "text"
      },
      "cell_type": "markdown",
      "source": [
        "## Create model\n",
        "https://apple.github.io/turicreate/docs/api/generated/turicreate.image_classifier.create.html"
      ]
    },
    {
      "metadata": {
        "id": "wfw6JwTZmQL7",
        "colab_type": "code",
        "colab": {
          "base_uri": "https://localhost:8080/",
          "height": 6029
        },
        "outputId": "b0e12fe1-1c51-4efb-a91d-003c47a6d8d5"
      },
      "cell_type": "code",
      "source": [
        "# Create the model\n",
        "model = tc.image_classifier.create(train_data, target='label')"
      ],
      "execution_count": 13,
      "outputs": [
        {
          "output_type": "stream",
          "text": [
            "Performing feature extraction on resized images...\n",
            "Completed    64/19692\n",
            "Completed   128/19692\n",
            "Completed   192/19692\n",
            "Completed   256/19692\n",
            "Completed   320/19692\n",
            "Completed   384/19692\n",
            "Completed   448/19692\n",
            "Completed   512/19692\n",
            "Completed   576/19692\n",
            "Completed   640/19692\n",
            "Completed   704/19692\n",
            "Completed   768/19692\n",
            "Completed   832/19692\n",
            "Completed   896/19692\n",
            "Completed   960/19692\n",
            "Completed  1024/19692\n",
            "Completed  1088/19692\n",
            "Completed  1152/19692\n",
            "Completed  1216/19692\n",
            "Completed  1280/19692\n",
            "Completed  1344/19692\n",
            "Completed  1408/19692\n",
            "Completed  1472/19692\n",
            "Completed  1536/19692\n",
            "Completed  1600/19692\n",
            "Completed  1664/19692\n",
            "Completed  1728/19692\n",
            "Completed  1792/19692\n",
            "Completed  1856/19692\n",
            "Completed  1920/19692\n",
            "Completed  1984/19692\n",
            "Completed  2048/19692\n",
            "Completed  2112/19692\n",
            "Completed  2176/19692\n",
            "Completed  2240/19692\n",
            "Completed  2304/19692\n",
            "Completed  2368/19692\n",
            "Completed  2432/19692\n",
            "Completed  2496/19692\n",
            "Completed  2560/19692\n",
            "Completed  2624/19692\n",
            "Completed  2688/19692\n",
            "Completed  2752/19692\n",
            "Completed  2816/19692\n",
            "Completed  2880/19692\n",
            "Completed  2944/19692\n",
            "Completed  3008/19692\n",
            "Completed  3072/19692\n",
            "Completed  3136/19692\n",
            "Completed  3200/19692\n",
            "Completed  3264/19692\n",
            "Completed  3328/19692\n",
            "Completed  3392/19692\n",
            "Completed  3456/19692\n",
            "Completed  3520/19692\n",
            "Completed  3584/19692\n",
            "Completed  3648/19692\n",
            "Completed  3712/19692\n",
            "Completed  3776/19692\n",
            "Completed  3840/19692\n",
            "Completed  3904/19692\n",
            "Completed  3968/19692\n",
            "Completed  4032/19692\n",
            "Completed  4096/19692\n",
            "Completed  4160/19692\n",
            "Completed  4224/19692\n",
            "Completed  4288/19692\n",
            "Completed  4352/19692\n",
            "Completed  4416/19692\n",
            "Completed  4480/19692\n",
            "Completed  4544/19692\n",
            "Completed  4608/19692\n",
            "Completed  4672/19692\n",
            "Completed  4736/19692\n",
            "Completed  4800/19692\n",
            "Completed  4864/19692\n",
            "Completed  4928/19692\n",
            "Completed  4992/19692\n",
            "Completed  5056/19692\n",
            "Completed  5120/19692\n",
            "Completed  5184/19692\n",
            "Completed  5248/19692\n",
            "Completed  5312/19692\n",
            "Completed  5376/19692\n",
            "Completed  5440/19692\n",
            "Completed  5504/19692\n",
            "Completed  5568/19692\n",
            "Completed  5632/19692\n",
            "Completed  5696/19692\n",
            "Completed  5760/19692\n",
            "Completed  5824/19692\n",
            "Completed  5888/19692\n",
            "Completed  5952/19692\n",
            "Completed  6016/19692\n",
            "Completed  6080/19692\n",
            "Completed  6144/19692\n",
            "Completed  6208/19692\n",
            "Completed  6272/19692\n",
            "Completed  6336/19692\n",
            "Completed  6400/19692\n",
            "Completed  6464/19692\n",
            "Completed  6528/19692\n",
            "Completed  6592/19692\n",
            "Completed  6656/19692\n",
            "Completed  6720/19692\n",
            "Completed  6784/19692\n",
            "Completed  6848/19692\n",
            "Completed  6912/19692\n",
            "Completed  6976/19692\n",
            "Completed  7040/19692\n",
            "Completed  7104/19692\n",
            "Completed  7168/19692\n",
            "Completed  7232/19692\n",
            "Completed  7296/19692\n",
            "Completed  7360/19692\n",
            "Completed  7424/19692\n",
            "Completed  7488/19692\n",
            "Completed  7552/19692\n",
            "Completed  7616/19692\n",
            "Completed  7680/19692\n",
            "Completed  7744/19692\n",
            "Completed  7808/19692\n",
            "Completed  7872/19692\n",
            "Completed  7936/19692\n",
            "Completed  8000/19692\n",
            "Completed  8064/19692\n",
            "Completed  8128/19692\n",
            "Completed  8192/19692\n",
            "Completed  8256/19692\n",
            "Completed  8320/19692\n",
            "Completed  8384/19692\n",
            "Completed  8448/19692\n",
            "Completed  8512/19692\n",
            "Completed  8576/19692\n",
            "Completed  8640/19692\n",
            "Completed  8704/19692\n",
            "Completed  8768/19692\n",
            "Completed  8832/19692\n",
            "Completed  8896/19692\n",
            "Completed  8960/19692\n",
            "Completed  9024/19692\n",
            "Completed  9088/19692\n",
            "Completed  9152/19692\n",
            "Completed  9216/19692\n",
            "Completed  9280/19692\n",
            "Completed  9344/19692\n",
            "Completed  9408/19692\n",
            "Completed  9472/19692\n",
            "Completed  9536/19692\n",
            "Completed  9600/19692\n",
            "Completed  9664/19692\n",
            "Completed  9728/19692\n",
            "Completed  9792/19692\n",
            "Completed  9856/19692\n",
            "Completed  9920/19692\n",
            "Completed  9984/19692\n",
            "Completed 10048/19692\n",
            "Completed 10112/19692\n",
            "Completed 10176/19692\n",
            "Completed 10240/19692\n",
            "Completed 10304/19692\n",
            "Completed 10368/19692\n",
            "Completed 10432/19692\n",
            "Completed 10496/19692\n",
            "Completed 10560/19692\n",
            "Completed 10624/19692\n",
            "Completed 10688/19692\n",
            "Completed 10752/19692\n",
            "Completed 10816/19692\n",
            "Completed 10880/19692\n",
            "Completed 10944/19692\n",
            "Completed 11008/19692\n",
            "Completed 11072/19692\n",
            "Completed 11136/19692\n",
            "Completed 11200/19692\n",
            "Completed 11264/19692\n",
            "Completed 11328/19692\n",
            "Completed 11392/19692\n",
            "Completed 11456/19692\n",
            "Completed 11520/19692\n",
            "Completed 11584/19692\n",
            "Completed 11648/19692\n",
            "Completed 11712/19692\n",
            "Completed 11776/19692\n",
            "Completed 11840/19692\n",
            "Completed 11904/19692\n",
            "Completed 11968/19692\n",
            "Completed 12032/19692\n",
            "Completed 12096/19692\n",
            "Completed 12160/19692\n",
            "Completed 12224/19692\n",
            "Completed 12288/19692\n",
            "Completed 12352/19692\n",
            "Completed 12416/19692\n",
            "Completed 12480/19692\n",
            "Completed 12544/19692\n",
            "Completed 12608/19692\n",
            "Completed 12672/19692\n",
            "Completed 12736/19692\n",
            "Completed 12800/19692\n",
            "Completed 12864/19692\n",
            "Completed 12928/19692\n",
            "Completed 12992/19692\n",
            "Completed 13056/19692\n",
            "Completed 13120/19692\n",
            "Completed 13184/19692\n",
            "Completed 13248/19692\n",
            "Completed 13312/19692\n",
            "Completed 13376/19692\n",
            "Completed 13440/19692\n",
            "Completed 13504/19692\n",
            "Completed 13568/19692\n",
            "Completed 13632/19692\n",
            "Completed 13696/19692\n",
            "Completed 13760/19692\n",
            "Completed 13824/19692\n",
            "Completed 13888/19692\n",
            "Completed 13952/19692\n",
            "Completed 14016/19692\n",
            "Completed 14080/19692\n",
            "Completed 14144/19692\n",
            "Completed 14208/19692\n",
            "Completed 14272/19692\n",
            "Completed 14336/19692\n",
            "Completed 14400/19692\n",
            "Completed 14464/19692\n",
            "Completed 14528/19692\n",
            "Completed 14592/19692\n",
            "Completed 14656/19692\n",
            "Completed 14720/19692\n",
            "Completed 14784/19692\n",
            "Completed 14848/19692\n",
            "Completed 14912/19692\n",
            "Completed 14976/19692\n",
            "Completed 15040/19692\n",
            "Completed 15104/19692\n",
            "Completed 15168/19692\n",
            "Completed 15232/19692\n",
            "Completed 15296/19692\n",
            "Completed 15360/19692\n",
            "Completed 15424/19692\n",
            "Completed 15488/19692\n",
            "Completed 15552/19692\n",
            "Completed 15616/19692\n",
            "Completed 15680/19692\n",
            "Completed 15744/19692\n",
            "Completed 15808/19692\n",
            "Completed 15872/19692\n",
            "Completed 15936/19692\n",
            "Completed 16000/19692\n",
            "Completed 16064/19692\n",
            "Completed 16128/19692\n",
            "Completed 16192/19692\n",
            "Completed 16256/19692\n",
            "Completed 16320/19692\n",
            "Completed 16384/19692\n",
            "Completed 16448/19692\n",
            "Completed 16512/19692\n",
            "Completed 16576/19692\n",
            "Completed 16640/19692\n",
            "Completed 16704/19692\n",
            "Completed 16768/19692\n",
            "Completed 16832/19692\n",
            "Completed 16896/19692\n",
            "Completed 16960/19692\n",
            "Completed 17024/19692\n",
            "Completed 17088/19692\n",
            "Completed 17152/19692\n",
            "Completed 17216/19692\n",
            "Completed 17280/19692\n",
            "Completed 17344/19692\n",
            "Completed 17408/19692\n",
            "Completed 17472/19692\n",
            "Completed 17536/19692\n",
            "Completed 17600/19692\n",
            "Completed 17664/19692\n",
            "Completed 17728/19692\n",
            "Completed 17792/19692\n",
            "Completed 17856/19692\n",
            "Completed 17920/19692\n",
            "Completed 17984/19692\n",
            "Completed 18048/19692\n",
            "Completed 18112/19692\n",
            "Completed 18176/19692\n",
            "Completed 18240/19692\n",
            "Completed 18304/19692\n",
            "Completed 18368/19692\n",
            "Completed 18432/19692\n",
            "Completed 18496/19692\n",
            "Completed 18560/19692\n",
            "Completed 18624/19692\n",
            "Completed 18688/19692\n",
            "Completed 18752/19692\n",
            "Completed 18816/19692\n",
            "Completed 18880/19692\n",
            "Completed 18944/19692\n",
            "Completed 19008/19692\n",
            "Completed 19072/19692\n",
            "Completed 19136/19692\n",
            "Completed 19200/19692\n",
            "Completed 19264/19692\n",
            "Completed 19328/19692\n",
            "Completed 19392/19692\n",
            "Completed 19456/19692\n",
            "Completed 19520/19692\n",
            "Completed 19584/19692\n",
            "Completed 19648/19692\n",
            "Completed 19692/19692\n",
            "PROGRESS: Creating a validation set from 5 percent of training data. This may take a while.\n",
            "          You can set ``validation_set=None`` to disable validation tracking.\n",
            "\n"
          ],
          "name": "stdout"
        },
        {
          "output_type": "display_data",
          "data": {
            "text/html": [
              "<pre>Logistic regression:</pre>"
            ],
            "text/plain": [
              "Logistic regression:"
            ]
          },
          "metadata": {
            "tags": []
          }
        },
        {
          "output_type": "display_data",
          "data": {
            "text/html": [
              "<pre>--------------------------------------------------------</pre>"
            ],
            "text/plain": [
              "--------------------------------------------------------"
            ]
          },
          "metadata": {
            "tags": []
          }
        },
        {
          "output_type": "display_data",
          "data": {
            "text/html": [
              "<pre>Number of examples          : 18742</pre>"
            ],
            "text/plain": [
              "Number of examples          : 18742"
            ]
          },
          "metadata": {
            "tags": []
          }
        },
        {
          "output_type": "display_data",
          "data": {
            "text/html": [
              "<pre>Number of classes           : 2</pre>"
            ],
            "text/plain": [
              "Number of classes           : 2"
            ]
          },
          "metadata": {
            "tags": []
          }
        },
        {
          "output_type": "display_data",
          "data": {
            "text/html": [
              "<pre>Number of feature columns   : 1</pre>"
            ],
            "text/plain": [
              "Number of feature columns   : 1"
            ]
          },
          "metadata": {
            "tags": []
          }
        },
        {
          "output_type": "display_data",
          "data": {
            "text/html": [
              "<pre>Number of unpacked features : 2048</pre>"
            ],
            "text/plain": [
              "Number of unpacked features : 2048"
            ]
          },
          "metadata": {
            "tags": []
          }
        },
        {
          "output_type": "display_data",
          "data": {
            "text/html": [
              "<pre>Number of coefficients      : 2049</pre>"
            ],
            "text/plain": [
              "Number of coefficients      : 2049"
            ]
          },
          "metadata": {
            "tags": []
          }
        },
        {
          "output_type": "display_data",
          "data": {
            "text/html": [
              "<pre>Starting L-BFGS</pre>"
            ],
            "text/plain": [
              "Starting L-BFGS"
            ]
          },
          "metadata": {
            "tags": []
          }
        },
        {
          "output_type": "display_data",
          "data": {
            "text/html": [
              "<pre>--------------------------------------------------------</pre>"
            ],
            "text/plain": [
              "--------------------------------------------------------"
            ]
          },
          "metadata": {
            "tags": []
          }
        },
        {
          "output_type": "display_data",
          "data": {
            "text/html": [
              "<pre>+-----------+----------+-----------+--------------+-------------------+---------------------+</pre>"
            ],
            "text/plain": [
              "+-----------+----------+-----------+--------------+-------------------+---------------------+"
            ]
          },
          "metadata": {
            "tags": []
          }
        },
        {
          "output_type": "display_data",
          "data": {
            "text/html": [
              "<pre>| Iteration | Passes   | Step size | Elapsed Time | Training Accuracy | Validation Accuracy |</pre>"
            ],
            "text/plain": [
              "| Iteration | Passes   | Step size | Elapsed Time | Training Accuracy | Validation Accuracy |"
            ]
          },
          "metadata": {
            "tags": []
          }
        },
        {
          "output_type": "display_data",
          "data": {
            "text/html": [
              "<pre>+-----------+----------+-----------+--------------+-------------------+---------------------+</pre>"
            ],
            "text/plain": [
              "+-----------+----------+-----------+--------------+-------------------+---------------------+"
            ]
          },
          "metadata": {
            "tags": []
          }
        },
        {
          "output_type": "display_data",
          "data": {
            "text/html": [
              "<pre>| 0         | 1        | NaN       | 1.720381     | 0.498293          | 0.516842            |</pre>"
            ],
            "text/plain": [
              "| 0         | 1        | NaN       | 1.720381     | 0.498293          | 0.516842            |"
            ]
          },
          "metadata": {
            "tags": []
          }
        },
        {
          "output_type": "display_data",
          "data": {
            "text/html": [
              "<pre>| 1         | 3        | 0.000053  | 4.211653     | 0.981485          | 0.987368            |</pre>"
            ],
            "text/plain": [
              "| 1         | 3        | 0.000053  | 4.211653     | 0.981485          | 0.987368            |"
            ]
          },
          "metadata": {
            "tags": []
          }
        },
        {
          "output_type": "display_data",
          "data": {
            "text/html": [
              "<pre>| 2         | 6        | 0.500000  | 7.342990     | 0.981966          | 0.989474            |</pre>"
            ],
            "text/plain": [
              "| 2         | 6        | 0.500000  | 7.342990     | 0.981966          | 0.989474            |"
            ]
          },
          "metadata": {
            "tags": []
          }
        },
        {
          "output_type": "display_data",
          "data": {
            "text/html": [
              "<pre>| 3         | 7        | 0.500000  | 9.115636     | 0.983139          | 0.988421            |</pre>"
            ],
            "text/plain": [
              "| 3         | 7        | 0.500000  | 9.115636     | 0.983139          | 0.988421            |"
            ]
          },
          "metadata": {
            "tags": []
          }
        },
        {
          "output_type": "display_data",
          "data": {
            "text/html": [
              "<pre>| 4         | 8        | 0.500000  | 10.892599    | 0.984153          | 0.989474            |</pre>"
            ],
            "text/plain": [
              "| 4         | 8        | 0.500000  | 10.892599    | 0.984153          | 0.989474            |"
            ]
          },
          "metadata": {
            "tags": []
          }
        },
        {
          "output_type": "display_data",
          "data": {
            "text/html": [
              "<pre>| 5         | 9        | 0.500000  | 12.630795    | 0.985434          | 0.991579            |</pre>"
            ],
            "text/plain": [
              "| 5         | 9        | 0.500000  | 12.630795    | 0.985434          | 0.991579            |"
            ]
          },
          "metadata": {
            "tags": []
          }
        },
        {
          "output_type": "display_data",
          "data": {
            "text/html": [
              "<pre>| 10        | 15       | 1.000000  | 22.001731    | 0.990769          | 0.993684            |</pre>"
            ],
            "text/plain": [
              "| 10        | 15       | 1.000000  | 22.001731    | 0.990769          | 0.993684            |"
            ]
          },
          "metadata": {
            "tags": []
          }
        },
        {
          "output_type": "display_data",
          "data": {
            "text/html": [
              "<pre>+-----------+----------+-----------+--------------+-------------------+---------------------+</pre>"
            ],
            "text/plain": [
              "+-----------+----------+-----------+--------------+-------------------+---------------------+"
            ]
          },
          "metadata": {
            "tags": []
          }
        },
        {
          "output_type": "display_data",
          "data": {
            "text/html": [
              "<pre>Completed (Iteration limit reached).</pre>"
            ],
            "text/plain": [
              "Completed (Iteration limit reached)."
            ]
          },
          "metadata": {
            "tags": []
          }
        },
        {
          "output_type": "display_data",
          "data": {
            "text/html": [
              "<pre>This model may not be optimal. To improve it, consider increasing `max_iterations`.</pre>"
            ],
            "text/plain": [
              "This model may not be optimal. To improve it, consider increasing `max_iterations`."
            ]
          },
          "metadata": {
            "tags": []
          }
        }
      ]
    },
    {
      "metadata": {
        "id": "AyqoIXoHmTAY",
        "colab_type": "code",
        "colab": {}
      },
      "cell_type": "code",
      "source": [
        "# Save predictions to an SArray\n",
        "predictions = model.predict(test_data)"
      ],
      "execution_count": 0,
      "outputs": []
    },
    {
      "metadata": {
        "id": "GgKU1Zroti6J",
        "colab_type": "code",
        "colab": {
          "base_uri": "https://localhost:8080/",
          "height": 1493
        },
        "outputId": "c79d6ad3-b1fd-4446-f34c-9bb52e571f16"
      },
      "cell_type": "code",
      "source": [
        "# Evaluate the model and save the results into a dictionary\n",
        "metrics = model.evaluate(test_data)"
      ],
      "execution_count": 15,
      "outputs": [
        {
          "output_type": "stream",
          "text": [
            "Performing feature extraction on resized images...\n",
            "Completed   64/5077\n",
            "Completed  128/5077\n",
            "Completed  192/5077\n",
            "Completed  256/5077\n",
            "Completed  320/5077\n",
            "Completed  384/5077\n",
            "Completed  448/5077\n",
            "Completed  512/5077\n",
            "Completed  576/5077\n",
            "Completed  640/5077\n",
            "Completed  704/5077\n",
            "Completed  768/5077\n",
            "Completed  832/5077\n",
            "Completed  896/5077\n",
            "Completed  960/5077\n",
            "Completed 1024/5077\n",
            "Completed 1088/5077\n",
            "Completed 1152/5077\n",
            "Completed 1216/5077\n",
            "Completed 1280/5077\n",
            "Completed 1344/5077\n",
            "Completed 1408/5077\n",
            "Completed 1472/5077\n",
            "Completed 1536/5077\n",
            "Completed 1600/5077\n",
            "Completed 1664/5077\n",
            "Completed 1728/5077\n",
            "Completed 1792/5077\n",
            "Completed 1856/5077\n",
            "Completed 1920/5077\n",
            "Completed 1984/5077\n",
            "Completed 2048/5077\n",
            "Completed 2112/5077\n",
            "Completed 2176/5077\n",
            "Completed 2240/5077\n",
            "Completed 2304/5077\n",
            "Completed 2368/5077\n",
            "Completed 2432/5077\n",
            "Completed 2496/5077\n",
            "Completed 2560/5077\n",
            "Completed 2624/5077\n",
            "Completed 2688/5077\n",
            "Completed 2752/5077\n",
            "Completed 2816/5077\n",
            "Completed 2880/5077\n",
            "Completed 2944/5077\n",
            "Completed 3008/5077\n",
            "Completed 3072/5077\n",
            "Completed 3136/5077\n",
            "Completed 3200/5077\n",
            "Completed 3264/5077\n",
            "Completed 3328/5077\n",
            "Completed 3392/5077\n",
            "Completed 3456/5077\n",
            "Completed 3520/5077\n",
            "Completed 3584/5077\n",
            "Completed 3648/5077\n",
            "Completed 3712/5077\n",
            "Completed 3776/5077\n",
            "Completed 3840/5077\n",
            "Completed 3904/5077\n",
            "Completed 3968/5077\n",
            "Completed 4032/5077\n",
            "Completed 4096/5077\n",
            "Completed 4160/5077\n",
            "Completed 4224/5077\n",
            "Completed 4288/5077\n",
            "Completed 4352/5077\n",
            "Completed 4416/5077\n",
            "Completed 4480/5077\n",
            "Completed 4544/5077\n",
            "Completed 4608/5077\n",
            "Completed 4672/5077\n",
            "Completed 4736/5077\n",
            "Completed 4800/5077\n",
            "Completed 4864/5077\n",
            "Completed 4928/5077\n",
            "Completed 4992/5077\n",
            "Completed 5056/5077\n",
            "Completed 5077/5077\n",
            "0.9913334646444751\n"
          ],
          "name": "stdout"
        }
      ]
    },
    {
      "metadata": {
        "id": "d_nj8J53zPOS",
        "colab_type": "code",
        "colab": {
          "base_uri": "https://localhost:8080/",
          "height": 35
        },
        "outputId": "4bc30de6-f5e8-418a-f04a-e24851db948b"
      },
      "cell_type": "code",
      "source": [
        "print(metrics)"
      ],
      "execution_count": 27,
      "outputs": [
        {
          "output_type": "stream",
          "text": [
            "0.9913334646444751\n"
          ],
          "name": "stdout"
        }
      ]
    },
    {
      "metadata": {
        "id": "gNn_DIN2fJNN",
        "colab_type": "text"
      },
      "cell_type": "markdown",
      "source": [
        "## Save and Export Model"
      ]
    },
    {
      "metadata": {
        "id": "teoLU_jefEdS",
        "colab_type": "code",
        "colab": {
          "base_uri": "https://localhost:8080/",
          "height": 71
        },
        "outputId": "d6c10544-0568-453e-a80e-2bfb7f31fa27"
      },
      "cell_type": "code",
      "source": [
        "# Save the model for later use in Turi Create\n",
        "model.save('ImageClassifier.model')\n",
        "\n",
        "# Export for use in Core ML\n",
        "model.export_coreml('ImageClassifier.mlmodel')"
      ],
      "execution_count": 19,
      "outputs": [
        {
          "output_type": "stream",
          "text": [
            "/usr/local/lib/python3.6/dist-packages/coremltools/_deps/__init__.py:118: DeprecationWarning: The 'warn' function is deprecated, use 'warning' instead\n",
            "  % (tensorflow.__version__, TF_MAX_VERSION))\n",
            "WARNING:root:TensorFlow version 1.10.1 detected. Last version known to be fully compatible is 1.5.0 .\n"
          ],
          "name": "stderr"
        }
      ]
    },
    {
      "metadata": {
        "id": "q0fedl2Ht7pp",
        "colab_type": "code",
        "colab": {
          "base_uri": "https://localhost:8080/",
          "height": 467
        },
        "outputId": "0cd90261-e49c-4a32-b58b-0152debd5d12"
      },
      "cell_type": "code",
      "source": [
        "# download mlmodel locally\n",
        "from google.colab import files\n",
        "files.download(\"ImageClassifier.mlmodel\")"
      ],
      "execution_count": 20,
      "outputs": [
        {
          "output_type": "stream",
          "text": [
            "----------------------------------------\n",
            "Exception happened during processing of request from ('::ffff:127.0.0.1', 46352, 0, 0)\n",
            "Traceback (most recent call last):\n",
            "  File \"/usr/lib/python3.6/socketserver.py\", line 317, in _handle_request_noblock\n",
            "    self.process_request(request, client_address)\n",
            "  File \"/usr/lib/python3.6/socketserver.py\", line 348, in process_request\n",
            "    self.finish_request(request, client_address)\n",
            "  File \"/usr/lib/python3.6/socketserver.py\", line 361, in finish_request\n",
            "    self.RequestHandlerClass(request, client_address, self)\n",
            "  File \"/usr/lib/python3.6/socketserver.py\", line 696, in __init__\n",
            "    self.handle()\n",
            "  File \"/usr/lib/python3.6/http/server.py\", line 418, in handle\n",
            "    self.handle_one_request()\n",
            "  File \"/usr/lib/python3.6/http/server.py\", line 406, in handle_one_request\n",
            "    method()\n",
            "  File \"/usr/lib/python3.6/http/server.py\", line 639, in do_GET\n",
            "    self.copyfile(f, self.wfile)\n",
            "  File \"/usr/lib/python3.6/http/server.py\", line 800, in copyfile\n",
            "    shutil.copyfileobj(source, outputfile)\n",
            "  File \"/usr/lib/python3.6/shutil.py\", line 82, in copyfileobj\n",
            "    fdst.write(buf)\n",
            "  File \"/usr/lib/python3.6/socketserver.py\", line 775, in write\n",
            "    self._sock.sendall(b)\n",
            "ConnectionResetError: [Errno 104] Connection reset by peer\n",
            "----------------------------------------\n"
          ],
          "name": "stderr"
        }
      ]
    },
    {
      "metadata": {
        "id": "b3MZYf69v3NK",
        "colab_type": "code",
        "colab": {
          "base_uri": "https://localhost:8080/",
          "height": 35
        },
        "outputId": "293f0d81-7e71-4299-a66f-7b2a21b01524"
      },
      "cell_type": "code",
      "source": [
        "# copy model to Google Drive\n",
        "from shutil import copy\n",
        "copy(\"/content/ImageClassifier.mlmodel\", \"/content/drive/My Drive/Colab Notebooks/data/models/ImageClassifier.mlmodel\")"
      ],
      "execution_count": 22,
      "outputs": [
        {
          "output_type": "execute_result",
          "data": {
            "text/plain": [
              "'/content/drive/Colab Notebooks/data/ImageClassifier.mlmodel'"
            ]
          },
          "metadata": {
            "tags": []
          },
          "execution_count": 22
        }
      ]
    },
    {
      "metadata": {
        "id": "ZlzIuLPIEb0n",
        "colab_type": "text"
      },
      "cell_type": "markdown",
      "source": [
        "Test predictions on images from web"
      ]
    },
    {
      "metadata": {
        "id": "pkNqlkeOEeVo",
        "colab_type": "code",
        "colab": {
          "base_uri": "https://localhost:8080/",
          "height": 689
        },
        "outputId": "c0eb12fa-30ad-4ecb-c595-15b2eed5fd9c"
      },
      "cell_type": "code",
      "source": [
        "dog_image_url = \"https://i.pinimg.com/originals/9a/dd/81/9add8195db39a85b2bfb0791fe5eb871.jpg\"\n",
        "dog_image = tc.Image(dog_image_url)\n",
        "dog_image_thumb = tc.image_analysis.resize(dog_image, 150, 200)\n",
        "dog_image_thumb.save(\"dog_image_thumb.jpg\")\n",
        "dog_image_thumb_pil = Image.open(\"dog_image_thumb.jpg\")\n",
        "display(dog_image_thumb_pil)\n",
        "print(model.predict(dog_image))\n",
        "\n",
        "cat_image_url = \"https://i.pinimg.com/originals/1e/ee/89/1eee8994e56beebd25ff7c1f10ded135.jpg\"\n",
        "cat_image = tc.Image(cat_image_url)\n",
        "cat_image_thumb = tc.image_analysis.resize(cat_image, 150, 200)\n",
        "cat_image_thumb.save(\"cat_image_thumb.jpg\")\n",
        "cat_image_thumb_pil = Image.open(\"cat_image_thumb.jpg\")\n",
        "display(cat_image_thumb_pil)\n",
        "print(model.predict(cat_image))\n",
        "\n",
        "other_image_url = \"https://magazin.lionline.sk/wp-content/uploads/2017/11/9-7.jpg\"\n",
        "other_image = tc.Image(other_image_url)\n",
        "other_image_thumb = tc.image_analysis.resize(other_image, 150, 200)\n",
        "other_image_thumb.save(\"other_image_thumb.jpg\")\n",
        "other_image_thumb_pil = Image.open(\"other_image_thumb.jpg\")\n",
        "display(other_image_thumb_pil)\n",
        "print(model.predict(other_image))"
      ],
      "execution_count": 41,
      "outputs": [
        {
          "output_type": "display_data",
          "data": {
            "image/png": "[encoded data removed]",
            "text/plain": [
              "<PIL.JpegImagePlugin.JpegImageFile image mode=RGB size=150x200 at 0x7FC1204C3860>"
            ]
          },
          "metadata": {
            "tags": []
          }
        },
        {
          "output_type": "stream",
          "text": [
            "dog\n"
          ],
          "name": "stdout"
        },
        {
          "output_type": "display_data",
          "data": {
            "image/png": "[encoded data removed]",
            "text/plain": [
              "<PIL.JpegImagePlugin.JpegImageFile image mode=RGB size=150x200 at 0x7FC1204C3898>"
            ]
          },
          "metadata": {
            "tags": []
          }
        },
        {
          "output_type": "stream",
          "text": [
            "cat\n"
          ],
          "name": "stdout"
        },
        {
          "output_type": "display_data",
          "data": {
            "text/html": [
              "<pre>Downloading https://magazin.lionline.sk/wp-content/uploads/2017/11/9-7.jpg to /var/tmp/turicreate-root/14765/71b99b5e-4512-42ff-89ee-eca329a58627.jpg</pre>"
            ],
            "text/plain": [
              "Downloading https://magazin.lionline.sk/wp-content/uploads/2017/11/9-7.jpg to /var/tmp/turicreate-root/14765/71b99b5e-4512-42ff-89ee-eca329a58627.jpg"
            ]
          },
          "metadata": {
            "tags": []
          }
        },
        {
          "output_type": "display_data",
          "data": {
            "image/png": "[encoded data removed]",
            "text/plain": [
              "<PIL.JpegImagePlugin.JpegImageFile image mode=RGB size=150x200 at 0x7FC1203FCE80>"
            ]
          },
          "metadata": {
            "tags": []
          }
        },
        {
          "output_type": "stream",
          "text": [
            "cat\n"
          ],
          "name": "stdout"
        }
      ]
    },
    {
      "metadata": {
        "id": "hgoQV2q8EjIn",
        "colab_type": "text"
      },
      "cell_type": "markdown",
      "source": [
        "## Changing Models\n",
        "\n",
        "The image classifier toolkit is based on a technique known as transfer learning. At a high level, model creation is accomplished by simply removing the output layer of the Deep Neural Network for 1000 categories, and taking the signals that would have been propagating to the output layer and feeding them as features to any classifier for our task.\n",
        "\n",
        "The advanced options let you select from a set of pre-trained models which can result in a model having various size, performance, and accuracy characteristics.\n",
        "\n",
        "Uses a pretrained model to bootstrap an image classifier:\n",
        "\n",
        "*   “resnet-50” : Uses a pretrained resnet model. Exported Core ML model will be ~90M.\n",
        "*   “squeezenet_v1.1” : Uses a pretrained squeezenet model. Exported Core ML model will be ~4.7M.\n",
        "*   “VisionFeaturePrint_Screen”: Uses an OS internal feature extractor. (Only on available on iOS 12.0+, macOS 10.14+ and tvOS 12.0+). Exported Core ML model will be ~41K.\n",
        "\n",
        "Using the following option, you can change to use squeezenet which can trade off some accuracy for a smaller model with a lower memory and disk foot-print."
      ]
    },
    {
      "metadata": {
        "id": "_7Kzub9zEktF",
        "colab_type": "code",
        "colab": {
          "base_uri": "https://localhost:8080/",
          "height": 6101
        },
        "outputId": "a98cc2d5-0fc3-43cf-b654-dce81f2e204d"
      },
      "cell_type": "code",
      "source": [
        "model = tc.image_classifier.create(\n",
        "               train_data, target='label', model='squeezenet_v1.1')"
      ],
      "execution_count": 28,
      "outputs": [
        {
          "output_type": "stream",
          "text": [
            "Downloading https://docs-assets.developer.apple.com/turicreate/models/squeezenet_v1.1-symbol.json\n",
            "Download completed: /var/tmp/model_cache/squeezenet_v1.1-symbol.json\n",
            "Downloading https://docs-assets.developer.apple.com/turicreate/models/squeezenet_v1.1-0000.params\n",
            "Download completed: /var/tmp/model_cache/squeezenet_v1.1-0000.params\n",
            "Performing feature extraction on resized images...\n",
            "Completed    64/19692\n",
            "Completed   128/19692\n",
            "Completed   192/19692\n",
            "Completed   256/19692\n",
            "Completed   320/19692\n",
            "Completed   384/19692\n",
            "Completed   448/19692\n",
            "Completed   512/19692\n",
            "Completed   576/19692\n",
            "Completed   640/19692\n",
            "Completed   704/19692\n",
            "Completed   768/19692\n",
            "Completed   832/19692\n",
            "Completed   896/19692\n",
            "Completed   960/19692\n",
            "Completed  1024/19692\n",
            "Completed  1088/19692\n",
            "Completed  1152/19692\n",
            "Completed  1216/19692\n",
            "Completed  1280/19692\n",
            "Completed  1344/19692\n",
            "Completed  1408/19692\n",
            "Completed  1472/19692\n",
            "Completed  1536/19692\n",
            "Completed  1600/19692\n",
            "Completed  1664/19692\n",
            "Completed  1728/19692\n",
            "Completed  1792/19692\n",
            "Completed  1856/19692\n",
            "Completed  1920/19692\n",
            "Completed  1984/19692\n",
            "Completed  2048/19692\n",
            "Completed  2112/19692\n",
            "Completed  2176/19692\n",
            "Completed  2240/19692\n",
            "Completed  2304/19692\n",
            "Completed  2368/19692\n",
            "Completed  2432/19692\n",
            "Completed  2496/19692\n",
            "Completed  2560/19692\n",
            "Completed  2624/19692\n",
            "Completed  2688/19692\n",
            "Completed  2752/19692\n",
            "Completed  2816/19692\n",
            "Completed  2880/19692\n",
            "Completed  2944/19692\n",
            "Completed  3008/19692\n",
            "Completed  3072/19692\n",
            "Completed  3136/19692\n",
            "Completed  3200/19692\n",
            "Completed  3264/19692\n",
            "Completed  3328/19692\n",
            "Completed  3392/19692\n",
            "Completed  3456/19692\n",
            "Completed  3520/19692\n",
            "Completed  3584/19692\n",
            "Completed  3648/19692\n",
            "Completed  3712/19692\n",
            "Completed  3776/19692\n",
            "Completed  3840/19692\n",
            "Completed  3904/19692\n",
            "Completed  3968/19692\n",
            "Completed  4032/19692\n",
            "Completed  4096/19692\n",
            "Completed  4160/19692\n",
            "Completed  4224/19692\n",
            "Completed  4288/19692\n",
            "Completed  4352/19692\n",
            "Completed  4416/19692\n",
            "Completed  4480/19692\n",
            "Completed  4544/19692\n",
            "Completed  4608/19692\n",
            "Completed  4672/19692\n",
            "Completed  4736/19692\n",
            "Completed  4800/19692\n",
            "Completed  4864/19692\n",
            "Completed  4928/19692\n",
            "Completed  4992/19692\n",
            "Completed  5056/19692\n",
            "Completed  5120/19692\n",
            "Completed  5184/19692\n",
            "Completed  5248/19692\n",
            "Completed  5312/19692\n",
            "Completed  5376/19692\n",
            "Completed  5440/19692\n",
            "Completed  5504/19692\n",
            "Completed  5568/19692\n",
            "Completed  5632/19692\n",
            "Completed  5696/19692\n",
            "Completed  5760/19692\n",
            "Completed  5824/19692\n",
            "Completed  5888/19692\n",
            "Completed  5952/19692\n",
            "Completed  6016/19692\n",
            "Completed  6080/19692\n",
            "Completed  6144/19692\n",
            "Completed  6208/19692\n",
            "Completed  6272/19692\n",
            "Completed  6336/19692\n",
            "Completed  6400/19692\n",
            "Completed  6464/19692\n",
            "Completed  6528/19692\n",
            "Completed  6592/19692\n",
            "Completed  6656/19692\n",
            "Completed  6720/19692\n",
            "Completed  6784/19692\n",
            "Completed  6848/19692\n",
            "Completed  6912/19692\n",
            "Completed  6976/19692\n",
            "Completed  7040/19692\n",
            "Completed  7104/19692\n",
            "Completed  7168/19692\n",
            "Completed  7232/19692\n",
            "Completed  7296/19692\n",
            "Completed  7360/19692\n",
            "Completed  7424/19692\n",
            "Completed  7488/19692\n",
            "Completed  7552/19692\n",
            "Completed  7616/19692\n",
            "Completed  7680/19692\n",
            "Completed  7744/19692\n",
            "Completed  7808/19692\n",
            "Completed  7872/19692\n",
            "Completed  7936/19692\n",
            "Completed  8000/19692\n",
            "Completed  8064/19692\n",
            "Completed  8128/19692\n",
            "Completed  8192/19692\n",
            "Completed  8256/19692\n",
            "Completed  8320/19692\n",
            "Completed  8384/19692\n",
            "Completed  8448/19692\n",
            "Completed  8512/19692\n",
            "Completed  8576/19692\n",
            "Completed  8640/19692\n",
            "Completed  8704/19692\n",
            "Completed  8768/19692\n",
            "Completed  8832/19692\n",
            "Completed  8896/19692\n",
            "Completed  8960/19692\n",
            "Completed  9024/19692\n",
            "Completed  9088/19692\n",
            "Completed  9152/19692\n",
            "Completed  9216/19692\n",
            "Completed  9280/19692\n",
            "Completed  9344/19692\n",
            "Completed  9408/19692\n",
            "Completed  9472/19692\n",
            "Completed  9536/19692\n",
            "Completed  9600/19692\n",
            "Completed  9664/19692\n",
            "Completed  9728/19692\n",
            "Completed  9792/19692\n",
            "Completed  9856/19692\n",
            "Completed  9920/19692\n",
            "Completed  9984/19692\n",
            "Completed 10048/19692\n",
            "Completed 10112/19692\n",
            "Completed 10176/19692\n",
            "Completed 10240/19692\n",
            "Completed 10304/19692\n",
            "Completed 10368/19692\n",
            "Completed 10432/19692\n",
            "Completed 10496/19692\n",
            "Completed 10560/19692\n",
            "Completed 10624/19692\n",
            "Completed 10688/19692\n",
            "Completed 10752/19692\n",
            "Completed 10816/19692\n",
            "Completed 10880/19692\n",
            "Completed 10944/19692\n",
            "Completed 11008/19692\n",
            "Completed 11072/19692\n",
            "Completed 11136/19692\n",
            "Completed 11200/19692\n",
            "Completed 11264/19692\n",
            "Completed 11328/19692\n",
            "Completed 11392/19692\n",
            "Completed 11456/19692\n",
            "Completed 11520/19692\n",
            "Completed 11584/19692\n",
            "Completed 11648/19692\n",
            "Completed 11712/19692\n",
            "Completed 11776/19692\n",
            "Completed 11840/19692\n",
            "Completed 11904/19692\n",
            "Completed 11968/19692\n",
            "Completed 12032/19692\n",
            "Completed 12096/19692\n",
            "Completed 12160/19692\n",
            "Completed 12224/19692\n",
            "Completed 12288/19692\n",
            "Completed 12352/19692\n",
            "Completed 12416/19692\n",
            "Completed 12480/19692\n",
            "Completed 12544/19692\n",
            "Completed 12608/19692\n",
            "Completed 12672/19692\n",
            "Completed 12736/19692\n",
            "Completed 12800/19692\n",
            "Completed 12864/19692\n",
            "Completed 12928/19692\n",
            "Completed 12992/19692\n",
            "Completed 13056/19692\n",
            "Completed 13120/19692\n",
            "Completed 13184/19692\n",
            "Completed 13248/19692\n",
            "Completed 13312/19692\n",
            "Completed 13376/19692\n",
            "Completed 13440/19692\n",
            "Completed 13504/19692\n",
            "Completed 13568/19692\n",
            "Completed 13632/19692\n",
            "Completed 13696/19692\n",
            "Completed 13760/19692\n",
            "Completed 13824/19692\n",
            "Completed 13888/19692\n",
            "Completed 13952/19692\n",
            "Completed 14016/19692\n",
            "Completed 14080/19692\n",
            "Completed 14144/19692\n",
            "Completed 14208/19692\n",
            "Completed 14272/19692\n",
            "Completed 14336/19692\n",
            "Completed 14400/19692\n",
            "Completed 14464/19692\n",
            "Completed 14528/19692\n",
            "Completed 14592/19692\n",
            "Completed 14656/19692\n",
            "Completed 14720/19692\n",
            "Completed 14784/19692\n",
            "Completed 14848/19692\n",
            "Completed 14912/19692\n",
            "Completed 14976/19692\n",
            "Completed 15040/19692\n",
            "Completed 15104/19692\n",
            "Completed 15168/19692\n",
            "Completed 15232/19692\n",
            "Completed 15296/19692\n",
            "Completed 15360/19692\n",
            "Completed 15424/19692\n",
            "Completed 15488/19692\n",
            "Completed 15552/19692\n",
            "Completed 15616/19692\n",
            "Completed 15680/19692\n",
            "Completed 15744/19692\n",
            "Completed 15808/19692\n",
            "Completed 15872/19692\n",
            "Completed 15936/19692\n",
            "Completed 16000/19692\n",
            "Completed 16064/19692\n",
            "Completed 16128/19692\n",
            "Completed 16192/19692\n",
            "Completed 16256/19692\n",
            "Completed 16320/19692\n",
            "Completed 16384/19692\n",
            "Completed 16448/19692\n",
            "Completed 16512/19692\n",
            "Completed 16576/19692\n",
            "Completed 16640/19692\n",
            "Completed 16704/19692\n",
            "Completed 16768/19692\n",
            "Completed 16832/19692\n",
            "Completed 16896/19692\n",
            "Completed 16960/19692\n",
            "Completed 17024/19692\n",
            "Completed 17088/19692\n",
            "Completed 17152/19692\n",
            "Completed 17216/19692\n",
            "Completed 17280/19692\n",
            "Completed 17344/19692\n",
            "Completed 17408/19692\n",
            "Completed 17472/19692\n",
            "Completed 17536/19692\n",
            "Completed 17600/19692\n",
            "Completed 17664/19692\n",
            "Completed 17728/19692\n",
            "Completed 17792/19692\n",
            "Completed 17856/19692\n",
            "Completed 17920/19692\n",
            "Completed 17984/19692\n",
            "Completed 18048/19692\n",
            "Completed 18112/19692\n",
            "Completed 18176/19692\n",
            "Completed 18240/19692\n",
            "Completed 18304/19692\n",
            "Completed 18368/19692\n",
            "Completed 18432/19692\n",
            "Completed 18496/19692\n",
            "Completed 18560/19692\n",
            "Completed 18624/19692\n",
            "Completed 18688/19692\n",
            "Completed 18752/19692\n",
            "Completed 18816/19692\n",
            "Completed 18880/19692\n",
            "Completed 18944/19692\n",
            "Completed 19008/19692\n",
            "Completed 19072/19692\n",
            "Completed 19136/19692\n",
            "Completed 19200/19692\n",
            "Completed 19264/19692\n",
            "Completed 19328/19692\n",
            "Completed 19392/19692\n",
            "Completed 19456/19692\n",
            "Completed 19520/19692\n",
            "Completed 19584/19692\n",
            "Completed 19648/19692\n",
            "Completed 19692/19692\n",
            "PROGRESS: Creating a validation set from 5 percent of training data. This may take a while.\n",
            "          You can set ``validation_set=None`` to disable validation tracking.\n",
            "\n"
          ],
          "name": "stdout"
        },
        {
          "output_type": "display_data",
          "data": {
            "text/html": [
              "<pre>Logistic regression:</pre>"
            ],
            "text/plain": [
              "Logistic regression:"
            ]
          },
          "metadata": {
            "tags": []
          }
        },
        {
          "output_type": "display_data",
          "data": {
            "text/html": [
              "<pre>--------------------------------------------------------</pre>"
            ],
            "text/plain": [
              "--------------------------------------------------------"
            ]
          },
          "metadata": {
            "tags": []
          }
        },
        {
          "output_type": "display_data",
          "data": {
            "text/html": [
              "<pre>Number of examples          : 18691</pre>"
            ],
            "text/plain": [
              "Number of examples          : 18691"
            ]
          },
          "metadata": {
            "tags": []
          }
        },
        {
          "output_type": "display_data",
          "data": {
            "text/html": [
              "<pre>Number of classes           : 2</pre>"
            ],
            "text/plain": [
              "Number of classes           : 2"
            ]
          },
          "metadata": {
            "tags": []
          }
        },
        {
          "output_type": "display_data",
          "data": {
            "text/html": [
              "<pre>Number of feature columns   : 1</pre>"
            ],
            "text/plain": [
              "Number of feature columns   : 1"
            ]
          },
          "metadata": {
            "tags": []
          }
        },
        {
          "output_type": "display_data",
          "data": {
            "text/html": [
              "<pre>Number of unpacked features : 1000</pre>"
            ],
            "text/plain": [
              "Number of unpacked features : 1000"
            ]
          },
          "metadata": {
            "tags": []
          }
        },
        {
          "output_type": "display_data",
          "data": {
            "text/html": [
              "<pre>Number of coefficients      : 1001</pre>"
            ],
            "text/plain": [
              "Number of coefficients      : 1001"
            ]
          },
          "metadata": {
            "tags": []
          }
        },
        {
          "output_type": "display_data",
          "data": {
            "text/html": [
              "<pre>Starting L-BFGS</pre>"
            ],
            "text/plain": [
              "Starting L-BFGS"
            ]
          },
          "metadata": {
            "tags": []
          }
        },
        {
          "output_type": "display_data",
          "data": {
            "text/html": [
              "<pre>--------------------------------------------------------</pre>"
            ],
            "text/plain": [
              "--------------------------------------------------------"
            ]
          },
          "metadata": {
            "tags": []
          }
        },
        {
          "output_type": "display_data",
          "data": {
            "text/html": [
              "<pre>+-----------+----------+-----------+--------------+-------------------+---------------------+</pre>"
            ],
            "text/plain": [
              "+-----------+----------+-----------+--------------+-------------------+---------------------+"
            ]
          },
          "metadata": {
            "tags": []
          }
        },
        {
          "output_type": "display_data",
          "data": {
            "text/html": [
              "<pre>| Iteration | Passes   | Step size | Elapsed Time | Training Accuracy | Validation Accuracy |</pre>"
            ],
            "text/plain": [
              "| Iteration | Passes   | Step size | Elapsed Time | Training Accuracy | Validation Accuracy |"
            ]
          },
          "metadata": {
            "tags": []
          }
        },
        {
          "output_type": "display_data",
          "data": {
            "text/html": [
              "<pre>+-----------+----------+-----------+--------------+-------------------+---------------------+</pre>"
            ],
            "text/plain": [
              "+-----------+----------+-----------+--------------+-------------------+---------------------+"
            ]
          },
          "metadata": {
            "tags": []
          }
        },
        {
          "output_type": "display_data",
          "data": {
            "text/html": [
              "<pre>| 0         | 1        | NaN       | 0.421222     | 0.499866          | 0.486513            |</pre>"
            ],
            "text/plain": [
              "| 0         | 1        | NaN       | 0.421222     | 0.499866          | 0.486513            |"
            ]
          },
          "metadata": {
            "tags": []
          }
        },
        {
          "output_type": "display_data",
          "data": {
            "text/html": [
              "<pre>| 1         | 6        | 0.000004  | 2.862163     | 0.509604          | 0.500500            |</pre>"
            ],
            "text/plain": [
              "| 1         | 6        | 0.000004  | 2.862163     | 0.509604          | 0.500500            |"
            ]
          },
          "metadata": {
            "tags": []
          }
        },
        {
          "output_type": "display_data",
          "data": {
            "text/html": [
              "<pre>| 2         | 9        | 5.000000  | 4.579743     | 0.903108          | 0.892108            |</pre>"
            ],
            "text/plain": [
              "| 2         | 9        | 5.000000  | 4.579743     | 0.903108          | 0.892108            |"
            ]
          },
          "metadata": {
            "tags": []
          }
        },
        {
          "output_type": "display_data",
          "data": {
            "text/html": [
              "<pre>| 3         | 10       | 5.000000  | 5.487260     | 0.867209          | 0.878122            |</pre>"
            ],
            "text/plain": [
              "| 3         | 10       | 5.000000  | 5.487260     | 0.867209          | 0.878122            |"
            ]
          },
          "metadata": {
            "tags": []
          }
        },
        {
          "output_type": "display_data",
          "data": {
            "text/html": [
              "<pre>| 4         | 12       | 1.000000  | 6.807480     | 0.905730          | 0.906094            |</pre>"
            ],
            "text/plain": [
              "| 4         | 12       | 1.000000  | 6.807480     | 0.905730          | 0.906094            |"
            ]
          },
          "metadata": {
            "tags": []
          }
        },
        {
          "output_type": "display_data",
          "data": {
            "text/html": [
              "<pre>| 5         | 13       | 1.000000  | 7.728979     | 0.913167          | 0.911089            |</pre>"
            ],
            "text/plain": [
              "| 5         | 13       | 1.000000  | 7.728979     | 0.913167          | 0.911089            |"
            ]
          },
          "metadata": {
            "tags": []
          }
        },
        {
          "output_type": "display_data",
          "data": {
            "text/html": [
              "<pre>| 10        | 18       | 1.000000  | 12.228380    | 0.918891          | 0.917083            |</pre>"
            ],
            "text/plain": [
              "| 10        | 18       | 1.000000  | 12.228380    | 0.918891          | 0.917083            |"
            ]
          },
          "metadata": {
            "tags": []
          }
        },
        {
          "output_type": "display_data",
          "data": {
            "text/html": [
              "<pre>+-----------+----------+-----------+--------------+-------------------+---------------------+</pre>"
            ],
            "text/plain": [
              "+-----------+----------+-----------+--------------+-------------------+---------------------+"
            ]
          },
          "metadata": {
            "tags": []
          }
        },
        {
          "output_type": "display_data",
          "data": {
            "text/html": [
              "<pre>Completed (Iteration limit reached).</pre>"
            ],
            "text/plain": [
              "Completed (Iteration limit reached)."
            ]
          },
          "metadata": {
            "tags": []
          }
        },
        {
          "output_type": "display_data",
          "data": {
            "text/html": [
              "<pre>This model may not be optimal. To improve it, consider increasing `max_iterations`.</pre>"
            ],
            "text/plain": [
              "This model may not be optimal. To improve it, consider increasing `max_iterations`."
            ]
          },
          "metadata": {
            "tags": []
          }
        }
      ]
    },
    {
      "metadata": {
        "id": "noHuZwryz-GM",
        "colab_type": "code",
        "colab": {
          "base_uri": "https://localhost:8080/",
          "height": 1475
        },
        "outputId": "4fed7b30-f12c-4e3b-be89-fb8c6a8e97d0"
      },
      "cell_type": "code",
      "source": [
        "# Save predictions to an SArray\n",
        "predictions = model.predict(test_data)\n",
        "# Evaluate the model and save the results into a dictionary\n",
        "metrics = model.evaluate(test_data)"
      ],
      "execution_count": 29,
      "outputs": [
        {
          "output_type": "stream",
          "text": [
            "Performing feature extraction on resized images...\n",
            "Completed   64/5077\n",
            "Completed  128/5077\n",
            "Completed  192/5077\n",
            "Completed  256/5077\n",
            "Completed  320/5077\n",
            "Completed  384/5077\n",
            "Completed  448/5077\n",
            "Completed  512/5077\n",
            "Completed  576/5077\n",
            "Completed  640/5077\n",
            "Completed  704/5077\n",
            "Completed  768/5077\n",
            "Completed  832/5077\n",
            "Completed  896/5077\n",
            "Completed  960/5077\n",
            "Completed 1024/5077\n",
            "Completed 1088/5077\n",
            "Completed 1152/5077\n",
            "Completed 1216/5077\n",
            "Completed 1280/5077\n",
            "Completed 1344/5077\n",
            "Completed 1408/5077\n",
            "Completed 1472/5077\n",
            "Completed 1536/5077\n",
            "Completed 1600/5077\n",
            "Completed 1664/5077\n",
            "Completed 1728/5077\n",
            "Completed 1792/5077\n",
            "Completed 1856/5077\n",
            "Completed 1920/5077\n",
            "Completed 1984/5077\n",
            "Completed 2048/5077\n",
            "Completed 2112/5077\n",
            "Completed 2176/5077\n",
            "Completed 2240/5077\n",
            "Completed 2304/5077\n",
            "Completed 2368/5077\n",
            "Completed 2432/5077\n",
            "Completed 2496/5077\n",
            "Completed 2560/5077\n",
            "Completed 2624/5077\n",
            "Completed 2688/5077\n",
            "Completed 2752/5077\n",
            "Completed 2816/5077\n",
            "Completed 2880/5077\n",
            "Completed 2944/5077\n",
            "Completed 3008/5077\n",
            "Completed 3072/5077\n",
            "Completed 3136/5077\n",
            "Completed 3200/5077\n",
            "Completed 3264/5077\n",
            "Completed 3328/5077\n",
            "Completed 3392/5077\n",
            "Completed 3456/5077\n",
            "Completed 3520/5077\n",
            "Completed 3584/5077\n",
            "Completed 3648/5077\n",
            "Completed 3712/5077\n",
            "Completed 3776/5077\n",
            "Completed 3840/5077\n",
            "Completed 3904/5077\n",
            "Completed 3968/5077\n",
            "Completed 4032/5077\n",
            "Completed 4096/5077\n",
            "Completed 4160/5077\n",
            "Completed 4224/5077\n",
            "Completed 4288/5077\n",
            "Completed 4352/5077\n",
            "Completed 4416/5077\n",
            "Completed 4480/5077\n",
            "Completed 4544/5077\n",
            "Completed 4608/5077\n",
            "Completed 4672/5077\n",
            "Completed 4736/5077\n",
            "Completed 4800/5077\n",
            "Completed 4864/5077\n",
            "Completed 4928/5077\n",
            "Completed 4992/5077\n",
            "Completed 5056/5077\n",
            "Completed 5077/5077\n"
          ],
          "name": "stdout"
        }
      ]
    },
    {
      "metadata": {
        "id": "N6GeXHJ60DYb",
        "colab_type": "code",
        "colab": {
          "base_uri": "https://localhost:8080/",
          "height": 809
        },
        "outputId": "ce58e19b-f664-4365-d4b9-852ee4826f9b"
      },
      "cell_type": "code",
      "source": [
        "print(metrics)"
      ],
      "execution_count": 31,
      "outputs": [
        {
          "output_type": "stream",
          "text": [
            "{'accuracy': 0.909198345479614, 'auc': 0.9752266540367492, 'confusion_matrix': Columns:\n",
            "\ttarget_label\tstr\n",
            "\tpredicted_label\tstr\n",
            "\tcount\tint\n",
            "\n",
            "Rows: 4\n",
            "\n",
            "Data:\n",
            "+--------------+-----------------+-------+\n",
            "| target_label | predicted_label | count |\n",
            "+--------------+-----------------+-------+\n",
            "|     cat      |       cat       |  2241 |\n",
            "|     cat      |       dog       |  302  |\n",
            "|     dog      |       dog       |  2375 |\n",
            "|     dog      |       cat       |  159  |\n",
            "+--------------+-----------------+-------+\n",
            "[4 rows x 3 columns]\n",
            ", 'f1_score': 0.9115332949529841, 'log_loss': 0.20956560312794, 'precision': 0.8871871497945462, 'recall': 0.9372533543804262, 'roc_curve': Columns:\n",
            "\tthreshold\tfloat\n",
            "\tfpr\tfloat\n",
            "\ttpr\tfloat\n",
            "\tp\tint\n",
            "\tn\tint\n",
            "\n",
            "Rows: 100001\n",
            "\n",
            "Data:\n",
            "+-----------+--------------------+-----+------+------+\n",
            "| threshold |        fpr         | tpr |  p   |  n   |\n",
            "+-----------+--------------------+-----+------+------+\n",
            "|    0.0    |        1.0         | 1.0 | 2534 | 2543 |\n",
            "|   1e-05   | 0.9921352732992529 | 1.0 | 2534 | 2543 |\n",
            "|   2e-05   | 0.9858434919386552 | 1.0 | 2534 | 2543 |\n",
            "|   3e-05   | 0.9811246559182069 | 1.0 | 2534 | 2543 |\n",
            "|   4e-05   | 0.9775855289028706 | 1.0 | 2534 | 2543 |\n",
            "|   5e-05   | 0.9744396382225717 | 1.0 | 2534 | 2543 |\n",
            "|   6e-05   | 0.9689343295320487 | 1.0 | 2534 | 2543 |\n",
            "|   7e-05   | 0.9646087298466378 | 1.0 | 2534 | 2543 |\n",
            "|   8e-05   | 0.9634290208415257 | 1.0 | 2534 | 2543 |\n",
            "|   9e-05   | 0.9618560755013763 | 1.0 | 2534 | 2543 |\n",
            "+-----------+--------------------+-----+------+------+\n",
            "[100001 rows x 5 columns]\n",
            "Note: Only the head of the SFrame is printed.\n",
            "You can use print_rows(num_rows=m, num_columns=n) to print more rows and columns.}\n"
          ],
          "name": "stdout"
        }
      ]
    },
    {
      "metadata": {
        "id": "sTj8t6c2FGJN",
        "colab_type": "text"
      },
      "cell_type": "markdown",
      "source": [
        "More detailed information: https://apple.github.io/turicreate/docs/userguide/image_classifier/how-it-works.html\n",
        "\n",
        "### Resnet\n",
        "Detects the dominant objects present in an image from a set of 1000 categories such as trees, animals, food, vehicles, people, and more. The top-5 error from the original publication is 7.8%. The model is roughly 102.6 MB in size.\n",
        "\n",
        "*   Source Link: https://github.com/fchollet/deep-learning-models\n",
        "*   Project Page: https://github.com/KaimingHe/deep-residual-networks>\n",
        "*   Paper: Kaiming He and Xiangyu Zhang and Shaoqing Ren and Jian Sun\n",
        "*   Keras Implementation: François Chollet\n",
        "*   Citations: Kaiming He, Xiangyu Zhang, Shaoqing Ren, Jian Sun. \"Deep Residual Learning for Image Recognition.\" Paper https://arxiv.org/abs/1512.03385\n",
        "*   License: MIT License\n",
        "*   Core ML exported models are usually at least 90MB\n",
        "\n",
        "### Squeezenet\n",
        "Detects the dominant objects present in an image from a set of 1000 categories such as trees, animals, food, vehicles, people, and more. With an overall footprint of only 5 MB, SqueezeNet has a similar level of accuracy as AlexNet but with 50 times fewer parameters.\n",
        "\n",
        "*   Source Link: https://github.com/DeepScale/SqueezeNet\n",
        "*   Project Page: https://github.com/DeepScale/SqueezeNet\n",
        "*   Citation: Forrest N. Iandola and Song Han and Matthew W. Moskewicz and Khalid Ashraf and William J. \"SqueezeNet: AlexNet-level accuracy with 50x fewer parameters and <0.5MB model size.\" https://arxiv.org/abs/1602.07360\n",
        "*   Caffe Implementation: http://deepscale.ai\n",
        "*   License: BSD License\n",
        "*   Core ML exported models are usually less than 5MB\n",
        "\n",
        "### VisionFeaturePrint_Screen\n",
        "Only available on macOS 10.14 and higher. This model is included in the operating system, so the exported model size is very small.\n",
        "\n",
        "*   Core ML exported models are about 40KB"
      ]
    },
    {
      "metadata": {
        "id": "BxGCo6JuGFt2",
        "colab_type": "text"
      },
      "cell_type": "markdown",
      "source": [
        "## Performance\n",
        "It’s always important to make sure any machine learning technique is consistent in its usefulness, and that its success is not a fluke. In order to do that, we've tested it on several datasets. For each dataset, the experiment was identical. We trained a model on a dataset of just a small number of images, and then evaluated the accuracy on a completely different dataset of roughly 1800 images per category.\n",
        "\n",
        "Here is a short summary of results:\n",
        "\n",
        "### Resnet\n",
        "\n",
        "Performance on 50 datasets with 5 categories, 25 training examples per category\n",
        "*   Median accuracy: 0.994667\n",
        "*   Max accuracy: 1.000000\n",
        "*   Min accuracy: 0.978667\n",
        "\n",
        "Performance on 50 datasets with 5 categories, 50 training examples per category\n",
        "*   Median accuracy: 0.996000\n",
        "*   Max accuracy: 1.000000\n",
        "*   Min accuracy: 0.980000\n",
        "\n",
        "### Squeezenet\n",
        "\n",
        "Performance on 50 datasets with 5 categories, 25 training examples per category\n",
        "*   Median accuracy: 0.961333\n",
        "*   Max accuracy: 0.981333\n",
        "*   Min accuracy: 0.912000\n",
        "\n",
        "Performance on 50 datasets with 5 categories, 50 training examples per category\n",
        "*   Median accuracy: 0.970000\n",
        "*   Max accuracy: 0.988000\n",
        "*   Min accuracy: 0.876000\n",
        "\n",
        "### VisionFeaturePrint_Screen\n",
        "\n",
        "Performance on 50 datasets with 5 categories, 25 training examples per category\n",
        "*   Median accuracy: 0.970309\n",
        "*   Max accuracy: 0.992788\n",
        "*   Min accuracy: 0.846873\n",
        "\n",
        "Performance on 50 datasets with 5 categories, 50 training examples per category\n",
        "*   Median accuracy: 0.976342\n",
        "*   Max accuracy: 0.988342\n",
        "*   Min accuracy: 0.944571\n",
        "\n",
        "To give you some perspective, a user study was made on a dataset with 1000 classes and measured human performance is about 94%."
      ]
    },
    {
      "metadata": {
        "id": "Uht90OJ_2tCz",
        "colab_type": "text"
      },
      "cell_type": "markdown",
      "source": [
        "## Blogs\n",
        "*   https://hackernoon.com/building-not-hotdog-with-turi-create-and-core-ml-in-an-afternoon-231b14738edf"
      ]
    }
  ]
}