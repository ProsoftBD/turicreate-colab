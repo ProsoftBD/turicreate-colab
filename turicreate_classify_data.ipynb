{
  "nbformat": 4,
  "nbformat_minor": 0,
  "metadata": {
    "colab": {
      "name": "turicreate-classify-data.ipynb",
      "version": "0.3.2",
      "provenance": [],
      "collapsed_sections": [],
      "include_colab_link": true
    },
    "kernelspec": {
      "name": "python3",
      "display_name": "Python 3"
    },
    "accelerator": "GPU"
  },
  "cells": [
    {
      "cell_type": "markdown",
      "metadata": {
        "id": "view-in-github",
        "colab_type": "text"
      },
      "source": [
        "[View in Colaboratory](https://colab.research.google.com/github/jagatfx/turicreate-colab/blob/master/turicreate_classify_data.ipynb)"
      ]
    },
    {
      "metadata": {
        "id": "nA1P-DW9wq6R",
        "colab_type": "text"
      },
      "cell_type": "markdown",
      "source": [
        "# Classify Data\n",
        "*   https://apple.github.io/turicreate/docs/userguide/supervised-learning/classifier.html\n",
        "*   https://turi.com/learn/userguide/supervised-learning/classifier.html\n",
        "\n",
        "## Classification\n",
        "Classification is a core task in machine learning. \n",
        "\n",
        "The pieces of information fed to a classifier for each data point are called features, and the category they belong to is a ‘target’ or ‘label’. Typically, the classifier is given data points with both features and labels, so that it can learn the correspondence between the two. \n",
        "\n",
        "Later, the classifier is queried with a data point and the classifier predicts the category it belongs to. A large group of these query data-points constitute a prediction-set, and the classifier is usually evaluated on its accuracy, or how many prediction queries it gets correct.\n",
        "\n",
        "Currently, the following models are supported for classification:\n",
        "\n",
        "*   [Logistic regression](https://apple.github.io/turicreate/docs/userguide/supervised-learning/logistic-regression.html)\n",
        "*   [Nearest neighbor classifier](https://apple.github.io/turicreate/docs/userguide/supervised-learning/knn_classifier.html)\n",
        "*   [Support vector machines](https://apple.github.io/turicreate/docs/userguide/supervised-learning/svm.html) (SVM)\n",
        "*   [Boosted Decision Trees](Boosted Decision Trees)\n",
        "*   [Random Forests](https://apple.github.io/turicreate/docs/userguide/supervised-learning/random_forest_classifier.html)\n",
        "*   [Decision Tree](https://apple.github.io/turicreate/docs/userguide/supervised-learning/decision_tree_classifier.html)\n",
        "*   [Image Classifier](https://apple.github.io/turicreate/docs/userguide/image_classifier/)\n",
        "\n",
        "These algorithms differ in how they make predictions, but conform to the same API. With all models, call\n",
        "*   create() to create a model\n",
        "*   predict() to make flexible predictions on the returned model\n",
        "*   classify() which provides all the sufficient statistics for classifying data\n",
        "*   evaluate() to measure performance of the predictions\n",
        "\n",
        "Models can incorporate:\n",
        "\n",
        "*   Numeric features\n",
        "*   Categorical variables\n",
        "*   Dictionary features (i.e sparse features)\n",
        "*   List features (i.e dense arrays)\n",
        "*   Text data\n",
        "*   Images (using the image classifier)\n",
        "\n",
        "## Model Selector\n",
        "\n",
        "It isn't always clear that we know exactly which model is suitable for a given task. Turi Create's model selector automatically picks the right model for you based on statistics collected from the data set. You can also manually create a model with a particular classifier.\n",
        "\n"
      ]
    },
    {
      "metadata": {
        "id": "NBBy_xTUyTtz",
        "colab_type": "text"
      },
      "cell_type": "markdown",
      "source": [
        "# Google Drive Access\n",
        "\n",
        "You will be asked to click a link to generate a secret key to access your Google Drive. \n",
        "\n",
        "Copy and paste secret key it into the space provided with the notebook."
      ]
    },
    {
      "metadata": {
        "id": "CYnjcJAGyXo6",
        "colab_type": "code",
        "colab": {
          "base_uri": "https://localhost:8080/",
          "height": 2411
        },
        "outputId": "91dde4df-854e-40e1-e830-3a137edae84b"
      },
      "cell_type": "code",
      "source": [
        "# Install a Drive FUSE wrapper.\n",
        "# https://github.com/astrada/google-drive-ocamlfuse\n",
        "!apt-get update -qq 2>&1 > /dev/null\n",
        "!apt-get install -y -qq software-properties-common python-software-properties module-init-tools\n",
        "!add-apt-repository -y ppa:alessandro-strada/ppa 2>&1 > /dev/null\n",
        "!apt-get update -qq 2>&1 > /dev/null\n",
        "!apt-get -y install -qq google-drive-ocamlfuse fuse"
      ],
      "execution_count": 2,
      "outputs": [
        {
          "output_type": "stream",
          "text": [
            "Preconfiguring packages ...\n",
            "Selecting previously unselected package cron.\n",
            "(Reading database ... 18408 files and directories currently installed.)\n",
            "Preparing to unpack .../00-cron_3.0pl1-128ubuntu5_amd64.deb ...\n",
            "Unpacking cron (3.0pl1-128ubuntu5) ...\n",
            "Selecting previously unselected package libapparmor1:amd64.\n",
            "Preparing to unpack .../01-libapparmor1_2.11.0-2ubuntu17.1_amd64.deb ...\n",
            "Unpacking libapparmor1:amd64 (2.11.0-2ubuntu17.1) ...\n",
            "Selecting previously unselected package libdbus-1-3:amd64.\n",
            "Preparing to unpack .../02-libdbus-1-3_1.10.22-1ubuntu1_amd64.deb ...\n",
            "Unpacking libdbus-1-3:amd64 (1.10.22-1ubuntu1) ...\n",
            "Selecting previously unselected package dbus.\n",
            "Preparing to unpack .../03-dbus_1.10.22-1ubuntu1_amd64.deb ...\n",
            "Unpacking dbus (1.10.22-1ubuntu1) ...\n",
            "Selecting previously unselected package dirmngr.\n",
            "Preparing to unpack .../04-dirmngr_2.1.15-1ubuntu8.1_amd64.deb ...\n",
            "Unpacking dirmngr (2.1.15-1ubuntu8.1) ...\n",
            "Selecting previously unselected package distro-info-data.\n",
            "Preparing to unpack .../05-distro-info-data_0.36ubuntu0.2_all.deb ...\n",
            "Unpacking distro-info-data (0.36ubuntu0.2) ...\n",
            "Selecting previously unselected package libkmod2:amd64.\n",
            "Preparing to unpack .../06-libkmod2_24-1ubuntu2_amd64.deb ...\n",
            "Unpacking libkmod2:amd64 (24-1ubuntu2) ...\n",
            "Selecting previously unselected package kmod.\n",
            "Preparing to unpack .../07-kmod_24-1ubuntu2_amd64.deb ...\n",
            "Unpacking kmod (24-1ubuntu2) ...\n",
            "Selecting previously unselected package lsb-release.\n",
            "Preparing to unpack .../08-lsb-release_9.20160110ubuntu5_all.deb ...\n",
            "Unpacking lsb-release (9.20160110ubuntu5) ...\n",
            "Selecting previously unselected package libgirepository-1.0-1:amd64.\n",
            "Preparing to unpack .../09-libgirepository-1.0-1_1.54.1-1_amd64.deb ...\n",
            "Unpacking libgirepository-1.0-1:amd64 (1.54.1-1) ...\n",
            "Selecting previously unselected package gir1.2-glib-2.0:amd64.\n",
            "Preparing to unpack .../10-gir1.2-glib-2.0_1.54.1-1_amd64.deb ...\n",
            "Unpacking gir1.2-glib-2.0:amd64 (1.54.1-1) ...\n",
            "Selecting previously unselected package iso-codes.\n",
            "Preparing to unpack .../11-iso-codes_3.75-1_all.deb ...\n",
            "Unpacking iso-codes (3.75-1) ...\n",
            "Selecting previously unselected package libdbus-glib-1-2:amd64.\n",
            "Preparing to unpack .../12-libdbus-glib-1-2_0.108-2_amd64.deb ...\n",
            "Unpacking libdbus-glib-1-2:amd64 (0.108-2) ...\n",
            "Selecting previously unselected package python-apt-common.\n",
            "Preparing to unpack .../13-python-apt-common_1.4.0~beta3build2_all.deb ...\n",
            "Unpacking python-apt-common (1.4.0~beta3build2) ...\n",
            "Selecting previously unselected package python3-apt.\n",
            "Preparing to unpack .../14-python3-apt_1.4.0~beta3build2_amd64.deb ...\n",
            "Unpacking python3-apt (1.4.0~beta3build2) ...\n",
            "Selecting previously unselected package python3-dbus.\n",
            "Preparing to unpack .../15-python3-dbus_1.2.4-1build3_amd64.deb ...\n",
            "Unpacking python3-dbus (1.2.4-1build3) ...\n",
            "Selecting previously unselected package python3-gi.\n",
            "Preparing to unpack .../16-python3-gi_3.24.1-2build1_amd64.deb ...\n",
            "Unpacking python3-gi (3.24.1-2build1) ...\n",
            "Selecting previously unselected package module-init-tools.\n",
            "Preparing to unpack .../17-module-init-tools_24-1ubuntu2_all.deb ...\n",
            "Unpacking module-init-tools (24-1ubuntu2) ...\n",
            "Selecting previously unselected package python-apt.\n",
            "Preparing to unpack .../18-python-apt_1.4.0~beta3build2_amd64.deb ...\n",
            "Unpacking python-apt (1.4.0~beta3build2) ...\n",
            "Selecting previously unselected package python-pycurl.\n",
            "Preparing to unpack .../19-python-pycurl_7.43.0-2build2_amd64.deb ...\n",
            "Unpacking python-pycurl (7.43.0-2build2) ...\n",
            "Selecting previously unselected package python-software-properties.\n",
            "Preparing to unpack .../20-python-software-properties_0.96.24.17_all.deb ...\n",
            "Unpacking python-software-properties (0.96.24.17) ...\n",
            "Selecting previously unselected package python3-software-properties.\n",
            "Preparing to unpack .../21-python3-software-properties_0.96.24.17_all.deb ...\n",
            "Unpacking python3-software-properties (0.96.24.17) ...\n",
            "Selecting previously unselected package software-properties-common.\n",
            "Preparing to unpack .../22-software-properties-common_0.96.24.17_all.deb ...\n",
            "Unpacking software-properties-common (0.96.24.17) ...\n",
            "Selecting previously unselected package unattended-upgrades.\n",
            "Preparing to unpack .../23-unattended-upgrades_0.98ubuntu1.1_all.deb ...\n",
            "Unpacking unattended-upgrades (0.98ubuntu1.1) ...\n",
            "Setting up python-apt-common (1.4.0~beta3build2) ...\n",
            "Setting up python3-apt (1.4.0~beta3build2) ...\n",
            "Setting up iso-codes (3.75-1) ...\n",
            "Setting up distro-info-data (0.36ubuntu0.2) ...\n",
            "Setting up python-pycurl (7.43.0-2build2) ...\n",
            "Setting up lsb-release (9.20160110ubuntu5) ...\n",
            "Setting up libgirepository-1.0-1:amd64 (1.54.1-1) ...\n",
            "Setting up libkmod2:amd64 (24-1ubuntu2) ...\n",
            "Setting up gir1.2-glib-2.0:amd64 (1.54.1-1) ...\n",
            "Processing triggers for libc-bin (2.26-0ubuntu2.1) ...\n",
            "Setting up libapparmor1:amd64 (2.11.0-2ubuntu17.1) ...\n",
            "Setting up unattended-upgrades (0.98ubuntu1.1) ...\n",
            "\n",
            "Creating config file /etc/apt/apt.conf.d/20auto-upgrades with new version\n",
            "\n",
            "Creating config file /etc/apt/apt.conf.d/50unattended-upgrades with new version\n",
            "invoke-rc.d: could not determine current runlevel\n",
            "invoke-rc.d: policy-rc.d denied execution of start.\n",
            "Setting up dirmngr (2.1.15-1ubuntu8.1) ...\n",
            "Setting up cron (3.0pl1-128ubuntu5) ...\n",
            "Adding group `crontab' (GID 102) ...\n",
            "Done.\n",
            "update-rc.d: warning: start and stop actions are no longer supported; falling back to defaults\n",
            "update-rc.d: warning: stop runlevel arguments (1) do not match cron Default-Stop values (none)\n",
            "invoke-rc.d: could not determine current runlevel\n",
            "invoke-rc.d: policy-rc.d denied execution of start.\n",
            "Setting up libdbus-1-3:amd64 (1.10.22-1ubuntu1) ...\n",
            "Setting up kmod (24-1ubuntu2) ...\n",
            "Setting up libdbus-glib-1-2:amd64 (0.108-2) ...\n",
            "Setting up python3-gi (3.24.1-2build1) ...\n",
            "Setting up module-init-tools (24-1ubuntu2) ...\n",
            "Setting up python3-software-properties (0.96.24.17) ...\n",
            "Setting up dbus (1.10.22-1ubuntu1) ...\n",
            "Setting up python-apt (1.4.0~beta3build2) ...\n",
            "Setting up python3-dbus (1.2.4-1build3) ...\n",
            "Setting up python-software-properties (0.96.24.17) ...\n",
            "Setting up software-properties-common (0.96.24.17) ...\n",
            "Processing triggers for libc-bin (2.26-0ubuntu2.1) ...\n",
            "Processing triggers for dbus (1.10.22-1ubuntu1) ...\n",
            "gpg: keybox '/tmp/tmpoali3bf9/pubring.gpg' created\n",
            "gpg: /tmp/tmpoali3bf9/trustdb.gpg: trustdb created\n",
            "gpg: key AD5F235DF639B041: public key \"Launchpad PPA for Alessandro Strada\" imported\n",
            "gpg: Total number processed: 1\n",
            "gpg:               imported: 1\n",
            "Warning: apt-key output should not be parsed (stdout is not a terminal)\n",
            "Selecting previously unselected package libfuse2:amd64.\n",
            "(Reading database ... 19816 files and directories currently installed.)\n",
            "Preparing to unpack .../libfuse2_2.9.7-1ubuntu1_amd64.deb ...\n",
            "Unpacking libfuse2:amd64 (2.9.7-1ubuntu1) ...\n",
            "Selecting previously unselected package fuse.\n",
            "Preparing to unpack .../fuse_2.9.7-1ubuntu1_amd64.deb ...\n",
            "Unpacking fuse (2.9.7-1ubuntu1) ...\n",
            "Selecting previously unselected package google-drive-ocamlfuse.\n",
            "Preparing to unpack .../google-drive-ocamlfuse_0.6.21-0ubuntu2_amd64.deb ...\n",
            "Unpacking google-drive-ocamlfuse (0.6.21-0ubuntu2) ...\n",
            "Setting up libfuse2:amd64 (2.9.7-1ubuntu1) ...\n",
            "Processing triggers for libc-bin (2.26-0ubuntu2.1) ...\n",
            "Setting up fuse (2.9.7-1ubuntu1) ...\n",
            "Setting up google-drive-ocamlfuse (0.6.21-0ubuntu2) ...\n"
          ],
          "name": "stdout"
        }
      ]
    },
    {
      "metadata": {
        "id": "LFVA8-cIyYGT",
        "colab_type": "code",
        "colab": {}
      },
      "cell_type": "code",
      "source": [
        "# Generate auth tokens for Colab\n",
        "from google.colab import auth\n",
        "auth.authenticate_user()"
      ],
      "execution_count": 0,
      "outputs": []
    },
    {
      "metadata": {
        "id": "nAeK3FPzyYJU",
        "colab_type": "code",
        "colab": {
          "base_uri": "https://localhost:8080/",
          "height": 127
        },
        "outputId": "e9b906d7-28b5-4a15-87a4-d78816b8fe34"
      },
      "cell_type": "code",
      "source": [
        "# Generate creds for the Drive FUSE library.\n",
        "from google.colab import output\n",
        "from oauth2client.client import GoogleCredentials\n",
        "import time\n",
        "creds = GoogleCredentials.get_application_default()\n",
        "import getpass\n",
        "# Determine if Drive Fuse credential setup is already complete.\n",
        "fuse_credentials_configured = False\n",
        "with output.temporary():\n",
        "  !google-drive-ocamlfuse -headless -id={creds.client_id} -secret={creds.client_secret} < /dev/null 2>&1\n",
        "  # _exit_code is set to the result of the last \"!\" command.\n",
        "  fuse_credentials_configured = _exit_code == 0\n",
        "\n",
        "# Sleep for a short period to ensure that the previous output has been cleared.\n",
        "time.sleep(1)\n",
        "  \n",
        "if fuse_credentials_configured:\n",
        "  print('Drive FUSE credentials already configured!')\n",
        "else:\n",
        "  # Work around misordering of STREAM and STDIN in Jupyter.\n",
        "  # https://github.com/jupyter/notebook/issues/3159\n",
        "  prompt = !google-drive-ocamlfuse -headless -id={creds.client_id} -secret={creds.client_secret} < /dev/null 2>&1 | grep URL\n",
        "  vcode = getpass.getpass(prompt[0] + '\\n\\nEnter verification code: ')\n",
        "  !echo {vcode} | google-drive-ocamlfuse -headless -id={creds.client_id} -secret={creds.client_secret}\n"
      ],
      "execution_count": 4,
      "outputs": [
        {
          "output_type": "stream",
          "text": [
            "Please, open the following URL in a web browser: https://accounts.google.com/o/oauth2/auth?client_id=32555940559.apps.googleusercontent.com&redirect_uri=urn%3Aietf%3Awg%3Aoauth%3A2.0%3Aoob&scope=https%3A%2F%2Fwww.googleapis.com%2Fauth%2Fdrive&response_type=code&access_type=offline&approval_prompt=force\n",
            "\n",
            "Enter verification code: ··········\n",
            "Please, open the following URL in a web browser: https://accounts.google.com/o/oauth2/auth?client_id=32555940559.apps.googleusercontent.com&redirect_uri=urn%3Aietf%3Awg%3Aoauth%3A2.0%3Aoob&scope=https%3A%2F%2Fwww.googleapis.com%2Fauth%2Fdrive&response_type=code&access_type=offline&approval_prompt=force\n",
            "Please enter the verification code: Access token retrieved correctly.\n"
          ],
          "name": "stdout"
        }
      ]
    },
    {
      "metadata": {
        "id": "18DQYxatyYMW",
        "colab_type": "code",
        "colab": {}
      },
      "cell_type": "code",
      "source": [
        "# Create a directory and mount Google Drive using that directory.\n",
        "!mkdir -p drive\n",
        "!google-drive-ocamlfuse drive"
      ],
      "execution_count": 0,
      "outputs": []
    },
    {
      "metadata": {
        "id": "wO7YXD8NyjEE",
        "colab_type": "code",
        "colab": {
          "base_uri": "https://localhost:8080/",
          "height": 35
        },
        "outputId": "3f606bce-14c4-4e96-bccd-e0d037c2260e"
      },
      "cell_type": "code",
      "source": [
        "!ls"
      ],
      "execution_count": 13,
      "outputs": [
        {
          "output_type": "stream",
          "text": [
            "adc.json  drive  sample_data  wget-log\tyelp-data.csv\n"
          ],
          "name": "stdout"
        }
      ]
    },
    {
      "metadata": {
        "id": "3XVXFMLdWK8s",
        "colab_type": "text"
      },
      "cell_type": "markdown",
      "source": [
        "# Setup GPU"
      ]
    },
    {
      "metadata": {
        "id": "gTL-9_XKWNN1",
        "colab_type": "code",
        "colab": {
          "base_uri": "https://localhost:8080/",
          "height": 1333
        },
        "outputId": "0769dcb8-7d8e-4dee-abf2-50db50ee6390"
      },
      "cell_type": "code",
      "source": [
        "!apt install libnvrtc8.0\n",
        "!pip uninstall -y mxnet-cu80 && pip install mxnet-cu80==1.1.0\n",
        "!pip install turicreate"
      ],
      "execution_count": 14,
      "outputs": [
        {
          "output_type": "stream",
          "text": [
            "Reading package lists... Done\n",
            "Building dependency tree       \n",
            "Reading state information... Done\n",
            "The following NEW packages will be installed:\n",
            "  libnvrtc8.0\n",
            "0 upgraded, 1 newly installed, 0 to remove and 0 not upgraded.\n",
            "Need to get 6,225 kB of archives.\n",
            "After this operation, 28.3 MB of additional disk space will be used.\n",
            "Get:1 http://archive.ubuntu.com/ubuntu artful/multiverse amd64 libnvrtc8.0 amd64 8.0.61-1 [6,225 kB]\n",
            "Fetched 6,225 kB in 1s (3,898 kB/s)\n",
            "Selecting previously unselected package libnvrtc8.0:amd64.\n",
            "(Reading database ... 19845 files and directories currently installed.)\n",
            "Preparing to unpack .../libnvrtc8.0_8.0.61-1_amd64.deb ...\n",
            "Unpacking libnvrtc8.0:amd64 (8.0.61-1) ...\n",
            "Setting up libnvrtc8.0:amd64 (8.0.61-1) ...\n",
            "Processing triggers for libc-bin (2.26-0ubuntu2.1) ...\n",
            "\u001b[33mSkipping mxnet-cu80 as it is not installed.\u001b[0m\n",
            "Collecting mxnet-cu80==1.1.0\n",
            "\u001b[?25l  Downloading https://files.pythonhosted.org/packages/9c/55/bcfd26fd408a4bab27bca1ef5dc1df42954509c904699a6c371d5a4c23ab/mxnet_cu80-1.1.0-py2.py3-none-manylinux1_x86_64.whl (274.9MB)\n",
            "\u001b[K    100% |████████████████████████████████| 274.9MB 114kB/s \n",
            "\u001b[?25hRequirement already satisfied: requests==2.18.4 in /usr/local/lib/python3.6/dist-packages (from mxnet-cu80==1.1.0) (2.18.4)\n",
            "Collecting numpy<=1.13.3 (from mxnet-cu80==1.1.0)\n",
            "\u001b[?25l  Downloading https://files.pythonhosted.org/packages/57/a7/e3e6bd9d595125e1abbe162e323fd2d06f6f6683185294b79cd2cdb190d5/numpy-1.13.3-cp36-cp36m-manylinux1_x86_64.whl (17.0MB)\n",
            "\u001b[K    100% |████████████████████████████████| 17.0MB 2.3MB/s \n",
            "\u001b[?25hCollecting graphviz==0.8.1 (from mxnet-cu80==1.1.0)\n",
            "  Downloading https://files.pythonhosted.org/packages/82/cc/668725769a1b184322019b494bbdfbb82bbef5cecc1dd8be6f778cf1422b/graphviz-0.8.1-py2.py3-none-any.whl\n",
            "Requirement already satisfied: urllib3<1.23,>=1.21.1 in /usr/local/lib/python3.6/dist-packages (from requests==2.18.4->mxnet-cu80==1.1.0) (1.22)\n",
            "Requirement already satisfied: chardet<3.1.0,>=3.0.2 in /usr/local/lib/python3.6/dist-packages (from requests==2.18.4->mxnet-cu80==1.1.0) (3.0.4)\n",
            "Requirement already satisfied: idna<2.7,>=2.5 in /usr/local/lib/python3.6/dist-packages (from requests==2.18.4->mxnet-cu80==1.1.0) (2.6)\n",
            "Requirement already satisfied: certifi>=2017.4.17 in /usr/local/lib/python3.6/dist-packages (from requests==2.18.4->mxnet-cu80==1.1.0) (2018.8.24)\n",
            "Installing collected packages: numpy, graphviz, mxnet-cu80\n",
            "  Found existing installation: numpy 1.14.5\n",
            "    Uninstalling numpy-1.14.5:\n",
            "      Successfully uninstalled numpy-1.14.5\n",
            "Successfully installed graphviz-0.8.1 mxnet-cu80-1.1.0 numpy-1.13.3\n",
            "Collecting turicreate\n",
            "\u001b[?25l  Downloading https://files.pythonhosted.org/packages/13/7e/ec8d234a5366f2a683be19b77f20f56daefeacc396f7a5e3e6c74863390b/turicreate-5.0-cp36-cp36m-manylinux1_x86_64.whl (88.0MB)\n",
            "\u001b[K    100% |████████████████████████████████| 88.1MB 531kB/s \n",
            "\u001b[?25hRequirement already satisfied: decorator>=4.0.9 in /usr/local/lib/python3.6/dist-packages (from turicreate) (4.3.0)\n",
            "Requirement already satisfied: pandas>=0.19.0 in /usr/local/lib/python3.6/dist-packages (from turicreate) (0.22.0)\n",
            "Requirement already satisfied: pillow>=3.3.0 in /usr/local/lib/python3.6/dist-packages (from turicreate) (4.0.0)\n",
            "Collecting coremltools==2.0b1 (from turicreate)\n",
            "\u001b[?25l  Downloading https://files.pythonhosted.org/packages/1e/c3/18e669efcab8162bd65b00bc914c460097fe3dcb1862c572f2440bac526c/coremltools-2.0b1-cp36-none-manylinux1_x86_64.whl (2.7MB)\n",
            "\u001b[K    100% |████████████████████████████████| 2.7MB 7.8MB/s \n",
            "\u001b[?25hCollecting prettytable==0.7.2 (from turicreate)\n",
            "  Downloading https://files.pythonhosted.org/packages/ef/30/4b0746848746ed5941f052479e7c23d2b56d174b82f4fd34a25e389831f5/prettytable-0.7.2.tar.bz2\n",
            "Requirement already satisfied: requests>=2.9.1 in /usr/local/lib/python3.6/dist-packages (from turicreate) (2.18.4)\n",
            "Requirement already satisfied: numpy in /usr/local/lib/python3.6/dist-packages (from turicreate) (1.13.3)\n",
            "Collecting mxnet<1.2.0,>=1.1.0 (from turicreate)\n",
            "\u001b[?25l  Downloading https://files.pythonhosted.org/packages/96/98/c9877e100c3d1ac92263bfaba7bb8a49294e099046592040a2ff8620ac61/mxnet-1.1.0.post0-py2.py3-none-manylinux1_x86_64.whl (23.8MB)\n",
            "\u001b[K    100% |████████████████████████████████| 23.8MB 677kB/s \n",
            "\u001b[?25hRequirement already satisfied: python-dateutil>=2 in /usr/local/lib/python3.6/dist-packages (from pandas>=0.19.0->turicreate) (2.5.3)\n",
            "Requirement already satisfied: pytz>=2011k in /usr/local/lib/python3.6/dist-packages (from pandas>=0.19.0->turicreate) (2018.5)\n",
            "Requirement already satisfied: olefile in /usr/local/lib/python3.6/dist-packages (from pillow>=3.3.0->turicreate) (0.46)\n",
            "Collecting six==1.10.0 (from coremltools==2.0b1->turicreate)\n",
            "  Downloading https://files.pythonhosted.org/packages/c8/0a/b6723e1bc4c516cb687841499455a8505b44607ab535be01091c0f24f079/six-1.10.0-py2.py3-none-any.whl\n",
            "Requirement already satisfied: protobuf>=3.1.0 in /usr/local/lib/python3.6/dist-packages (from coremltools==2.0b1->turicreate) (3.6.1)\n",
            "Requirement already satisfied: certifi>=2017.4.17 in /usr/local/lib/python3.6/dist-packages (from requests>=2.9.1->turicreate) (2018.8.24)\n",
            "Requirement already satisfied: urllib3<1.23,>=1.21.1 in /usr/local/lib/python3.6/dist-packages (from requests>=2.9.1->turicreate) (1.22)\n",
            "Requirement already satisfied: idna<2.7,>=2.5 in /usr/local/lib/python3.6/dist-packages (from requests>=2.9.1->turicreate) (2.6)\n",
            "Requirement already satisfied: chardet<3.1.0,>=3.0.2 in /usr/local/lib/python3.6/dist-packages (from requests>=2.9.1->turicreate) (3.0.4)\n",
            "Requirement already satisfied: graphviz<0.9.0,>=0.8.1 in /usr/local/lib/python3.6/dist-packages (from mxnet<1.2.0,>=1.1.0->turicreate) (0.8.1)\n",
            "Requirement already satisfied: setuptools in /usr/local/lib/python3.6/dist-packages (from protobuf>=3.1.0->coremltools==2.0b1->turicreate) (39.1.0)\n",
            "Building wheels for collected packages: prettytable\n",
            "  Running setup.py bdist_wheel for prettytable ... \u001b[?25l-\b \bdone\n",
            "\u001b[?25h  Stored in directory: /root/.cache/pip/wheels/80/34/1c/3967380d9676d162cb59513bd9dc862d0584e045a162095606\n",
            "Successfully built prettytable\n",
            "Installing collected packages: six, coremltools, prettytable, mxnet, turicreate\n",
            "  Found existing installation: six 1.11.0\n",
            "    Uninstalling six-1.11.0:\n",
            "      Successfully uninstalled six-1.11.0\n",
            "Successfully installed coremltools-2.0b1 mxnet-1.1.0.post0 prettytable-0.7.2 six-1.10.0 turicreate-5.0\n"
          ],
          "name": "stdout"
        }
      ]
    },
    {
      "metadata": {
        "id": "bXFA-y7Ihi0v",
        "colab_type": "text"
      },
      "cell_type": "markdown",
      "source": [
        "# Fetch Example Data\n",
        "\n",
        "*   UCI Mushroom data: https://archive.ics.uci.edu/ml/datasets/mushroom\n",
        "*   Yelp review data: https://www.yelp.com/dataset"
      ]
    },
    {
      "metadata": {
        "id": "XuKAmnGphl1P",
        "colab_type": "code",
        "colab": {
          "base_uri": "https://localhost:8080/",
          "height": 125
        },
        "outputId": "36d3bc2b-6a1c-4e44-f302-075ef9c3cbe3"
      },
      "cell_type": "code",
      "source": [
        "!if [ -f \"/content/drive/Colab Notebooks/data/yelp-data.csv.zip\" ]; then echo \"already downloaded yelp data, copying to workspace\" && cp \"/content/drive/Colab Notebooks/data/yelp-data.csv.zip\" . && unzip yelp-data.csv.zip; else echo \"downloading yelp...\" && mkdir -p \"/content/drive/Colab Notebooks/data\" && wget \"https://static.turi.com/datasets/regression/yelp-data.csv\"; fi"
      ],
      "execution_count": 15,
      "outputs": [
        {
          "output_type": "stream",
          "text": [
            "already downloaded yelp data, copying to workspace\n",
            "Archive:  yelp-data.csv.zip\n",
            "replace yelp-data.csv? [y]es, [n]o, [A]ll, [N]one, [r]ename: y\n",
            "  inflating: yelp-data.csv           \n",
            "   creating: __MACOSX/\n",
            "  inflating: __MACOSX/._yelp-data.csv  \n"
          ],
          "name": "stdout"
        }
      ]
    },
    {
      "metadata": {
        "id": "f4bS_8Hd0EnD",
        "colab_type": "code",
        "colab": {
          "base_uri": "https://localhost:8080/",
          "height": 71
        },
        "outputId": "196a9781-071d-4f7e-e9d6-70f161d28c61"
      },
      "cell_type": "code",
      "source": [
        "!if [ -f \"/content/drive/Colab Notebooks/data/mushroom.csv\" ]; then echo \"already downloaded mushroom data, copying to workspace\" && cp \"/content/drive/Colab Notebooks/data/mushroom.csv\" .; else echo \"downloading mushroom...\" && mkdir -p \"/content/drive/Colab Notebooks/data\" && wget \"https://static.turi.com/datasets/xgboost/mushroom.csv\"; fi"
      ],
      "execution_count": 16,
      "outputs": [
        {
          "output_type": "stream",
          "text": [
            "downloading mushroom...\n",
            "\n",
            "Redirecting output to ‘wget-log.1’.\n"
          ],
          "name": "stdout"
        }
      ]
    },
    {
      "metadata": {
        "id": "ZDMCu6ZhWdpw",
        "colab_type": "text"
      },
      "cell_type": "markdown",
      "source": [
        "# Setup Turi Create"
      ]
    },
    {
      "metadata": {
        "id": "bPxPs2JdWfAE",
        "colab_type": "code",
        "colab": {}
      },
      "cell_type": "code",
      "source": [
        "import mxnet as mx\n",
        "import turicreate as tc"
      ],
      "execution_count": 0,
      "outputs": []
    },
    {
      "metadata": {
        "id": "Va2-W-0rXUow",
        "colab_type": "code",
        "colab": {}
      },
      "cell_type": "code",
      "source": [
        "# Use all GPUs (default)\n",
        "tc.config.set_num_gpus(-1)\n",
        "\n",
        "# Use only 1 GPU\n",
        "#tc.config.set_num_gpus(1)\n",
        "\n",
        "# Use CPU\n",
        "#tc.config.set_num_gpus(0)"
      ],
      "execution_count": 0,
      "outputs": []
    },
    {
      "metadata": {
        "id": "l5M9eyBqeevi",
        "colab_type": "text"
      },
      "cell_type": "markdown",
      "source": [
        "# Logistic Regression Classifier\n",
        "\n",
        "Logistic regression is a regression model that is popularly used for classification tasks. In logistic regression, the probability that a binary target is True is modeled as a logistic function of a linear combination of features.\n",
        "\n",
        "## Background\n",
        "\n",
        "Given a set of features , and a label, logistic regression interprets the probability that the label is in one class as a logistic function of a linear combination of the features.\n",
        "\n",
        "The following figure illustrates how logistic regression is used to train a 1-dimensional classifier. The training data consists of positive examples (depicted in blue) and negative examples (in orange). The decision boundary (depicted in pink) separates out the data into two classes.\n",
        "\n",
        "![logistic regression](https://i.imgur.com/56D0V9f.png)\n",
        "\n",
        "Logistic regression predictions can take one of three forms:\n",
        "\n",
        "*   Classes (default): Thresholds the probability estimate at 0.5 to predict a class label i.e. 0/1.\n",
        "*   Probabilities: A probability estimate (in the range [0,1]) that the example is in the True class. Note that this is not the same as the probability estimate in the classify function.\n",
        "*   Margins : Distance to the linear decision boundary learned by the model. The larger the distance, the more confidence we have that it belongs to one class or the other.\n",
        "\n",
        "## Example for Yelp Reviews\n",
        "\n",
        "Let's construct a binary target variable. In this example, we will predict if a restaurant is good or bad, with 1 and 2 star ratings indicating a bad business and 3-5 star ratings indicating a good one. We will use the following features.\n",
        "\n",
        "*   Average rating of a given business\n",
        "*   Average rating made by a user\n",
        "*   Number of reviews made by a user\n",
        "*   Number of reviews that concern a business"
      ]
    },
    {
      "metadata": {
        "id": "C6laCkyQhexY",
        "colab_type": "code",
        "colab": {
          "base_uri": "https://localhost:8080/",
          "height": 1233
        },
        "outputId": "ac3e3356-6df2-451e-928a-05c661a19570"
      },
      "cell_type": "code",
      "source": [
        "# Load the data\n",
        "ydata =  tc.SFrame('yelp-data.csv')\n",
        "print(ydata)"
      ],
      "execution_count": 19,
      "outputs": [
        {
          "output_type": "display_data",
          "data": {
            "text/html": [
              "<pre>Finished parsing file /content/yelp-data.csv</pre>"
            ],
            "text/plain": [
              "Finished parsing file /content/yelp-data.csv"
            ]
          },
          "metadata": {
            "tags": []
          }
        },
        {
          "output_type": "display_data",
          "data": {
            "text/html": [
              "<pre>Parsing completed. Parsed 100 lines in 1.23249 secs.</pre>"
            ],
            "text/plain": [
              "Parsing completed. Parsed 100 lines in 1.23249 secs."
            ]
          },
          "metadata": {
            "tags": []
          }
        },
        {
          "output_type": "stream",
          "text": [
            "------------------------------------------------------\n",
            "Inferred types from first 100 line(s) of file as \n",
            "column_type_hints=[str,str,str,int,str,str,str,dict,int,int,int,list,str,str,float,float,str,int,int,float,str,str,float,str,int,str,int,int,int,dict]\n",
            "If parsing fails due to incorrect types, you can correct\n",
            "the inferred type list above and pass it to read_csv in\n",
            "the column_type_hints argument\n",
            "------------------------------------------------------\n"
          ],
          "name": "stdout"
        },
        {
          "output_type": "display_data",
          "data": {
            "text/html": [
              "<pre>Read 47948 lines. Lines per second: 31117.6</pre>"
            ],
            "text/plain": [
              "Read 47948 lines. Lines per second: 31117.6"
            ]
          },
          "metadata": {
            "tags": []
          }
        },
        {
          "output_type": "display_data",
          "data": {
            "text/html": [
              "<pre>Finished parsing file /content/yelp-data.csv</pre>"
            ],
            "text/plain": [
              "Finished parsing file /content/yelp-data.csv"
            ]
          },
          "metadata": {
            "tags": []
          }
        },
        {
          "output_type": "display_data",
          "data": {
            "text/html": [
              "<pre>Parsing completed. Parsed 215879 lines in 4.11906 secs.</pre>"
            ],
            "text/plain": [
              "Parsing completed. Parsed 215879 lines in 4.11906 secs."
            ]
          },
          "metadata": {
            "tags": []
          }
        },
        {
          "output_type": "execute_result",
          "data": {
            "text/html": [
              "<div style=\"max-height:1000px;max-width:1500px;overflow:auto;\"><table frame=\"box\" rules=\"cols\">\n",
              "    <tr>\n",
              "        <th style=\"padding-left: 1em; padding-right: 1em; text-align: center\">business_id</th>\n",
              "        <th style=\"padding-left: 1em; padding-right: 1em; text-align: center\">date</th>\n",
              "        <th style=\"padding-left: 1em; padding-right: 1em; text-align: center\">review_id</th>\n",
              "        <th style=\"padding-left: 1em; padding-right: 1em; text-align: center\">stars</th>\n",
              "        <th style=\"padding-left: 1em; padding-right: 1em; text-align: center\">text</th>\n",
              "        <th style=\"padding-left: 1em; padding-right: 1em; text-align: center\">type</th>\n",
              "    </tr>\n",
              "    <tr>\n",
              "        <td style=\"padding-left: 1em; padding-right: 1em; text-align: center; vertical-align: top\">9yKzy9PApeiPPOUJEtnvkg</td>\n",
              "        <td style=\"padding-left: 1em; padding-right: 1em; text-align: center; vertical-align: top\">2011-01-26</td>\n",
              "        <td style=\"padding-left: 1em; padding-right: 1em; text-align: center; vertical-align: top\">fWKvX83p0-ka4JS3dc6E5A</td>\n",
              "        <td style=\"padding-left: 1em; padding-right: 1em; text-align: center; vertical-align: top\">5</td>\n",
              "        <td style=\"padding-left: 1em; padding-right: 1em; text-align: center; vertical-align: top\">My wife took me here on<br>my birthday for break ...</td>\n",
              "        <td style=\"padding-left: 1em; padding-right: 1em; text-align: center; vertical-align: top\">review</td>\n",
              "    </tr>\n",
              "    <tr>\n",
              "        <td style=\"padding-left: 1em; padding-right: 1em; text-align: center; vertical-align: top\">ZRJwVLyzEJq1VAihDhYiow</td>\n",
              "        <td style=\"padding-left: 1em; padding-right: 1em; text-align: center; vertical-align: top\">2011-07-27</td>\n",
              "        <td style=\"padding-left: 1em; padding-right: 1em; text-align: center; vertical-align: top\">IjZ33sJrzXqU-0X6U8NwyA</td>\n",
              "        <td style=\"padding-left: 1em; padding-right: 1em; text-align: center; vertical-align: top\">5</td>\n",
              "        <td style=\"padding-left: 1em; padding-right: 1em; text-align: center; vertical-align: top\">I have no idea why some<br>people give bad reviews ...</td>\n",
              "        <td style=\"padding-left: 1em; padding-right: 1em; text-align: center; vertical-align: top\">review</td>\n",
              "    </tr>\n",
              "    <tr>\n",
              "        <td style=\"padding-left: 1em; padding-right: 1em; text-align: center; vertical-align: top\">6oRAC4uyJCsJl1X0WZpVSA</td>\n",
              "        <td style=\"padding-left: 1em; padding-right: 1em; text-align: center; vertical-align: top\">2012-06-14</td>\n",
              "        <td style=\"padding-left: 1em; padding-right: 1em; text-align: center; vertical-align: top\">IESLBzqUCLdSzSqm0eCSxQ</td>\n",
              "        <td style=\"padding-left: 1em; padding-right: 1em; text-align: center; vertical-align: top\">4</td>\n",
              "        <td style=\"padding-left: 1em; padding-right: 1em; text-align: center; vertical-align: top\">love the gyro plate. Rice<br>is so good and I also ...</td>\n",
              "        <td style=\"padding-left: 1em; padding-right: 1em; text-align: center; vertical-align: top\">review</td>\n",
              "    </tr>\n",
              "    <tr>\n",
              "        <td style=\"padding-left: 1em; padding-right: 1em; text-align: center; vertical-align: top\">_1QQZuf4zZOyFCvXc0o6Vg</td>\n",
              "        <td style=\"padding-left: 1em; padding-right: 1em; text-align: center; vertical-align: top\">2010-05-27</td>\n",
              "        <td style=\"padding-left: 1em; padding-right: 1em; text-align: center; vertical-align: top\">G-WvGaISbqqaMHlNnByodA</td>\n",
              "        <td style=\"padding-left: 1em; padding-right: 1em; text-align: center; vertical-align: top\">5</td>\n",
              "        <td style=\"padding-left: 1em; padding-right: 1em; text-align: center; vertical-align: top\">Rosie, Dakota, and I LOVE<br>Chaparral Dog Park!!! ...</td>\n",
              "        <td style=\"padding-left: 1em; padding-right: 1em; text-align: center; vertical-align: top\">review</td>\n",
              "    </tr>\n",
              "    <tr>\n",
              "        <td style=\"padding-left: 1em; padding-right: 1em; text-align: center; vertical-align: top\">6ozycU1RpktNG2-1BroVtw</td>\n",
              "        <td style=\"padding-left: 1em; padding-right: 1em; text-align: center; vertical-align: top\">2012-01-05</td>\n",
              "        <td style=\"padding-left: 1em; padding-right: 1em; text-align: center; vertical-align: top\">1uJFq2r5QfJG_6ExMRCaGw</td>\n",
              "        <td style=\"padding-left: 1em; padding-right: 1em; text-align: center; vertical-align: top\">5</td>\n",
              "        <td style=\"padding-left: 1em; padding-right: 1em; text-align: center; vertical-align: top\">General Manager Scott<br>Petello is a good egg!!! ...</td>\n",
              "        <td style=\"padding-left: 1em; padding-right: 1em; text-align: center; vertical-align: top\">review</td>\n",
              "    </tr>\n",
              "    <tr>\n",
              "        <td style=\"padding-left: 1em; padding-right: 1em; text-align: center; vertical-align: top\">-yxfBYGB6SEqszmxJxd97A</td>\n",
              "        <td style=\"padding-left: 1em; padding-right: 1em; text-align: center; vertical-align: top\">2007-12-13</td>\n",
              "        <td style=\"padding-left: 1em; padding-right: 1em; text-align: center; vertical-align: top\">m2CKSsepBCoRYWxiRUsxAg</td>\n",
              "        <td style=\"padding-left: 1em; padding-right: 1em; text-align: center; vertical-align: top\">4</td>\n",
              "        <td style=\"padding-left: 1em; padding-right: 1em; text-align: center; vertical-align: top\">Quiessence is, simply<br>put, beautiful.  Full ...</td>\n",
              "        <td style=\"padding-left: 1em; padding-right: 1em; text-align: center; vertical-align: top\">review</td>\n",
              "    </tr>\n",
              "    <tr>\n",
              "        <td style=\"padding-left: 1em; padding-right: 1em; text-align: center; vertical-align: top\">zp713qNhx8d9KCJJnrw1xA</td>\n",
              "        <td style=\"padding-left: 1em; padding-right: 1em; text-align: center; vertical-align: top\">2010-02-12</td>\n",
              "        <td style=\"padding-left: 1em; padding-right: 1em; text-align: center; vertical-align: top\">riFQ3vxNpP4rWLk_CSri2A</td>\n",
              "        <td style=\"padding-left: 1em; padding-right: 1em; text-align: center; vertical-align: top\">5</td>\n",
              "        <td style=\"padding-left: 1em; padding-right: 1em; text-align: center; vertical-align: top\">Drop what you&#x27;re doing<br>and drive here. After I ...</td>\n",
              "        <td style=\"padding-left: 1em; padding-right: 1em; text-align: center; vertical-align: top\">review</td>\n",
              "    </tr>\n",
              "    <tr>\n",
              "        <td style=\"padding-left: 1em; padding-right: 1em; text-align: center; vertical-align: top\">hW0Ne_HTHEAgGF1rAdmR-g</td>\n",
              "        <td style=\"padding-left: 1em; padding-right: 1em; text-align: center; vertical-align: top\">2012-07-12</td>\n",
              "        <td style=\"padding-left: 1em; padding-right: 1em; text-align: center; vertical-align: top\">JL7GXJ9u4YMx7Rzs05NfiQ</td>\n",
              "        <td style=\"padding-left: 1em; padding-right: 1em; text-align: center; vertical-align: top\">4</td>\n",
              "        <td style=\"padding-left: 1em; padding-right: 1em; text-align: center; vertical-align: top\">Luckily, I didn&#x27;t have to<br>travel far to make my ...</td>\n",
              "        <td style=\"padding-left: 1em; padding-right: 1em; text-align: center; vertical-align: top\">review</td>\n",
              "    </tr>\n",
              "    <tr>\n",
              "        <td style=\"padding-left: 1em; padding-right: 1em; text-align: center; vertical-align: top\">wNUea3IXZWD63bbOQaOH-g</td>\n",
              "        <td style=\"padding-left: 1em; padding-right: 1em; text-align: center; vertical-align: top\">2012-08-17</td>\n",
              "        <td style=\"padding-left: 1em; padding-right: 1em; text-align: center; vertical-align: top\">XtnfnYmnJYi71yIuGsXIUA</td>\n",
              "        <td style=\"padding-left: 1em; padding-right: 1em; text-align: center; vertical-align: top\">4</td>\n",
              "        <td style=\"padding-left: 1em; padding-right: 1em; text-align: center; vertical-align: top\">Definitely come for Happy<br>hour! Prices are amaz ...</td>\n",
              "        <td style=\"padding-left: 1em; padding-right: 1em; text-align: center; vertical-align: top\">review</td>\n",
              "    </tr>\n",
              "    <tr>\n",
              "        <td style=\"padding-left: 1em; padding-right: 1em; text-align: center; vertical-align: top\">nMHhuYan8e3cONo3PornJA</td>\n",
              "        <td style=\"padding-left: 1em; padding-right: 1em; text-align: center; vertical-align: top\">2010-08-11</td>\n",
              "        <td style=\"padding-left: 1em; padding-right: 1em; text-align: center; vertical-align: top\">jJAIXA46pU1swYyRCdfXtQ</td>\n",
              "        <td style=\"padding-left: 1em; padding-right: 1em; text-align: center; vertical-align: top\">5</td>\n",
              "        <td style=\"padding-left: 1em; padding-right: 1em; text-align: center; vertical-align: top\">Nobuo shows his unique<br>talents with everything ...</td>\n",
              "        <td style=\"padding-left: 1em; padding-right: 1em; text-align: center; vertical-align: top\">review</td>\n",
              "    </tr>\n",
              "</table>\n",
              "<table frame=\"box\" rules=\"cols\">\n",
              "    <tr>\n",
              "        <th style=\"padding-left: 1em; padding-right: 1em; text-align: center\">user_id</th>\n",
              "        <th style=\"padding-left: 1em; padding-right: 1em; text-align: center\">votes</th>\n",
              "        <th style=\"padding-left: 1em; padding-right: 1em; text-align: center\">year</th>\n",
              "        <th style=\"padding-left: 1em; padding-right: 1em; text-align: center\">month</th>\n",
              "        <th style=\"padding-left: 1em; padding-right: 1em; text-align: center\">day</th>\n",
              "        <th style=\"padding-left: 1em; padding-right: 1em; text-align: center\">categories</th>\n",
              "        <th style=\"padding-left: 1em; padding-right: 1em; text-align: center\">city</th>\n",
              "    </tr>\n",
              "    <tr>\n",
              "        <td style=\"padding-left: 1em; padding-right: 1em; text-align: center; vertical-align: top\">rLtl8ZkDX5vH5nAx9C3q5Q</td>\n",
              "        <td style=\"padding-left: 1em; padding-right: 1em; text-align: center; vertical-align: top\">{&#x27;funny&#x27;: 0, &#x27;useful&#x27;: 5,<br>&#x27;cool&#x27;: 2} ...</td>\n",
              "        <td style=\"padding-left: 1em; padding-right: 1em; text-align: center; vertical-align: top\">2011</td>\n",
              "        <td style=\"padding-left: 1em; padding-right: 1em; text-align: center; vertical-align: top\">1</td>\n",
              "        <td style=\"padding-left: 1em; padding-right: 1em; text-align: center; vertical-align: top\">26</td>\n",
              "        <td style=\"padding-left: 1em; padding-right: 1em; text-align: center; vertical-align: top\">[Breakfast &amp; Brunch,<br>Restaurants] ...</td>\n",
              "        <td style=\"padding-left: 1em; padding-right: 1em; text-align: center; vertical-align: top\">Phoenix</td>\n",
              "    </tr>\n",
              "    <tr>\n",
              "        <td style=\"padding-left: 1em; padding-right: 1em; text-align: center; vertical-align: top\">0a2KyEL0d3Yb1V6aivbIuQ</td>\n",
              "        <td style=\"padding-left: 1em; padding-right: 1em; text-align: center; vertical-align: top\">{&#x27;funny&#x27;: 0, &#x27;useful&#x27;: 0,<br>&#x27;cool&#x27;: 0} ...</td>\n",
              "        <td style=\"padding-left: 1em; padding-right: 1em; text-align: center; vertical-align: top\">2011</td>\n",
              "        <td style=\"padding-left: 1em; padding-right: 1em; text-align: center; vertical-align: top\">7</td>\n",
              "        <td style=\"padding-left: 1em; padding-right: 1em; text-align: center; vertical-align: top\">27</td>\n",
              "        <td style=\"padding-left: 1em; padding-right: 1em; text-align: center; vertical-align: top\">[Italian, Pizza,<br>Restaurants] ...</td>\n",
              "        <td style=\"padding-left: 1em; padding-right: 1em; text-align: center; vertical-align: top\">Phoenix</td>\n",
              "    </tr>\n",
              "    <tr>\n",
              "        <td style=\"padding-left: 1em; padding-right: 1em; text-align: center; vertical-align: top\">0hT2KtfLiobPvh6cDC8JQg</td>\n",
              "        <td style=\"padding-left: 1em; padding-right: 1em; text-align: center; vertical-align: top\">{&#x27;funny&#x27;: 0, &#x27;useful&#x27;: 1,<br>&#x27;cool&#x27;: 0} ...</td>\n",
              "        <td style=\"padding-left: 1em; padding-right: 1em; text-align: center; vertical-align: top\">2012</td>\n",
              "        <td style=\"padding-left: 1em; padding-right: 1em; text-align: center; vertical-align: top\">6</td>\n",
              "        <td style=\"padding-left: 1em; padding-right: 1em; text-align: center; vertical-align: top\">14</td>\n",
              "        <td style=\"padding-left: 1em; padding-right: 1em; text-align: center; vertical-align: top\">[Middle Eastern,<br>Restaurants] ...</td>\n",
              "        <td style=\"padding-left: 1em; padding-right: 1em; text-align: center; vertical-align: top\">Tempe</td>\n",
              "    </tr>\n",
              "    <tr>\n",
              "        <td style=\"padding-left: 1em; padding-right: 1em; text-align: center; vertical-align: top\">uZetl9T0NcROGOyFfughhg</td>\n",
              "        <td style=\"padding-left: 1em; padding-right: 1em; text-align: center; vertical-align: top\">{&#x27;funny&#x27;: 0, &#x27;useful&#x27;: 2,<br>&#x27;cool&#x27;: 1} ...</td>\n",
              "        <td style=\"padding-left: 1em; padding-right: 1em; text-align: center; vertical-align: top\">2010</td>\n",
              "        <td style=\"padding-left: 1em; padding-right: 1em; text-align: center; vertical-align: top\">5</td>\n",
              "        <td style=\"padding-left: 1em; padding-right: 1em; text-align: center; vertical-align: top\">27</td>\n",
              "        <td style=\"padding-left: 1em; padding-right: 1em; text-align: center; vertical-align: top\">[Active Life, Dog Parks,<br>Parks] ...</td>\n",
              "        <td style=\"padding-left: 1em; padding-right: 1em; text-align: center; vertical-align: top\">Scottsdale</td>\n",
              "    </tr>\n",
              "    <tr>\n",
              "        <td style=\"padding-left: 1em; padding-right: 1em; text-align: center; vertical-align: top\">vYmM4KTsC8ZfQBg-j5MWkw</td>\n",
              "        <td style=\"padding-left: 1em; padding-right: 1em; text-align: center; vertical-align: top\">{&#x27;funny&#x27;: 0, &#x27;useful&#x27;: 0,<br>&#x27;cool&#x27;: 0} ...</td>\n",
              "        <td style=\"padding-left: 1em; padding-right: 1em; text-align: center; vertical-align: top\">2012</td>\n",
              "        <td style=\"padding-left: 1em; padding-right: 1em; text-align: center; vertical-align: top\">1</td>\n",
              "        <td style=\"padding-left: 1em; padding-right: 1em; text-align: center; vertical-align: top\">5</td>\n",
              "        <td style=\"padding-left: 1em; padding-right: 1em; text-align: center; vertical-align: top\">[Tires, Automotive]</td>\n",
              "        <td style=\"padding-left: 1em; padding-right: 1em; text-align: center; vertical-align: top\">Mesa</td>\n",
              "    </tr>\n",
              "    <tr>\n",
              "        <td style=\"padding-left: 1em; padding-right: 1em; text-align: center; vertical-align: top\">sqYN3lNgvPbPCTRsMFu27g</td>\n",
              "        <td style=\"padding-left: 1em; padding-right: 1em; text-align: center; vertical-align: top\">{&#x27;funny&#x27;: 1, &#x27;useful&#x27;: 3,<br>&#x27;cool&#x27;: 4} ...</td>\n",
              "        <td style=\"padding-left: 1em; padding-right: 1em; text-align: center; vertical-align: top\">2007</td>\n",
              "        <td style=\"padding-left: 1em; padding-right: 1em; text-align: center; vertical-align: top\">12</td>\n",
              "        <td style=\"padding-left: 1em; padding-right: 1em; text-align: center; vertical-align: top\">13</td>\n",
              "        <td style=\"padding-left: 1em; padding-right: 1em; text-align: center; vertical-align: top\">[Wine Bars, Bars,<br>American (New), ...</td>\n",
              "        <td style=\"padding-left: 1em; padding-right: 1em; text-align: center; vertical-align: top\">Phoenix</td>\n",
              "    </tr>\n",
              "    <tr>\n",
              "        <td style=\"padding-left: 1em; padding-right: 1em; text-align: center; vertical-align: top\">wFweIWhv2fREZV_dYkz_1g</td>\n",
              "        <td style=\"padding-left: 1em; padding-right: 1em; text-align: center; vertical-align: top\">{&#x27;funny&#x27;: 4, &#x27;useful&#x27;: 7,<br>&#x27;cool&#x27;: 7} ...</td>\n",
              "        <td style=\"padding-left: 1em; padding-right: 1em; text-align: center; vertical-align: top\">2010</td>\n",
              "        <td style=\"padding-left: 1em; padding-right: 1em; text-align: center; vertical-align: top\">2</td>\n",
              "        <td style=\"padding-left: 1em; padding-right: 1em; text-align: center; vertical-align: top\">12</td>\n",
              "        <td style=\"padding-left: 1em; padding-right: 1em; text-align: center; vertical-align: top\">[Mexican, Restaurants]</td>\n",
              "        <td style=\"padding-left: 1em; padding-right: 1em; text-align: center; vertical-align: top\">Phoenix</td>\n",
              "    </tr>\n",
              "    <tr>\n",
              "        <td style=\"padding-left: 1em; padding-right: 1em; text-align: center; vertical-align: top\">1ieuYcKS7zeAv_U15AB13A</td>\n",
              "        <td style=\"padding-left: 1em; padding-right: 1em; text-align: center; vertical-align: top\">{&#x27;funny&#x27;: 0, &#x27;useful&#x27;: 1,<br>&#x27;cool&#x27;: 0} ...</td>\n",
              "        <td style=\"padding-left: 1em; padding-right: 1em; text-align: center; vertical-align: top\">2012</td>\n",
              "        <td style=\"padding-left: 1em; padding-right: 1em; text-align: center; vertical-align: top\">7</td>\n",
              "        <td style=\"padding-left: 1em; padding-right: 1em; text-align: center; vertical-align: top\">12</td>\n",
              "        <td style=\"padding-left: 1em; padding-right: 1em; text-align: center; vertical-align: top\">[Hotels &amp; Travel,<br>Airports] ...</td>\n",
              "        <td style=\"padding-left: 1em; padding-right: 1em; text-align: center; vertical-align: top\">Phoenix</td>\n",
              "    </tr>\n",
              "    <tr>\n",
              "        <td style=\"padding-left: 1em; padding-right: 1em; text-align: center; vertical-align: top\">Vh_DlizgGhSqQh4qfZ2h6A</td>\n",
              "        <td style=\"padding-left: 1em; padding-right: 1em; text-align: center; vertical-align: top\">{&#x27;funny&#x27;: 0, &#x27;useful&#x27;: 0,<br>&#x27;cool&#x27;: 0} ...</td>\n",
              "        <td style=\"padding-left: 1em; padding-right: 1em; text-align: center; vertical-align: top\">2012</td>\n",
              "        <td style=\"padding-left: 1em; padding-right: 1em; text-align: center; vertical-align: top\">8</td>\n",
              "        <td style=\"padding-left: 1em; padding-right: 1em; text-align: center; vertical-align: top\">17</td>\n",
              "        <td style=\"padding-left: 1em; padding-right: 1em; text-align: center; vertical-align: top\">[Sushi Bars, Restaurants]</td>\n",
              "        <td style=\"padding-left: 1em; padding-right: 1em; text-align: center; vertical-align: top\">Phoenix</td>\n",
              "    </tr>\n",
              "    <tr>\n",
              "        <td style=\"padding-left: 1em; padding-right: 1em; text-align: center; vertical-align: top\">sUNkXg8-KFtCMQDV6zRzQg</td>\n",
              "        <td style=\"padding-left: 1em; padding-right: 1em; text-align: center; vertical-align: top\">{&#x27;funny&#x27;: 0, &#x27;useful&#x27;: 1,<br>&#x27;cool&#x27;: 0} ...</td>\n",
              "        <td style=\"padding-left: 1em; padding-right: 1em; text-align: center; vertical-align: top\">2010</td>\n",
              "        <td style=\"padding-left: 1em; padding-right: 1em; text-align: center; vertical-align: top\">8</td>\n",
              "        <td style=\"padding-left: 1em; padding-right: 1em; text-align: center; vertical-align: top\">11</td>\n",
              "        <td style=\"padding-left: 1em; padding-right: 1em; text-align: center; vertical-align: top\">[Food, Tea Rooms,<br>Japanese, Restaurants] ...</td>\n",
              "        <td style=\"padding-left: 1em; padding-right: 1em; text-align: center; vertical-align: top\">Phoenix</td>\n",
              "    </tr>\n",
              "</table>\n",
              "<table frame=\"box\" rules=\"cols\">\n",
              "    <tr>\n",
              "        <th style=\"padding-left: 1em; padding-right: 1em; text-align: center\">full_address</th>\n",
              "        <th style=\"padding-left: 1em; padding-right: 1em; text-align: center\">latitude</th>\n",
              "        <th style=\"padding-left: 1em; padding-right: 1em; text-align: center\">longitude</th>\n",
              "        <th style=\"padding-left: 1em; padding-right: 1em; text-align: center\">name</th>\n",
              "        <th style=\"padding-left: 1em; padding-right: 1em; text-align: center\">open</th>\n",
              "        <th style=\"padding-left: 1em; padding-right: 1em; text-align: center\">business_review_count</th>\n",
              "        <th style=\"padding-left: 1em; padding-right: 1em; text-align: center\">business_avg_stars</th>\n",
              "    </tr>\n",
              "    <tr>\n",
              "        <td style=\"padding-left: 1em; padding-right: 1em; text-align: center; vertical-align: top\">6106 S 32nd St\\nPhoenix,<br>AZ 85042 ...</td>\n",
              "        <td style=\"padding-left: 1em; padding-right: 1em; text-align: center; vertical-align: top\">33.3908</td>\n",
              "        <td style=\"padding-left: 1em; padding-right: 1em; text-align: center; vertical-align: top\">-112.013</td>\n",
              "        <td style=\"padding-left: 1em; padding-right: 1em; text-align: center; vertical-align: top\">Morning Glory Cafe</td>\n",
              "        <td style=\"padding-left: 1em; padding-right: 1em; text-align: center; vertical-align: top\">1</td>\n",
              "        <td style=\"padding-left: 1em; padding-right: 1em; text-align: center; vertical-align: top\">116</td>\n",
              "        <td style=\"padding-left: 1em; padding-right: 1em; text-align: center; vertical-align: top\">4.0</td>\n",
              "    </tr>\n",
              "    <tr>\n",
              "        <td style=\"padding-left: 1em; padding-right: 1em; text-align: center; vertical-align: top\">4848 E Chandler<br>Blvd\\nPhoenix, AZ 85044 ...</td>\n",
              "        <td style=\"padding-left: 1em; padding-right: 1em; text-align: center; vertical-align: top\">33.3056</td>\n",
              "        <td style=\"padding-left: 1em; padding-right: 1em; text-align: center; vertical-align: top\">-111.979</td>\n",
              "        <td style=\"padding-left: 1em; padding-right: 1em; text-align: center; vertical-align: top\">Spinato&#x27;s Pizzeria</td>\n",
              "        <td style=\"padding-left: 1em; padding-right: 1em; text-align: center; vertical-align: top\">1</td>\n",
              "        <td style=\"padding-left: 1em; padding-right: 1em; text-align: center; vertical-align: top\">102</td>\n",
              "        <td style=\"padding-left: 1em; padding-right: 1em; text-align: center; vertical-align: top\">4.0</td>\n",
              "    </tr>\n",
              "    <tr>\n",
              "        <td style=\"padding-left: 1em; padding-right: 1em; text-align: center; vertical-align: top\">1513 E  Apache<br>Blvd\\nTempe, AZ 85281 ...</td>\n",
              "        <td style=\"padding-left: 1em; padding-right: 1em; text-align: center; vertical-align: top\">33.4143</td>\n",
              "        <td style=\"padding-left: 1em; padding-right: 1em; text-align: center; vertical-align: top\">-111.913</td>\n",
              "        <td style=\"padding-left: 1em; padding-right: 1em; text-align: center; vertical-align: top\">Haji-Baba</td>\n",
              "        <td style=\"padding-left: 1em; padding-right: 1em; text-align: center; vertical-align: top\">1</td>\n",
              "        <td style=\"padding-left: 1em; padding-right: 1em; text-align: center; vertical-align: top\">265</td>\n",
              "        <td style=\"padding-left: 1em; padding-right: 1em; text-align: center; vertical-align: top\">4.5</td>\n",
              "    </tr>\n",
              "    <tr>\n",
              "        <td style=\"padding-left: 1em; padding-right: 1em; text-align: center; vertical-align: top\">5401 N Hayden<br>Rd\\nScottsdale, AZ 85250 ...</td>\n",
              "        <td style=\"padding-left: 1em; padding-right: 1em; text-align: center; vertical-align: top\">33.5229</td>\n",
              "        <td style=\"padding-left: 1em; padding-right: 1em; text-align: center; vertical-align: top\">-111.908</td>\n",
              "        <td style=\"padding-left: 1em; padding-right: 1em; text-align: center; vertical-align: top\">Chaparral Dog Park</td>\n",
              "        <td style=\"padding-left: 1em; padding-right: 1em; text-align: center; vertical-align: top\">1</td>\n",
              "        <td style=\"padding-left: 1em; padding-right: 1em; text-align: center; vertical-align: top\">88</td>\n",
              "        <td style=\"padding-left: 1em; padding-right: 1em; text-align: center; vertical-align: top\">4.5</td>\n",
              "    </tr>\n",
              "    <tr>\n",
              "        <td style=\"padding-left: 1em; padding-right: 1em; text-align: center; vertical-align: top\">1357 S Power Road\\nMesa,<br>AZ 85206 ...</td>\n",
              "        <td style=\"padding-left: 1em; padding-right: 1em; text-align: center; vertical-align: top\">33.391</td>\n",
              "        <td style=\"padding-left: 1em; padding-right: 1em; text-align: center; vertical-align: top\">-111.684</td>\n",
              "        <td style=\"padding-left: 1em; padding-right: 1em; text-align: center; vertical-align: top\">Discount Tire</td>\n",
              "        <td style=\"padding-left: 1em; padding-right: 1em; text-align: center; vertical-align: top\">1</td>\n",
              "        <td style=\"padding-left: 1em; padding-right: 1em; text-align: center; vertical-align: top\">5</td>\n",
              "        <td style=\"padding-left: 1em; padding-right: 1em; text-align: center; vertical-align: top\">4.5</td>\n",
              "    </tr>\n",
              "    <tr>\n",
              "        <td style=\"padding-left: 1em; padding-right: 1em; text-align: center; vertical-align: top\">6106 S 32nd St\\nPhoenix,<br>AZ 85042 ...</td>\n",
              "        <td style=\"padding-left: 1em; padding-right: 1em; text-align: center; vertical-align: top\">33.3908</td>\n",
              "        <td style=\"padding-left: 1em; padding-right: 1em; text-align: center; vertical-align: top\">-112.013</td>\n",
              "        <td style=\"padding-left: 1em; padding-right: 1em; text-align: center; vertical-align: top\">Quiessence Restaurant</td>\n",
              "        <td style=\"padding-left: 1em; padding-right: 1em; text-align: center; vertical-align: top\">1</td>\n",
              "        <td style=\"padding-left: 1em; padding-right: 1em; text-align: center; vertical-align: top\">109</td>\n",
              "        <td style=\"padding-left: 1em; padding-right: 1em; text-align: center; vertical-align: top\">3.5</td>\n",
              "    </tr>\n",
              "    <tr>\n",
              "        <td style=\"padding-left: 1em; padding-right: 1em; text-align: center; vertical-align: top\">1919 N 16th St\\nPhoenix,<br>AZ 85006 ...</td>\n",
              "        <td style=\"padding-left: 1em; padding-right: 1em; text-align: center; vertical-align: top\">33.4691</td>\n",
              "        <td style=\"padding-left: 1em; padding-right: 1em; text-align: center; vertical-align: top\">-112.048</td>\n",
              "        <td style=\"padding-left: 1em; padding-right: 1em; text-align: center; vertical-align: top\">La Condesa Gourmet Taco<br>Shop ...</td>\n",
              "        <td style=\"padding-left: 1em; padding-right: 1em; text-align: center; vertical-align: top\">1</td>\n",
              "        <td style=\"padding-left: 1em; padding-right: 1em; text-align: center; vertical-align: top\">307</td>\n",
              "        <td style=\"padding-left: 1em; padding-right: 1em; text-align: center; vertical-align: top\">4.0</td>\n",
              "    </tr>\n",
              "    <tr>\n",
              "        <td style=\"padding-left: 1em; padding-right: 1em; text-align: center; vertical-align: top\">3400 E Sky Harbor<br>Blvd\\nPhoenix, AZ 85034 ...</td>\n",
              "        <td style=\"padding-left: 1em; padding-right: 1em; text-align: center; vertical-align: top\">33.4348</td>\n",
              "        <td style=\"padding-left: 1em; padding-right: 1em; text-align: center; vertical-align: top\">-112.006</td>\n",
              "        <td style=\"padding-left: 1em; padding-right: 1em; text-align: center; vertical-align: top\">Phoenix Sky Harbor<br>International Airport ...</td>\n",
              "        <td style=\"padding-left: 1em; padding-right: 1em; text-align: center; vertical-align: top\">1</td>\n",
              "        <td style=\"padding-left: 1em; padding-right: 1em; text-align: center; vertical-align: top\">862</td>\n",
              "        <td style=\"padding-left: 1em; padding-right: 1em; text-align: center; vertical-align: top\">3.0</td>\n",
              "    </tr>\n",
              "    <tr>\n",
              "        <td style=\"padding-left: 1em; padding-right: 1em; text-align: center; vertical-align: top\">2574 E Camelback<br>Rd\\nPhoenix, AZ 85016 ...</td>\n",
              "        <td style=\"padding-left: 1em; padding-right: 1em; text-align: center; vertical-align: top\">33.5096</td>\n",
              "        <td style=\"padding-left: 1em; padding-right: 1em; text-align: center; vertical-align: top\">-112.026</td>\n",
              "        <td style=\"padding-left: 1em; padding-right: 1em; text-align: center; vertical-align: top\">Stingray Sushi</td>\n",
              "        <td style=\"padding-left: 1em; padding-right: 1em; text-align: center; vertical-align: top\">1</td>\n",
              "        <td style=\"padding-left: 1em; padding-right: 1em; text-align: center; vertical-align: top\">163</td>\n",
              "        <td style=\"padding-left: 1em; padding-right: 1em; text-align: center; vertical-align: top\">3.0</td>\n",
              "    </tr>\n",
              "    <tr>\n",
              "        <td style=\"padding-left: 1em; padding-right: 1em; text-align: center; vertical-align: top\">622 E Adams St\\nPhoenix,<br>AZ 85004 ...</td>\n",
              "        <td style=\"padding-left: 1em; padding-right: 1em; text-align: center; vertical-align: top\">33.4495</td>\n",
              "        <td style=\"padding-left: 1em; padding-right: 1em; text-align: center; vertical-align: top\">-112.066</td>\n",
              "        <td style=\"padding-left: 1em; padding-right: 1em; text-align: center; vertical-align: top\">Nobuo At Teeter House</td>\n",
              "        <td style=\"padding-left: 1em; padding-right: 1em; text-align: center; vertical-align: top\">1</td>\n",
              "        <td style=\"padding-left: 1em; padding-right: 1em; text-align: center; vertical-align: top\">189</td>\n",
              "        <td style=\"padding-left: 1em; padding-right: 1em; text-align: center; vertical-align: top\">4.5</td>\n",
              "    </tr>\n",
              "</table>\n",
              "<table frame=\"box\" rules=\"cols\">\n",
              "    <tr>\n",
              "        <th style=\"padding-left: 1em; padding-right: 1em; text-align: center\">state</th>\n",
              "        <th style=\"padding-left: 1em; padding-right: 1em; text-align: center\">business_type</th>\n",
              "        <th style=\"padding-left: 1em; padding-right: 1em; text-align: center\">user_avg_stars</th>\n",
              "        <th style=\"padding-left: 1em; padding-right: 1em; text-align: center\">user_name</th>\n",
              "        <th style=\"padding-left: 1em; padding-right: 1em; text-align: center\">user_review_count</th>\n",
              "        <th style=\"padding-left: 1em; padding-right: 1em; text-align: center\">user_type</th>\n",
              "        <th style=\"padding-left: 1em; padding-right: 1em; text-align: center\">votes_funny</th>\n",
              "        <th style=\"padding-left: 1em; padding-right: 1em; text-align: center\">votes_cool</th>\n",
              "        <th style=\"padding-left: 1em; padding-right: 1em; text-align: center\">votes_useful</th>\n",
              "    </tr>\n",
              "    <tr>\n",
              "        <td style=\"padding-left: 1em; padding-right: 1em; text-align: center; vertical-align: top\">AZ</td>\n",
              "        <td style=\"padding-left: 1em; padding-right: 1em; text-align: center; vertical-align: top\">business</td>\n",
              "        <td style=\"padding-left: 1em; padding-right: 1em; text-align: center; vertical-align: top\">3.72</td>\n",
              "        <td style=\"padding-left: 1em; padding-right: 1em; text-align: center; vertical-align: top\">Jason</td>\n",
              "        <td style=\"padding-left: 1em; padding-right: 1em; text-align: center; vertical-align: top\">376</td>\n",
              "        <td style=\"padding-left: 1em; padding-right: 1em; text-align: center; vertical-align: top\">user</td>\n",
              "        <td style=\"padding-left: 1em; padding-right: 1em; text-align: center; vertical-align: top\">331</td>\n",
              "        <td style=\"padding-left: 1em; padding-right: 1em; text-align: center; vertical-align: top\">322</td>\n",
              "        <td style=\"padding-left: 1em; padding-right: 1em; text-align: center; vertical-align: top\">1034</td>\n",
              "    </tr>\n",
              "    <tr>\n",
              "        <td style=\"padding-left: 1em; padding-right: 1em; text-align: center; vertical-align: top\">AZ</td>\n",
              "        <td style=\"padding-left: 1em; padding-right: 1em; text-align: center; vertical-align: top\">business</td>\n",
              "        <td style=\"padding-left: 1em; padding-right: 1em; text-align: center; vertical-align: top\">5.0</td>\n",
              "        <td style=\"padding-left: 1em; padding-right: 1em; text-align: center; vertical-align: top\">Paul</td>\n",
              "        <td style=\"padding-left: 1em; padding-right: 1em; text-align: center; vertical-align: top\">2</td>\n",
              "        <td style=\"padding-left: 1em; padding-right: 1em; text-align: center; vertical-align: top\">user</td>\n",
              "        <td style=\"padding-left: 1em; padding-right: 1em; text-align: center; vertical-align: top\">2</td>\n",
              "        <td style=\"padding-left: 1em; padding-right: 1em; text-align: center; vertical-align: top\">0</td>\n",
              "        <td style=\"padding-left: 1em; padding-right: 1em; text-align: center; vertical-align: top\">0</td>\n",
              "    </tr>\n",
              "    <tr>\n",
              "        <td style=\"padding-left: 1em; padding-right: 1em; text-align: center; vertical-align: top\">AZ</td>\n",
              "        <td style=\"padding-left: 1em; padding-right: 1em; text-align: center; vertical-align: top\">business</td>\n",
              "        <td style=\"padding-left: 1em; padding-right: 1em; text-align: center; vertical-align: top\">4.33</td>\n",
              "        <td style=\"padding-left: 1em; padding-right: 1em; text-align: center; vertical-align: top\">Nicole</td>\n",
              "        <td style=\"padding-left: 1em; padding-right: 1em; text-align: center; vertical-align: top\">3</td>\n",
              "        <td style=\"padding-left: 1em; padding-right: 1em; text-align: center; vertical-align: top\">user</td>\n",
              "        <td style=\"padding-left: 1em; padding-right: 1em; text-align: center; vertical-align: top\">0</td>\n",
              "        <td style=\"padding-left: 1em; padding-right: 1em; text-align: center; vertical-align: top\">0</td>\n",
              "        <td style=\"padding-left: 1em; padding-right: 1em; text-align: center; vertical-align: top\">3</td>\n",
              "    </tr>\n",
              "    <tr>\n",
              "        <td style=\"padding-left: 1em; padding-right: 1em; text-align: center; vertical-align: top\">AZ</td>\n",
              "        <td style=\"padding-left: 1em; padding-right: 1em; text-align: center; vertical-align: top\">business</td>\n",
              "        <td style=\"padding-left: 1em; padding-right: 1em; text-align: center; vertical-align: top\">4.29</td>\n",
              "        <td style=\"padding-left: 1em; padding-right: 1em; text-align: center; vertical-align: top\">lindsey</td>\n",
              "        <td style=\"padding-left: 1em; padding-right: 1em; text-align: center; vertical-align: top\">31</td>\n",
              "        <td style=\"padding-left: 1em; padding-right: 1em; text-align: center; vertical-align: top\">user</td>\n",
              "        <td style=\"padding-left: 1em; padding-right: 1em; text-align: center; vertical-align: top\">18</td>\n",
              "        <td style=\"padding-left: 1em; padding-right: 1em; text-align: center; vertical-align: top\">36</td>\n",
              "        <td style=\"padding-left: 1em; padding-right: 1em; text-align: center; vertical-align: top\">75</td>\n",
              "    </tr>\n",
              "    <tr>\n",
              "        <td style=\"padding-left: 1em; padding-right: 1em; text-align: center; vertical-align: top\">AZ</td>\n",
              "        <td style=\"padding-left: 1em; padding-right: 1em; text-align: center; vertical-align: top\">business</td>\n",
              "        <td style=\"padding-left: 1em; padding-right: 1em; text-align: center; vertical-align: top\">3.25</td>\n",
              "        <td style=\"padding-left: 1em; padding-right: 1em; text-align: center; vertical-align: top\">Roger</td>\n",
              "        <td style=\"padding-left: 1em; padding-right: 1em; text-align: center; vertical-align: top\">28</td>\n",
              "        <td style=\"padding-left: 1em; padding-right: 1em; text-align: center; vertical-align: top\">user</td>\n",
              "        <td style=\"padding-left: 1em; padding-right: 1em; text-align: center; vertical-align: top\">3</td>\n",
              "        <td style=\"padding-left: 1em; padding-right: 1em; text-align: center; vertical-align: top\">8</td>\n",
              "        <td style=\"padding-left: 1em; padding-right: 1em; text-align: center; vertical-align: top\">32</td>\n",
              "    </tr>\n",
              "    <tr>\n",
              "        <td style=\"padding-left: 1em; padding-right: 1em; text-align: center; vertical-align: top\">AZ</td>\n",
              "        <td style=\"padding-left: 1em; padding-right: 1em; text-align: center; vertical-align: top\">business</td>\n",
              "        <td style=\"padding-left: 1em; padding-right: 1em; text-align: center; vertical-align: top\">3.54</td>\n",
              "        <td style=\"padding-left: 1em; padding-right: 1em; text-align: center; vertical-align: top\">Deborah</td>\n",
              "        <td style=\"padding-left: 1em; padding-right: 1em; text-align: center; vertical-align: top\">654</td>\n",
              "        <td style=\"padding-left: 1em; padding-right: 1em; text-align: center; vertical-align: top\">user</td>\n",
              "        <td style=\"padding-left: 1em; padding-right: 1em; text-align: center; vertical-align: top\">743</td>\n",
              "        <td style=\"padding-left: 1em; padding-right: 1em; text-align: center; vertical-align: top\">1121</td>\n",
              "        <td style=\"padding-left: 1em; padding-right: 1em; text-align: center; vertical-align: top\">1584</td>\n",
              "    </tr>\n",
              "    <tr>\n",
              "        <td style=\"padding-left: 1em; padding-right: 1em; text-align: center; vertical-align: top\">AZ</td>\n",
              "        <td style=\"padding-left: 1em; padding-right: 1em; text-align: center; vertical-align: top\">business</td>\n",
              "        <td style=\"padding-left: 1em; padding-right: 1em; text-align: center; vertical-align: top\">3.79</td>\n",
              "        <td style=\"padding-left: 1em; padding-right: 1em; text-align: center; vertical-align: top\">Monique</td>\n",
              "        <td style=\"padding-left: 1em; padding-right: 1em; text-align: center; vertical-align: top\">295</td>\n",
              "        <td style=\"padding-left: 1em; padding-right: 1em; text-align: center; vertical-align: top\">user</td>\n",
              "        <td style=\"padding-left: 1em; padding-right: 1em; text-align: center; vertical-align: top\">1187</td>\n",
              "        <td style=\"padding-left: 1em; padding-right: 1em; text-align: center; vertical-align: top\">1200</td>\n",
              "        <td style=\"padding-left: 1em; padding-right: 1em; text-align: center; vertical-align: top\">1376</td>\n",
              "    </tr>\n",
              "    <tr>\n",
              "        <td style=\"padding-left: 1em; padding-right: 1em; text-align: center; vertical-align: top\">AZ</td>\n",
              "        <td style=\"padding-left: 1em; padding-right: 1em; text-align: center; vertical-align: top\">business</td>\n",
              "        <td style=\"padding-left: 1em; padding-right: 1em; text-align: center; vertical-align: top\">3.42</td>\n",
              "        <td style=\"padding-left: 1em; padding-right: 1em; text-align: center; vertical-align: top\">Heather</td>\n",
              "        <td style=\"padding-left: 1em; padding-right: 1em; text-align: center; vertical-align: top\">173</td>\n",
              "        <td style=\"padding-left: 1em; padding-right: 1em; text-align: center; vertical-align: top\">user</td>\n",
              "        <td style=\"padding-left: 1em; padding-right: 1em; text-align: center; vertical-align: top\">85</td>\n",
              "        <td style=\"padding-left: 1em; padding-right: 1em; text-align: center; vertical-align: top\">89</td>\n",
              "        <td style=\"padding-left: 1em; padding-right: 1em; text-align: center; vertical-align: top\">164</td>\n",
              "    </tr>\n",
              "    <tr>\n",
              "        <td style=\"padding-left: 1em; padding-right: 1em; text-align: center; vertical-align: top\">AZ</td>\n",
              "        <td style=\"padding-left: 1em; padding-right: 1em; text-align: center; vertical-align: top\">business</td>\n",
              "        <td style=\"padding-left: 1em; padding-right: 1em; text-align: center; vertical-align: top\">3.56</td>\n",
              "        <td style=\"padding-left: 1em; padding-right: 1em; text-align: center; vertical-align: top\">Sherri</td>\n",
              "        <td style=\"padding-left: 1em; padding-right: 1em; text-align: center; vertical-align: top\">18</td>\n",
              "        <td style=\"padding-left: 1em; padding-right: 1em; text-align: center; vertical-align: top\">user</td>\n",
              "        <td style=\"padding-left: 1em; padding-right: 1em; text-align: center; vertical-align: top\">9</td>\n",
              "        <td style=\"padding-left: 1em; padding-right: 1em; text-align: center; vertical-align: top\">8</td>\n",
              "        <td style=\"padding-left: 1em; padding-right: 1em; text-align: center; vertical-align: top\">11</td>\n",
              "    </tr>\n",
              "    <tr>\n",
              "        <td style=\"padding-left: 1em; padding-right: 1em; text-align: center; vertical-align: top\">AZ</td>\n",
              "        <td style=\"padding-left: 1em; padding-right: 1em; text-align: center; vertical-align: top\">business</td>\n",
              "        <td style=\"padding-left: 1em; padding-right: 1em; text-align: center; vertical-align: top\">4.17</td>\n",
              "        <td style=\"padding-left: 1em; padding-right: 1em; text-align: center; vertical-align: top\">Mark</td>\n",
              "        <td style=\"padding-left: 1em; padding-right: 1em; text-align: center; vertical-align: top\">6</td>\n",
              "        <td style=\"padding-left: 1em; padding-right: 1em; text-align: center; vertical-align: top\">user</td>\n",
              "        <td style=\"padding-left: 1em; padding-right: 1em; text-align: center; vertical-align: top\">0</td>\n",
              "        <td style=\"padding-left: 1em; padding-right: 1em; text-align: center; vertical-align: top\">3</td>\n",
              "        <td style=\"padding-left: 1em; padding-right: 1em; text-align: center; vertical-align: top\">4</td>\n",
              "    </tr>\n",
              "</table>\n",
              "<table frame=\"box\" rules=\"cols\">\n",
              "    <tr>\n",
              "        <th style=\"padding-left: 1em; padding-right: 1em; text-align: center\">categories_dict</th>\n",
              "    </tr>\n",
              "    <tr>\n",
              "        <td style=\"padding-left: 1em; padding-right: 1em; text-align: center; vertical-align: top\">{&#x27;Breakfast &amp; Brunch&#x27;: 1,<br>&#x27;Restaurants&#x27;: 1} ...</td>\n",
              "    </tr>\n",
              "    <tr>\n",
              "        <td style=\"padding-left: 1em; padding-right: 1em; text-align: center; vertical-align: top\">{&#x27;Italian&#x27;: 1, &#x27;Pizza&#x27;:<br>1, &#x27;Restaurants&#x27;: 1} ...</td>\n",
              "    </tr>\n",
              "    <tr>\n",
              "        <td style=\"padding-left: 1em; padding-right: 1em; text-align: center; vertical-align: top\">{&#x27;Middle Eastern&#x27;: 1,<br>&#x27;Restaurants&#x27;: 1} ...</td>\n",
              "    </tr>\n",
              "    <tr>\n",
              "        <td style=\"padding-left: 1em; padding-right: 1em; text-align: center; vertical-align: top\">{&#x27;Dog Parks&#x27;: 1, &#x27;Parks&#x27;:<br>1, &#x27;Active Life&#x27;: 1} ...</td>\n",
              "    </tr>\n",
              "    <tr>\n",
              "        <td style=\"padding-left: 1em; padding-right: 1em; text-align: center; vertical-align: top\">{&#x27;Tires&#x27;: 1,<br>&#x27;Automotive&#x27;: 1} ...</td>\n",
              "    </tr>\n",
              "    <tr>\n",
              "        <td style=\"padding-left: 1em; padding-right: 1em; text-align: center; vertical-align: top\">{&#x27;Bars&#x27;: 1, &#x27;American<br>(New)&#x27;: 1, &#x27;Nightlife&#x27;: ...</td>\n",
              "    </tr>\n",
              "    <tr>\n",
              "        <td style=\"padding-left: 1em; padding-right: 1em; text-align: center; vertical-align: top\">{&#x27;Mexican&#x27;: 1,<br>&#x27;Restaurants&#x27;: 1} ...</td>\n",
              "    </tr>\n",
              "    <tr>\n",
              "        <td style=\"padding-left: 1em; padding-right: 1em; text-align: center; vertical-align: top\">{&#x27;Airports&#x27;: 1, &#x27;Hotels &amp;<br>Travel&#x27;: 1} ...</td>\n",
              "    </tr>\n",
              "    <tr>\n",
              "        <td style=\"padding-left: 1em; padding-right: 1em; text-align: center; vertical-align: top\">{&#x27;Sushi Bars&#x27;: 1,<br>&#x27;Restaurants&#x27;: 1} ...</td>\n",
              "    </tr>\n",
              "    <tr>\n",
              "        <td style=\"padding-left: 1em; padding-right: 1em; text-align: center; vertical-align: top\">{&#x27;Food&#x27;: 1, &#x27;Tea Rooms&#x27;:<br>1, &#x27;Japanese&#x27;: 1, ...</td>\n",
              "    </tr>\n",
              "</table>\n",
              "[215879 rows x 30 columns]<br/>Note: Only the head of the SFrame is printed.<br/>You can use print_rows(num_rows=m, num_columns=n) to print more rows and columns.\n",
              "</div>"
            ],
            "text/plain": [
              "Columns:\n",
              "\tbusiness_id\tstr\n",
              "\tdate\tstr\n",
              "\treview_id\tstr\n",
              "\tstars\tint\n",
              "\ttext\tstr\n",
              "\ttype\tstr\n",
              "\tuser_id\tstr\n",
              "\tvotes\tdict\n",
              "\tyear\tint\n",
              "\tmonth\tint\n",
              "\tday\tint\n",
              "\tcategories\tlist\n",
              "\tcity\tstr\n",
              "\tfull_address\tstr\n",
              "\tlatitude\tfloat\n",
              "\tlongitude\tfloat\n",
              "\tname\tstr\n",
              "\topen\tint\n",
              "\tbusiness_review_count\tint\n",
              "\tbusiness_avg_stars\tfloat\n",
              "\tstate\tstr\n",
              "\tbusiness_type\tstr\n",
              "\tuser_avg_stars\tfloat\n",
              "\tuser_name\tstr\n",
              "\tuser_review_count\tint\n",
              "\tuser_type\tstr\n",
              "\tvotes_funny\tint\n",
              "\tvotes_cool\tint\n",
              "\tvotes_useful\tint\n",
              "\tcategories_dict\tdict\n",
              "\n",
              "Rows: 215879\n",
              "\n",
              "Data:\n",
              "+------------------------+------------+------------------------+-------+\n",
              "|      business_id       |    date    |       review_id        | stars |\n",
              "+------------------------+------------+------------------------+-------+\n",
              "| 9yKzy9PApeiPPOUJEtnvkg | 2011-01-26 | fWKvX83p0-ka4JS3dc6E5A |   5   |\n",
              "| ZRJwVLyzEJq1VAihDhYiow | 2011-07-27 | IjZ33sJrzXqU-0X6U8NwyA |   5   |\n",
              "| 6oRAC4uyJCsJl1X0WZpVSA | 2012-06-14 | IESLBzqUCLdSzSqm0eCSxQ |   4   |\n",
              "| _1QQZuf4zZOyFCvXc0o6Vg | 2010-05-27 | G-WvGaISbqqaMHlNnByodA |   5   |\n",
              "| 6ozycU1RpktNG2-1BroVtw | 2012-01-05 | 1uJFq2r5QfJG_6ExMRCaGw |   5   |\n",
              "| -yxfBYGB6SEqszmxJxd97A | 2007-12-13 | m2CKSsepBCoRYWxiRUsxAg |   4   |\n",
              "| zp713qNhx8d9KCJJnrw1xA | 2010-02-12 | riFQ3vxNpP4rWLk_CSri2A |   5   |\n",
              "| hW0Ne_HTHEAgGF1rAdmR-g | 2012-07-12 | JL7GXJ9u4YMx7Rzs05NfiQ |   4   |\n",
              "| wNUea3IXZWD63bbOQaOH-g | 2012-08-17 | XtnfnYmnJYi71yIuGsXIUA |   4   |\n",
              "| nMHhuYan8e3cONo3PornJA | 2010-08-11 | jJAIXA46pU1swYyRCdfXtQ |   5   |\n",
              "+------------------------+------------+------------------------+-------+\n",
              "+-------------------------------+--------+------------------------+\n",
              "|              text             |  type  |        user_id         |\n",
              "+-------------------------------+--------+------------------------+\n",
              "| My wife took me here on my... | review | rLtl8ZkDX5vH5nAx9C3q5Q |\n",
              "| I have no idea why some pe... | review | 0a2KyEL0d3Yb1V6aivbIuQ |\n",
              "| love the gyro plate. Rice ... | review | 0hT2KtfLiobPvh6cDC8JQg |\n",
              "| Rosie, Dakota, and I LOVE ... | review | uZetl9T0NcROGOyFfughhg |\n",
              "| General Manager Scott Pete... | review | vYmM4KTsC8ZfQBg-j5MWkw |\n",
              "| Quiessence is, simply put,... | review | sqYN3lNgvPbPCTRsMFu27g |\n",
              "| Drop what you're doing and... | review | wFweIWhv2fREZV_dYkz_1g |\n",
              "| Luckily, I didn't have to ... | review | 1ieuYcKS7zeAv_U15AB13A |\n",
              "| Definitely come for Happy ... | review | Vh_DlizgGhSqQh4qfZ2h6A |\n",
              "| Nobuo shows his unique tal... | review | sUNkXg8-KFtCMQDV6zRzQg |\n",
              "+-------------------------------+--------+------------------------+\n",
              "+-------------------------------+------+-------+-----+\n",
              "|             votes             | year | month | day |\n",
              "+-------------------------------+------+-------+-----+\n",
              "| {'funny': 0, 'useful': 5, ... | 2011 |   1   |  26 |\n",
              "| {'funny': 0, 'useful': 0, ... | 2011 |   7   |  27 |\n",
              "| {'funny': 0, 'useful': 1, ... | 2012 |   6   |  14 |\n",
              "| {'funny': 0, 'useful': 2, ... | 2010 |   5   |  27 |\n",
              "| {'funny': 0, 'useful': 0, ... | 2012 |   1   |  5  |\n",
              "| {'funny': 1, 'useful': 3, ... | 2007 |   12  |  13 |\n",
              "| {'funny': 4, 'useful': 7, ... | 2010 |   2   |  12 |\n",
              "| {'funny': 0, 'useful': 1, ... | 2012 |   7   |  12 |\n",
              "| {'funny': 0, 'useful': 0, ... | 2012 |   8   |  17 |\n",
              "| {'funny': 0, 'useful': 1, ... | 2010 |   8   |  11 |\n",
              "+-------------------------------+------+-------+-----+\n",
              "+-------------------------------+------------+-------------------------------+\n",
              "|           categories          |    city    |          full_address         |\n",
              "+-------------------------------+------------+-------------------------------+\n",
              "| [Breakfast & Brunch, Resta... |  Phoenix   | 6106 S 32nd St\\nPhoenix, A... |\n",
              "| [Italian, Pizza, Restaurants] |  Phoenix   | 4848 E Chandler Blvd\\nPhoe... |\n",
              "| [Middle Eastern, Restaurants] |   Tempe    | 1513 E  Apache Blvd\\nTempe... |\n",
              "| [Active Life, Dog Parks, P... | Scottsdale | 5401 N Hayden Rd\\nScottsda... |\n",
              "|      [Tires, Automotive]      |    Mesa    | 1357 S Power Road\\nMesa, A... |\n",
              "| [Wine Bars, Bars, American... |  Phoenix   | 6106 S 32nd St\\nPhoenix, A... |\n",
              "|     [Mexican, Restaurants]    |  Phoenix   | 1919 N 16th St\\nPhoenix, A... |\n",
              "|  [Hotels & Travel, Airports]  |  Phoenix   | 3400 E Sky Harbor Blvd\\nPh... |\n",
              "|   [Sushi Bars, Restaurants]   |  Phoenix   | 2574 E Camelback Rd\\nPhoen... |\n",
              "| [Food, Tea Rooms, Japanese... |  Phoenix   | 622 E Adams St\\nPhoenix, A... |\n",
              "+-------------------------------+------------+-------------------------------+\n",
              "+----------+-----------+-------------------------------+------+-----------------------+\n",
              "| latitude | longitude |              name             | open | business_review_count |\n",
              "+----------+-----------+-------------------------------+------+-----------------------+\n",
              "| 33.3908  |  -112.013 |       Morning Glory Cafe      |  1   |          116          |\n",
              "| 33.3056  |  -111.979 |       Spinato's Pizzeria      |  1   |          102          |\n",
              "| 33.4143  |  -111.913 |           Haji-Baba           |  1   |          265          |\n",
              "| 33.5229  |  -111.908 |       Chaparral Dog Park      |  1   |           88          |\n",
              "|  33.391  |  -111.684 |         Discount Tire         |  1   |           5           |\n",
              "| 33.3908  |  -112.013 |     Quiessence Restaurant     |  1   |          109          |\n",
              "| 33.4691  |  -112.048 |  La Condesa Gourmet Taco Shop |  1   |          307          |\n",
              "| 33.4348  |  -112.006 | Phoenix Sky Harbor Interna... |  1   |          862          |\n",
              "| 33.5096  |  -112.026 |         Stingray Sushi        |  1   |          163          |\n",
              "| 33.4495  |  -112.066 |     Nobuo At Teeter House     |  1   |          189          |\n",
              "+----------+-----------+-------------------------------+------+-----------------------+\n",
              "+--------------------+-----+\n",
              "| business_avg_stars | ... |\n",
              "+--------------------+-----+\n",
              "|        4.0         | ... |\n",
              "|        4.0         | ... |\n",
              "|        4.5         | ... |\n",
              "|        4.5         | ... |\n",
              "|        4.5         | ... |\n",
              "|        3.5         | ... |\n",
              "|        4.0         | ... |\n",
              "|        3.0         | ... |\n",
              "|        3.0         | ... |\n",
              "|        4.5         | ... |\n",
              "+--------------------+-----+\n",
              "[215879 rows x 30 columns]\n",
              "Note: Only the head of the SFrame is printed.\n",
              "You can use print_rows(num_rows=m, num_columns=n) to print more rows and columns."
            ]
          },
          "metadata": {
            "tags": []
          },
          "execution_count": 19
        }
      ]
    },
    {
      "metadata": {
        "id": "tq6f8FYtzDpe",
        "colab_type": "code",
        "colab": {}
      },
      "cell_type": "code",
      "source": [
        "# Restaurants with rating >=3 are good\n",
        "ydata['is_good'] = ydata['stars'] >= 3"
      ],
      "execution_count": 0,
      "outputs": []
    },
    {
      "metadata": {
        "id": "6tnF_hoHhJxE",
        "colab_type": "code",
        "colab": {
          "base_uri": "https://localhost:8080/",
          "height": 55
        },
        "outputId": "40f28896-77ca-4a1d-eb22-3138d9a9bea7"
      },
      "cell_type": "code",
      "source": [
        "# Make a train-test split\n",
        "train_data, test_data = ydata.random_split(0.8)\n",
        "print(test_data[0])"
      ],
      "execution_count": 39,
      "outputs": [
        {
          "output_type": "stream",
          "text": [
            "{'business_id': '9yKzy9PApeiPPOUJEtnvkg', 'date': '2011-01-26', 'review_id': 'fWKvX83p0-ka4JS3dc6E5A', 'stars': 5, 'text': 'My wife took me here on my birthday for breakfast and it was excellent.  The weather was perfect which made sitting outside overlooking their grounds an absolute pleasure.  Our waitress was excellent and our food arrived quickly on the semi-busy Saturday morning.  It looked like the place fills up pretty quickly so the earlier you get here the better.\\n\\nDo yourself a favor and get their Bloody Mary.  It was phenomenal and simply the best I\\'ve ever had.  I\\'m pretty sure they only use ingredients from their garden and blend them fresh when you order it.  It was amazing.\\n\\nWhile EVERYTHING on the menu looks excellent, I had the white truffle scrambled eggs vegetable skillet and it was tasty and delicious.  It came with 2 pieces of their griddled bread with was amazing and it absolutely made the meal complete.  It was the best \"toast\" I\\'ve ever had.\\n\\nAnyway, I can\\'t wait to go back!', 'type': 'review', 'user_id': 'rLtl8ZkDX5vH5nAx9C3q5Q', 'votes': {'funny': 0, 'useful': 5, 'cool': 2}, 'year': 2011, 'month': 1, 'day': 26, 'categories': ['Breakfast & Brunch', 'Restaurants'], 'city': 'Phoenix', 'full_address': '6106 S 32nd St\\nPhoenix, AZ 85042', 'latitude': 33.3908, 'longitude': -112.013, 'name': 'Morning Glory Cafe', 'open': 1, 'business_review_count': 116, 'business_avg_stars': 4.0, 'state': 'AZ', 'business_type': 'business', 'user_avg_stars': 3.72, 'user_name': 'Jason', 'user_review_count': 376, 'user_type': 'user', 'votes_funny': 331, 'votes_cool': 322, 'votes_useful': 1034, 'categories_dict': {'Breakfast & Brunch': 1, 'Restaurants': 1}, 'is_good': 1}\n"
          ],
          "name": "stdout"
        }
      ]
    },
    {
      "metadata": {
        "id": "kE9DB8ROzI4h",
        "colab_type": "code",
        "colab": {
          "base_uri": "https://localhost:8080/",
          "height": 449
        },
        "outputId": "6b87268d-7f03-4488-f918-2c192f479dde"
      },
      "cell_type": "code",
      "source": [
        "# Create a model\n",
        "model = tc.logistic_classifier.create(train_data, target='is_good',\n",
        "                                    features = ['user_avg_stars',\n",
        "                                                'business_avg_stars',\n",
        "                                                'user_review_count',\n",
        "                                                'business_review_count'])"
      ],
      "execution_count": 41,
      "outputs": [
        {
          "output_type": "stream",
          "text": [
            "PROGRESS: Creating a validation set from 5 percent of training data. This may take a while.\n",
            "          You can set ``validation_set=None`` to disable validation tracking.\n",
            "\n"
          ],
          "name": "stdout"
        },
        {
          "output_type": "display_data",
          "data": {
            "text/html": [
              "<pre>Logistic regression:</pre>"
            ],
            "text/plain": [
              "Logistic regression:"
            ]
          },
          "metadata": {
            "tags": []
          }
        },
        {
          "output_type": "display_data",
          "data": {
            "text/html": [
              "<pre>--------------------------------------------------------</pre>"
            ],
            "text/plain": [
              "--------------------------------------------------------"
            ]
          },
          "metadata": {
            "tags": []
          }
        },
        {
          "output_type": "display_data",
          "data": {
            "text/html": [
              "<pre>Number of examples          : 163887</pre>"
            ],
            "text/plain": [
              "Number of examples          : 163887"
            ]
          },
          "metadata": {
            "tags": []
          }
        },
        {
          "output_type": "display_data",
          "data": {
            "text/html": [
              "<pre>Number of classes           : 2</pre>"
            ],
            "text/plain": [
              "Number of classes           : 2"
            ]
          },
          "metadata": {
            "tags": []
          }
        },
        {
          "output_type": "display_data",
          "data": {
            "text/html": [
              "<pre>Number of feature columns   : 4</pre>"
            ],
            "text/plain": [
              "Number of feature columns   : 4"
            ]
          },
          "metadata": {
            "tags": []
          }
        },
        {
          "output_type": "display_data",
          "data": {
            "text/html": [
              "<pre>Number of unpacked features : 4</pre>"
            ],
            "text/plain": [
              "Number of unpacked features : 4"
            ]
          },
          "metadata": {
            "tags": []
          }
        },
        {
          "output_type": "display_data",
          "data": {
            "text/html": [
              "<pre>Number of coefficients      : 5</pre>"
            ],
            "text/plain": [
              "Number of coefficients      : 5"
            ]
          },
          "metadata": {
            "tags": []
          }
        },
        {
          "output_type": "display_data",
          "data": {
            "text/html": [
              "<pre>Starting Newton Method</pre>"
            ],
            "text/plain": [
              "Starting Newton Method"
            ]
          },
          "metadata": {
            "tags": []
          }
        },
        {
          "output_type": "display_data",
          "data": {
            "text/html": [
              "<pre>--------------------------------------------------------</pre>"
            ],
            "text/plain": [
              "--------------------------------------------------------"
            ]
          },
          "metadata": {
            "tags": []
          }
        },
        {
          "output_type": "display_data",
          "data": {
            "text/html": [
              "<pre>+-----------+----------+--------------+-------------------+---------------------+</pre>"
            ],
            "text/plain": [
              "+-----------+----------+--------------+-------------------+---------------------+"
            ]
          },
          "metadata": {
            "tags": []
          }
        },
        {
          "output_type": "display_data",
          "data": {
            "text/html": [
              "<pre>| Iteration | Passes   | Elapsed Time | Training Accuracy | Validation Accuracy |</pre>"
            ],
            "text/plain": [
              "| Iteration | Passes   | Elapsed Time | Training Accuracy | Validation Accuracy |"
            ]
          },
          "metadata": {
            "tags": []
          }
        },
        {
          "output_type": "display_data",
          "data": {
            "text/html": [
              "<pre>+-----------+----------+--------------+-------------------+---------------------+</pre>"
            ],
            "text/plain": [
              "+-----------+----------+--------------+-------------------+---------------------+"
            ]
          },
          "metadata": {
            "tags": []
          }
        },
        {
          "output_type": "display_data",
          "data": {
            "text/html": [
              "<pre>| 0         | 1        | 0.075809     | 0.833995          | 0.829115            |</pre>"
            ],
            "text/plain": [
              "| 0         | 1        | 0.075809     | 0.833995          | 0.829115            |"
            ]
          },
          "metadata": {
            "tags": []
          }
        },
        {
          "output_type": "display_data",
          "data": {
            "text/html": [
              "<pre>| 1         | 2        | 0.179775     | 0.863442          | 0.860726            |</pre>"
            ],
            "text/plain": [
              "| 1         | 2        | 0.179775     | 0.863442          | 0.860726            |"
            ]
          },
          "metadata": {
            "tags": []
          }
        },
        {
          "output_type": "display_data",
          "data": {
            "text/html": [
              "<pre>| 2         | 3        | 0.274509     | 0.866530          | 0.862788            |</pre>"
            ],
            "text/plain": [
              "| 2         | 3        | 0.274509     | 0.866530          | 0.862788            |"
            ]
          },
          "metadata": {
            "tags": []
          }
        },
        {
          "output_type": "display_data",
          "data": {
            "text/html": [
              "<pre>| 3         | 4        | 0.370651     | 0.866933          | 0.863131            |</pre>"
            ],
            "text/plain": [
              "| 3         | 4        | 0.370651     | 0.866933          | 0.863131            |"
            ]
          },
          "metadata": {
            "tags": []
          }
        },
        {
          "output_type": "display_data",
          "data": {
            "text/html": [
              "<pre>| 4         | 5        | 0.465691     | 0.867049          | 0.863590            |</pre>"
            ],
            "text/plain": [
              "| 4         | 5        | 0.465691     | 0.867049          | 0.863590            |"
            ]
          },
          "metadata": {
            "tags": []
          }
        },
        {
          "output_type": "display_data",
          "data": {
            "text/html": [
              "<pre>| 5         | 6        | 0.559890     | 0.867073          | 0.863704            |</pre>"
            ],
            "text/plain": [
              "| 5         | 6        | 0.559890     | 0.867073          | 0.863704            |"
            ]
          },
          "metadata": {
            "tags": []
          }
        },
        {
          "output_type": "display_data",
          "data": {
            "text/html": [
              "<pre>| 6         | 7        | 0.656377     | 0.867073          | 0.863704            |</pre>"
            ],
            "text/plain": [
              "| 6         | 7        | 0.656377     | 0.867073          | 0.863704            |"
            ]
          },
          "metadata": {
            "tags": []
          }
        },
        {
          "output_type": "display_data",
          "data": {
            "text/html": [
              "<pre>+-----------+----------+--------------+-------------------+---------------------+</pre>"
            ],
            "text/plain": [
              "+-----------+----------+--------------+-------------------+---------------------+"
            ]
          },
          "metadata": {
            "tags": []
          }
        },
        {
          "output_type": "display_data",
          "data": {
            "text/html": [
              "<pre>SUCCESS: Optimal solution found.</pre>"
            ],
            "text/plain": [
              "SUCCESS: Optimal solution found."
            ]
          },
          "metadata": {
            "tags": []
          }
        },
        {
          "output_type": "display_data",
          "data": {
            "text/html": [
              "<pre></pre>"
            ],
            "text/plain": [
              ""
            ]
          },
          "metadata": {
            "tags": []
          }
        }
      ]
    },
    {
      "metadata": {
        "id": "Egt-mMfZzKQG",
        "colab_type": "code",
        "colab": {
          "base_uri": "https://localhost:8080/",
          "height": 279
        },
        "outputId": "ce29583f-9b6a-4827-d34d-d59b5e887ce4"
      },
      "cell_type": "code",
      "source": [
        "# Save predictions (probability estimates) to an SArray\n",
        "predictions = model.classify(test_data)\n",
        "print(predictions)"
      ],
      "execution_count": 42,
      "outputs": [
        {
          "output_type": "execute_result",
          "data": {
            "text/html": [
              "<div style=\"max-height:1000px;max-width:1500px;overflow:auto;\"><table frame=\"box\" rules=\"cols\">\n",
              "    <tr>\n",
              "        <th style=\"padding-left: 1em; padding-right: 1em; text-align: center\">class</th>\n",
              "        <th style=\"padding-left: 1em; padding-right: 1em; text-align: center\">probability</th>\n",
              "    </tr>\n",
              "    <tr>\n",
              "        <td style=\"padding-left: 1em; padding-right: 1em; text-align: center; vertical-align: top\">1</td>\n",
              "        <td style=\"padding-left: 1em; padding-right: 1em; text-align: center; vertical-align: top\">0.9352182507518975</td>\n",
              "    </tr>\n",
              "    <tr>\n",
              "        <td style=\"padding-left: 1em; padding-right: 1em; text-align: center; vertical-align: top\">1</td>\n",
              "        <td style=\"padding-left: 1em; padding-right: 1em; text-align: center; vertical-align: top\">0.8601645079588497</td>\n",
              "    </tr>\n",
              "    <tr>\n",
              "        <td style=\"padding-left: 1em; padding-right: 1em; text-align: center; vertical-align: top\">1</td>\n",
              "        <td style=\"padding-left: 1em; padding-right: 1em; text-align: center; vertical-align: top\">0.9612867897113871</td>\n",
              "    </tr>\n",
              "    <tr>\n",
              "        <td style=\"padding-left: 1em; padding-right: 1em; text-align: center; vertical-align: top\">1</td>\n",
              "        <td style=\"padding-left: 1em; padding-right: 1em; text-align: center; vertical-align: top\">0.8379834309295088</td>\n",
              "    </tr>\n",
              "    <tr>\n",
              "        <td style=\"padding-left: 1em; padding-right: 1em; text-align: center; vertical-align: top\">1</td>\n",
              "        <td style=\"padding-left: 1em; padding-right: 1em; text-align: center; vertical-align: top\">0.9880353703324491</td>\n",
              "    </tr>\n",
              "    <tr>\n",
              "        <td style=\"padding-left: 1em; padding-right: 1em; text-align: center; vertical-align: top\">1</td>\n",
              "        <td style=\"padding-left: 1em; padding-right: 1em; text-align: center; vertical-align: top\">0.9877780626948478</td>\n",
              "    </tr>\n",
              "    <tr>\n",
              "        <td style=\"padding-left: 1em; padding-right: 1em; text-align: center; vertical-align: top\">1</td>\n",
              "        <td style=\"padding-left: 1em; padding-right: 1em; text-align: center; vertical-align: top\">0.8712578317287561</td>\n",
              "    </tr>\n",
              "    <tr>\n",
              "        <td style=\"padding-left: 1em; padding-right: 1em; text-align: center; vertical-align: top\">1</td>\n",
              "        <td style=\"padding-left: 1em; padding-right: 1em; text-align: center; vertical-align: top\">0.8994915127423796</td>\n",
              "    </tr>\n",
              "    <tr>\n",
              "        <td style=\"padding-left: 1em; padding-right: 1em; text-align: center; vertical-align: top\">1</td>\n",
              "        <td style=\"padding-left: 1em; padding-right: 1em; text-align: center; vertical-align: top\">0.9446488884450591</td>\n",
              "    </tr>\n",
              "    <tr>\n",
              "        <td style=\"padding-left: 1em; padding-right: 1em; text-align: center; vertical-align: top\">1</td>\n",
              "        <td style=\"padding-left: 1em; padding-right: 1em; text-align: center; vertical-align: top\">0.9973268126220596</td>\n",
              "    </tr>\n",
              "</table>\n",
              "[43261 rows x 2 columns]<br/>Note: Only the head of the SFrame is printed.<br/>You can use print_rows(num_rows=m, num_columns=n) to print more rows and columns.\n",
              "</div>"
            ],
            "text/plain": [
              "Columns:\n",
              "\tclass\tint\n",
              "\tprobability\tfloat\n",
              "\n",
              "Rows: 43261\n",
              "\n",
              "Data:\n",
              "+-------+--------------------+\n",
              "| class |    probability     |\n",
              "+-------+--------------------+\n",
              "|   1   | 0.9352182507518975 |\n",
              "|   1   | 0.8601645079588497 |\n",
              "|   1   | 0.9612867897113871 |\n",
              "|   1   | 0.8379834309295088 |\n",
              "|   1   | 0.9880353703324491 |\n",
              "|   1   | 0.9877780626948478 |\n",
              "|   1   | 0.8712578317287561 |\n",
              "|   1   | 0.8994915127423796 |\n",
              "|   1   | 0.9446488884450591 |\n",
              "|   1   | 0.9973268126220596 |\n",
              "+-------+--------------------+\n",
              "[43261 rows x 2 columns]\n",
              "Note: Only the head of the SFrame is printed.\n",
              "You can use print_rows(num_rows=m, num_columns=n) to print more rows and columns."
            ]
          },
          "metadata": {
            "tags": []
          },
          "execution_count": 42
        }
      ]
    },
    {
      "metadata": {
        "id": "O57o_J5QzOf4",
        "colab_type": "code",
        "colab": {
          "base_uri": "https://localhost:8080/",
          "height": 917
        },
        "outputId": "bc53e5ca-5259-408b-bb96-5eb1fa90fa9d"
      },
      "cell_type": "code",
      "source": [
        "# Evaluate the model and save the results into a dictionary\n",
        "results = model.evaluate(test_data)\n",
        "print(results)"
      ],
      "execution_count": 43,
      "outputs": [
        {
          "output_type": "execute_result",
          "data": {
            "text/plain": [
              "{'accuracy': 0.8658375904394258,\n",
              " 'auc': 0.8322696873681188,\n",
              " 'confusion_matrix': Columns:\n",
              " \ttarget_label\tint\n",
              " \tpredicted_label\tint\n",
              " \tcount\tint\n",
              " \n",
              " Rows: 4\n",
              " \n",
              " Data:\n",
              " +--------------+-----------------+-------+\n",
              " | target_label | predicted_label | count |\n",
              " +--------------+-----------------+-------+\n",
              " |      1       |        0        |  948  |\n",
              " |      0       |        0        |  2302 |\n",
              " |      0       |        1        |  4856 |\n",
              " |      1       |        1        | 35155 |\n",
              " +--------------+-----------------+-------+\n",
              " [4 rows x 3 columns],\n",
              " 'f1_score': 0.9237459600073573,\n",
              " 'log_loss': 0.3301879520996757,\n",
              " 'precision': 0.878633375821649,\n",
              " 'recall': 0.973741794310722,\n",
              " 'roc_curve': Columns:\n",
              " \tthreshold\tfloat\n",
              " \tfpr\tfloat\n",
              " \ttpr\tfloat\n",
              " \tp\tint\n",
              " \tn\tint\n",
              " \n",
              " Rows: 100001\n",
              " \n",
              " Data:\n",
              " +-----------+-----+-----+-------+------+\n",
              " | threshold | fpr | tpr |   p   |  n   |\n",
              " +-----------+-----+-----+-------+------+\n",
              " |    0.0    | 1.0 | 1.0 | 36103 | 7158 |\n",
              " |   1e-05   | 1.0 | 1.0 | 36103 | 7158 |\n",
              " |   2e-05   | 1.0 | 1.0 | 36103 | 7158 |\n",
              " |   3e-05   | 1.0 | 1.0 | 36103 | 7158 |\n",
              " |   4e-05   | 1.0 | 1.0 | 36103 | 7158 |\n",
              " |   5e-05   | 1.0 | 1.0 | 36103 | 7158 |\n",
              " |   6e-05   | 1.0 | 1.0 | 36103 | 7158 |\n",
              " |   7e-05   | 1.0 | 1.0 | 36103 | 7158 |\n",
              " |   8e-05   | 1.0 | 1.0 | 36103 | 7158 |\n",
              " |   9e-05   | 1.0 | 1.0 | 36103 | 7158 |\n",
              " +-----------+-----+-----+-------+------+\n",
              " [100001 rows x 5 columns]\n",
              " Note: Only the head of the SFrame is printed.\n",
              " You can use print_rows(num_rows=m, num_columns=n) to print more rows and columns.}"
            ]
          },
          "metadata": {
            "tags": []
          },
          "execution_count": 43
        }
      ]
    },
    {
      "metadata": {
        "id": "5wH2ynUJ2NBy",
        "colab_type": "code",
        "colab": {
          "base_uri": "https://localhost:8080/",
          "height": 233
        },
        "outputId": "2a4c3bf4-f559-4ec7-8fcd-3d9bce57297c"
      },
      "cell_type": "code",
      "source": [
        "print(\"Accuracy         : %s\" % results['accuracy'])\n",
        "print(\"Confusion Matrix : \\n%s\" % results['confusion_matrix'])"
      ],
      "execution_count": 44,
      "outputs": [
        {
          "output_type": "stream",
          "text": [
            "Accuracy         : 0.8658375904394258\n",
            "Confusion Matrix : \n",
            "+--------------+-----------------+-------+\n",
            "| target_label | predicted_label | count |\n",
            "+--------------+-----------------+-------+\n",
            "|      1       |        0        |  948  |\n",
            "|      0       |        0        |  2302 |\n",
            "|      0       |        1        |  4856 |\n",
            "|      1       |        1        | 35155 |\n",
            "+--------------+-----------------+-------+\n",
            "[4 rows x 3 columns]\n",
            "\n"
          ],
          "name": "stdout"
        }
      ]
    },
    {
      "metadata": {
        "id": "eMXnQ1kC3G7p",
        "colab_type": "text"
      },
      "cell_type": "markdown",
      "source": [
        "Using basic SFrame operations, we can also isolate the examples in the test data where the model made mistakes:"
      ]
    },
    {
      "metadata": {
        "id": "qNYLlZiC3LWZ",
        "colab_type": "code",
        "colab": {
          "base_uri": "https://localhost:8080/",
          "height": 55
        },
        "outputId": "99c21d98-7180-40f7-d08e-140c88d667ff"
      },
      "cell_type": "code",
      "source": [
        "predictions = model.predict(test_data)\n",
        "print(predictions)"
      ],
      "execution_count": 45,
      "outputs": [
        {
          "output_type": "stream",
          "text": [
            "[1, 1, 1, 1, 1, 1, 1, 1, 1, 1, 1, 1, 1, 1, 1, 1, 1, 1, 1, 1, 1, 1, 0, 1, 1, 1, 1, 1, 1, 1, 1, 1, 1, 1, 1, 0, 1, 1, 1, 1, 1, 1, 1, 1, 1, 1, 1, 0, 1, 1, 1, 1, 1, 1, 1, 0, 1, 1, 1, 1, 1, 1, 1, 1, 1, 1, 1, 1, 1, 1, 0, 1, 1, 1, 1, 1, 1, 0, 1, 1, 0, 1, 1, 1, 1, 1, 1, 1, 1, 1, 1, 1, 1, 1, 1, 1, 1, 1, 1, 1, ... ]\n"
          ],
          "name": "stdout"
        }
      ]
    },
    {
      "metadata": {
        "id": "ftPTcTfK3nAA",
        "colab_type": "code",
        "colab": {
          "base_uri": "https://localhost:8080/",
          "height": 55
        },
        "outputId": "af4cbf6e-058c-49c7-e106-3f39071ba15c"
      },
      "cell_type": "code",
      "source": [
        "# Compute a boolean SArray of whether or not the model was right\n",
        "mistakes_filter = predictions != test_data[model.target]\n",
        "correct_filter = predictions == test_data[model.target]\n",
        "\n",
        "# Apply the logical filter on the data\n",
        "mistakes = test_data[mistakes_filter]\n",
        "correct = test_data[correct_filter]\n",
        "\n",
        "print(mistakes[0])"
      ],
      "execution_count": 47,
      "outputs": [
        {
          "output_type": "stream",
          "text": [
            "{'business_id': 'vvA3fbps4F9nGlAEYKk_sA', 'date': '2012-05-04', 'review_id': 'S9OVpXat8k5YwWCn6FAgXg', 'stars': 1, 'text': \"Disgusting!  Had a Groupon so my daughter and I tried it out.  Very outdated and gaudy 80's style interior made me feel like I was in an episode of Sopranos.  The food itself was pretty bad.  We ordered pretty simple dishes but they just had no flavor at all!  After trying it out I'm positive all the good reviews on here are employees or owners creating them.\", 'type': 'review', 'user_id': '8AMn6644NmBf96xGO3w6OA', 'votes': {'funny': 0, 'useful': 1, 'cool': 0}, 'year': 2012, 'month': 5, 'day': 4, 'categories': ['Restaurants', 'Italian'], 'city': 'Phoenix', 'full_address': '2728 E Thomas Rd\\nPhoenix, AZ 85016', 'latitude': 33.4805, 'longitude': -112.022, 'name': 'Avanti Restaurant of Distinction', 'open': 1, 'business_review_count': 50, 'business_avg_stars': 4.0, 'state': 'AZ', 'business_type': 'business', 'user_avg_stars': 4.0, 'user_name': 'Lori', 'user_review_count': 10, 'user_type': 'user', 'votes_funny': 3, 'votes_cool': 4, 'votes_useful': 11, 'categories_dict': {'Restaurants': 1, 'Italian': 1}, 'is_good': 0}\n"
          ],
          "name": "stdout"
        }
      ]
    },
    {
      "metadata": {
        "id": "1u6WgVQX3km0",
        "colab_type": "code",
        "colab": {
          "base_uri": "https://localhost:8080/",
          "height": 55
        },
        "outputId": "d927870e-c496-4c82-afa1-35327a6e3a1c"
      },
      "cell_type": "code",
      "source": [
        "# Compute boolean filters\n",
        "false_positive_filter = (predictions == 1) & (test_data[model.target] == 0)\n",
        "false_negative_filter = (predictions == 0) & (test_data[model.target] == 1)\n",
        "\n",
        "false_negatives = test_data[false_negative_filter]\n",
        "print(false_negatives[0])"
      ],
      "execution_count": 48,
      "outputs": [
        {
          "output_type": "stream",
          "text": [
            "{'business_id': '06kfoeRs9Acj82Yl3i9p_w', 'date': '2010-07-03', 'review_id': 'g0PIxO362sPzzvoYXNU4KQ', 'stars': 5, 'text': 'Recently moved back to Mesa, I have been on the hunt for a place to get a good sandwich and fresh bread. This place now tops my list of places in the East Valley to get a good sandwich. My first sandwich was the Atlantic Haddock Provencal. A sandwich made with seared, lightly breaded haddock, sliced hard-boiled egg, fresh basil, romaine lettuce, tomato, Provencal tartar sauce on a grilled Brioche roll. The brioche was amazing. It was light and fluffy. The haddock was perfectly cooked with just the right amount of breading, and the vegetables were fresh and in perfect proportions as to not overpower the bread and haddock. Sometimes when you go to a sandwich shop they overload it with everything else that the meat and bread are just there to accessorize the vegetables and sauce. This was perfectly done. The atmosphere is pleasant and open with nice music as the light smell of fresh bread in the background salivates me. This is a must-visit lunch time destination. Dinner review shortly.', 'type': 'review', 'user_id': 'kxfUWPT6PuwieZHonfXtLw', 'votes': {'funny': 0, 'useful': 0, 'cool': 0}, 'year': 2010, 'month': 7, 'day': 3, 'categories': ['Bakeries', 'Food', 'Sandwiches', 'Restaurants'], 'city': 'Gilbert', 'full_address': '3425 E Baseline Rd\\nSte 101\\nGilbert, AZ 85234', 'latitude': 33.3787, 'longitude': -111.758, 'name': 'Wildflower Bread Company', 'open': 1, 'business_review_count': 45, 'business_avg_stars': 4.5, 'state': 'AZ', 'business_type': 'business', 'user_avg_stars': 2.0, 'user_name': 'Christopher', 'user_review_count': 4, 'user_type': 'user', 'votes_funny': 3, 'votes_cool': 5, 'votes_useful': 12, 'categories_dict': {'Bakeries': 1, 'Food': 1, 'Sandwiches': 1, 'Restaurants': 1}, 'is_good': 1}\n"
          ],
          "name": "stdout"
        }
      ]
    },
    {
      "metadata": {
        "id": "NteBoNSi4IYB",
        "colab_type": "code",
        "colab": {
          "base_uri": "https://localhost:8080/",
          "height": 55
        },
        "outputId": "e5b49aec-9e74-4fc6-c573-eba1fcadcc15"
      },
      "cell_type": "code",
      "source": [
        "false_positives = test_data[false_positive_filter]\n",
        "print(false_positives[0])"
      ],
      "execution_count": 49,
      "outputs": [
        {
          "output_type": "stream",
          "text": [
            "{'business_id': 'vvA3fbps4F9nGlAEYKk_sA', 'date': '2012-05-04', 'review_id': 'S9OVpXat8k5YwWCn6FAgXg', 'stars': 1, 'text': \"Disgusting!  Had a Groupon so my daughter and I tried it out.  Very outdated and gaudy 80's style interior made me feel like I was in an episode of Sopranos.  The food itself was pretty bad.  We ordered pretty simple dishes but they just had no flavor at all!  After trying it out I'm positive all the good reviews on here are employees or owners creating them.\", 'type': 'review', 'user_id': '8AMn6644NmBf96xGO3w6OA', 'votes': {'funny': 0, 'useful': 1, 'cool': 0}, 'year': 2012, 'month': 5, 'day': 4, 'categories': ['Restaurants', 'Italian'], 'city': 'Phoenix', 'full_address': '2728 E Thomas Rd\\nPhoenix, AZ 85016', 'latitude': 33.4805, 'longitude': -112.022, 'name': 'Avanti Restaurant of Distinction', 'open': 1, 'business_review_count': 50, 'business_avg_stars': 4.0, 'state': 'AZ', 'business_type': 'business', 'user_avg_stars': 4.0, 'user_name': 'Lori', 'user_review_count': 10, 'user_type': 'user', 'votes_funny': 3, 'votes_cool': 4, 'votes_useful': 11, 'categories_dict': {'Restaurants': 1, 'Italian': 1}, 'is_good': 0}\n"
          ],
          "name": "stdout"
        }
      ]
    },
    {
      "metadata": {
        "id": "qB4UUrUDg1De",
        "colab_type": "text"
      },
      "cell_type": "markdown",
      "source": [
        "# Nearest Neighbor Classifier"
      ]
    },
    {
      "metadata": {
        "id": "0hX42slyZIuS",
        "colab_type": "text"
      },
      "cell_type": "markdown",
      "source": [
        "## Background\n",
        "The nearest neighbors classifier predicts the class of a data point to be the most common class among that point's neighbors.\n",
        "\n",
        "Defining the criteria for the **neighborhood** of a prediction data point requires careful thought and domain knowledge. A function must be specified to measure the distance between any two data points, and then the size of \"neighborhoods\" relative to this distance function must be set.\n",
        "\n",
        "For the first step, there are many standard distance functions (e.g. Euclidean, Jaccard, Levenshtein) that work well for data whose features are all of the same type, but for heterogeneous data the task is a bit trickier. Turi Create overcomes this problem with **composite distances**, which are weighted sums of standard distance functions applied to appropriate subsets of features. For more about distance functions in Turi Create, including composite distances, please see the [API documentation](https://apple.github.io/turicreate/docs/api/turicreate.toolkits.distances.html) for the distances module. The end of this chapter describes how to use a composite distance with the nearest neighbor classifier in particular.\n",
        "\n",
        "Once the distance function is defined, the user must indicate the criteria for deciding when training data are in the \"neighborhood\" of a prediction point. This is done by setting two constraints:\n",
        "\n",
        "1.  radius - the maximum distance a training example can be from the prediction point and still be considered a neighbor, and\n",
        "\n",
        "2.   max_neighbors - the maximum number of neighbors for the prediction point. If there are more points within radius of the prediction point, the closest max_neighbors are used.\n",
        "\n",
        "Unlike the other classifiers in the Turi Create classifier toolkit, the nearest neighbors classifiers is an instance-based method, which means that the model must store all of the training data. For each prediction, the model must search all of the training data to find the neighbor points in the training data. Turi Create performs this search intelligently, but predictions are nevertheless typically slower than other classification models."
      ]
    },
    {
      "metadata": {
        "id": "qrw4KNI_Wq4r",
        "colab_type": "text"
      },
      "cell_type": "markdown",
      "source": [
        "## Example for Yelp Ratings\n",
        "\n",
        "Use the Yelp restaurant review data with the goal of predicting how many \"stars\" a user will give a particular business."
      ]
    },
    {
      "metadata": {
        "id": "MwA__5ZTwgMm",
        "colab_type": "code",
        "colab": {
          "base_uri": "https://localhost:8080/",
          "height": 1799
        },
        "outputId": "e8677eaa-b687-492f-c075-9146ec084165"
      },
      "cell_type": "code",
      "source": [
        "print(ydata)"
      ],
      "execution_count": 50,
      "outputs": [
        {
          "output_type": "display_data",
          "data": {
            "text/html": [
              "<pre>Finished parsing file /content/yelp-data.csv</pre>"
            ],
            "text/plain": [
              "Finished parsing file /content/yelp-data.csv"
            ]
          },
          "metadata": {
            "tags": []
          }
        },
        {
          "output_type": "display_data",
          "data": {
            "text/html": [
              "<pre>Parsing completed. Parsed 100 lines in 1.14043 secs.</pre>"
            ],
            "text/plain": [
              "Parsing completed. Parsed 100 lines in 1.14043 secs."
            ]
          },
          "metadata": {
            "tags": []
          }
        },
        {
          "output_type": "stream",
          "text": [
            "------------------------------------------------------\n",
            "Inferred types from first 100 line(s) of file as \n",
            "column_type_hints=[str,str,str,int,str,str,str,dict,int,int,int,list,str,str,float,float,str,int,int,float,str,str,float,str,int,str,int,int,int,dict]\n",
            "If parsing fails due to incorrect types, you can correct\n",
            "the inferred type list above and pass it to read_csv in\n",
            "the column_type_hints argument\n",
            "------------------------------------------------------\n"
          ],
          "name": "stdout"
        },
        {
          "output_type": "display_data",
          "data": {
            "text/html": [
              "<pre>Read 47948 lines. Lines per second: 31957.9</pre>"
            ],
            "text/plain": [
              "Read 47948 lines. Lines per second: 31957.9"
            ]
          },
          "metadata": {
            "tags": []
          }
        },
        {
          "output_type": "display_data",
          "data": {
            "text/html": [
              "<pre>Finished parsing file /content/yelp-data.csv</pre>"
            ],
            "text/plain": [
              "Finished parsing file /content/yelp-data.csv"
            ]
          },
          "metadata": {
            "tags": []
          }
        },
        {
          "output_type": "display_data",
          "data": {
            "text/html": [
              "<pre>Parsing completed. Parsed 215879 lines in 4.24507 secs.</pre>"
            ],
            "text/plain": [
              "Parsing completed. Parsed 215879 lines in 4.24507 secs."
            ]
          },
          "metadata": {
            "tags": []
          }
        },
        {
          "output_type": "stream",
          "text": [
            "+------------------------+------------+------------------------+-------+\n",
            "|      business_id       |    date    |       review_id        | stars |\n",
            "+------------------------+------------+------------------------+-------+\n",
            "| 9yKzy9PApeiPPOUJEtnvkg | 2011-01-26 | fWKvX83p0-ka4JS3dc6E5A |   5   |\n",
            "| ZRJwVLyzEJq1VAihDhYiow | 2011-07-27 | IjZ33sJrzXqU-0X6U8NwyA |   5   |\n",
            "| 6oRAC4uyJCsJl1X0WZpVSA | 2012-06-14 | IESLBzqUCLdSzSqm0eCSxQ |   4   |\n",
            "| _1QQZuf4zZOyFCvXc0o6Vg | 2010-05-27 | G-WvGaISbqqaMHlNnByodA |   5   |\n",
            "| 6ozycU1RpktNG2-1BroVtw | 2012-01-05 | 1uJFq2r5QfJG_6ExMRCaGw |   5   |\n",
            "| -yxfBYGB6SEqszmxJxd97A | 2007-12-13 | m2CKSsepBCoRYWxiRUsxAg |   4   |\n",
            "| zp713qNhx8d9KCJJnrw1xA | 2010-02-12 | riFQ3vxNpP4rWLk_CSri2A |   5   |\n",
            "| hW0Ne_HTHEAgGF1rAdmR-g | 2012-07-12 | JL7GXJ9u4YMx7Rzs05NfiQ |   4   |\n",
            "| wNUea3IXZWD63bbOQaOH-g | 2012-08-17 | XtnfnYmnJYi71yIuGsXIUA |   4   |\n",
            "| nMHhuYan8e3cONo3PornJA | 2010-08-11 | jJAIXA46pU1swYyRCdfXtQ |   5   |\n",
            "+------------------------+------------+------------------------+-------+\n",
            "+-------------------------------+--------+------------------------+\n",
            "|              text             |  type  |        user_id         |\n",
            "+-------------------------------+--------+------------------------+\n",
            "| My wife took me here on my... | review | rLtl8ZkDX5vH5nAx9C3q5Q |\n",
            "| I have no idea why some pe... | review | 0a2KyEL0d3Yb1V6aivbIuQ |\n",
            "| love the gyro plate. Rice ... | review | 0hT2KtfLiobPvh6cDC8JQg |\n",
            "| Rosie, Dakota, and I LOVE ... | review | uZetl9T0NcROGOyFfughhg |\n",
            "| General Manager Scott Pete... | review | vYmM4KTsC8ZfQBg-j5MWkw |\n",
            "| Quiessence is, simply put,... | review | sqYN3lNgvPbPCTRsMFu27g |\n",
            "| Drop what you're doing and... | review | wFweIWhv2fREZV_dYkz_1g |\n",
            "| Luckily, I didn't have to ... | review | 1ieuYcKS7zeAv_U15AB13A |\n",
            "| Definitely come for Happy ... | review | Vh_DlizgGhSqQh4qfZ2h6A |\n",
            "| Nobuo shows his unique tal... | review | sUNkXg8-KFtCMQDV6zRzQg |\n",
            "+-------------------------------+--------+------------------------+\n",
            "+-------------------------------+------+-------+-----+\n",
            "|             votes             | year | month | day |\n",
            "+-------------------------------+------+-------+-----+\n",
            "| {'funny': 0, 'useful': 5, ... | 2011 |   1   |  26 |\n",
            "| {'funny': 0, 'useful': 0, ... | 2011 |   7   |  27 |\n",
            "| {'funny': 0, 'useful': 1, ... | 2012 |   6   |  14 |\n",
            "| {'funny': 0, 'useful': 2, ... | 2010 |   5   |  27 |\n",
            "| {'funny': 0, 'useful': 0, ... | 2012 |   1   |  5  |\n",
            "| {'funny': 1, 'useful': 3, ... | 2007 |   12  |  13 |\n",
            "| {'funny': 4, 'useful': 7, ... | 2010 |   2   |  12 |\n",
            "| {'funny': 0, 'useful': 1, ... | 2012 |   7   |  12 |\n",
            "| {'funny': 0, 'useful': 0, ... | 2012 |   8   |  17 |\n",
            "| {'funny': 0, 'useful': 1, ... | 2010 |   8   |  11 |\n",
            "+-------------------------------+------+-------+-----+\n",
            "+-------------------------------+------------+-------------------------------+\n",
            "|           categories          |    city    |          full_address         |\n",
            "+-------------------------------+------------+-------------------------------+\n",
            "| [Breakfast & Brunch, Resta... |  Phoenix   | 6106 S 32nd St\\nPhoenix, A... |\n",
            "| [Italian, Pizza, Restaurants] |  Phoenix   | 4848 E Chandler Blvd\\nPhoe... |\n",
            "| [Middle Eastern, Restaurants] |   Tempe    | 1513 E  Apache Blvd\\nTempe... |\n",
            "| [Active Life, Dog Parks, P... | Scottsdale | 5401 N Hayden Rd\\nScottsda... |\n",
            "|      [Tires, Automotive]      |    Mesa    | 1357 S Power Road\\nMesa, A... |\n",
            "| [Wine Bars, Bars, American... |  Phoenix   | 6106 S 32nd St\\nPhoenix, A... |\n",
            "|     [Mexican, Restaurants]    |  Phoenix   | 1919 N 16th St\\nPhoenix, A... |\n",
            "|  [Hotels & Travel, Airports]  |  Phoenix   | 3400 E Sky Harbor Blvd\\nPh... |\n",
            "|   [Sushi Bars, Restaurants]   |  Phoenix   | 2574 E Camelback Rd\\nPhoen... |\n",
            "| [Food, Tea Rooms, Japanese... |  Phoenix   | 622 E Adams St\\nPhoenix, A... |\n",
            "+-------------------------------+------------+-------------------------------+\n",
            "+----------+-----------+-------------------------------+------+-----------------------+\n",
            "| latitude | longitude |              name             | open | business_review_count |\n",
            "+----------+-----------+-------------------------------+------+-----------------------+\n",
            "| 33.3908  |  -112.013 |       Morning Glory Cafe      |  1   |          116          |\n",
            "| 33.3056  |  -111.979 |       Spinato's Pizzeria      |  1   |          102          |\n",
            "| 33.4143  |  -111.913 |           Haji-Baba           |  1   |          265          |\n",
            "| 33.5229  |  -111.908 |       Chaparral Dog Park      |  1   |           88          |\n",
            "|  33.391  |  -111.684 |         Discount Tire         |  1   |           5           |\n",
            "| 33.3908  |  -112.013 |     Quiessence Restaurant     |  1   |          109          |\n",
            "| 33.4691  |  -112.048 |  La Condesa Gourmet Taco Shop |  1   |          307          |\n",
            "| 33.4348  |  -112.006 | Phoenix Sky Harbor Interna... |  1   |          862          |\n",
            "| 33.5096  |  -112.026 |         Stingray Sushi        |  1   |          163          |\n",
            "| 33.4495  |  -112.066 |     Nobuo At Teeter House     |  1   |          189          |\n",
            "+----------+-----------+-------------------------------+------+-----------------------+\n",
            "+--------------------+-----+\n",
            "| business_avg_stars | ... |\n",
            "+--------------------+-----+\n",
            "|        4.0         | ... |\n",
            "|        4.0         | ... |\n",
            "|        4.5         | ... |\n",
            "|        4.5         | ... |\n",
            "|        4.5         | ... |\n",
            "|        3.5         | ... |\n",
            "|        4.0         | ... |\n",
            "|        3.0         | ... |\n",
            "|        3.0         | ... |\n",
            "|        4.5         | ... |\n",
            "+--------------------+-----+\n",
            "[215879 rows x 30 columns]\n",
            "Note: Only the head of the SFrame is printed.\n",
            "You can use print_rows(num_rows=m, num_columns=n) to print more rows and columns.\n"
          ],
          "name": "stdout"
        }
      ]
    },
    {
      "metadata": {
        "id": "15HhMahj7Cyk",
        "colab_type": "code",
        "colab": {}
      },
      "cell_type": "code",
      "source": [
        "train_data, test_data = ydata.random_split(0.9)"
      ],
      "execution_count": 0,
      "outputs": []
    },
    {
      "metadata": {
        "id": "vxyGn_uC7U6Q",
        "colab_type": "text"
      },
      "cell_type": "markdown",
      "source": [
        "### Features\n",
        "\n",
        "The review counts features are typically much larger than the average stars features, which would cause the review counts to dominate standard numeric distance functions. To avoid this we standardize the features before creating the model."
      ]
    },
    {
      "metadata": {
        "id": "IwXSumSi7Ldx",
        "colab_type": "code",
        "colab": {}
      },
      "cell_type": "code",
      "source": [
        "numeric_features = ['user_avg_stars', \n",
        "                    'business_avg_stars', \n",
        "                    'user_review_count', \n",
        "                    'business_review_count']\n",
        "\n",
        "for ftr in numeric_features:\n",
        "    mean = train_data[ftr].mean()\n",
        "    stdev = train_data[ftr].std()\n",
        "    train_data[ftr] = (train_data[ftr] - mean) / stdev\n",
        "    test_data[ftr] = (test_data[ftr] - mean) / stdev"
      ],
      "execution_count": 0,
      "outputs": []
    },
    {
      "metadata": {
        "id": "EM0P1eJd-1o3",
        "colab_type": "code",
        "colab": {
          "base_uri": "https://localhost:8080/",
          "height": 150
        },
        "outputId": "50be52b0-2c2e-4c5c-ae97-a2467737015a"
      },
      "cell_type": "code",
      "source": [
        "print(train_data.groupby('stars', [tc.aggregate.COUNT]).sort(\"stars\", ascending = False))"
      ],
      "execution_count": 59,
      "outputs": [
        {
          "output_type": "execute_result",
          "data": {
            "text/html": [
              "<div style=\"max-height:1000px;max-width:1500px;overflow:auto;\"><table frame=\"box\" rules=\"cols\">\n",
              "    <tr>\n",
              "        <th style=\"padding-left: 1em; padding-right: 1em; text-align: center\">stars</th>\n",
              "        <th style=\"padding-left: 1em; padding-right: 1em; text-align: center\">Count</th>\n",
              "    </tr>\n",
              "    <tr>\n",
              "        <td style=\"padding-left: 1em; padding-right: 1em; text-align: center; vertical-align: top\">5</td>\n",
              "        <td style=\"padding-left: 1em; padding-right: 1em; text-align: center; vertical-align: top\">64771</td>\n",
              "    </tr>\n",
              "    <tr>\n",
              "        <td style=\"padding-left: 1em; padding-right: 1em; text-align: center; vertical-align: top\">4</td>\n",
              "        <td style=\"padding-left: 1em; padding-right: 1em; text-align: center; vertical-align: top\">67451</td>\n",
              "    </tr>\n",
              "    <tr>\n",
              "        <td style=\"padding-left: 1em; padding-right: 1em; text-align: center; vertical-align: top\">3</td>\n",
              "        <td style=\"padding-left: 1em; padding-right: 1em; text-align: center; vertical-align: top\">29634</td>\n",
              "    </tr>\n",
              "    <tr>\n",
              "        <td style=\"padding-left: 1em; padding-right: 1em; text-align: center; vertical-align: top\">2</td>\n",
              "        <td style=\"padding-left: 1em; padding-right: 1em; text-align: center; vertical-align: top\">17574</td>\n",
              "    </tr>\n",
              "    <tr>\n",
              "        <td style=\"padding-left: 1em; padding-right: 1em; text-align: center; vertical-align: top\">1</td>\n",
              "        <td style=\"padding-left: 1em; padding-right: 1em; text-align: center; vertical-align: top\">14753</td>\n",
              "    </tr>\n",
              "</table>\n",
              "[5 rows x 2 columns]<br/>\n",
              "</div>"
            ],
            "text/plain": [
              "Columns:\n",
              "\tstars\tint\n",
              "\tCount\tint\n",
              "\n",
              "Rows: 5\n",
              "\n",
              "Data:\n",
              "+-------+-------+\n",
              "| stars | Count |\n",
              "+-------+-------+\n",
              "|   5   | 64771 |\n",
              "|   4   | 67451 |\n",
              "|   3   | 29634 |\n",
              "|   2   | 17574 |\n",
              "|   1   | 14753 |\n",
              "+-------+-------+\n",
              "[5 rows x 2 columns]"
            ]
          },
          "metadata": {
            "tags": []
          },
          "execution_count": 59
        }
      ]
    },
    {
      "metadata": {
        "id": "v05iyd2n_MnD",
        "colab_type": "code",
        "colab": {
          "base_uri": "https://localhost:8080/",
          "height": 215
        },
        "outputId": "f366575e-8202-42bd-8122-ff777b4e3f71"
      },
      "cell_type": "code",
      "source": [
        "print(test_data.groupby('stars', [tc.aggregate.COUNT]).sort(\"stars\", ascending = False))"
      ],
      "execution_count": 60,
      "outputs": [
        {
          "output_type": "stream",
          "text": [
            "+-------+-------+\n",
            "| stars | Count |\n",
            "+-------+-------+\n",
            "|   5   |  7333 |\n",
            "|   4   |  7571 |\n",
            "|   3   |  3263 |\n",
            "|   2   |  1894 |\n",
            "|   1   |  1635 |\n",
            "+-------+-------+\n",
            "[5 rows x 2 columns]\n",
            "\n"
          ],
          "name": "stdout"
        }
      ]
    },
    {
      "metadata": {
        "id": "zDeeNWYzXAlC",
        "colab_type": "code",
        "colab": {
          "base_uri": "https://localhost:8080/",
          "height": 269
        },
        "outputId": "1136fcfd-6013-4f1c-9104-abb47a92a32e"
      },
      "cell_type": "code",
      "source": [
        "# create classifier\n",
        "model2 = tc.nearest_neighbor_classifier.create(train_data, target='stars',\n",
        "                                          features=numeric_features)"
      ],
      "execution_count": 53,
      "outputs": [
        {
          "output_type": "display_data",
          "data": {
            "text/html": [
              "<pre>Starting ball tree nearest neighbors model training.</pre>"
            ],
            "text/plain": [
              "Starting ball tree nearest neighbors model training."
            ]
          },
          "metadata": {
            "tags": []
          }
        },
        {
          "output_type": "display_data",
          "data": {
            "text/html": [
              "<pre>+------------+--------------+</pre>"
            ],
            "text/plain": [
              "+------------+--------------+"
            ]
          },
          "metadata": {
            "tags": []
          }
        },
        {
          "output_type": "display_data",
          "data": {
            "text/html": [
              "<pre>| Tree level | Elapsed Time |</pre>"
            ],
            "text/plain": [
              "| Tree level | Elapsed Time |"
            ]
          },
          "metadata": {
            "tags": []
          }
        },
        {
          "output_type": "display_data",
          "data": {
            "text/html": [
              "<pre>+------------+--------------+</pre>"
            ],
            "text/plain": [
              "+------------+--------------+"
            ]
          },
          "metadata": {
            "tags": []
          }
        },
        {
          "output_type": "display_data",
          "data": {
            "text/html": [
              "<pre>| 0          | 44.328ms     |</pre>"
            ],
            "text/plain": [
              "| 0          | 44.328ms     |"
            ]
          },
          "metadata": {
            "tags": []
          }
        },
        {
          "output_type": "display_data",
          "data": {
            "text/html": [
              "<pre>| 1          | 80.657ms     |</pre>"
            ],
            "text/plain": [
              "| 1          | 80.657ms     |"
            ]
          },
          "metadata": {
            "tags": []
          }
        },
        {
          "output_type": "display_data",
          "data": {
            "text/html": [
              "<pre>| 2          | 117.496ms    |</pre>"
            ],
            "text/plain": [
              "| 2          | 117.496ms    |"
            ]
          },
          "metadata": {
            "tags": []
          }
        },
        {
          "output_type": "display_data",
          "data": {
            "text/html": [
              "<pre>| 3          | 153.175ms    |</pre>"
            ],
            "text/plain": [
              "| 3          | 153.175ms    |"
            ]
          },
          "metadata": {
            "tags": []
          }
        },
        {
          "output_type": "display_data",
          "data": {
            "text/html": [
              "<pre>| 4          | 188.238ms    |</pre>"
            ],
            "text/plain": [
              "| 4          | 188.238ms    |"
            ]
          },
          "metadata": {
            "tags": []
          }
        },
        {
          "output_type": "display_data",
          "data": {
            "text/html": [
              "<pre>| 5          | 225.466ms    |</pre>"
            ],
            "text/plain": [
              "| 5          | 225.466ms    |"
            ]
          },
          "metadata": {
            "tags": []
          }
        },
        {
          "output_type": "display_data",
          "data": {
            "text/html": [
              "<pre>| 6          | 262.905ms    |</pre>"
            ],
            "text/plain": [
              "| 6          | 262.905ms    |"
            ]
          },
          "metadata": {
            "tags": []
          }
        },
        {
          "output_type": "display_data",
          "data": {
            "text/html": [
              "<pre>| 7          | 301.789ms    |</pre>"
            ],
            "text/plain": [
              "| 7          | 301.789ms    |"
            ]
          },
          "metadata": {
            "tags": []
          }
        },
        {
          "output_type": "display_data",
          "data": {
            "text/html": [
              "<pre>| 8          | 319.265ms    |</pre>"
            ],
            "text/plain": [
              "| 8          | 319.265ms    |"
            ]
          },
          "metadata": {
            "tags": []
          }
        },
        {
          "output_type": "display_data",
          "data": {
            "text/html": [
              "<pre>+------------+--------------+</pre>"
            ],
            "text/plain": [
              "+------------+--------------+"
            ]
          },
          "metadata": {
            "tags": []
          }
        }
      ]
    },
    {
      "metadata": {
        "id": "loQSA4vC7tJV",
        "colab_type": "code",
        "colab": {
          "base_uri": "https://localhost:8080/",
          "height": 3149
        },
        "outputId": "2cfda6fe-44f3-4de7-f1f1-b1eaf4ab7c8d"
      },
      "cell_type": "code",
      "source": [
        "predictions2 = model2.classify(test_data, max_neighbors=20, radius=None)\n",
        "print(predictions2)"
      ],
      "execution_count": 54,
      "outputs": [
        {
          "output_type": "display_data",
          "data": {
            "text/html": [
              "<pre>+--------------+-------------+--------------+</pre>"
            ],
            "text/plain": [
              "+--------------+-------------+--------------+"
            ]
          },
          "metadata": {
            "tags": []
          }
        },
        {
          "output_type": "display_data",
          "data": {
            "text/html": [
              "<pre>| Query points | % Complete. | Elapsed Time |</pre>"
            ],
            "text/plain": [
              "| Query points | % Complete. | Elapsed Time |"
            ]
          },
          "metadata": {
            "tags": []
          }
        },
        {
          "output_type": "display_data",
          "data": {
            "text/html": [
              "<pre>+--------------+-------------+--------------+</pre>"
            ],
            "text/plain": [
              "+--------------+-------------+--------------+"
            ]
          },
          "metadata": {
            "tags": []
          }
        },
        {
          "output_type": "display_data",
          "data": {
            "text/html": [
              "<pre>| 1            | 0           | 31.644ms     |</pre>"
            ],
            "text/plain": [
              "| 1            | 0           | 31.644ms     |"
            ]
          },
          "metadata": {
            "tags": []
          }
        },
        {
          "output_type": "display_data",
          "data": {
            "text/html": [
              "<pre>| 161          | 0.5         | 3.04s        |</pre>"
            ],
            "text/plain": [
              "| 161          | 0.5         | 3.04s        |"
            ]
          },
          "metadata": {
            "tags": []
          }
        },
        {
          "output_type": "display_data",
          "data": {
            "text/html": [
              "<pre>| 304          | 1.25        | 6.04s        |</pre>"
            ],
            "text/plain": [
              "| 304          | 1.25        | 6.04s        |"
            ]
          },
          "metadata": {
            "tags": []
          }
        },
        {
          "output_type": "display_data",
          "data": {
            "text/html": [
              "<pre>| 446          | 2           | 9.04s        |</pre>"
            ],
            "text/plain": [
              "| 446          | 2           | 9.04s        |"
            ]
          },
          "metadata": {
            "tags": []
          }
        },
        {
          "output_type": "display_data",
          "data": {
            "text/html": [
              "<pre>| 576          | 2.5         | 12.03s       |</pre>"
            ],
            "text/plain": [
              "| 576          | 2.5         | 12.03s       |"
            ]
          },
          "metadata": {
            "tags": []
          }
        },
        {
          "output_type": "display_data",
          "data": {
            "text/html": [
              "<pre>| 727          | 3.25        | 15.03s       |</pre>"
            ],
            "text/plain": [
              "| 727          | 3.25        | 15.03s       |"
            ]
          },
          "metadata": {
            "tags": []
          }
        },
        {
          "output_type": "display_data",
          "data": {
            "text/html": [
              "<pre>| 876          | 4           | 18.06s       |</pre>"
            ],
            "text/plain": [
              "| 876          | 4           | 18.06s       |"
            ]
          },
          "metadata": {
            "tags": []
          }
        },
        {
          "output_type": "display_data",
          "data": {
            "text/html": [
              "<pre>| 1014         | 4.5         | 21.04s       |</pre>"
            ],
            "text/plain": [
              "| 1014         | 4.5         | 21.04s       |"
            ]
          },
          "metadata": {
            "tags": []
          }
        },
        {
          "output_type": "display_data",
          "data": {
            "text/html": [
              "<pre>| 1156         | 5.25        | 24.04s       |</pre>"
            ],
            "text/plain": [
              "| 1156         | 5.25        | 24.04s       |"
            ]
          },
          "metadata": {
            "tags": []
          }
        },
        {
          "output_type": "display_data",
          "data": {
            "text/html": [
              "<pre>| 1295         | 5.75        | 27.04s       |</pre>"
            ],
            "text/plain": [
              "| 1295         | 5.75        | 27.04s       |"
            ]
          },
          "metadata": {
            "tags": []
          }
        },
        {
          "output_type": "display_data",
          "data": {
            "text/html": [
              "<pre>| 1459         | 6.5         | 30.03s       |</pre>"
            ],
            "text/plain": [
              "| 1459         | 6.5         | 30.03s       |"
            ]
          },
          "metadata": {
            "tags": []
          }
        },
        {
          "output_type": "display_data",
          "data": {
            "text/html": [
              "<pre>| 1624         | 7.25        | 33.04s       |</pre>"
            ],
            "text/plain": [
              "| 1624         | 7.25        | 33.04s       |"
            ]
          },
          "metadata": {
            "tags": []
          }
        },
        {
          "output_type": "display_data",
          "data": {
            "text/html": [
              "<pre>| 1758         | 8           | 36.05s       |</pre>"
            ],
            "text/plain": [
              "| 1758         | 8           | 36.05s       |"
            ]
          },
          "metadata": {
            "tags": []
          }
        },
        {
          "output_type": "display_data",
          "data": {
            "text/html": [
              "<pre>| 1900         | 8.75        | 39.04s       |</pre>"
            ],
            "text/plain": [
              "| 1900         | 8.75        | 39.04s       |"
            ]
          },
          "metadata": {
            "tags": []
          }
        },
        {
          "output_type": "display_data",
          "data": {
            "text/html": [
              "<pre>| 2037         | 9.25        | 42.05s       |</pre>"
            ],
            "text/plain": [
              "| 2037         | 9.25        | 42.05s       |"
            ]
          },
          "metadata": {
            "tags": []
          }
        },
        {
          "output_type": "display_data",
          "data": {
            "text/html": [
              "<pre>| 2171         | 10          | 45.04s       |</pre>"
            ],
            "text/plain": [
              "| 2171         | 10          | 45.04s       |"
            ]
          },
          "metadata": {
            "tags": []
          }
        },
        {
          "output_type": "display_data",
          "data": {
            "text/html": [
              "<pre>| 2318         | 10.5        | 48.05s       |</pre>"
            ],
            "text/plain": [
              "| 2318         | 10.5        | 48.05s       |"
            ]
          },
          "metadata": {
            "tags": []
          }
        },
        {
          "output_type": "display_data",
          "data": {
            "text/html": [
              "<pre>| 2457         | 11.25       | 51.07s       |</pre>"
            ],
            "text/plain": [
              "| 2457         | 11.25       | 51.07s       |"
            ]
          },
          "metadata": {
            "tags": []
          }
        },
        {
          "output_type": "display_data",
          "data": {
            "text/html": [
              "<pre>| 2596         | 11.75       | 54.09s       |</pre>"
            ],
            "text/plain": [
              "| 2596         | 11.75       | 54.09s       |"
            ]
          },
          "metadata": {
            "tags": []
          }
        },
        {
          "output_type": "display_data",
          "data": {
            "text/html": [
              "<pre>| 2740         | 12.5        | 57.05s       |</pre>"
            ],
            "text/plain": [
              "| 2740         | 12.5        | 57.05s       |"
            ]
          },
          "metadata": {
            "tags": []
          }
        },
        {
          "output_type": "display_data",
          "data": {
            "text/html": [
              "<pre>| 2905         | 13.25       | 1m 0s        |</pre>"
            ],
            "text/plain": [
              "| 2905         | 13.25       | 1m 0s        |"
            ]
          },
          "metadata": {
            "tags": []
          }
        },
        {
          "output_type": "display_data",
          "data": {
            "text/html": [
              "<pre>| 3047         | 14          | 1m 3s        |</pre>"
            ],
            "text/plain": [
              "| 3047         | 14          | 1m 3s        |"
            ]
          },
          "metadata": {
            "tags": []
          }
        },
        {
          "output_type": "display_data",
          "data": {
            "text/html": [
              "<pre>| 3189         | 14.5        | 1m 6s        |</pre>"
            ],
            "text/plain": [
              "| 3189         | 14.5        | 1m 6s        |"
            ]
          },
          "metadata": {
            "tags": []
          }
        },
        {
          "output_type": "display_data",
          "data": {
            "text/html": [
              "<pre>| 3337         | 15.25       | 1m 9s        |</pre>"
            ],
            "text/plain": [
              "| 3337         | 15.25       | 1m 9s        |"
            ]
          },
          "metadata": {
            "tags": []
          }
        },
        {
          "output_type": "display_data",
          "data": {
            "text/html": [
              "<pre>| 3473         | 16          | 1m 12s       |</pre>"
            ],
            "text/plain": [
              "| 3473         | 16          | 1m 12s       |"
            ]
          },
          "metadata": {
            "tags": []
          }
        },
        {
          "output_type": "display_data",
          "data": {
            "text/html": [
              "<pre>| 3634         | 16.5        | 1m 15s       |</pre>"
            ],
            "text/plain": [
              "| 3634         | 16.5        | 1m 15s       |"
            ]
          },
          "metadata": {
            "tags": []
          }
        },
        {
          "output_type": "display_data",
          "data": {
            "text/html": [
              "<pre>| 3783         | 17.25       | 1m 18s       |</pre>"
            ],
            "text/plain": [
              "| 3783         | 17.25       | 1m 18s       |"
            ]
          },
          "metadata": {
            "tags": []
          }
        },
        {
          "output_type": "display_data",
          "data": {
            "text/html": [
              "<pre>| 3936         | 18          | 1m 21s       |</pre>"
            ],
            "text/plain": [
              "| 3936         | 18          | 1m 21s       |"
            ]
          },
          "metadata": {
            "tags": []
          }
        },
        {
          "output_type": "display_data",
          "data": {
            "text/html": [
              "<pre>| 4093         | 18.75       | 1m 24s       |</pre>"
            ],
            "text/plain": [
              "| 4093         | 18.75       | 1m 24s       |"
            ]
          },
          "metadata": {
            "tags": []
          }
        },
        {
          "output_type": "display_data",
          "data": {
            "text/html": [
              "<pre>| 4253         | 19.5        | 1m 27s       |</pre>"
            ],
            "text/plain": [
              "| 4253         | 19.5        | 1m 27s       |"
            ]
          },
          "metadata": {
            "tags": []
          }
        },
        {
          "output_type": "display_data",
          "data": {
            "text/html": [
              "<pre>| 4406         | 20.25       | 1m 30s       |</pre>"
            ],
            "text/plain": [
              "| 4406         | 20.25       | 1m 30s       |"
            ]
          },
          "metadata": {
            "tags": []
          }
        },
        {
          "output_type": "display_data",
          "data": {
            "text/html": [
              "<pre>| 4555         | 20.75       | 1m 33s       |</pre>"
            ],
            "text/plain": [
              "| 4555         | 20.75       | 1m 33s       |"
            ]
          },
          "metadata": {
            "tags": []
          }
        },
        {
          "output_type": "display_data",
          "data": {
            "text/html": [
              "<pre>| 4671         | 21.5        | 1m 36s       |</pre>"
            ],
            "text/plain": [
              "| 4671         | 21.5        | 1m 36s       |"
            ]
          },
          "metadata": {
            "tags": []
          }
        },
        {
          "output_type": "display_data",
          "data": {
            "text/html": [
              "<pre>| 4802         | 22          | 1m 39s       |</pre>"
            ],
            "text/plain": [
              "| 4802         | 22          | 1m 39s       |"
            ]
          },
          "metadata": {
            "tags": []
          }
        },
        {
          "output_type": "display_data",
          "data": {
            "text/html": [
              "<pre>| 4927         | 22.5        | 1m 42s       |</pre>"
            ],
            "text/plain": [
              "| 4927         | 22.5        | 1m 42s       |"
            ]
          },
          "metadata": {
            "tags": []
          }
        },
        {
          "output_type": "display_data",
          "data": {
            "text/html": [
              "<pre>| 5059         | 23.25       | 1m 45s       |</pre>"
            ],
            "text/plain": [
              "| 5059         | 23.25       | 1m 45s       |"
            ]
          },
          "metadata": {
            "tags": []
          }
        },
        {
          "output_type": "display_data",
          "data": {
            "text/html": [
              "<pre>| 5214         | 24          | 1m 48s       |</pre>"
            ],
            "text/plain": [
              "| 5214         | 24          | 1m 48s       |"
            ]
          },
          "metadata": {
            "tags": []
          }
        },
        {
          "output_type": "display_data",
          "data": {
            "text/html": [
              "<pre>| 5345         | 24.5        | 1m 51s       |</pre>"
            ],
            "text/plain": [
              "| 5345         | 24.5        | 1m 51s       |"
            ]
          },
          "metadata": {
            "tags": []
          }
        },
        {
          "output_type": "display_data",
          "data": {
            "text/html": [
              "<pre>| 5497         | 25.25       | 1m 54s       |</pre>"
            ],
            "text/plain": [
              "| 5497         | 25.25       | 1m 54s       |"
            ]
          },
          "metadata": {
            "tags": []
          }
        },
        {
          "output_type": "display_data",
          "data": {
            "text/html": [
              "<pre>| 5636         | 25.75       | 1m 57s       |</pre>"
            ],
            "text/plain": [
              "| 5636         | 25.75       | 1m 57s       |"
            ]
          },
          "metadata": {
            "tags": []
          }
        },
        {
          "output_type": "display_data",
          "data": {
            "text/html": [
              "<pre>| 5759         | 26.5        | 2m 0s        |</pre>"
            ],
            "text/plain": [
              "| 5759         | 26.5        | 2m 0s        |"
            ]
          },
          "metadata": {
            "tags": []
          }
        },
        {
          "output_type": "display_data",
          "data": {
            "text/html": [
              "<pre>| 5910         | 27          | 2m 3s        |</pre>"
            ],
            "text/plain": [
              "| 5910         | 27          | 2m 3s        |"
            ]
          },
          "metadata": {
            "tags": []
          }
        },
        {
          "output_type": "display_data",
          "data": {
            "text/html": [
              "<pre>| 6049         | 27.75       | 2m 6s        |</pre>"
            ],
            "text/plain": [
              "| 6049         | 27.75       | 2m 6s        |"
            ]
          },
          "metadata": {
            "tags": []
          }
        },
        {
          "output_type": "display_data",
          "data": {
            "text/html": [
              "<pre>| 6194         | 28.5        | 2m 9s        |</pre>"
            ],
            "text/plain": [
              "| 6194         | 28.5        | 2m 9s        |"
            ]
          },
          "metadata": {
            "tags": []
          }
        },
        {
          "output_type": "display_data",
          "data": {
            "text/html": [
              "<pre>| 6319         | 29          | 2m 12s       |</pre>"
            ],
            "text/plain": [
              "| 6319         | 29          | 2m 12s       |"
            ]
          },
          "metadata": {
            "tags": []
          }
        },
        {
          "output_type": "display_data",
          "data": {
            "text/html": [
              "<pre>| 6456         | 29.75       | 2m 15s       |</pre>"
            ],
            "text/plain": [
              "| 6456         | 29.75       | 2m 15s       |"
            ]
          },
          "metadata": {
            "tags": []
          }
        },
        {
          "output_type": "display_data",
          "data": {
            "text/html": [
              "<pre>| 6602         | 30.25       | 2m 18s       |</pre>"
            ],
            "text/plain": [
              "| 6602         | 30.25       | 2m 18s       |"
            ]
          },
          "metadata": {
            "tags": []
          }
        },
        {
          "output_type": "display_data",
          "data": {
            "text/html": [
              "<pre>| 6736         | 31          | 2m 21s       |</pre>"
            ],
            "text/plain": [
              "| 6736         | 31          | 2m 21s       |"
            ]
          },
          "metadata": {
            "tags": []
          }
        },
        {
          "output_type": "display_data",
          "data": {
            "text/html": [
              "<pre>| 6879         | 31.5        | 2m 24s       |</pre>"
            ],
            "text/plain": [
              "| 6879         | 31.5        | 2m 24s       |"
            ]
          },
          "metadata": {
            "tags": []
          }
        },
        {
          "output_type": "display_data",
          "data": {
            "text/html": [
              "<pre>| 7027         | 32.25       | 2m 27s       |</pre>"
            ],
            "text/plain": [
              "| 7027         | 32.25       | 2m 27s       |"
            ]
          },
          "metadata": {
            "tags": []
          }
        },
        {
          "output_type": "display_data",
          "data": {
            "text/html": [
              "<pre>| 7165         | 33          | 2m 30s       |</pre>"
            ],
            "text/plain": [
              "| 7165         | 33          | 2m 30s       |"
            ]
          },
          "metadata": {
            "tags": []
          }
        },
        {
          "output_type": "display_data",
          "data": {
            "text/html": [
              "<pre>| 7312         | 33.5        | 2m 33s       |</pre>"
            ],
            "text/plain": [
              "| 7312         | 33.5        | 2m 33s       |"
            ]
          },
          "metadata": {
            "tags": []
          }
        },
        {
          "output_type": "display_data",
          "data": {
            "text/html": [
              "<pre>| 7459         | 34.25       | 2m 36s       |</pre>"
            ],
            "text/plain": [
              "| 7459         | 34.25       | 2m 36s       |"
            ]
          },
          "metadata": {
            "tags": []
          }
        },
        {
          "output_type": "display_data",
          "data": {
            "text/html": [
              "<pre>| 7599         | 35          | 2m 39s       |</pre>"
            ],
            "text/plain": [
              "| 7599         | 35          | 2m 39s       |"
            ]
          },
          "metadata": {
            "tags": []
          }
        },
        {
          "output_type": "display_data",
          "data": {
            "text/html": [
              "<pre>| 7737         | 35.5        | 2m 42s       |</pre>"
            ],
            "text/plain": [
              "| 7737         | 35.5        | 2m 42s       |"
            ]
          },
          "metadata": {
            "tags": []
          }
        },
        {
          "output_type": "display_data",
          "data": {
            "text/html": [
              "<pre>| 7867         | 36.25       | 2m 45s       |</pre>"
            ],
            "text/plain": [
              "| 7867         | 36.25       | 2m 45s       |"
            ]
          },
          "metadata": {
            "tags": []
          }
        },
        {
          "output_type": "display_data",
          "data": {
            "text/html": [
              "<pre>| 7989         | 36.75       | 2m 48s       |</pre>"
            ],
            "text/plain": [
              "| 7989         | 36.75       | 2m 48s       |"
            ]
          },
          "metadata": {
            "tags": []
          }
        },
        {
          "output_type": "display_data",
          "data": {
            "text/html": [
              "<pre>| 8123         | 37.25       | 2m 51s       |</pre>"
            ],
            "text/plain": [
              "| 8123         | 37.25       | 2m 51s       |"
            ]
          },
          "metadata": {
            "tags": []
          }
        },
        {
          "output_type": "display_data",
          "data": {
            "text/html": [
              "<pre>| 8277         | 38          | 2m 54s       |</pre>"
            ],
            "text/plain": [
              "| 8277         | 38          | 2m 54s       |"
            ]
          },
          "metadata": {
            "tags": []
          }
        },
        {
          "output_type": "display_data",
          "data": {
            "text/html": [
              "<pre>| 8404         | 38.5        | 2m 57s       |</pre>"
            ],
            "text/plain": [
              "| 8404         | 38.5        | 2m 57s       |"
            ]
          },
          "metadata": {
            "tags": []
          }
        },
        {
          "output_type": "display_data",
          "data": {
            "text/html": [
              "<pre>| 8547         | 39.25       | 3m 0s        |</pre>"
            ],
            "text/plain": [
              "| 8547         | 39.25       | 3m 0s        |"
            ]
          },
          "metadata": {
            "tags": []
          }
        },
        {
          "output_type": "display_data",
          "data": {
            "text/html": [
              "<pre>| 8699         | 40          | 3m 3s        |</pre>"
            ],
            "text/plain": [
              "| 8699         | 40          | 3m 3s        |"
            ]
          },
          "metadata": {
            "tags": []
          }
        },
        {
          "output_type": "display_data",
          "data": {
            "text/html": [
              "<pre>| 8869         | 40.75       | 3m 6s        |</pre>"
            ],
            "text/plain": [
              "| 8869         | 40.75       | 3m 6s        |"
            ]
          },
          "metadata": {
            "tags": []
          }
        },
        {
          "output_type": "display_data",
          "data": {
            "text/html": [
              "<pre>| 9007         | 41.5        | 3m 9s        |</pre>"
            ],
            "text/plain": [
              "| 9007         | 41.5        | 3m 9s        |"
            ]
          },
          "metadata": {
            "tags": []
          }
        },
        {
          "output_type": "display_data",
          "data": {
            "text/html": [
              "<pre>| 9147         | 42          | 3m 12s       |</pre>"
            ],
            "text/plain": [
              "| 9147         | 42          | 3m 12s       |"
            ]
          },
          "metadata": {
            "tags": []
          }
        },
        {
          "output_type": "display_data",
          "data": {
            "text/html": [
              "<pre>| 9290         | 42.75       | 3m 15s       |</pre>"
            ],
            "text/plain": [
              "| 9290         | 42.75       | 3m 15s       |"
            ]
          },
          "metadata": {
            "tags": []
          }
        },
        {
          "output_type": "display_data",
          "data": {
            "text/html": [
              "<pre>| 9437         | 43.25       | 3m 18s       |</pre>"
            ],
            "text/plain": [
              "| 9437         | 43.25       | 3m 18s       |"
            ]
          },
          "metadata": {
            "tags": []
          }
        },
        {
          "output_type": "display_data",
          "data": {
            "text/html": [
              "<pre>| 9570         | 44          | 3m 21s       |</pre>"
            ],
            "text/plain": [
              "| 9570         | 44          | 3m 21s       |"
            ]
          },
          "metadata": {
            "tags": []
          }
        },
        {
          "output_type": "display_data",
          "data": {
            "text/html": [
              "<pre>| 9733         | 44.75       | 3m 24s       |</pre>"
            ],
            "text/plain": [
              "| 9733         | 44.75       | 3m 24s       |"
            ]
          },
          "metadata": {
            "tags": []
          }
        },
        {
          "output_type": "display_data",
          "data": {
            "text/html": [
              "<pre>| 9889         | 45.5        | 3m 27s       |</pre>"
            ],
            "text/plain": [
              "| 9889         | 45.5        | 3m 27s       |"
            ]
          },
          "metadata": {
            "tags": []
          }
        },
        {
          "output_type": "display_data",
          "data": {
            "text/html": [
              "<pre>| 10041        | 46.25       | 3m 30s       |</pre>"
            ],
            "text/plain": [
              "| 10041        | 46.25       | 3m 30s       |"
            ]
          },
          "metadata": {
            "tags": []
          }
        },
        {
          "output_type": "display_data",
          "data": {
            "text/html": [
              "<pre>| 10178        | 46.75       | 3m 33s       |</pre>"
            ],
            "text/plain": [
              "| 10178        | 46.75       | 3m 33s       |"
            ]
          },
          "metadata": {
            "tags": []
          }
        },
        {
          "output_type": "display_data",
          "data": {
            "text/html": [
              "<pre>| 10304        | 47.25       | 3m 36s       |</pre>"
            ],
            "text/plain": [
              "| 10304        | 47.25       | 3m 36s       |"
            ]
          },
          "metadata": {
            "tags": []
          }
        },
        {
          "output_type": "display_data",
          "data": {
            "text/html": [
              "<pre>| 10477        | 48.25       | 3m 39s       |</pre>"
            ],
            "text/plain": [
              "| 10477        | 48.25       | 3m 39s       |"
            ]
          },
          "metadata": {
            "tags": []
          }
        },
        {
          "output_type": "display_data",
          "data": {
            "text/html": [
              "<pre>| 10618        | 48.75       | 3m 42s       |</pre>"
            ],
            "text/plain": [
              "| 10618        | 48.75       | 3m 42s       |"
            ]
          },
          "metadata": {
            "tags": []
          }
        },
        {
          "output_type": "display_data",
          "data": {
            "text/html": [
              "<pre>| 10743        | 49.5        | 3m 45s       |</pre>"
            ],
            "text/plain": [
              "| 10743        | 49.5        | 3m 45s       |"
            ]
          },
          "metadata": {
            "tags": []
          }
        },
        {
          "output_type": "display_data",
          "data": {
            "text/html": [
              "<pre>| 10874        | 50          | 3m 48s       |</pre>"
            ],
            "text/plain": [
              "| 10874        | 50          | 3m 48s       |"
            ]
          },
          "metadata": {
            "tags": []
          }
        },
        {
          "output_type": "display_data",
          "data": {
            "text/html": [
              "<pre>| 11030        | 50.75       | 3m 51s       |</pre>"
            ],
            "text/plain": [
              "| 11030        | 50.75       | 3m 51s       |"
            ]
          },
          "metadata": {
            "tags": []
          }
        },
        {
          "output_type": "display_data",
          "data": {
            "text/html": [
              "<pre>| 11161        | 51.25       | 3m 54s       |</pre>"
            ],
            "text/plain": [
              "| 11161        | 51.25       | 3m 54s       |"
            ]
          },
          "metadata": {
            "tags": []
          }
        },
        {
          "output_type": "display_data",
          "data": {
            "text/html": [
              "<pre>| 11301        | 52          | 3m 57s       |</pre>"
            ],
            "text/plain": [
              "| 11301        | 52          | 3m 57s       |"
            ]
          },
          "metadata": {
            "tags": []
          }
        },
        {
          "output_type": "display_data",
          "data": {
            "text/html": [
              "<pre>| 11441        | 52.5        | 4m 0s        |</pre>"
            ],
            "text/plain": [
              "| 11441        | 52.5        | 4m 0s        |"
            ]
          },
          "metadata": {
            "tags": []
          }
        },
        {
          "output_type": "display_data",
          "data": {
            "text/html": [
              "<pre>| 11567        | 53.25       | 4m 3s        |</pre>"
            ],
            "text/plain": [
              "| 11567        | 53.25       | 4m 3s        |"
            ]
          },
          "metadata": {
            "tags": []
          }
        },
        {
          "output_type": "display_data",
          "data": {
            "text/html": [
              "<pre>| 11702        | 53.75       | 4m 6s        |</pre>"
            ],
            "text/plain": [
              "| 11702        | 53.75       | 4m 6s        |"
            ]
          },
          "metadata": {
            "tags": []
          }
        },
        {
          "output_type": "display_data",
          "data": {
            "text/html": [
              "<pre>| 11843        | 54.5        | 4m 9s        |</pre>"
            ],
            "text/plain": [
              "| 11843        | 54.5        | 4m 9s        |"
            ]
          },
          "metadata": {
            "tags": []
          }
        },
        {
          "output_type": "display_data",
          "data": {
            "text/html": [
              "<pre>| 11991        | 55.25       | 4m 12s       |</pre>"
            ],
            "text/plain": [
              "| 11991        | 55.25       | 4m 12s       |"
            ]
          },
          "metadata": {
            "tags": []
          }
        },
        {
          "output_type": "display_data",
          "data": {
            "text/html": [
              "<pre>| 12129        | 55.75       | 4m 15s       |</pre>"
            ],
            "text/plain": [
              "| 12129        | 55.75       | 4m 15s       |"
            ]
          },
          "metadata": {
            "tags": []
          }
        },
        {
          "output_type": "display_data",
          "data": {
            "text/html": [
              "<pre>| 12263        | 56.5        | 4m 18s       |</pre>"
            ],
            "text/plain": [
              "| 12263        | 56.5        | 4m 18s       |"
            ]
          },
          "metadata": {
            "tags": []
          }
        },
        {
          "output_type": "display_data",
          "data": {
            "text/html": [
              "<pre>| 12389        | 57          | 4m 21s       |</pre>"
            ],
            "text/plain": [
              "| 12389        | 57          | 4m 21s       |"
            ]
          },
          "metadata": {
            "tags": []
          }
        },
        {
          "output_type": "display_data",
          "data": {
            "text/html": [
              "<pre>| 12527        | 57.5        | 4m 24s       |</pre>"
            ],
            "text/plain": [
              "| 12527        | 57.5        | 4m 24s       |"
            ]
          },
          "metadata": {
            "tags": []
          }
        },
        {
          "output_type": "display_data",
          "data": {
            "text/html": [
              "<pre>| 12681        | 58.25       | 4m 27s       |</pre>"
            ],
            "text/plain": [
              "| 12681        | 58.25       | 4m 27s       |"
            ]
          },
          "metadata": {
            "tags": []
          }
        },
        {
          "output_type": "display_data",
          "data": {
            "text/html": [
              "<pre>| 12847        | 59          | 4m 30s       |</pre>"
            ],
            "text/plain": [
              "| 12847        | 59          | 4m 30s       |"
            ]
          },
          "metadata": {
            "tags": []
          }
        },
        {
          "output_type": "display_data",
          "data": {
            "text/html": [
              "<pre>| 13003        | 59.75       | 4m 33s       |</pre>"
            ],
            "text/plain": [
              "| 13003        | 59.75       | 4m 33s       |"
            ]
          },
          "metadata": {
            "tags": []
          }
        },
        {
          "output_type": "display_data",
          "data": {
            "text/html": [
              "<pre>| 13148        | 60.5        | 4m 36s       |</pre>"
            ],
            "text/plain": [
              "| 13148        | 60.5        | 4m 36s       |"
            ]
          },
          "metadata": {
            "tags": []
          }
        },
        {
          "output_type": "display_data",
          "data": {
            "text/html": [
              "<pre>| 13290        | 61.25       | 4m 39s       |</pre>"
            ],
            "text/plain": [
              "| 13290        | 61.25       | 4m 39s       |"
            ]
          },
          "metadata": {
            "tags": []
          }
        },
        {
          "output_type": "display_data",
          "data": {
            "text/html": [
              "<pre>| 13428        | 61.75       | 4m 42s       |</pre>"
            ],
            "text/plain": [
              "| 13428        | 61.75       | 4m 42s       |"
            ]
          },
          "metadata": {
            "tags": []
          }
        },
        {
          "output_type": "display_data",
          "data": {
            "text/html": [
              "<pre>| 13572        | 62.5        | 4m 45s       |</pre>"
            ],
            "text/plain": [
              "| 13572        | 62.5        | 4m 45s       |"
            ]
          },
          "metadata": {
            "tags": []
          }
        },
        {
          "output_type": "display_data",
          "data": {
            "text/html": [
              "<pre>| 13719        | 63          | 4m 48s       |</pre>"
            ],
            "text/plain": [
              "| 13719        | 63          | 4m 48s       |"
            ]
          },
          "metadata": {
            "tags": []
          }
        },
        {
          "output_type": "display_data",
          "data": {
            "text/html": [
              "<pre>| 13882        | 63.75       | 4m 51s       |</pre>"
            ],
            "text/plain": [
              "| 13882        | 63.75       | 4m 51s       |"
            ]
          },
          "metadata": {
            "tags": []
          }
        },
        {
          "output_type": "display_data",
          "data": {
            "text/html": [
              "<pre>| 14014        | 64.5        | 4m 54s       |</pre>"
            ],
            "text/plain": [
              "| 14014        | 64.5        | 4m 54s       |"
            ]
          },
          "metadata": {
            "tags": []
          }
        },
        {
          "output_type": "display_data",
          "data": {
            "text/html": [
              "<pre>| 14160        | 65.25       | 4m 57s       |</pre>"
            ],
            "text/plain": [
              "| 14160        | 65.25       | 4m 57s       |"
            ]
          },
          "metadata": {
            "tags": []
          }
        },
        {
          "output_type": "display_data",
          "data": {
            "text/html": [
              "<pre>| 14319        | 65.75       | 5m 0s        |</pre>"
            ],
            "text/plain": [
              "| 14319        | 65.75       | 5m 0s        |"
            ]
          },
          "metadata": {
            "tags": []
          }
        },
        {
          "output_type": "display_data",
          "data": {
            "text/html": [
              "<pre>| 14463        | 66.5        | 5m 3s        |</pre>"
            ],
            "text/plain": [
              "| 14463        | 66.5        | 5m 3s        |"
            ]
          },
          "metadata": {
            "tags": []
          }
        },
        {
          "output_type": "display_data",
          "data": {
            "text/html": [
              "<pre>| 14609        | 67.25       | 5m 6s        |</pre>"
            ],
            "text/plain": [
              "| 14609        | 67.25       | 5m 6s        |"
            ]
          },
          "metadata": {
            "tags": []
          }
        },
        {
          "output_type": "display_data",
          "data": {
            "text/html": [
              "<pre>| 14765        | 68          | 5m 9s        |</pre>"
            ],
            "text/plain": [
              "| 14765        | 68          | 5m 9s        |"
            ]
          },
          "metadata": {
            "tags": []
          }
        },
        {
          "output_type": "display_data",
          "data": {
            "text/html": [
              "<pre>| 14931        | 68.75       | 5m 12s       |</pre>"
            ],
            "text/plain": [
              "| 14931        | 68.75       | 5m 12s       |"
            ]
          },
          "metadata": {
            "tags": []
          }
        },
        {
          "output_type": "display_data",
          "data": {
            "text/html": [
              "<pre>| 15082        | 69.5        | 5m 15s       |</pre>"
            ],
            "text/plain": [
              "| 15082        | 69.5        | 5m 15s       |"
            ]
          },
          "metadata": {
            "tags": []
          }
        },
        {
          "output_type": "display_data",
          "data": {
            "text/html": [
              "<pre>| 15230        | 70          | 5m 18s       |</pre>"
            ],
            "text/plain": [
              "| 15230        | 70          | 5m 18s       |"
            ]
          },
          "metadata": {
            "tags": []
          }
        },
        {
          "output_type": "display_data",
          "data": {
            "text/html": [
              "<pre>| 15396        | 70.75       | 5m 21s       |</pre>"
            ],
            "text/plain": [
              "| 15396        | 70.75       | 5m 21s       |"
            ]
          },
          "metadata": {
            "tags": []
          }
        },
        {
          "output_type": "display_data",
          "data": {
            "text/html": [
              "<pre>| 15539        | 71.5        | 5m 24s       |</pre>"
            ],
            "text/plain": [
              "| 15539        | 71.5        | 5m 24s       |"
            ]
          },
          "metadata": {
            "tags": []
          }
        },
        {
          "output_type": "display_data",
          "data": {
            "text/html": [
              "<pre>| 15676        | 72.25       | 5m 27s       |</pre>"
            ],
            "text/plain": [
              "| 15676        | 72.25       | 5m 27s       |"
            ]
          },
          "metadata": {
            "tags": []
          }
        },
        {
          "output_type": "display_data",
          "data": {
            "text/html": [
              "<pre>| 15815        | 72.75       | 5m 30s       |</pre>"
            ],
            "text/plain": [
              "| 15815        | 72.75       | 5m 30s       |"
            ]
          },
          "metadata": {
            "tags": []
          }
        },
        {
          "output_type": "display_data",
          "data": {
            "text/html": [
              "<pre>| 15942        | 73.25       | 5m 33s       |</pre>"
            ],
            "text/plain": [
              "| 15942        | 73.25       | 5m 33s       |"
            ]
          },
          "metadata": {
            "tags": []
          }
        },
        {
          "output_type": "display_data",
          "data": {
            "text/html": [
              "<pre>| 16092        | 74          | 5m 36s       |</pre>"
            ],
            "text/plain": [
              "| 16092        | 74          | 5m 36s       |"
            ]
          },
          "metadata": {
            "tags": []
          }
        },
        {
          "output_type": "display_data",
          "data": {
            "text/html": [
              "<pre>| 16243        | 74.75       | 5m 39s       |</pre>"
            ],
            "text/plain": [
              "| 16243        | 74.75       | 5m 39s       |"
            ]
          },
          "metadata": {
            "tags": []
          }
        },
        {
          "output_type": "display_data",
          "data": {
            "text/html": [
              "<pre>| 16400        | 75.5        | 5m 42s       |</pre>"
            ],
            "text/plain": [
              "| 16400        | 75.5        | 5m 42s       |"
            ]
          },
          "metadata": {
            "tags": []
          }
        },
        {
          "output_type": "display_data",
          "data": {
            "text/html": [
              "<pre>| 16542        | 76          | 5m 45s       |</pre>"
            ],
            "text/plain": [
              "| 16542        | 76          | 5m 45s       |"
            ]
          },
          "metadata": {
            "tags": []
          }
        },
        {
          "output_type": "display_data",
          "data": {
            "text/html": [
              "<pre>| 16680        | 76.75       | 5m 48s       |</pre>"
            ],
            "text/plain": [
              "| 16680        | 76.75       | 5m 48s       |"
            ]
          },
          "metadata": {
            "tags": []
          }
        },
        {
          "output_type": "display_data",
          "data": {
            "text/html": [
              "<pre>| 16816        | 77.5        | 5m 51s       |</pre>"
            ],
            "text/plain": [
              "| 16816        | 77.5        | 5m 51s       |"
            ]
          },
          "metadata": {
            "tags": []
          }
        },
        {
          "output_type": "display_data",
          "data": {
            "text/html": [
              "<pre>| 16939        | 78          | 5m 54s       |</pre>"
            ],
            "text/plain": [
              "| 16939        | 78          | 5m 54s       |"
            ]
          },
          "metadata": {
            "tags": []
          }
        },
        {
          "output_type": "display_data",
          "data": {
            "text/html": [
              "<pre>| 17078        | 78.5        | 5m 57s       |</pre>"
            ],
            "text/plain": [
              "| 17078        | 78.5        | 5m 57s       |"
            ]
          },
          "metadata": {
            "tags": []
          }
        },
        {
          "output_type": "display_data",
          "data": {
            "text/html": [
              "<pre>| 17224        | 79.25       | 6m 0s        |</pre>"
            ],
            "text/plain": [
              "| 17224        | 79.25       | 6m 0s        |"
            ]
          },
          "metadata": {
            "tags": []
          }
        },
        {
          "output_type": "display_data",
          "data": {
            "text/html": [
              "<pre>| 17389        | 80          | 6m 3s        |</pre>"
            ],
            "text/plain": [
              "| 17389        | 80          | 6m 3s        |"
            ]
          },
          "metadata": {
            "tags": []
          }
        },
        {
          "output_type": "display_data",
          "data": {
            "text/html": [
              "<pre>| 17528        | 80.75       | 6m 6s        |</pre>"
            ],
            "text/plain": [
              "| 17528        | 80.75       | 6m 6s        |"
            ]
          },
          "metadata": {
            "tags": []
          }
        },
        {
          "output_type": "display_data",
          "data": {
            "text/html": [
              "<pre>| 17667        | 81.25       | 6m 9s        |</pre>"
            ],
            "text/plain": [
              "| 17667        | 81.25       | 6m 9s        |"
            ]
          },
          "metadata": {
            "tags": []
          }
        },
        {
          "output_type": "display_data",
          "data": {
            "text/html": [
              "<pre>| 17818        | 82          | 6m 12s       |</pre>"
            ],
            "text/plain": [
              "| 17818        | 82          | 6m 12s       |"
            ]
          },
          "metadata": {
            "tags": []
          }
        },
        {
          "output_type": "display_data",
          "data": {
            "text/html": [
              "<pre>| 17970        | 82.75       | 6m 15s       |</pre>"
            ],
            "text/plain": [
              "| 17970        | 82.75       | 6m 15s       |"
            ]
          },
          "metadata": {
            "tags": []
          }
        },
        {
          "output_type": "display_data",
          "data": {
            "text/html": [
              "<pre>| 18095        | 83.25       | 6m 18s       |</pre>"
            ],
            "text/plain": [
              "| 18095        | 83.25       | 6m 18s       |"
            ]
          },
          "metadata": {
            "tags": []
          }
        },
        {
          "output_type": "display_data",
          "data": {
            "text/html": [
              "<pre>| 18242        | 84          | 6m 21s       |</pre>"
            ],
            "text/plain": [
              "| 18242        | 84          | 6m 21s       |"
            ]
          },
          "metadata": {
            "tags": []
          }
        },
        {
          "output_type": "display_data",
          "data": {
            "text/html": [
              "<pre>| 18371        | 84.5        | 6m 24s       |</pre>"
            ],
            "text/plain": [
              "| 18371        | 84.5        | 6m 24s       |"
            ]
          },
          "metadata": {
            "tags": []
          }
        },
        {
          "output_type": "display_data",
          "data": {
            "text/html": [
              "<pre>| 18516        | 85.25       | 6m 27s       |</pre>"
            ],
            "text/plain": [
              "| 18516        | 85.25       | 6m 27s       |"
            ]
          },
          "metadata": {
            "tags": []
          }
        },
        {
          "output_type": "display_data",
          "data": {
            "text/html": [
              "<pre>| 18668        | 86          | 6m 30s       |</pre>"
            ],
            "text/plain": [
              "| 18668        | 86          | 6m 30s       |"
            ]
          },
          "metadata": {
            "tags": []
          }
        },
        {
          "output_type": "display_data",
          "data": {
            "text/html": [
              "<pre>| 18817        | 86.5        | 6m 33s       |</pre>"
            ],
            "text/plain": [
              "| 18817        | 86.5        | 6m 33s       |"
            ]
          },
          "metadata": {
            "tags": []
          }
        },
        {
          "output_type": "display_data",
          "data": {
            "text/html": [
              "<pre>| 18972        | 87.25       | 6m 36s       |</pre>"
            ],
            "text/plain": [
              "| 18972        | 87.25       | 6m 36s       |"
            ]
          },
          "metadata": {
            "tags": []
          }
        },
        {
          "output_type": "display_data",
          "data": {
            "text/html": [
              "<pre>| 19115        | 88          | 6m 39s       |</pre>"
            ],
            "text/plain": [
              "| 19115        | 88          | 6m 39s       |"
            ]
          },
          "metadata": {
            "tags": []
          }
        },
        {
          "output_type": "display_data",
          "data": {
            "text/html": [
              "<pre>| 19269        | 88.75       | 6m 42s       |</pre>"
            ],
            "text/plain": [
              "| 19269        | 88.75       | 6m 42s       |"
            ]
          },
          "metadata": {
            "tags": []
          }
        },
        {
          "output_type": "display_data",
          "data": {
            "text/html": [
              "<pre>| 19413        | 89.25       | 6m 45s       |</pre>"
            ],
            "text/plain": [
              "| 19413        | 89.25       | 6m 45s       |"
            ]
          },
          "metadata": {
            "tags": []
          }
        },
        {
          "output_type": "display_data",
          "data": {
            "text/html": [
              "<pre>| 19555        | 90          | 6m 48s       |</pre>"
            ],
            "text/plain": [
              "| 19555        | 90          | 6m 48s       |"
            ]
          },
          "metadata": {
            "tags": []
          }
        },
        {
          "output_type": "display_data",
          "data": {
            "text/html": [
              "<pre>| 19694        | 90.75       | 6m 51s       |</pre>"
            ],
            "text/plain": [
              "| 19694        | 90.75       | 6m 51s       |"
            ]
          },
          "metadata": {
            "tags": []
          }
        },
        {
          "output_type": "display_data",
          "data": {
            "text/html": [
              "<pre>| 19828        | 91.25       | 6m 54s       |</pre>"
            ],
            "text/plain": [
              "| 19828        | 91.25       | 6m 54s       |"
            ]
          },
          "metadata": {
            "tags": []
          }
        },
        {
          "output_type": "display_data",
          "data": {
            "text/html": [
              "<pre>| 19975        | 92          | 6m 57s       |</pre>"
            ],
            "text/plain": [
              "| 19975        | 92          | 6m 57s       |"
            ]
          },
          "metadata": {
            "tags": []
          }
        },
        {
          "output_type": "display_data",
          "data": {
            "text/html": [
              "<pre>| 20126        | 92.75       | 7m 0s        |</pre>"
            ],
            "text/plain": [
              "| 20126        | 92.75       | 7m 0s        |"
            ]
          },
          "metadata": {
            "tags": []
          }
        },
        {
          "output_type": "display_data",
          "data": {
            "text/html": [
              "<pre>| 20266        | 93.25       | 7m 3s        |</pre>"
            ],
            "text/plain": [
              "| 20266        | 93.25       | 7m 3s        |"
            ]
          },
          "metadata": {
            "tags": []
          }
        },
        {
          "output_type": "display_data",
          "data": {
            "text/html": [
              "<pre>| 20436        | 94          | 7m 6s        |</pre>"
            ],
            "text/plain": [
              "| 20436        | 94          | 7m 6s        |"
            ]
          },
          "metadata": {
            "tags": []
          }
        },
        {
          "output_type": "display_data",
          "data": {
            "text/html": [
              "<pre>| 20595        | 94.75       | 7m 9s        |</pre>"
            ],
            "text/plain": [
              "| 20595        | 94.75       | 7m 9s        |"
            ]
          },
          "metadata": {
            "tags": []
          }
        },
        {
          "output_type": "display_data",
          "data": {
            "text/html": [
              "<pre>| 20734        | 95.5        | 7m 12s       |</pre>"
            ],
            "text/plain": [
              "| 20734        | 95.5        | 7m 12s       |"
            ]
          },
          "metadata": {
            "tags": []
          }
        },
        {
          "output_type": "display_data",
          "data": {
            "text/html": [
              "<pre>| 20862        | 96          | 7m 15s       |</pre>"
            ],
            "text/plain": [
              "| 20862        | 96          | 7m 15s       |"
            ]
          },
          "metadata": {
            "tags": []
          }
        },
        {
          "output_type": "display_data",
          "data": {
            "text/html": [
              "<pre>| 20991        | 96.75       | 7m 18s       |</pre>"
            ],
            "text/plain": [
              "| 20991        | 96.75       | 7m 18s       |"
            ]
          },
          "metadata": {
            "tags": []
          }
        },
        {
          "output_type": "display_data",
          "data": {
            "text/html": [
              "<pre>| 21111        | 97.25       | 7m 21s       |</pre>"
            ],
            "text/plain": [
              "| 21111        | 97.25       | 7m 21s       |"
            ]
          },
          "metadata": {
            "tags": []
          }
        },
        {
          "output_type": "display_data",
          "data": {
            "text/html": [
              "<pre>| 21244        | 97.75       | 7m 24s       |</pre>"
            ],
            "text/plain": [
              "| 21244        | 97.75       | 7m 24s       |"
            ]
          },
          "metadata": {
            "tags": []
          }
        },
        {
          "output_type": "display_data",
          "data": {
            "text/html": [
              "<pre>| 21397        | 98.5        | 7m 27s       |</pre>"
            ],
            "text/plain": [
              "| 21397        | 98.5        | 7m 27s       |"
            ]
          },
          "metadata": {
            "tags": []
          }
        },
        {
          "output_type": "display_data",
          "data": {
            "text/html": [
              "<pre>| 21556        | 99.25       | 7m 30s       |</pre>"
            ],
            "text/plain": [
              "| 21556        | 99.25       | 7m 30s       |"
            ]
          },
          "metadata": {
            "tags": []
          }
        },
        {
          "output_type": "display_data",
          "data": {
            "text/html": [
              "<pre>| 21693        | 99.75       | 7m 33s       |</pre>"
            ],
            "text/plain": [
              "| 21693        | 99.75       | 7m 33s       |"
            ]
          },
          "metadata": {
            "tags": []
          }
        },
        {
          "output_type": "display_data",
          "data": {
            "text/html": [
              "<pre>| Done         |             | 7m 33s       |</pre>"
            ],
            "text/plain": [
              "| Done         |             | 7m 33s       |"
            ]
          },
          "metadata": {
            "tags": []
          }
        },
        {
          "output_type": "display_data",
          "data": {
            "text/html": [
              "<pre>+--------------+-------------+--------------+</pre>"
            ],
            "text/plain": [
              "+--------------+-------------+--------------+"
            ]
          },
          "metadata": {
            "tags": []
          }
        },
        {
          "output_type": "stream",
          "text": [
            "+-------+-------------+\n",
            "| class | probability |\n",
            "+-------+-------------+\n",
            "|   5   |     0.65    |\n",
            "|   4   |     0.5     |\n",
            "|   5   |     1.0     |\n",
            "|   4   |     0.35    |\n",
            "|   2   |     0.35    |\n",
            "|   5   |     0.45    |\n",
            "|   4   |     0.65    |\n",
            "|   4   |     0.45    |\n",
            "|   4   |     0.5     |\n",
            "|   5   |     0.5     |\n",
            "+-------+-------------+\n",
            "[21696 rows x 2 columns]\n",
            "Note: Only the head of the SFrame is printed.\n",
            "You can use print_rows(num_rows=m, num_columns=n) to print more rows and columns.\n"
          ],
          "name": "stdout"
        }
      ]
    },
    {
      "metadata": {
        "id": "_8s1nf3O8WYy",
        "colab_type": "code",
        "colab": {
          "base_uri": "https://localhost:8080/",
          "height": 323
        },
        "outputId": "20fac79e-8a7b-4a0c-efe2-a74aba5e8a55"
      },
      "cell_type": "code",
      "source": [
        "# Get top k rows according to the given column to see the fraction of neighbors belonging to every target class\n",
        "topk = model2.predict_topk(test_data[:5], max_neighbors=20, k=3)\n",
        "print(topk)"
      ],
      "execution_count": 55,
      "outputs": [
        {
          "output_type": "stream",
          "text": [
            "+--------+-------+-------------+\n",
            "| row_id | class | probability |\n",
            "+--------+-------+-------------+\n",
            "|   2    |   5   |     1.0     |\n",
            "|   4    |   2   |     0.35    |\n",
            "|   4    |   4   |     0.35    |\n",
            "|   4    |   1   |     0.1     |\n",
            "|   0    |   5   |     0.65    |\n",
            "|   0    |   4   |     0.35    |\n",
            "|   3    |   3   |     0.35    |\n",
            "|   3    |   4   |     0.35    |\n",
            "|   3    |   2   |     0.2     |\n",
            "|   1    |   4   |     0.5     |\n",
            "+--------+-------+-------------+\n",
            "[12 rows x 3 columns]\n",
            "Note: Only the head of the SFrame is printed.\n",
            "You can use print_rows(num_rows=m, num_columns=n) to print more rows and columns.\n"
          ],
          "name": "stdout"
        }
      ]
    },
    {
      "metadata": {
        "id": "pA8BXnq38wTa",
        "colab_type": "code",
        "colab": {
          "base_uri": "https://localhost:8080/",
          "height": 989
        },
        "outputId": "51ffedab-358e-42f6-ae90-c6df434972a7"
      },
      "cell_type": "code",
      "source": [
        "# Evaluate the model’s predictive accuracy by predicting the target class for instances in a new dataset and comparing to known target values.\n",
        "evals = model2.evaluate(test_data[:3000])\n",
        "print(evals['accuracy'])"
      ],
      "execution_count": 56,
      "outputs": [
        {
          "output_type": "stream",
          "text": [
            "WARNING: Ignoring `roc_curve`. Not supported for multi-class classification.\n"
          ],
          "name": "stdout"
        },
        {
          "output_type": "display_data",
          "data": {
            "text/html": [
              "<pre>+--------------+-------------+--------------+</pre>"
            ],
            "text/plain": [
              "+--------------+-------------+--------------+"
            ]
          },
          "metadata": {
            "tags": []
          }
        },
        {
          "output_type": "display_data",
          "data": {
            "text/html": [
              "<pre>| Query points | % Complete. | Elapsed Time |</pre>"
            ],
            "text/plain": [
              "| Query points | % Complete. | Elapsed Time |"
            ]
          },
          "metadata": {
            "tags": []
          }
        },
        {
          "output_type": "display_data",
          "data": {
            "text/html": [
              "<pre>+--------------+-------------+--------------+</pre>"
            ],
            "text/plain": [
              "+--------------+-------------+--------------+"
            ]
          },
          "metadata": {
            "tags": []
          }
        },
        {
          "output_type": "display_data",
          "data": {
            "text/html": [
              "<pre>| 1            | 0           | 32.96ms      |</pre>"
            ],
            "text/plain": [
              "| 1            | 0           | 32.96ms      |"
            ]
          },
          "metadata": {
            "tags": []
          }
        },
        {
          "output_type": "display_data",
          "data": {
            "text/html": [
              "<pre>| 160          | 5.25        | 3.06s        |</pre>"
            ],
            "text/plain": [
              "| 160          | 5.25        | 3.06s        |"
            ]
          },
          "metadata": {
            "tags": []
          }
        },
        {
          "output_type": "display_data",
          "data": {
            "text/html": [
              "<pre>| 307          | 10          | 6.09s        |</pre>"
            ],
            "text/plain": [
              "| 307          | 10          | 6.09s        |"
            ]
          },
          "metadata": {
            "tags": []
          }
        },
        {
          "output_type": "display_data",
          "data": {
            "text/html": [
              "<pre>| 446          | 14.75       | 9.03s        |</pre>"
            ],
            "text/plain": [
              "| 446          | 14.75       | 9.03s        |"
            ]
          },
          "metadata": {
            "tags": []
          }
        },
        {
          "output_type": "display_data",
          "data": {
            "text/html": [
              "<pre>| 589          | 19.5        | 12.04s       |</pre>"
            ],
            "text/plain": [
              "| 589          | 19.5        | 12.04s       |"
            ]
          },
          "metadata": {
            "tags": []
          }
        },
        {
          "output_type": "display_data",
          "data": {
            "text/html": [
              "<pre>| 750          | 25          | 15.05s       |</pre>"
            ],
            "text/plain": [
              "| 750          | 25          | 15.05s       |"
            ]
          },
          "metadata": {
            "tags": []
          }
        },
        {
          "output_type": "display_data",
          "data": {
            "text/html": [
              "<pre>| 905          | 30          | 18.05s       |</pre>"
            ],
            "text/plain": [
              "| 905          | 30          | 18.05s       |"
            ]
          },
          "metadata": {
            "tags": []
          }
        },
        {
          "output_type": "display_data",
          "data": {
            "text/html": [
              "<pre>| 1069         | 35.5        | 21.08s       |</pre>"
            ],
            "text/plain": [
              "| 1069         | 35.5        | 21.08s       |"
            ]
          },
          "metadata": {
            "tags": []
          }
        },
        {
          "output_type": "display_data",
          "data": {
            "text/html": [
              "<pre>| 1223         | 40.75       | 24.07s       |</pre>"
            ],
            "text/plain": [
              "| 1223         | 40.75       | 24.07s       |"
            ]
          },
          "metadata": {
            "tags": []
          }
        },
        {
          "output_type": "display_data",
          "data": {
            "text/html": [
              "<pre>| 1368         | 45.5        | 27.03s       |</pre>"
            ],
            "text/plain": [
              "| 1368         | 45.5        | 27.03s       |"
            ]
          },
          "metadata": {
            "tags": []
          }
        },
        {
          "output_type": "display_data",
          "data": {
            "text/html": [
              "<pre>| 1545         | 51.5        | 30.03s       |</pre>"
            ],
            "text/plain": [
              "| 1545         | 51.5        | 30.03s       |"
            ]
          },
          "metadata": {
            "tags": []
          }
        },
        {
          "output_type": "display_data",
          "data": {
            "text/html": [
              "<pre>| 1678         | 55.75       | 33.03s       |</pre>"
            ],
            "text/plain": [
              "| 1678         | 55.75       | 33.03s       |"
            ]
          },
          "metadata": {
            "tags": []
          }
        },
        {
          "output_type": "display_data",
          "data": {
            "text/html": [
              "<pre>| 1819         | 60.5        | 36.09s       |</pre>"
            ],
            "text/plain": [
              "| 1819         | 60.5        | 36.09s       |"
            ]
          },
          "metadata": {
            "tags": []
          }
        },
        {
          "output_type": "display_data",
          "data": {
            "text/html": [
              "<pre>| 1947         | 64.75       | 39.03s       |</pre>"
            ],
            "text/plain": [
              "| 1947         | 64.75       | 39.03s       |"
            ]
          },
          "metadata": {
            "tags": []
          }
        },
        {
          "output_type": "display_data",
          "data": {
            "text/html": [
              "<pre>| 2076         | 69          | 42.04s       |</pre>"
            ],
            "text/plain": [
              "| 2076         | 69          | 42.04s       |"
            ]
          },
          "metadata": {
            "tags": []
          }
        },
        {
          "output_type": "display_data",
          "data": {
            "text/html": [
              "<pre>| 2204         | 73.25       | 45.05s       |</pre>"
            ],
            "text/plain": [
              "| 2204         | 73.25       | 45.05s       |"
            ]
          },
          "metadata": {
            "tags": []
          }
        },
        {
          "output_type": "display_data",
          "data": {
            "text/html": [
              "<pre>| 2343         | 78          | 48.04s       |</pre>"
            ],
            "text/plain": [
              "| 2343         | 78          | 48.04s       |"
            ]
          },
          "metadata": {
            "tags": []
          }
        },
        {
          "output_type": "display_data",
          "data": {
            "text/html": [
              "<pre>| 2492         | 83          | 51.04s       |</pre>"
            ],
            "text/plain": [
              "| 2492         | 83          | 51.04s       |"
            ]
          },
          "metadata": {
            "tags": []
          }
        },
        {
          "output_type": "display_data",
          "data": {
            "text/html": [
              "<pre>| 2635         | 87.75       | 54.12s       |</pre>"
            ],
            "text/plain": [
              "| 2635         | 87.75       | 54.12s       |"
            ]
          },
          "metadata": {
            "tags": []
          }
        },
        {
          "output_type": "display_data",
          "data": {
            "text/html": [
              "<pre>| 2758         | 91.75       | 57.06s       |</pre>"
            ],
            "text/plain": [
              "| 2758         | 91.75       | 57.06s       |"
            ]
          },
          "metadata": {
            "tags": []
          }
        },
        {
          "output_type": "display_data",
          "data": {
            "text/html": [
              "<pre>| 2913         | 97          | 1m 0s        |</pre>"
            ],
            "text/plain": [
              "| 2913         | 97          | 1m 0s        |"
            ]
          },
          "metadata": {
            "tags": []
          }
        },
        {
          "output_type": "display_data",
          "data": {
            "text/html": [
              "<pre>| Done         |             | 1m 2s        |</pre>"
            ],
            "text/plain": [
              "| Done         |             | 1m 2s        |"
            ]
          },
          "metadata": {
            "tags": []
          }
        },
        {
          "output_type": "display_data",
          "data": {
            "text/html": [
              "<pre>+--------------+-------------+--------------+</pre>"
            ],
            "text/plain": [
              "+--------------+-------------+--------------+"
            ]
          },
          "metadata": {
            "tags": []
          }
        },
        {
          "output_type": "display_data",
          "data": {
            "text/html": [
              "<pre>+--------------+-------------+--------------+</pre>"
            ],
            "text/plain": [
              "+--------------+-------------+--------------+"
            ]
          },
          "metadata": {
            "tags": []
          }
        },
        {
          "output_type": "display_data",
          "data": {
            "text/html": [
              "<pre>| Query points | % Complete. | Elapsed Time |</pre>"
            ],
            "text/plain": [
              "| Query points | % Complete. | Elapsed Time |"
            ]
          },
          "metadata": {
            "tags": []
          }
        },
        {
          "output_type": "display_data",
          "data": {
            "text/html": [
              "<pre>+--------------+-------------+--------------+</pre>"
            ],
            "text/plain": [
              "+--------------+-------------+--------------+"
            ]
          },
          "metadata": {
            "tags": []
          }
        },
        {
          "output_type": "display_data",
          "data": {
            "text/html": [
              "<pre>| 1            | 0           | 19.501ms     |</pre>"
            ],
            "text/plain": [
              "| 1            | 0           | 19.501ms     |"
            ]
          },
          "metadata": {
            "tags": []
          }
        },
        {
          "output_type": "display_data",
          "data": {
            "text/html": [
              "<pre>| 159          | 5.25        | 3.06s        |</pre>"
            ],
            "text/plain": [
              "| 159          | 5.25        | 3.06s        |"
            ]
          },
          "metadata": {
            "tags": []
          }
        },
        {
          "output_type": "display_data",
          "data": {
            "text/html": [
              "<pre>| 302          | 10          | 6.03s        |</pre>"
            ],
            "text/plain": [
              "| 302          | 10          | 6.03s        |"
            ]
          },
          "metadata": {
            "tags": []
          }
        },
        {
          "output_type": "display_data",
          "data": {
            "text/html": [
              "<pre>| 447          | 14.75       | 9.02s        |</pre>"
            ],
            "text/plain": [
              "| 447          | 14.75       | 9.02s        |"
            ]
          },
          "metadata": {
            "tags": []
          }
        },
        {
          "output_type": "display_data",
          "data": {
            "text/html": [
              "<pre>| 588          | 19.5        | 12.03s       |</pre>"
            ],
            "text/plain": [
              "| 588          | 19.5        | 12.03s       |"
            ]
          },
          "metadata": {
            "tags": []
          }
        },
        {
          "output_type": "display_data",
          "data": {
            "text/html": [
              "<pre>| 748          | 24.75       | 15.04s       |</pre>"
            ],
            "text/plain": [
              "| 748          | 24.75       | 15.04s       |"
            ]
          },
          "metadata": {
            "tags": []
          }
        },
        {
          "output_type": "display_data",
          "data": {
            "text/html": [
              "<pre>| 904          | 30          | 18.11s       |</pre>"
            ],
            "text/plain": [
              "| 904          | 30          | 18.11s       |"
            ]
          },
          "metadata": {
            "tags": []
          }
        },
        {
          "output_type": "display_data",
          "data": {
            "text/html": [
              "<pre>| 1067         | 35.5        | 21.07s       |</pre>"
            ],
            "text/plain": [
              "| 1067         | 35.5        | 21.07s       |"
            ]
          },
          "metadata": {
            "tags": []
          }
        },
        {
          "output_type": "display_data",
          "data": {
            "text/html": [
              "<pre>| 1222         | 40.5        | 24.05s       |</pre>"
            ],
            "text/plain": [
              "| 1222         | 40.5        | 24.05s       |"
            ]
          },
          "metadata": {
            "tags": []
          }
        },
        {
          "output_type": "display_data",
          "data": {
            "text/html": [
              "<pre>| 1374         | 45.75       | 27.05s       |</pre>"
            ],
            "text/plain": [
              "| 1374         | 45.75       | 27.05s       |"
            ]
          },
          "metadata": {
            "tags": []
          }
        },
        {
          "output_type": "display_data",
          "data": {
            "text/html": [
              "<pre>| 1550         | 51.5        | 30.02s       |</pre>"
            ],
            "text/plain": [
              "| 1550         | 51.5        | 30.02s       |"
            ]
          },
          "metadata": {
            "tags": []
          }
        },
        {
          "output_type": "display_data",
          "data": {
            "text/html": [
              "<pre>| 1683         | 56          | 33.03s       |</pre>"
            ],
            "text/plain": [
              "| 1683         | 56          | 33.03s       |"
            ]
          },
          "metadata": {
            "tags": []
          }
        },
        {
          "output_type": "display_data",
          "data": {
            "text/html": [
              "<pre>| 1824         | 60.75       | 36.10s       |</pre>"
            ],
            "text/plain": [
              "| 1824         | 60.75       | 36.10s       |"
            ]
          },
          "metadata": {
            "tags": []
          }
        },
        {
          "output_type": "display_data",
          "data": {
            "text/html": [
              "<pre>| 1953         | 65          | 39.03s       |</pre>"
            ],
            "text/plain": [
              "| 1953         | 65          | 39.03s       |"
            ]
          },
          "metadata": {
            "tags": []
          }
        },
        {
          "output_type": "display_data",
          "data": {
            "text/html": [
              "<pre>| 2089         | 69.5        | 42.04s       |</pre>"
            ],
            "text/plain": [
              "| 2089         | 69.5        | 42.04s       |"
            ]
          },
          "metadata": {
            "tags": []
          }
        },
        {
          "output_type": "display_data",
          "data": {
            "text/html": [
              "<pre>| 2215         | 73.75       | 45.04s       |</pre>"
            ],
            "text/plain": [
              "| 2215         | 73.75       | 45.04s       |"
            ]
          },
          "metadata": {
            "tags": []
          }
        },
        {
          "output_type": "display_data",
          "data": {
            "text/html": [
              "<pre>| 2362         | 78.5        | 48.02s       |</pre>"
            ],
            "text/plain": [
              "| 2362         | 78.5        | 48.02s       |"
            ]
          },
          "metadata": {
            "tags": []
          }
        },
        {
          "output_type": "display_data",
          "data": {
            "text/html": [
              "<pre>| 2499         | 83.25       | 51.02s       |</pre>"
            ],
            "text/plain": [
              "| 2499         | 83.25       | 51.02s       |"
            ]
          },
          "metadata": {
            "tags": []
          }
        },
        {
          "output_type": "display_data",
          "data": {
            "text/html": [
              "<pre>| 2647         | 88          | 54.02s       |</pre>"
            ],
            "text/plain": [
              "| 2647         | 88          | 54.02s       |"
            ]
          },
          "metadata": {
            "tags": []
          }
        },
        {
          "output_type": "display_data",
          "data": {
            "text/html": [
              "<pre>| 2780         | 92.5        | 57.02s       |</pre>"
            ],
            "text/plain": [
              "| 2780         | 92.5        | 57.02s       |"
            ]
          },
          "metadata": {
            "tags": []
          }
        },
        {
          "output_type": "display_data",
          "data": {
            "text/html": [
              "<pre>| 2927         | 97.5        | 1m 0s        |</pre>"
            ],
            "text/plain": [
              "| 2927         | 97.5        | 1m 0s        |"
            ]
          },
          "metadata": {
            "tags": []
          }
        },
        {
          "output_type": "display_data",
          "data": {
            "text/html": [
              "<pre>| Done         |             | 1m 1s        |</pre>"
            ],
            "text/plain": [
              "| Done         |             | 1m 1s        |"
            ]
          },
          "metadata": {
            "tags": []
          }
        },
        {
          "output_type": "display_data",
          "data": {
            "text/html": [
              "<pre>+--------------+-------------+--------------+</pre>"
            ],
            "text/plain": [
              "+--------------+-------------+--------------+"
            ]
          },
          "metadata": {
            "tags": []
          }
        },
        {
          "output_type": "stream",
          "text": [
            "0.44866666666666666\n"
          ],
          "name": "stdout"
        }
      ]
    },
    {
      "metadata": {
        "id": "EqT1JZrD9GRA",
        "colab_type": "text"
      },
      "cell_type": "markdown",
      "source": [
        "The accuracy seems low, but remember that we are in a multi-class classification setting. The most common class (4 stars) only occurs in 34.8% of the test data, so our model has indeed learned something. The confusion matrix produced by the evaluate method can help us to better understand the model performance. In this case we see that 83.9% of our predictions are actually within 1 star of the true number of stars."
      ]
    },
    {
      "metadata": {
        "id": "kcfUq4Xx8__X",
        "colab_type": "code",
        "colab": {
          "base_uri": "https://localhost:8080/",
          "height": 35
        },
        "outputId": "f7540db2-e296-4faf-ded0-1c6ba0e11dd2"
      },
      "cell_type": "code",
      "source": [
        "conf_matrix = evals['confusion_matrix']\n",
        "conf_matrix['within_one'] = conf_matrix.apply(\n",
        "    lambda x: abs(x['target_label'] - x['predicted_label']) <= 1)\n",
        "num_within_one = conf_matrix[conf_matrix['within_one']]['count'].sum()\n",
        "print(float(num_within_one) / len(test_data))"
      ],
      "execution_count": 61,
      "outputs": [
        {
          "output_type": "stream",
          "text": [
            "0.11545907079646017\n"
          ],
          "name": "stdout"
        }
      ]
    },
    {
      "metadata": {
        "id": "HDukyqZh9MLr",
        "colab_type": "text"
      },
      "cell_type": "markdown",
      "source": [
        "Suppose we want to add the text column as a feature. One way to do this is to treat each entry as a \"bag of words\" by simply counting the number of times each word appears but ignoring the order (see the text analytics chapter for more detail)."
      ]
    },
    {
      "metadata": {
        "id": "poaq3PaE9OI8",
        "colab_type": "code",
        "colab": {
          "base_uri": "https://localhost:8080/",
          "height": 181
        },
        "outputId": "e3162d8f-5ef1-4174-9e2e-c51febede317"
      },
      "cell_type": "code",
      "source": [
        "train_data['word_counts'] = tc.text_analytics.count_words(train_data['text'],\n",
        "                                                          to_lower=True)\n",
        "test_data['word_counts'] = tc.text_analytics.count_words(test_data['text'],\n",
        "                                                         to_lower=True)\n",
        "print(train_data['text'][0])\n",
        "print(train_data['word_counts'][0])"
      ],
      "execution_count": 62,
      "outputs": [
        {
          "output_type": "stream",
          "text": [
            "My wife took me here on my birthday for breakfast and it was excellent.  The weather was perfect which made sitting outside overlooking their grounds an absolute pleasure.  Our waitress was excellent and our food arrived quickly on the semi-busy Saturday morning.  It looked like the place fills up pretty quickly so the earlier you get here the better.\n",
            "\n",
            "Do yourself a favor and get their Bloody Mary.  It was phenomenal and simply the best I've ever had.  I'm pretty sure they only use ingredients from their garden and blend them fresh when you order it.  It was amazing.\n",
            "\n",
            "While EVERYTHING on the menu looks excellent, I had the white truffle scrambled eggs vegetable skillet and it was tasty and delicious.  It came with 2 pieces of their griddled bread with was amazing and it absolutely made the meal complete.  It was the best \"toast\" I've ever had.\n",
            "\n",
            "Anyway, I can't wait to go back!\n",
            "{'back': 1, 'to': 1, 'wait': 1, 'complete': 1, 'meal': 1, 'of': 1, 'pieces': 1, 'came': 1, 'delicious': 1, 'skillet': 1, 'absolutely': 1, 'vegetable': 1, 'scrambled': 1, 'truffle': 1, 'morning': 1, 'anyway': 1, 'saturday': 1, 'tasty': 1, 'white': 1, 'semi': 1, 'can': 1, 'waitress': 1, 'pleasure': 1, 'their': 4, 've': 2, 'from': 1, 'grounds': 1, 'absolute': 1, 'for': 1, 'food': 1, 'overlooking': 1, 'get': 2, 'sitting': 1, 'looked': 1, 'which': 1, 'me': 1, 'bloody': 1, 'eggs': 1, 'here': 2, 'was': 8, 'busy': 1, 'birthday': 1, 'with': 2, 'garden': 1, 'bread': 1, 'my': 2, 'favor': 1, 'a': 1, 'took': 1, 't': 1, 'wife': 1, 'blend': 1, '2': 1, 'made': 2, 'excellent': 3, 'weather': 1, 'order': 1, 'breakfast': 1, 'the': 10, 'arrived': 1, 'toast': 1, 'perfect': 1, 'best': 2, 'an': 1, 'on': 3, 'and': 8, 'quickly': 2, 'like': 1, 'they': 1, 'fresh': 1, 'while': 1, 'place': 1, 'fills': 1, 'm': 1, 'our': 2, 'menu': 1, 'sure': 1, 'go': 1, 'up': 1, 'pretty': 2, 'so': 1, 'you': 2, 'earlier': 1, 'better': 1, 'do': 1, 'yourself': 1, 'mary': 1, 'phenomenal': 1, 'simply': 1, 'i': 5, 'ever': 2, 'had': 3, 'only': 1, 'griddled': 1, 'when': 1, 'use': 1, 'it': 9, 'ingredients': 1, 'them': 1, 'outside': 1, 'amazing': 2, 'everything': 1, 'looks': 1}\n"
          ],
          "name": "stdout"
        }
      ]
    },
    {
      "metadata": {
        "id": "iwQKa6bf_yWa",
        "colab_type": "text"
      },
      "cell_type": "markdown",
      "source": [
        "The weighted_jaccard distance measures the difference between two sets, weighted by the counts of each element (please see the API documentation for details). To combine this output with the numeric distance we used above, we specify a composite distance. Each element in this list includes a list (or tuple) of feature names, a standard distance function name, and a numeric weight. The weight on each component can be adjusted to produce the same effect as normalizing features."
      ]
    },
    {
      "metadata": {
        "id": "Es-ZpPj6_y3d",
        "colab_type": "code",
        "colab": {
          "base_uri": "https://localhost:8080/",
          "height": 53
        },
        "outputId": "65b45205-208c-4224-a1c6-b541b3a91529"
      },
      "cell_type": "code",
      "source": [
        "my_dist = [\n",
        "    [numeric_features, 'euclidean', 1.0],\n",
        "    [['word_counts'], 'weighted_jaccard', 1.0]\n",
        "    ]\n",
        "\n",
        "model2 = tc.nearest_neighbor_classifier.create(train_data, target='stars', distance=my_dist)"
      ],
      "execution_count": 63,
      "outputs": [
        {
          "output_type": "stream",
          "text": [
            "Defaulting to brute force instead of ball tree because there are multiple distance components.\n"
          ],
          "name": "stdout"
        },
        {
          "output_type": "display_data",
          "data": {
            "text/html": [
              "<pre>Starting brute force nearest neighbors model training.</pre>"
            ],
            "text/plain": [
              "Starting brute force nearest neighbors model training."
            ]
          },
          "metadata": {
            "tags": []
          }
        }
      ]
    },
    {
      "metadata": {
        "id": "N4W3ZuDD_9Ny",
        "colab_type": "code",
        "colab": {
          "base_uri": "https://localhost:8080/",
          "height": 4211
        },
        "outputId": "503c4b4b-2b2c-4319-9452-a64d4c1d69a6"
      },
      "cell_type": "code",
      "source": [
        "accuracy = model2.evaluate(test_data[:3000], metric='accuracy')\n",
        "print(accuracy)"
      ],
      "execution_count": 64,
      "outputs": [
        {
          "output_type": "stream",
          "text": [
            "WARNING: Ignoring `roc_curve`. Not supported for multi-class classification.\n"
          ],
          "name": "stdout"
        },
        {
          "output_type": "display_data",
          "data": {
            "text/html": [
              "<pre>Starting pairwise querying.</pre>"
            ],
            "text/plain": [
              "Starting pairwise querying."
            ]
          },
          "metadata": {
            "tags": []
          }
        },
        {
          "output_type": "display_data",
          "data": {
            "text/html": [
              "<pre>+--------------+---------+-------------+--------------+</pre>"
            ],
            "text/plain": [
              "+--------------+---------+-------------+--------------+"
            ]
          },
          "metadata": {
            "tags": []
          }
        },
        {
          "output_type": "display_data",
          "data": {
            "text/html": [
              "<pre>| Query points | # Pairs | % Complete. | Elapsed Time |</pre>"
            ],
            "text/plain": [
              "| Query points | # Pairs | % Complete. | Elapsed Time |"
            ]
          },
          "metadata": {
            "tags": []
          }
        },
        {
          "output_type": "display_data",
          "data": {
            "text/html": [
              "<pre>+--------------+---------+-------------+--------------+</pre>"
            ],
            "text/plain": [
              "+--------------+---------+-------------+--------------+"
            ]
          },
          "metadata": {
            "tags": []
          }
        },
        {
          "output_type": "display_data",
          "data": {
            "text/html": [
              "<pre>| 0            | 3000    | 0.000514978 | 30.242ms     |</pre>"
            ],
            "text/plain": [
              "| 0            | 3000    | 0.000514978 | 30.242ms     |"
            ]
          },
          "metadata": {
            "tags": []
          }
        },
        {
          "output_type": "display_data",
          "data": {
            "text/html": [
              "<pre>| 28           | 5493000 | 0.942925    | 3.03s        |</pre>"
            ],
            "text/plain": [
              "| 28           | 5493000 | 0.942925    | 3.03s        |"
            ]
          },
          "metadata": {
            "tags": []
          }
        },
        {
          "output_type": "display_data",
          "data": {
            "text/html": [
              "<pre>| 55           | 1.1e+07 | 1.86113     | 6.03s        |</pre>"
            ],
            "text/plain": [
              "| 55           | 1.1e+07 | 1.86113     | 6.03s        |"
            ]
          },
          "metadata": {
            "tags": []
          }
        },
        {
          "output_type": "display_data",
          "data": {
            "text/html": [
              "<pre>| 83           | 1.6e+07 | 2.79633     | 9.03s        |</pre>"
            ],
            "text/plain": [
              "| 83           | 1.6e+07 | 2.79633     | 9.03s        |"
            ]
          },
          "metadata": {
            "tags": []
          }
        },
        {
          "output_type": "display_data",
          "data": {
            "text/html": [
              "<pre>| 110          | 2.2e+07 | 3.69909     | 12.03s       |</pre>"
            ],
            "text/plain": [
              "| 110          | 2.2e+07 | 3.69909     | 12.03s       |"
            ]
          },
          "metadata": {
            "tags": []
          }
        },
        {
          "output_type": "display_data",
          "data": {
            "text/html": [
              "<pre>| 138          | 2.7e+07 | 4.60957     | 15.03s       |</pre>"
            ],
            "text/plain": [
              "| 138          | 2.7e+07 | 4.60957     | 15.03s       |"
            ]
          },
          "metadata": {
            "tags": []
          }
        },
        {
          "output_type": "display_data",
          "data": {
            "text/html": [
              "<pre>| 165          | 3.2e+07 | 5.51233     | 18.03s       |</pre>"
            ],
            "text/plain": [
              "| 165          | 3.2e+07 | 5.51233     | 18.03s       |"
            ]
          },
          "metadata": {
            "tags": []
          }
        },
        {
          "output_type": "display_data",
          "data": {
            "text/html": [
              "<pre>| 192          | 3.7e+07 | 6.43002     | 21.03s       |</pre>"
            ],
            "text/plain": [
              "| 192          | 3.7e+07 | 6.43002     | 21.03s       |"
            ]
          },
          "metadata": {
            "tags": []
          }
        },
        {
          "output_type": "display_data",
          "data": {
            "text/html": [
              "<pre>| 219          | 4.3e+07 | 7.33071     | 24.03s       |</pre>"
            ],
            "text/plain": [
              "| 219          | 4.3e+07 | 7.33071     | 24.03s       |"
            ]
          },
          "metadata": {
            "tags": []
          }
        },
        {
          "output_type": "display_data",
          "data": {
            "text/html": [
              "<pre>| 247          | 4.8e+07 | 8.24223     | 27.03s       |</pre>"
            ],
            "text/plain": [
              "| 247          | 4.8e+07 | 8.24223     | 27.03s       |"
            ]
          },
          "metadata": {
            "tags": []
          }
        },
        {
          "output_type": "display_data",
          "data": {
            "text/html": [
              "<pre>| 274          | 5.3e+07 | 9.15374     | 30.03s       |</pre>"
            ],
            "text/plain": [
              "| 274          | 5.3e+07 | 9.15374     | 30.03s       |"
            ]
          },
          "metadata": {
            "tags": []
          }
        },
        {
          "output_type": "display_data",
          "data": {
            "text/html": [
              "<pre>| 301          | 5.9e+07 | 10.0663     | 33.03s       |</pre>"
            ],
            "text/plain": [
              "| 301          | 5.9e+07 | 10.0663     | 33.03s       |"
            ]
          },
          "metadata": {
            "tags": []
          }
        },
        {
          "output_type": "display_data",
          "data": {
            "text/html": [
              "<pre>| 329          | 6.4e+07 | 10.9891     | 36.03s       |</pre>"
            ],
            "text/plain": [
              "| 329          | 6.4e+07 | 10.9891     | 36.03s       |"
            ]
          },
          "metadata": {
            "tags": []
          }
        },
        {
          "output_type": "display_data",
          "data": {
            "text/html": [
              "<pre>| 356          | 6.9e+07 | 11.8955     | 39.03s       |</pre>"
            ],
            "text/plain": [
              "| 356          | 6.9e+07 | 11.8955     | 39.03s       |"
            ]
          },
          "metadata": {
            "tags": []
          }
        },
        {
          "output_type": "display_data",
          "data": {
            "text/html": [
              "<pre>| 384          | 7.5e+07 | 12.8147     | 42.03s       |</pre>"
            ],
            "text/plain": [
              "| 384          | 7.5e+07 | 12.8147     | 42.03s       |"
            ]
          },
          "metadata": {
            "tags": []
          }
        },
        {
          "output_type": "display_data",
          "data": {
            "text/html": [
              "<pre>| 411          | 8e+07   | 13.7056     | 45.03s       |</pre>"
            ],
            "text/plain": [
              "| 411          | 8e+07   | 13.7056     | 45.03s       |"
            ]
          },
          "metadata": {
            "tags": []
          }
        },
        {
          "output_type": "display_data",
          "data": {
            "text/html": [
              "<pre>| 438          | 8.5e+07 | 14.6254     | 48.03s       |</pre>"
            ],
            "text/plain": [
              "| 438          | 8.5e+07 | 14.6254     | 48.03s       |"
            ]
          },
          "metadata": {
            "tags": []
          }
        },
        {
          "output_type": "display_data",
          "data": {
            "text/html": [
              "<pre>| 466          | 9.1e+07 | 15.5446     | 51.03s       |</pre>"
            ],
            "text/plain": [
              "| 466          | 9.1e+07 | 15.5446     | 51.03s       |"
            ]
          },
          "metadata": {
            "tags": []
          }
        },
        {
          "output_type": "display_data",
          "data": {
            "text/html": [
              "<pre>| 493          | 9.6e+07 | 16.4577     | 54.03s       |</pre>"
            ],
            "text/plain": [
              "| 493          | 9.6e+07 | 16.4577     | 54.03s       |"
            ]
          },
          "metadata": {
            "tags": []
          }
        },
        {
          "output_type": "display_data",
          "data": {
            "text/html": [
              "<pre>| 521          | 1e+08   | 17.3676     | 57.03s       |</pre>"
            ],
            "text/plain": [
              "| 521          | 1e+08   | 17.3676     | 57.03s       |"
            ]
          },
          "metadata": {
            "tags": []
          }
        },
        {
          "output_type": "display_data",
          "data": {
            "text/html": [
              "<pre>| 548          | 1.1e+08 | 18.2745     | 1m 0s        |</pre>"
            ],
            "text/plain": [
              "| 548          | 1.1e+08 | 18.2745     | 1m 0s        |"
            ]
          },
          "metadata": {
            "tags": []
          }
        },
        {
          "output_type": "display_data",
          "data": {
            "text/html": [
              "<pre>| 575          | 1.1e+08 | 19.1881     | 1m 3s        |</pre>"
            ],
            "text/plain": [
              "| 575          | 1.1e+08 | 19.1881     | 1m 3s        |"
            ]
          },
          "metadata": {
            "tags": []
          }
        },
        {
          "output_type": "display_data",
          "data": {
            "text/html": [
              "<pre>| 603          | 1.2e+08 | 20.1109     | 1m 6s        |</pre>"
            ],
            "text/plain": [
              "| 603          | 1.2e+08 | 20.1109     | 1m 6s        |"
            ]
          },
          "metadata": {
            "tags": []
          }
        },
        {
          "output_type": "display_data",
          "data": {
            "text/html": [
              "<pre>| 630          | 1.2e+08 | 21.0307     | 1m 9s        |</pre>"
            ],
            "text/plain": [
              "| 630          | 1.2e+08 | 21.0307     | 1m 9s        |"
            ]
          },
          "metadata": {
            "tags": []
          }
        },
        {
          "output_type": "display_data",
          "data": {
            "text/html": [
              "<pre>| 658          | 1.3e+08 | 21.9545     | 1m 12s       |</pre>"
            ],
            "text/plain": [
              "| 658          | 1.3e+08 | 21.9545     | 1m 12s       |"
            ]
          },
          "metadata": {
            "tags": []
          }
        },
        {
          "output_type": "display_data",
          "data": {
            "text/html": [
              "<pre>| 686          | 1.3e+08 | 22.8707     | 1m 15s       |</pre>"
            ],
            "text/plain": [
              "| 686          | 1.3e+08 | 22.8707     | 1m 15s       |"
            ]
          },
          "metadata": {
            "tags": []
          }
        },
        {
          "output_type": "display_data",
          "data": {
            "text/html": [
              "<pre>| 713          | 1.4e+08 | 23.7925     | 1m 18s       |</pre>"
            ],
            "text/plain": [
              "| 713          | 1.4e+08 | 23.7925     | 1m 18s       |"
            ]
          },
          "metadata": {
            "tags": []
          }
        },
        {
          "output_type": "display_data",
          "data": {
            "text/html": [
              "<pre>| 741          | 1.4e+08 | 24.7267     | 1m 21s       |</pre>"
            ],
            "text/plain": [
              "| 741          | 1.4e+08 | 24.7267     | 1m 21s       |"
            ]
          },
          "metadata": {
            "tags": []
          }
        },
        {
          "output_type": "display_data",
          "data": {
            "text/html": [
              "<pre>| 769          | 1.5e+08 | 25.6418     | 1m 24s       |</pre>"
            ],
            "text/plain": [
              "| 769          | 1.5e+08 | 25.6418     | 1m 24s       |"
            ]
          },
          "metadata": {
            "tags": []
          }
        },
        {
          "output_type": "display_data",
          "data": {
            "text/html": [
              "<pre>| 796          | 1.5e+08 | 26.5595     | 1m 27s       |</pre>"
            ],
            "text/plain": [
              "| 796          | 1.5e+08 | 26.5595     | 1m 27s       |"
            ]
          },
          "metadata": {
            "tags": []
          }
        },
        {
          "output_type": "display_data",
          "data": {
            "text/html": [
              "<pre>| 824          | 1.6e+08 | 27.487      | 1m 30s       |</pre>"
            ],
            "text/plain": [
              "| 824          | 1.6e+08 | 27.487      | 1m 30s       |"
            ]
          },
          "metadata": {
            "tags": []
          }
        },
        {
          "output_type": "display_data",
          "data": {
            "text/html": [
              "<pre>| 851          | 1.7e+08 | 28.3985     | 1m 33s       |</pre>"
            ],
            "text/plain": [
              "| 851          | 1.7e+08 | 28.3985     | 1m 33s       |"
            ]
          },
          "metadata": {
            "tags": []
          }
        },
        {
          "output_type": "display_data",
          "data": {
            "text/html": [
              "<pre>| 879          | 1.7e+08 | 29.3115     | 1m 36s       |</pre>"
            ],
            "text/plain": [
              "| 879          | 1.7e+08 | 29.3115     | 1m 36s       |"
            ]
          },
          "metadata": {
            "tags": []
          }
        },
        {
          "output_type": "display_data",
          "data": {
            "text/html": [
              "<pre>| 906          | 1.8e+08 | 30.2184     | 1m 39s       |</pre>"
            ],
            "text/plain": [
              "| 906          | 1.8e+08 | 30.2184     | 1m 39s       |"
            ]
          },
          "metadata": {
            "tags": []
          }
        },
        {
          "output_type": "display_data",
          "data": {
            "text/html": [
              "<pre>| 934          | 1.8e+08 | 31.1402     | 1m 42s       |</pre>"
            ],
            "text/plain": [
              "| 934          | 1.8e+08 | 31.1402     | 1m 42s       |"
            ]
          },
          "metadata": {
            "tags": []
          }
        },
        {
          "output_type": "display_data",
          "data": {
            "text/html": [
              "<pre>| 961          | 1.9e+08 | 32.0656     | 1m 45s       |</pre>"
            ],
            "text/plain": [
              "| 961          | 1.9e+08 | 32.0656     | 1m 45s       |"
            ]
          },
          "metadata": {
            "tags": []
          }
        },
        {
          "output_type": "display_data",
          "data": {
            "text/html": [
              "<pre>| 989          | 1.9e+08 | 32.9921     | 1m 48s       |</pre>"
            ],
            "text/plain": [
              "| 989          | 1.9e+08 | 32.9921     | 1m 48s       |"
            ]
          },
          "metadata": {
            "tags": []
          }
        },
        {
          "output_type": "display_data",
          "data": {
            "text/html": [
              "<pre>| 1017         | 2e+08   | 33.9082     | 1m 51s       |</pre>"
            ],
            "text/plain": [
              "| 1017         | 2e+08   | 33.9082     | 1m 51s       |"
            ]
          },
          "metadata": {
            "tags": []
          }
        },
        {
          "output_type": "display_data",
          "data": {
            "text/html": [
              "<pre>| 1044         | 2e+08   | 34.8187     | 1m 54s       |</pre>"
            ],
            "text/plain": [
              "| 1044         | 2e+08   | 34.8187     | 1m 54s       |"
            ]
          },
          "metadata": {
            "tags": []
          }
        },
        {
          "output_type": "display_data",
          "data": {
            "text/html": [
              "<pre>| 1072         | 2.1e+08 | 35.756      | 1m 57s       |</pre>"
            ],
            "text/plain": [
              "| 1072         | 2.1e+08 | 35.756      | 1m 57s       |"
            ]
          },
          "metadata": {
            "tags": []
          }
        },
        {
          "output_type": "display_data",
          "data": {
            "text/html": [
              "<pre>| 1100         | 2.1e+08 | 36.6809     | 2m 0s        |</pre>"
            ],
            "text/plain": [
              "| 1100         | 2.1e+08 | 36.6809     | 2m 0s        |"
            ]
          },
          "metadata": {
            "tags": []
          }
        },
        {
          "output_type": "display_data",
          "data": {
            "text/html": [
              "<pre>| 1128         | 2.2e+08 | 37.6032     | 2m 3s        |</pre>"
            ],
            "text/plain": [
              "| 1128         | 2.2e+08 | 37.6032     | 2m 3s        |"
            ]
          },
          "metadata": {
            "tags": []
          }
        },
        {
          "output_type": "display_data",
          "data": {
            "text/html": [
              "<pre>| 1155         | 2.2e+08 | 38.5286     | 2m 6s        |</pre>"
            ],
            "text/plain": [
              "| 1155         | 2.2e+08 | 38.5286     | 2m 6s        |"
            ]
          },
          "metadata": {
            "tags": []
          }
        },
        {
          "output_type": "display_data",
          "data": {
            "text/html": [
              "<pre>| 1183         | 2.3e+08 | 39.4545     | 2m 9s        |</pre>"
            ],
            "text/plain": [
              "| 1183         | 2.3e+08 | 39.4545     | 2m 9s        |"
            ]
          },
          "metadata": {
            "tags": []
          }
        },
        {
          "output_type": "display_data",
          "data": {
            "text/html": [
              "<pre>| 1211         | 2.4e+08 | 40.3805     | 2m 12s       |</pre>"
            ],
            "text/plain": [
              "| 1211         | 2.4e+08 | 40.3805     | 2m 12s       |"
            ]
          },
          "metadata": {
            "tags": []
          }
        },
        {
          "output_type": "display_data",
          "data": {
            "text/html": [
              "<pre>| 1239         | 2.4e+08 | 41.3049     | 2m 15s       |</pre>"
            ],
            "text/plain": [
              "| 1239         | 2.4e+08 | 41.3049     | 2m 15s       |"
            ]
          },
          "metadata": {
            "tags": []
          }
        },
        {
          "output_type": "display_data",
          "data": {
            "text/html": [
              "<pre>| 1266         | 2.5e+08 | 42.2256     | 2m 18s       |</pre>"
            ],
            "text/plain": [
              "| 1266         | 2.5e+08 | 42.2256     | 2m 18s       |"
            ]
          },
          "metadata": {
            "tags": []
          }
        },
        {
          "output_type": "display_data",
          "data": {
            "text/html": [
              "<pre>| 1294         | 2.5e+08 | 43.1407     | 2m 21s       |</pre>"
            ],
            "text/plain": [
              "| 1294         | 2.5e+08 | 43.1407     | 2m 21s       |"
            ]
          },
          "metadata": {
            "tags": []
          }
        },
        {
          "output_type": "display_data",
          "data": {
            "text/html": [
              "<pre>| 1322         | 2.6e+08 | 44.0667     | 2m 24s       |</pre>"
            ],
            "text/plain": [
              "| 1322         | 2.6e+08 | 44.0667     | 2m 24s       |"
            ]
          },
          "metadata": {
            "tags": []
          }
        },
        {
          "output_type": "display_data",
          "data": {
            "text/html": [
              "<pre>| 1349         | 2.6e+08 | 44.9849     | 2m 27s       |</pre>"
            ],
            "text/plain": [
              "| 1349         | 2.6e+08 | 44.9849     | 2m 27s       |"
            ]
          },
          "metadata": {
            "tags": []
          }
        },
        {
          "output_type": "display_data",
          "data": {
            "text/html": [
              "<pre>| 1377         | 2.7e+08 | 45.9005     | 2m 30s       |</pre>"
            ],
            "text/plain": [
              "| 1377         | 2.7e+08 | 45.9005     | 2m 30s       |"
            ]
          },
          "metadata": {
            "tags": []
          }
        },
        {
          "output_type": "display_data",
          "data": {
            "text/html": [
              "<pre>| 1404         | 2.7e+08 | 46.8228     | 2m 33s       |</pre>"
            ],
            "text/plain": [
              "| 1404         | 2.7e+08 | 46.8228     | 2m 33s       |"
            ]
          },
          "metadata": {
            "tags": []
          }
        },
        {
          "output_type": "display_data",
          "data": {
            "text/html": [
              "<pre>| 1431         | 2.8e+08 | 47.7292     | 2m 36s       |</pre>"
            ],
            "text/plain": [
              "| 1431         | 2.8e+08 | 47.7292     | 2m 36s       |"
            ]
          },
          "metadata": {
            "tags": []
          }
        },
        {
          "output_type": "display_data",
          "data": {
            "text/html": [
              "<pre>| 1459         | 2.8e+08 | 48.6443     | 2m 39s       |</pre>"
            ],
            "text/plain": [
              "| 1459         | 2.8e+08 | 48.6443     | 2m 39s       |"
            ]
          },
          "metadata": {
            "tags": []
          }
        },
        {
          "output_type": "display_data",
          "data": {
            "text/html": [
              "<pre>| 1487         | 2.9e+08 | 49.5857     | 2m 42s       |</pre>"
            ],
            "text/plain": [
              "| 1487         | 2.9e+08 | 49.5857     | 2m 42s       |"
            ]
          },
          "metadata": {
            "tags": []
          }
        },
        {
          "output_type": "display_data",
          "data": {
            "text/html": [
              "<pre>| 1514         | 2.9e+08 | 50.4854     | 2m 45s       |</pre>"
            ],
            "text/plain": [
              "| 1514         | 2.9e+08 | 50.4854     | 2m 45s       |"
            ]
          },
          "metadata": {
            "tags": []
          }
        },
        {
          "output_type": "display_data",
          "data": {
            "text/html": [
              "<pre>| 1541         | 3e+08   | 51.3969     | 2m 48s       |</pre>"
            ],
            "text/plain": [
              "| 1541         | 3e+08   | 51.3969     | 2m 48s       |"
            ]
          },
          "metadata": {
            "tags": []
          }
        },
        {
          "output_type": "display_data",
          "data": {
            "text/html": [
              "<pre>| 1569         | 3e+08   | 52.3001     | 2m 51s       |</pre>"
            ],
            "text/plain": [
              "| 1569         | 3e+08   | 52.3001     | 2m 51s       |"
            ]
          },
          "metadata": {
            "tags": []
          }
        },
        {
          "output_type": "display_data",
          "data": {
            "text/html": [
              "<pre>| 1596         | 3.1e+08 | 53.2333     | 2m 54s       |</pre>"
            ],
            "text/plain": [
              "| 1596         | 3.1e+08 | 53.2333     | 2m 54s       |"
            ]
          },
          "metadata": {
            "tags": []
          }
        },
        {
          "output_type": "display_data",
          "data": {
            "text/html": [
              "<pre>| 1624         | 3.2e+08 | 54.1628     | 2m 57s       |</pre>"
            ],
            "text/plain": [
              "| 1624         | 3.2e+08 | 54.1628     | 2m 57s       |"
            ]
          },
          "metadata": {
            "tags": []
          }
        },
        {
          "output_type": "display_data",
          "data": {
            "text/html": [
              "<pre>| 1652         | 3.2e+08 | 55.0764     | 3m 0s        |</pre>"
            ],
            "text/plain": [
              "| 1652         | 3.2e+08 | 55.0764     | 3m 0s        |"
            ]
          },
          "metadata": {
            "tags": []
          }
        },
        {
          "output_type": "display_data",
          "data": {
            "text/html": [
              "<pre>| 1679         | 3.3e+08 | 55.992      | 3m 3s        |</pre>"
            ],
            "text/plain": [
              "| 1679         | 3.3e+08 | 55.992      | 3m 3s        |"
            ]
          },
          "metadata": {
            "tags": []
          }
        },
        {
          "output_type": "display_data",
          "data": {
            "text/html": [
              "<pre>| 1707         | 3.3e+08 | 56.9185     | 3m 6s        |</pre>"
            ],
            "text/plain": [
              "| 1707         | 3.3e+08 | 56.9185     | 3m 6s        |"
            ]
          },
          "metadata": {
            "tags": []
          }
        },
        {
          "output_type": "display_data",
          "data": {
            "text/html": [
              "<pre>| 1734         | 3.4e+08 | 57.8305     | 3m 9s        |</pre>"
            ],
            "text/plain": [
              "| 1734         | 3.4e+08 | 57.8305     | 3m 9s        |"
            ]
          },
          "metadata": {
            "tags": []
          }
        },
        {
          "output_type": "display_data",
          "data": {
            "text/html": [
              "<pre>| 1762         | 3.4e+08 | 58.7338     | 3m 12s       |</pre>"
            ],
            "text/plain": [
              "| 1762         | 3.4e+08 | 58.7338     | 3m 12s       |"
            ]
          },
          "metadata": {
            "tags": []
          }
        },
        {
          "output_type": "display_data",
          "data": {
            "text/html": [
              "<pre>| 1789         | 3.5e+08 | 59.6412     | 3m 15s       |</pre>"
            ],
            "text/plain": [
              "| 1789         | 3.5e+08 | 59.6412     | 3m 15s       |"
            ]
          },
          "metadata": {
            "tags": []
          }
        },
        {
          "output_type": "display_data",
          "data": {
            "text/html": [
              "<pre>| 1816         | 3.5e+08 | 60.5542     | 3m 18s       |</pre>"
            ],
            "text/plain": [
              "| 1816         | 3.5e+08 | 60.5542     | 3m 18s       |"
            ]
          },
          "metadata": {
            "tags": []
          }
        },
        {
          "output_type": "display_data",
          "data": {
            "text/html": [
              "<pre>| 1843         | 3.6e+08 | 61.4626     | 3m 21s       |</pre>"
            ],
            "text/plain": [
              "| 1843         | 3.6e+08 | 61.4626     | 3m 21s       |"
            ]
          },
          "metadata": {
            "tags": []
          }
        },
        {
          "output_type": "display_data",
          "data": {
            "text/html": [
              "<pre>| 1870         | 3.6e+08 | 62.3654     | 3m 24s       |</pre>"
            ],
            "text/plain": [
              "| 1870         | 3.6e+08 | 62.3654     | 3m 24s       |"
            ]
          },
          "metadata": {
            "tags": []
          }
        },
        {
          "output_type": "display_data",
          "data": {
            "text/html": [
              "<pre>| 1898         | 3.7e+08 | 63.2764     | 3m 27s       |</pre>"
            ],
            "text/plain": [
              "| 1898         | 3.7e+08 | 63.2764     | 3m 27s       |"
            ]
          },
          "metadata": {
            "tags": []
          }
        },
        {
          "output_type": "display_data",
          "data": {
            "text/html": [
              "<pre>| 1925         | 3.7e+08 | 64.1951     | 3m 30s       |</pre>"
            ],
            "text/plain": [
              "| 1925         | 3.7e+08 | 64.1951     | 3m 30s       |"
            ]
          },
          "metadata": {
            "tags": []
          }
        },
        {
          "output_type": "display_data",
          "data": {
            "text/html": [
              "<pre>| 1953         | 3.8e+08 | 65.1205     | 3m 33s       |</pre>"
            ],
            "text/plain": [
              "| 1953         | 3.8e+08 | 65.1205     | 3m 33s       |"
            ]
          },
          "metadata": {
            "tags": []
          }
        },
        {
          "output_type": "display_data",
          "data": {
            "text/html": [
              "<pre>| 1980         | 3.8e+08 | 66.0326     | 3m 36s       |</pre>"
            ],
            "text/plain": [
              "| 1980         | 3.8e+08 | 66.0326     | 3m 36s       |"
            ]
          },
          "metadata": {
            "tags": []
          }
        },
        {
          "output_type": "display_data",
          "data": {
            "text/html": [
              "<pre>| 2008         |         | 66.9487     | 3m 39s       |</pre>"
            ],
            "text/plain": [
              "| 2008         |         | 66.9487     | 3m 39s       |"
            ]
          },
          "metadata": {
            "tags": []
          }
        },
        {
          "output_type": "display_data",
          "data": {
            "text/html": [
              "<pre>| 2035         | 4e+08   | 67.8618     | 3m 42s       |</pre>"
            ],
            "text/plain": [
              "| 2035         | 4e+08   | 67.8618     | 3m 42s       |"
            ]
          },
          "metadata": {
            "tags": []
          }
        },
        {
          "output_type": "display_data",
          "data": {
            "text/html": [
              "<pre>| 2063         | 4e+08   | 68.7717     | 3m 45s       |</pre>"
            ],
            "text/plain": [
              "| 2063         | 4e+08   | 68.7717     | 3m 45s       |"
            ]
          },
          "metadata": {
            "tags": []
          }
        },
        {
          "output_type": "display_data",
          "data": {
            "text/html": [
              "<pre>| 2090         | 4.1e+08 | 69.6987     | 3m 48s       |</pre>"
            ],
            "text/plain": [
              "| 2090         | 4.1e+08 | 69.6987     | 3m 48s       |"
            ]
          },
          "metadata": {
            "tags": []
          }
        },
        {
          "output_type": "display_data",
          "data": {
            "text/html": [
              "<pre>| 2118         | 4.1e+08 | 70.602      | 3m 51s       |</pre>"
            ],
            "text/plain": [
              "| 2118         | 4.1e+08 | 70.602      | 3m 51s       |"
            ]
          },
          "metadata": {
            "tags": []
          }
        },
        {
          "output_type": "display_data",
          "data": {
            "text/html": [
              "<pre>| 2145         | 4.2e+08 | 71.5083     | 3m 54s       |</pre>"
            ],
            "text/plain": [
              "| 2145         | 4.2e+08 | 71.5083     | 3m 54s       |"
            ]
          },
          "metadata": {
            "tags": []
          }
        },
        {
          "output_type": "display_data",
          "data": {
            "text/html": [
              "<pre>| 2172         | 4.2e+08 | 72.4137     | 3m 57s       |</pre>"
            ],
            "text/plain": [
              "| 2172         | 4.2e+08 | 72.4137     | 3m 57s       |"
            ]
          },
          "metadata": {
            "tags": []
          }
        },
        {
          "output_type": "display_data",
          "data": {
            "text/html": [
              "<pre>| 2199         | 4.3e+08 | 73.319      | 4m 0s        |</pre>"
            ],
            "text/plain": [
              "| 2199         | 4.3e+08 | 73.319      | 4m 0s        |"
            ]
          },
          "metadata": {
            "tags": []
          }
        },
        {
          "output_type": "display_data",
          "data": {
            "text/html": [
              "<pre>| 2226         | 4.3e+08 | 74.2289     | 4m 3s        |</pre>"
            ],
            "text/plain": [
              "| 2226         | 4.3e+08 | 74.2289     | 4m 3s        |"
            ]
          },
          "metadata": {
            "tags": []
          }
        },
        {
          "output_type": "display_data",
          "data": {
            "text/html": [
              "<pre>| 2254         | 4.4e+08 | 75.1358     | 4m 6s        |</pre>"
            ],
            "text/plain": [
              "| 2254         | 4.4e+08 | 75.1358     | 4m 6s        |"
            ]
          },
          "metadata": {
            "tags": []
          }
        },
        {
          "output_type": "display_data",
          "data": {
            "text/html": [
              "<pre>| 2281         | 4.4e+08 | 76.0458     | 4m 9s        |</pre>"
            ],
            "text/plain": [
              "| 2281         | 4.4e+08 | 76.0458     | 4m 9s        |"
            ]
          },
          "metadata": {
            "tags": []
          }
        },
        {
          "output_type": "display_data",
          "data": {
            "text/html": [
              "<pre>| 2308         | 4.5e+08 | 76.9547     | 4m 12s       |</pre>"
            ],
            "text/plain": [
              "| 2308         | 4.5e+08 | 76.9547     | 4m 12s       |"
            ]
          },
          "metadata": {
            "tags": []
          }
        },
        {
          "output_type": "display_data",
          "data": {
            "text/html": [
              "<pre>| 2336         | 4.5e+08 | 77.8771     | 4m 15s       |</pre>"
            ],
            "text/plain": [
              "| 2336         | 4.5e+08 | 77.8771     | 4m 15s       |"
            ]
          },
          "metadata": {
            "tags": []
          }
        },
        {
          "output_type": "display_data",
          "data": {
            "text/html": [
              "<pre>| 2364         | 4.6e+08 | 78.8009     | 4m 18s       |</pre>"
            ],
            "text/plain": [
              "| 2364         | 4.6e+08 | 78.8009     | 4m 18s       |"
            ]
          },
          "metadata": {
            "tags": []
          }
        },
        {
          "output_type": "display_data",
          "data": {
            "text/html": [
              "<pre>| 2392         | 4.6e+08 | 79.7387     | 4m 21s       |</pre>"
            ],
            "text/plain": [
              "| 2392         | 4.6e+08 | 79.7387     | 4m 21s       |"
            ]
          },
          "metadata": {
            "tags": []
          }
        },
        {
          "output_type": "display_data",
          "data": {
            "text/html": [
              "<pre>| 2419         | 4.7e+08 | 80.6631     | 4m 24s       |</pre>"
            ],
            "text/plain": [
              "| 2419         | 4.7e+08 | 80.6631     | 4m 24s       |"
            ]
          },
          "metadata": {
            "tags": []
          }
        },
        {
          "output_type": "display_data",
          "data": {
            "text/html": [
              "<pre>| 2447         | 4.8e+08 | 81.5823     | 4m 27s       |</pre>"
            ],
            "text/plain": [
              "| 2447         | 4.8e+08 | 81.5823     | 4m 27s       |"
            ]
          },
          "metadata": {
            "tags": []
          }
        },
        {
          "output_type": "display_data",
          "data": {
            "text/html": [
              "<pre>| 2474         | 4.8e+08 | 82.4969     | 4m 30s       |</pre>"
            ],
            "text/plain": [
              "| 2474         | 4.8e+08 | 82.4969     | 4m 30s       |"
            ]
          },
          "metadata": {
            "tags": []
          }
        },
        {
          "output_type": "display_data",
          "data": {
            "text/html": [
              "<pre>| 2502         | 4.9e+08 | 83.4028     | 4m 33s       |</pre>"
            ],
            "text/plain": [
              "| 2502         | 4.9e+08 | 83.4028     | 4m 33s       |"
            ]
          },
          "metadata": {
            "tags": []
          }
        },
        {
          "output_type": "display_data",
          "data": {
            "text/html": [
              "<pre>| 2529         | 4.9e+08 | 84.3189     | 4m 36s       |</pre>"
            ],
            "text/plain": [
              "| 2529         | 4.9e+08 | 84.3189     | 4m 36s       |"
            ]
          },
          "metadata": {
            "tags": []
          }
        },
        {
          "output_type": "display_data",
          "data": {
            "text/html": [
              "<pre>| 2556         | 5e+08   | 85.2155     | 4m 39s       |</pre>"
            ],
            "text/plain": [
              "| 2556         | 5e+08   | 85.2155     | 4m 39s       |"
            ]
          },
          "metadata": {
            "tags": []
          }
        },
        {
          "output_type": "display_data",
          "data": {
            "text/html": [
              "<pre>| 2584         | 5e+08   | 86.1337     | 4m 42s       |</pre>"
            ],
            "text/plain": [
              "| 2584         | 5e+08   | 86.1337     | 4m 42s       |"
            ]
          },
          "metadata": {
            "tags": []
          }
        },
        {
          "output_type": "display_data",
          "data": {
            "text/html": [
              "<pre>| 2611         | 5.1e+08 | 87.0442     | 4m 45s       |</pre>"
            ],
            "text/plain": [
              "| 2611         | 5.1e+08 | 87.0442     | 4m 45s       |"
            ]
          },
          "metadata": {
            "tags": []
          }
        },
        {
          "output_type": "display_data",
          "data": {
            "text/html": [
              "<pre>| 2638         | 5.1e+08 | 87.9603     | 4m 48s       |</pre>"
            ],
            "text/plain": [
              "| 2638         | 5.1e+08 | 87.9603     | 4m 48s       |"
            ]
          },
          "metadata": {
            "tags": []
          }
        },
        {
          "output_type": "display_data",
          "data": {
            "text/html": [
              "<pre>| 2665         | 5.2e+08 | 88.8651     | 4m 51s       |</pre>"
            ],
            "text/plain": [
              "| 2665         | 5.2e+08 | 88.8651     | 4m 51s       |"
            ]
          },
          "metadata": {
            "tags": []
          }
        },
        {
          "output_type": "display_data",
          "data": {
            "text/html": [
              "<pre>| 2693         | 5.2e+08 | 89.7767     | 4m 54s       |</pre>"
            ],
            "text/plain": [
              "| 2693         | 5.2e+08 | 89.7767     | 4m 54s       |"
            ]
          },
          "metadata": {
            "tags": []
          }
        },
        {
          "output_type": "display_data",
          "data": {
            "text/html": [
              "<pre>| 2720         | 5.3e+08 | 90.6748     | 4m 57s       |</pre>"
            ],
            "text/plain": [
              "| 2720         | 5.3e+08 | 90.6748     | 4m 57s       |"
            ]
          },
          "metadata": {
            "tags": []
          }
        },
        {
          "output_type": "display_data",
          "data": {
            "text/html": [
              "<pre>| 2747         | 5.3e+08 | 91.5806     | 5m 0s        |</pre>"
            ],
            "text/plain": [
              "| 2747         | 5.3e+08 | 91.5806     | 5m 0s        |"
            ]
          },
          "metadata": {
            "tags": []
          }
        },
        {
          "output_type": "display_data",
          "data": {
            "text/html": [
              "<pre>| 2775         | 5.4e+08 | 92.505      | 5m 3s        |</pre>"
            ],
            "text/plain": [
              "| 2775         | 5.4e+08 | 92.505      | 5m 3s        |"
            ]
          },
          "metadata": {
            "tags": []
          }
        },
        {
          "output_type": "display_data",
          "data": {
            "text/html": [
              "<pre>| 2802         | 5.4e+08 | 93.4206     | 5m 6s        |</pre>"
            ],
            "text/plain": [
              "| 2802         | 5.4e+08 | 93.4206     | 5m 6s        |"
            ]
          },
          "metadata": {
            "tags": []
          }
        },
        {
          "output_type": "display_data",
          "data": {
            "text/html": [
              "<pre>| 2830         | 5.5e+08 | 94.3394     | 5m 9s        |</pre>"
            ],
            "text/plain": [
              "| 2830         | 5.5e+08 | 94.3394     | 5m 9s        |"
            ]
          },
          "metadata": {
            "tags": []
          }
        },
        {
          "output_type": "display_data",
          "data": {
            "text/html": [
              "<pre>| 2857         | 5.5e+08 | 95.254      | 5m 12s       |</pre>"
            ],
            "text/plain": [
              "| 2857         | 5.5e+08 | 95.254      | 5m 12s       |"
            ]
          },
          "metadata": {
            "tags": []
          }
        },
        {
          "output_type": "display_data",
          "data": {
            "text/html": [
              "<pre>| 2885         | 5.6e+08 | 96.182      | 5m 15s       |</pre>"
            ],
            "text/plain": [
              "| 2885         | 5.6e+08 | 96.182      | 5m 15s       |"
            ]
          },
          "metadata": {
            "tags": []
          }
        },
        {
          "output_type": "display_data",
          "data": {
            "text/html": [
              "<pre>| 2913         | 5.7e+08 | 97.1017     | 5m 18s       |</pre>"
            ],
            "text/plain": [
              "| 2913         | 5.7e+08 | 97.1017     | 5m 18s       |"
            ]
          },
          "metadata": {
            "tags": []
          }
        },
        {
          "output_type": "display_data",
          "data": {
            "text/html": [
              "<pre>| 2940         | 5.7e+08 | 98.0194     | 5m 21s       |</pre>"
            ],
            "text/plain": [
              "| 2940         | 5.7e+08 | 98.0194     | 5m 21s       |"
            ]
          },
          "metadata": {
            "tags": []
          }
        },
        {
          "output_type": "display_data",
          "data": {
            "text/html": [
              "<pre>| 2968         | 5.8e+08 | 98.9376     | 5m 24s       |</pre>"
            ],
            "text/plain": [
              "| 2968         | 5.8e+08 | 98.9376     | 5m 24s       |"
            ]
          },
          "metadata": {
            "tags": []
          }
        },
        {
          "output_type": "display_data",
          "data": {
            "text/html": [
              "<pre>| 2994         | 5.8e+08 | 99.8095     | 5m 27s       |</pre>"
            ],
            "text/plain": [
              "| 2994         | 5.8e+08 | 99.8095     | 5m 27s       |"
            ]
          },
          "metadata": {
            "tags": []
          }
        },
        {
          "output_type": "display_data",
          "data": {
            "text/html": [
              "<pre>| Done         |         | 100         | 5m 28s       |</pre>"
            ],
            "text/plain": [
              "| Done         |         | 100         | 5m 28s       |"
            ]
          },
          "metadata": {
            "tags": []
          }
        },
        {
          "output_type": "display_data",
          "data": {
            "text/html": [
              "<pre>+--------------+---------+-------------+--------------+</pre>"
            ],
            "text/plain": [
              "+--------------+---------+-------------+--------------+"
            ]
          },
          "metadata": {
            "tags": []
          }
        },
        {
          "output_type": "display_data",
          "data": {
            "text/html": [
              "<pre>Starting pairwise querying.</pre>"
            ],
            "text/plain": [
              "Starting pairwise querying."
            ]
          },
          "metadata": {
            "tags": []
          }
        },
        {
          "output_type": "display_data",
          "data": {
            "text/html": [
              "<pre>+--------------+---------+-------------+--------------+</pre>"
            ],
            "text/plain": [
              "+--------------+---------+-------------+--------------+"
            ]
          },
          "metadata": {
            "tags": []
          }
        },
        {
          "output_type": "display_data",
          "data": {
            "text/html": [
              "<pre>| Query points | # Pairs | % Complete. | Elapsed Time |</pre>"
            ],
            "text/plain": [
              "| Query points | # Pairs | % Complete. | Elapsed Time |"
            ]
          },
          "metadata": {
            "tags": []
          }
        },
        {
          "output_type": "display_data",
          "data": {
            "text/html": [
              "<pre>+--------------+---------+-------------+--------------+</pre>"
            ],
            "text/plain": [
              "+--------------+---------+-------------+--------------+"
            ]
          },
          "metadata": {
            "tags": []
          }
        },
        {
          "output_type": "display_data",
          "data": {
            "text/html": [
              "<pre>| 0            | 3000    | 0.000514978 | 21.266ms     |</pre>"
            ],
            "text/plain": [
              "| 0            | 3000    | 0.000514978 | 21.266ms     |"
            ]
          },
          "metadata": {
            "tags": []
          }
        },
        {
          "output_type": "display_data",
          "data": {
            "text/html": [
              "<pre>| 27           | 5430000 | 0.93211     | 3.02s        |</pre>"
            ],
            "text/plain": [
              "| 27           | 5430000 | 0.93211     | 3.02s        |"
            ]
          },
          "metadata": {
            "tags": []
          }
        },
        {
          "output_type": "display_data",
          "data": {
            "text/html": [
              "<pre>| 55           | 1.1e+07 | 1.84929     | 6.02s        |</pre>"
            ],
            "text/plain": [
              "| 55           | 1.1e+07 | 1.84929     | 6.02s        |"
            ]
          },
          "metadata": {
            "tags": []
          }
        },
        {
          "output_type": "display_data",
          "data": {
            "text/html": [
              "<pre>| 83           | 1.6e+07 | 2.78191     | 9.02s        |</pre>"
            ],
            "text/plain": [
              "| 83           | 1.6e+07 | 2.78191     | 9.02s        |"
            ]
          },
          "metadata": {
            "tags": []
          }
        },
        {
          "output_type": "display_data",
          "data": {
            "text/html": [
              "<pre>| 110          | 2.1e+07 | 3.68467     | 12.02s       |</pre>"
            ],
            "text/plain": [
              "| 110          | 2.1e+07 | 3.68467     | 12.02s       |"
            ]
          },
          "metadata": {
            "tags": []
          }
        },
        {
          "output_type": "display_data",
          "data": {
            "text/html": [
              "<pre>| 137          | 2.7e+07 | 4.59155     | 15.02s       |</pre>"
            ],
            "text/plain": [
              "| 137          | 2.7e+07 | 4.59155     | 15.02s       |"
            ]
          },
          "metadata": {
            "tags": []
          }
        },
        {
          "output_type": "display_data",
          "data": {
            "text/html": [
              "<pre>| 164          |         | 5.49379     | 18.02s       |</pre>"
            ],
            "text/plain": [
              "| 164          |         | 5.49379     | 18.02s       |"
            ]
          },
          "metadata": {
            "tags": []
          }
        },
        {
          "output_type": "display_data",
          "data": {
            "text/html": [
              "<pre>| 192          | 3.7e+07 | 6.40118     | 21.02s       |</pre>"
            ],
            "text/plain": [
              "| 192          | 3.7e+07 | 6.40118     | 21.02s       |"
            ]
          },
          "metadata": {
            "tags": []
          }
        },
        {
          "output_type": "display_data",
          "data": {
            "text/html": [
              "<pre>| 218          | 4.2e+07 | 7.28797     | 24.02s       |</pre>"
            ],
            "text/plain": [
              "| 218          | 4.2e+07 | 7.28797     | 24.02s       |"
            ]
          },
          "metadata": {
            "tags": []
          }
        },
        {
          "output_type": "display_data",
          "data": {
            "text/html": [
              "<pre>| 245          | 4.8e+07 | 8.19382     | 27.02s       |</pre>"
            ],
            "text/plain": [
              "| 245          | 4.8e+07 | 8.19382     | 27.02s       |"
            ]
          },
          "metadata": {
            "tags": []
          }
        },
        {
          "output_type": "display_data",
          "data": {
            "text/html": [
              "<pre>| 273          | 5.3e+07 | 9.11202     | 30.02s       |</pre>"
            ],
            "text/plain": [
              "| 273          | 5.3e+07 | 9.11202     | 30.02s       |"
            ]
          },
          "metadata": {
            "tags": []
          }
        },
        {
          "output_type": "display_data",
          "data": {
            "text/html": [
              "<pre>| 300          | 5.8e+07 | 10.0277     | 33.02s       |</pre>"
            ],
            "text/plain": [
              "| 300          | 5.8e+07 | 10.0277     | 33.02s       |"
            ]
          },
          "metadata": {
            "tags": []
          }
        },
        {
          "output_type": "display_data",
          "data": {
            "text/html": [
              "<pre>| 328          | 6.4e+07 | 10.9371     | 36.02s       |</pre>"
            ],
            "text/plain": [
              "| 328          | 6.4e+07 | 10.9371     | 36.02s       |"
            ]
          },
          "metadata": {
            "tags": []
          }
        },
        {
          "output_type": "display_data",
          "data": {
            "text/html": [
              "<pre>| 355          | 6.9e+07 | 11.8517     | 39.02s       |</pre>"
            ],
            "text/plain": [
              "| 355          | 6.9e+07 | 11.8517     | 39.02s       |"
            ]
          },
          "metadata": {
            "tags": []
          }
        },
        {
          "output_type": "display_data",
          "data": {
            "text/html": [
              "<pre>| 383          | 7.4e+07 | 12.7812     | 42.02s       |</pre>"
            ],
            "text/plain": [
              "| 383          | 7.4e+07 | 12.7812     | 42.02s       |"
            ]
          },
          "metadata": {
            "tags": []
          }
        },
        {
          "output_type": "display_data",
          "data": {
            "text/html": [
              "<pre>| 410          | 8e+07   | 13.6758     | 45.02s       |</pre>"
            ],
            "text/plain": [
              "| 410          | 8e+07   | 13.6758     | 45.02s       |"
            ]
          },
          "metadata": {
            "tags": []
          }
        },
        {
          "output_type": "display_data",
          "data": {
            "text/html": [
              "<pre>| 438          | 8.5e+07 | 14.6001     | 48.02s       |</pre>"
            ],
            "text/plain": [
              "| 438          | 8.5e+07 | 14.6001     | 48.02s       |"
            ]
          },
          "metadata": {
            "tags": []
          }
        },
        {
          "output_type": "display_data",
          "data": {
            "text/html": [
              "<pre>| 465          | 9e+07   | 15.5225     | 51.02s       |</pre>"
            ],
            "text/plain": [
              "| 465          | 9e+07   | 15.5225     | 51.02s       |"
            ]
          },
          "metadata": {
            "tags": []
          }
        },
        {
          "output_type": "display_data",
          "data": {
            "text/html": [
              "<pre>| 492          | 9.6e+07 | 16.4283     | 54.03s       |</pre>"
            ],
            "text/plain": [
              "| 492          | 9.6e+07 | 16.4283     | 54.03s       |"
            ]
          },
          "metadata": {
            "tags": []
          }
        },
        {
          "output_type": "display_data",
          "data": {
            "text/html": [
              "<pre>| 520          | 1e+08   | 17.3434     | 57.02s       |</pre>"
            ],
            "text/plain": [
              "| 520          | 1e+08   | 17.3434     | 57.02s       |"
            ]
          },
          "metadata": {
            "tags": []
          }
        },
        {
          "output_type": "display_data",
          "data": {
            "text/html": [
              "<pre>| 547          | 1.1e+08 | 18.2611     | 1m 0s        |</pre>"
            ],
            "text/plain": [
              "| 547          | 1.1e+08 | 18.2611     | 1m 0s        |"
            ]
          },
          "metadata": {
            "tags": []
          }
        },
        {
          "output_type": "display_data",
          "data": {
            "text/html": [
              "<pre>| 575          | 1.1e+08 | 19.1798     | 1m 3s        |</pre>"
            ],
            "text/plain": [
              "| 575          | 1.1e+08 | 19.1798     | 1m 3s        |"
            ]
          },
          "metadata": {
            "tags": []
          }
        },
        {
          "output_type": "display_data",
          "data": {
            "text/html": [
              "<pre>| 602          | 1.2e+08 | 20.0939     | 1m 6s        |</pre>"
            ],
            "text/plain": [
              "| 602          | 1.2e+08 | 20.0939     | 1m 6s        |"
            ]
          },
          "metadata": {
            "tags": []
          }
        },
        {
          "output_type": "display_data",
          "data": {
            "text/html": [
              "<pre>| 630          | 1.2e+08 | 21.0065     | 1m 9s        |</pre>"
            ],
            "text/plain": [
              "| 630          | 1.2e+08 | 21.0065     | 1m 9s        |"
            ]
          },
          "metadata": {
            "tags": []
          }
        },
        {
          "output_type": "display_data",
          "data": {
            "text/html": [
              "<pre>| 657          | 1.3e+08 | 21.9216     | 1m 12s       |</pre>"
            ],
            "text/plain": [
              "| 657          | 1.3e+08 | 21.9216     | 1m 12s       |"
            ]
          },
          "metadata": {
            "tags": []
          }
        },
        {
          "output_type": "display_data",
          "data": {
            "text/html": [
              "<pre>| 685          | 1.3e+08 | 22.8439     | 1m 15s       |</pre>"
            ],
            "text/plain": [
              "| 685          | 1.3e+08 | 22.8439     | 1m 15s       |"
            ]
          },
          "metadata": {
            "tags": []
          }
        },
        {
          "output_type": "display_data",
          "data": {
            "text/html": [
              "<pre>| 712          | 1.4e+08 | 23.7492     | 1m 18s       |</pre>"
            ],
            "text/plain": [
              "| 712          | 1.4e+08 | 23.7492     | 1m 18s       |"
            ]
          },
          "metadata": {
            "tags": []
          }
        },
        {
          "output_type": "display_data",
          "data": {
            "text/html": [
              "<pre>| 740          | 1.4e+08 | 24.6695     | 1m 21s       |</pre>"
            ],
            "text/plain": [
              "| 740          | 1.4e+08 | 24.6695     | 1m 21s       |"
            ]
          },
          "metadata": {
            "tags": []
          }
        },
        {
          "output_type": "display_data",
          "data": {
            "text/html": [
              "<pre>| 767          | 1.5e+08 | 25.5676     | 1m 24s       |</pre>"
            ],
            "text/plain": [
              "| 767          | 1.5e+08 | 25.5676     | 1m 24s       |"
            ]
          },
          "metadata": {
            "tags": []
          }
        },
        {
          "output_type": "display_data",
          "data": {
            "text/html": [
              "<pre>| 794          | 1.5e+08 | 26.4755     | 1m 27s       |</pre>"
            ],
            "text/plain": [
              "| 794          | 1.5e+08 | 26.4755     | 1m 27s       |"
            ]
          },
          "metadata": {
            "tags": []
          }
        },
        {
          "output_type": "display_data",
          "data": {
            "text/html": [
              "<pre>| 821          | 1.6e+08 | 27.3917     | 1m 30s       |</pre>"
            ],
            "text/plain": [
              "| 821          | 1.6e+08 | 27.3917     | 1m 30s       |"
            ]
          },
          "metadata": {
            "tags": []
          }
        },
        {
          "output_type": "display_data",
          "data": {
            "text/html": [
              "<pre>| 848          | 1.6e+08 | 28.2903     | 1m 33s       |</pre>"
            ],
            "text/plain": [
              "| 848          | 1.6e+08 | 28.2903     | 1m 33s       |"
            ]
          },
          "metadata": {
            "tags": []
          }
        },
        {
          "output_type": "display_data",
          "data": {
            "text/html": [
              "<pre>| 876          | 1.7e+08 | 29.2199     | 1m 36s       |</pre>"
            ],
            "text/plain": [
              "| 876          | 1.7e+08 | 29.2199     | 1m 36s       |"
            ]
          },
          "metadata": {
            "tags": []
          }
        },
        {
          "output_type": "display_data",
          "data": {
            "text/html": [
              "<pre>| 904          | 1.8e+08 | 30.1355     | 1m 39s       |</pre>"
            ],
            "text/plain": [
              "| 904          | 1.8e+08 | 30.1355     | 1m 39s       |"
            ]
          },
          "metadata": {
            "tags": []
          }
        },
        {
          "output_type": "display_data",
          "data": {
            "text/html": [
              "<pre>| 931          | 1.8e+08 | 31.0558     | 1m 42s       |</pre>"
            ],
            "text/plain": [
              "| 931          | 1.8e+08 | 31.0558     | 1m 42s       |"
            ]
          },
          "metadata": {
            "tags": []
          }
        },
        {
          "output_type": "display_data",
          "data": {
            "text/html": [
              "<pre>| 959          | 1.9e+08 | 31.9848     | 1m 45s       |</pre>"
            ],
            "text/plain": [
              "| 959          | 1.9e+08 | 31.9848     | 1m 45s       |"
            ]
          },
          "metadata": {
            "tags": []
          }
        },
        {
          "output_type": "display_data",
          "data": {
            "text/html": [
              "<pre>| 987          | 1.9e+08 | 32.9159     | 1m 48s       |</pre>"
            ],
            "text/plain": [
              "| 987          | 1.9e+08 | 32.9159     | 1m 48s       |"
            ]
          },
          "metadata": {
            "tags": []
          }
        },
        {
          "output_type": "display_data",
          "data": {
            "text/html": [
              "<pre>| 1015         | 2e+08   | 33.8536     | 1m 51s       |</pre>"
            ],
            "text/plain": [
              "| 1015         | 2e+08   | 33.8536     | 1m 51s       |"
            ]
          },
          "metadata": {
            "tags": []
          }
        },
        {
          "output_type": "display_data",
          "data": {
            "text/html": [
              "<pre>| 1043         | 2e+08   | 34.7904     | 1m 54s       |</pre>"
            ],
            "text/plain": [
              "| 1043         | 2e+08   | 34.7904     | 1m 54s       |"
            ]
          },
          "metadata": {
            "tags": []
          }
        },
        {
          "output_type": "display_data",
          "data": {
            "text/html": [
              "<pre>| 1072         | 2.1e+08 | 35.7441     | 1m 57s       |</pre>"
            ],
            "text/plain": [
              "| 1072         | 2.1e+08 | 35.7441     | 1m 57s       |"
            ]
          },
          "metadata": {
            "tags": []
          }
        },
        {
          "output_type": "display_data",
          "data": {
            "text/html": [
              "<pre>| 1100         | 2.1e+08 | 36.6917     | 2m 0s        |</pre>"
            ],
            "text/plain": [
              "| 1100         | 2.1e+08 | 36.6917     | 2m 0s        |"
            ]
          },
          "metadata": {
            "tags": []
          }
        },
        {
          "output_type": "display_data",
          "data": {
            "text/html": [
              "<pre>| 1128         | 2.2e+08 | 37.6217     | 2m 3s        |</pre>"
            ],
            "text/plain": [
              "| 1128         | 2.2e+08 | 37.6217     | 2m 3s        |"
            ]
          },
          "metadata": {
            "tags": []
          }
        },
        {
          "output_type": "display_data",
          "data": {
            "text/html": [
              "<pre>| 1156         | 2.2e+08 | 38.5518     | 2m 6s        |</pre>"
            ],
            "text/plain": [
              "| 1156         | 2.2e+08 | 38.5518     | 2m 6s        |"
            ]
          },
          "metadata": {
            "tags": []
          }
        },
        {
          "output_type": "display_data",
          "data": {
            "text/html": [
              "<pre>| 1184         |         | 39.4813     | 2m 9s        |</pre>"
            ],
            "text/plain": [
              "| 1184         |         | 39.4813     | 2m 9s        |"
            ]
          },
          "metadata": {
            "tags": []
          }
        },
        {
          "output_type": "display_data",
          "data": {
            "text/html": [
              "<pre>| 1212         | 2.4e+08 | 40.4155     | 2m 12s       |</pre>"
            ],
            "text/plain": [
              "| 1212         | 2.4e+08 | 40.4155     | 2m 12s       |"
            ]
          },
          "metadata": {
            "tags": []
          }
        },
        {
          "output_type": "display_data",
          "data": {
            "text/html": [
              "<pre>| 1240         | 2.4e+08 | 41.3491     | 2m 15s       |</pre>"
            ],
            "text/plain": [
              "| 1240         | 2.4e+08 | 41.3491     | 2m 15s       |"
            ]
          },
          "metadata": {
            "tags": []
          }
        },
        {
          "output_type": "display_data",
          "data": {
            "text/html": [
              "<pre>| 1268         | 2.5e+08 | 42.2879     | 2m 18s       |</pre>"
            ],
            "text/plain": [
              "| 1268         | 2.5e+08 | 42.2879     | 2m 18s       |"
            ]
          },
          "metadata": {
            "tags": []
          }
        },
        {
          "output_type": "display_data",
          "data": {
            "text/html": [
              "<pre>| 1296         | 2.5e+08 | 43.2154     | 2m 21s       |</pre>"
            ],
            "text/plain": [
              "| 1296         | 2.5e+08 | 43.2154     | 2m 21s       |"
            ]
          },
          "metadata": {
            "tags": []
          }
        },
        {
          "output_type": "display_data",
          "data": {
            "text/html": [
              "<pre>| 1324         | 2.6e+08 | 44.1388     | 2m 24s       |</pre>"
            ],
            "text/plain": [
              "| 1324         | 2.6e+08 | 44.1388     | 2m 24s       |"
            ]
          },
          "metadata": {
            "tags": []
          }
        },
        {
          "output_type": "display_data",
          "data": {
            "text/html": [
              "<pre>| 1351         | 2.6e+08 | 45.0601     | 2m 27s       |</pre>"
            ],
            "text/plain": [
              "| 1351         | 2.6e+08 | 45.0601     | 2m 27s       |"
            ]
          },
          "metadata": {
            "tags": []
          }
        },
        {
          "output_type": "display_data",
          "data": {
            "text/html": [
              "<pre>| 1379         | 2.7e+08 | 45.9958     | 2m 30s       |</pre>"
            ],
            "text/plain": [
              "| 1379         | 2.7e+08 | 45.9958     | 2m 30s       |"
            ]
          },
          "metadata": {
            "tags": []
          }
        },
        {
          "output_type": "display_data",
          "data": {
            "text/html": [
              "<pre>| 1408         | 2.7e+08 | 46.9377     | 2m 33s       |</pre>"
            ],
            "text/plain": [
              "| 1408         | 2.7e+08 | 46.9377     | 2m 33s       |"
            ]
          },
          "metadata": {
            "tags": []
          }
        },
        {
          "output_type": "display_data",
          "data": {
            "text/html": [
              "<pre>| 1435         | 2.8e+08 | 47.8538     | 2m 36s       |</pre>"
            ],
            "text/plain": [
              "| 1435         | 2.8e+08 | 47.8538     | 2m 36s       |"
            ]
          },
          "metadata": {
            "tags": []
          }
        },
        {
          "output_type": "display_data",
          "data": {
            "text/html": [
              "<pre>| 1463         | 2.8e+08 | 48.788      | 2m 39s       |</pre>"
            ],
            "text/plain": [
              "| 1463         | 2.8e+08 | 48.788      | 2m 39s       |"
            ]
          },
          "metadata": {
            "tags": []
          }
        },
        {
          "output_type": "display_data",
          "data": {
            "text/html": [
              "<pre>| 1491         | 2.9e+08 | 49.7273     | 2m 42s       |</pre>"
            ],
            "text/plain": [
              "| 1491         | 2.9e+08 | 49.7273     | 2m 42s       |"
            ]
          },
          "metadata": {
            "tags": []
          }
        },
        {
          "output_type": "display_data",
          "data": {
            "text/html": [
              "<pre>| 1520         | 3e+08   | 50.6672     | 2m 45s       |</pre>"
            ],
            "text/plain": [
              "| 1520         | 3e+08   | 50.6672     | 2m 45s       |"
            ]
          },
          "metadata": {
            "tags": []
          }
        },
        {
          "output_type": "display_data",
          "data": {
            "text/html": [
              "<pre>| 1548         | 3e+08   | 51.6054     | 2m 48s       |</pre>"
            ],
            "text/plain": [
              "| 1548         | 3e+08   | 51.6054     | 2m 48s       |"
            ]
          },
          "metadata": {
            "tags": []
          }
        },
        {
          "output_type": "display_data",
          "data": {
            "text/html": [
              "<pre>| 1575         | 3.1e+08 | 52.5288     | 2m 51s       |</pre>"
            ],
            "text/plain": [
              "| 1575         | 3.1e+08 | 52.5288     | 2m 51s       |"
            ]
          },
          "metadata": {
            "tags": []
          }
        },
        {
          "output_type": "display_data",
          "data": {
            "text/html": [
              "<pre>| 1604         | 3.1e+08 | 53.4681     | 2m 54s       |</pre>"
            ],
            "text/plain": [
              "| 1604         | 3.1e+08 | 53.4681     | 2m 54s       |"
            ]
          },
          "metadata": {
            "tags": []
          }
        },
        {
          "output_type": "display_data",
          "data": {
            "text/html": [
              "<pre>| 1632         | 3.2e+08 | 54.4038     | 2m 57s       |</pre>"
            ],
            "text/plain": [
              "| 1632         | 3.2e+08 | 54.4038     | 2m 57s       |"
            ]
          },
          "metadata": {
            "tags": []
          }
        },
        {
          "output_type": "display_data",
          "data": {
            "text/html": [
              "<pre>| 1660         | 3.2e+08 | 55.3493     | 3m 0s        |</pre>"
            ],
            "text/plain": [
              "| 1660         | 3.2e+08 | 55.3493     | 3m 0s        |"
            ]
          },
          "metadata": {
            "tags": []
          }
        },
        {
          "output_type": "display_data",
          "data": {
            "text/html": [
              "<pre>| 1688         | 3.3e+08 | 56.2907     | 3m 3s        |</pre>"
            ],
            "text/plain": [
              "| 1688         | 3.3e+08 | 56.2907     | 3m 3s        |"
            ]
          },
          "metadata": {
            "tags": []
          }
        },
        {
          "output_type": "display_data",
          "data": {
            "text/html": [
              "<pre>| 1716         | 3.3e+08 | 57.2321     | 3m 6s        |</pre>"
            ],
            "text/plain": [
              "| 1716         | 3.3e+08 | 57.2321     | 3m 6s        |"
            ]
          },
          "metadata": {
            "tags": []
          }
        },
        {
          "output_type": "display_data",
          "data": {
            "text/html": [
              "<pre>| 1744         | 3.4e+08 | 58.1663     | 3m 9s        |</pre>"
            ],
            "text/plain": [
              "| 1744         | 3.4e+08 | 58.1663     | 3m 9s        |"
            ]
          },
          "metadata": {
            "tags": []
          }
        },
        {
          "output_type": "display_data",
          "data": {
            "text/html": [
              "<pre>| 1772         | 3.4e+08 | 59.0886     | 3m 12s       |</pre>"
            ],
            "text/plain": [
              "| 1772         | 3.4e+08 | 59.0886     | 3m 12s       |"
            ]
          },
          "metadata": {
            "tags": []
          }
        },
        {
          "output_type": "display_data",
          "data": {
            "text/html": [
              "<pre>| 1800         | 3.5e+08 | 60.0279     | 3m 15s       |</pre>"
            ],
            "text/plain": [
              "| 1800         | 3.5e+08 | 60.0279     | 3m 15s       |"
            ]
          },
          "metadata": {
            "tags": []
          }
        },
        {
          "output_type": "display_data",
          "data": {
            "text/html": [
              "<pre>| 1828         | 3.6e+08 | 60.9662     | 3m 18s       |</pre>"
            ],
            "text/plain": [
              "| 1828         | 3.6e+08 | 60.9662     | 3m 18s       |"
            ]
          },
          "metadata": {
            "tags": []
          }
        },
        {
          "output_type": "display_data",
          "data": {
            "text/html": [
              "<pre>| 1856         | 3.6e+08 | 61.8896     | 3m 21s       |</pre>"
            ],
            "text/plain": [
              "| 1856         | 3.6e+08 | 61.8896     | 3m 21s       |"
            ]
          },
          "metadata": {
            "tags": []
          }
        },
        {
          "output_type": "display_data",
          "data": {
            "text/html": [
              "<pre>| 1884         | 3.7e+08 | 62.8242     | 3m 24s       |</pre>"
            ],
            "text/plain": [
              "| 1884         | 3.7e+08 | 62.8242     | 3m 24s       |"
            ]
          },
          "metadata": {
            "tags": []
          }
        },
        {
          "output_type": "display_data",
          "data": {
            "text/html": [
              "<pre>| 1912         | 3.7e+08 | 63.7615     | 3m 27s       |</pre>"
            ],
            "text/plain": [
              "| 1912         | 3.7e+08 | 63.7615     | 3m 27s       |"
            ]
          },
          "metadata": {
            "tags": []
          }
        },
        {
          "output_type": "display_data",
          "data": {
            "text/html": [
              "<pre>| 1940         | 3.8e+08 | 64.6895     | 3m 30s       |</pre>"
            ],
            "text/plain": [
              "| 1940         | 3.8e+08 | 64.6895     | 3m 30s       |"
            ]
          },
          "metadata": {
            "tags": []
          }
        },
        {
          "output_type": "display_data",
          "data": {
            "text/html": [
              "<pre>| 1968         | 3.8e+08 | 65.6206     | 3m 33s       |</pre>"
            ],
            "text/plain": [
              "| 1968         | 3.8e+08 | 65.6206     | 3m 33s       |"
            ]
          },
          "metadata": {
            "tags": []
          }
        },
        {
          "output_type": "display_data",
          "data": {
            "text/html": [
              "<pre>| 1995         | 3.9e+08 | 66.5311     | 3m 36s       |</pre>"
            ],
            "text/plain": [
              "| 1995         | 3.9e+08 | 66.5311     | 3m 36s       |"
            ]
          },
          "metadata": {
            "tags": []
          }
        },
        {
          "output_type": "display_data",
          "data": {
            "text/html": [
              "<pre>| 2023         | 3.9e+08 | 67.4472     | 3m 39s       |</pre>"
            ],
            "text/plain": [
              "| 2023         | 3.9e+08 | 67.4472     | 3m 39s       |"
            ]
          },
          "metadata": {
            "tags": []
          }
        },
        {
          "output_type": "display_data",
          "data": {
            "text/html": [
              "<pre>| 2050         | 4e+08   | 68.3494     | 3m 42s       |</pre>"
            ],
            "text/plain": [
              "| 2050         | 4e+08   | 68.3494     | 3m 42s       |"
            ]
          },
          "metadata": {
            "tags": []
          }
        },
        {
          "output_type": "display_data",
          "data": {
            "text/html": [
              "<pre>| 2077         | 4e+08   | 69.2527     | 3m 45s       |</pre>"
            ],
            "text/plain": [
              "| 2077         | 4e+08   | 69.2527     | 3m 45s       |"
            ]
          },
          "metadata": {
            "tags": []
          }
        },
        {
          "output_type": "display_data",
          "data": {
            "text/html": [
              "<pre>| 2104         | 4.1e+08 | 70.1622     | 3m 48s       |</pre>"
            ],
            "text/plain": [
              "| 2104         | 4.1e+08 | 70.1622     | 3m 48s       |"
            ]
          },
          "metadata": {
            "tags": []
          }
        },
        {
          "output_type": "display_data",
          "data": {
            "text/html": [
              "<pre>| 2132         | 4.1e+08 | 71.0927     | 3m 51s       |</pre>"
            ],
            "text/plain": [
              "| 2132         | 4.1e+08 | 71.0927     | 3m 51s       |"
            ]
          },
          "metadata": {
            "tags": []
          }
        },
        {
          "output_type": "display_data",
          "data": {
            "text/html": [
              "<pre>| 2160         | 4.2e+08 | 72.0202     | 3m 54s       |</pre>"
            ],
            "text/plain": [
              "| 2160         | 4.2e+08 | 72.0202     | 3m 54s       |"
            ]
          },
          "metadata": {
            "tags": []
          }
        },
        {
          "output_type": "display_data",
          "data": {
            "text/html": [
              "<pre>| 2188         | 4.2e+08 | 72.9508     | 3m 57s       |</pre>"
            ],
            "text/plain": [
              "| 2188         | 4.2e+08 | 72.9508     | 3m 57s       |"
            ]
          },
          "metadata": {
            "tags": []
          }
        },
        {
          "output_type": "display_data",
          "data": {
            "text/html": [
              "<pre>| 2215         | 4.3e+08 | 73.8628     | 4m 0s        |</pre>"
            ],
            "text/plain": [
              "| 2215         | 4.3e+08 | 73.8628     | 4m 0s        |"
            ]
          },
          "metadata": {
            "tags": []
          }
        },
        {
          "output_type": "display_data",
          "data": {
            "text/html": [
              "<pre>| 2243         | 4.4e+08 | 74.7759     | 4m 3s        |</pre>"
            ],
            "text/plain": [
              "| 2243         | 4.4e+08 | 74.7759     | 4m 3s        |"
            ]
          },
          "metadata": {
            "tags": []
          }
        },
        {
          "output_type": "display_data",
          "data": {
            "text/html": [
              "<pre>| 2270         | 4.4e+08 | 75.6966     | 4m 6s        |</pre>"
            ],
            "text/plain": [
              "| 2270         | 4.4e+08 | 75.6966     | 4m 6s        |"
            ]
          },
          "metadata": {
            "tags": []
          }
        },
        {
          "output_type": "display_data",
          "data": {
            "text/html": [
              "<pre>| 2298         | 4.5e+08 | 76.6148     | 4m 9s        |</pre>"
            ],
            "text/plain": [
              "| 2298         | 4.5e+08 | 76.6148     | 4m 9s        |"
            ]
          },
          "metadata": {
            "tags": []
          }
        },
        {
          "output_type": "display_data",
          "data": {
            "text/html": [
              "<pre>| 2326         | 4.5e+08 | 77.5408     | 4m 12s       |</pre>"
            ],
            "text/plain": [
              "| 2326         | 4.5e+08 | 77.5408     | 4m 12s       |"
            ]
          },
          "metadata": {
            "tags": []
          }
        },
        {
          "output_type": "display_data",
          "data": {
            "text/html": [
              "<pre>| 2354         | 4.6e+08 | 78.4816     | 4m 15s       |</pre>"
            ],
            "text/plain": [
              "| 2354         | 4.6e+08 | 78.4816     | 4m 15s       |"
            ]
          },
          "metadata": {
            "tags": []
          }
        },
        {
          "output_type": "display_data",
          "data": {
            "text/html": [
              "<pre>| 2382         | 4.6e+08 | 79.4076     | 4m 18s       |</pre>"
            ],
            "text/plain": [
              "| 2382         | 4.6e+08 | 79.4076     | 4m 18s       |"
            ]
          },
          "metadata": {
            "tags": []
          }
        },
        {
          "output_type": "display_data",
          "data": {
            "text/html": [
              "<pre>| 2410         | 4.7e+08 | 80.3371     | 4m 21s       |</pre>"
            ],
            "text/plain": [
              "| 2410         | 4.7e+08 | 80.3371     | 4m 21s       |"
            ]
          },
          "metadata": {
            "tags": []
          }
        },
        {
          "output_type": "display_data",
          "data": {
            "text/html": [
              "<pre>| 2437         | 4.7e+08 | 81.261      | 4m 24s       |</pre>"
            ],
            "text/plain": [
              "| 2437         | 4.7e+08 | 81.261      | 4m 24s       |"
            ]
          },
          "metadata": {
            "tags": []
          }
        },
        {
          "output_type": "display_data",
          "data": {
            "text/html": [
              "<pre>| 2466         | 4.8e+08 | 82.2121     | 4m 27s       |</pre>"
            ],
            "text/plain": [
              "| 2466         | 4.8e+08 | 82.2121     | 4m 27s       |"
            ]
          },
          "metadata": {
            "tags": []
          }
        },
        {
          "output_type": "display_data",
          "data": {
            "text/html": [
              "<pre>| 2494         | 4.8e+08 | 83.1484     | 4m 30s       |</pre>"
            ],
            "text/plain": [
              "| 2494         | 4.8e+08 | 83.1484     | 4m 30s       |"
            ]
          },
          "metadata": {
            "tags": []
          }
        },
        {
          "output_type": "display_data",
          "data": {
            "text/html": [
              "<pre>| 2522         | 4.9e+08 | 84.0851     | 4m 33s       |</pre>"
            ],
            "text/plain": [
              "| 2522         | 4.9e+08 | 84.0851     | 4m 33s       |"
            ]
          },
          "metadata": {
            "tags": []
          }
        },
        {
          "output_type": "display_data",
          "data": {
            "text/html": [
              "<pre>| 2550         | 5e+08   | 85.0198     | 4m 36s       |</pre>"
            ],
            "text/plain": [
              "| 2550         | 5e+08   | 85.0198     | 4m 36s       |"
            ]
          },
          "metadata": {
            "tags": []
          }
        },
        {
          "output_type": "display_data",
          "data": {
            "text/html": [
              "<pre>| 2578         | 5e+08   | 85.9519     | 4m 39s       |</pre>"
            ],
            "text/plain": [
              "| 2578         | 5e+08   | 85.9519     | 4m 39s       |"
            ]
          },
          "metadata": {
            "tags": []
          }
        },
        {
          "output_type": "display_data",
          "data": {
            "text/html": [
              "<pre>| 2606         | 5.1e+08 | 86.8897     | 4m 42s       |</pre>"
            ],
            "text/plain": [
              "| 2606         | 5.1e+08 | 86.8897     | 4m 42s       |"
            ]
          },
          "metadata": {
            "tags": []
          }
        },
        {
          "output_type": "display_data",
          "data": {
            "text/html": [
              "<pre>| 2634         | 5.1e+08 | 87.8254     | 4m 45s       |</pre>"
            ],
            "text/plain": [
              "| 2634         | 5.1e+08 | 87.8254     | 4m 45s       |"
            ]
          },
          "metadata": {
            "tags": []
          }
        },
        {
          "output_type": "display_data",
          "data": {
            "text/html": [
              "<pre>| 2662         | 5.2e+08 | 88.7658     | 4m 48s       |</pre>"
            ],
            "text/plain": [
              "| 2662         | 5.2e+08 | 88.7658     | 4m 48s       |"
            ]
          },
          "metadata": {
            "tags": []
          }
        },
        {
          "output_type": "display_data",
          "data": {
            "text/html": [
              "<pre>| 2690         | 5.2e+08 | 89.6984     | 4m 51s       |</pre>"
            ],
            "text/plain": [
              "| 2690         | 5.2e+08 | 89.6984     | 4m 51s       |"
            ]
          },
          "metadata": {
            "tags": []
          }
        },
        {
          "output_type": "display_data",
          "data": {
            "text/html": [
              "<pre>| 2718         | 5.3e+08 | 90.6222     | 4m 54s       |</pre>"
            ],
            "text/plain": [
              "| 2718         | 5.3e+08 | 90.6222     | 4m 54s       |"
            ]
          },
          "metadata": {
            "tags": []
          }
        },
        {
          "output_type": "display_data",
          "data": {
            "text/html": [
              "<pre>| 2746         | 5.3e+08 | 91.5652     | 4m 57s       |</pre>"
            ],
            "text/plain": [
              "| 2746         | 5.3e+08 | 91.5652     | 4m 57s       |"
            ]
          },
          "metadata": {
            "tags": []
          }
        },
        {
          "output_type": "display_data",
          "data": {
            "text/html": [
              "<pre>| 2775         | 5.4e+08 | 92.5071     | 5m 0s        |</pre>"
            ],
            "text/plain": [
              "| 2775         | 5.4e+08 | 92.5071     | 5m 0s        |"
            ]
          },
          "metadata": {
            "tags": []
          }
        },
        {
          "output_type": "display_data",
          "data": {
            "text/html": [
              "<pre>| 2803         | 5.4e+08 | 93.4366     | 5m 3s        |</pre>"
            ],
            "text/plain": [
              "| 2803         | 5.4e+08 | 93.4366     | 5m 3s        |"
            ]
          },
          "metadata": {
            "tags": []
          }
        },
        {
          "output_type": "display_data",
          "data": {
            "text/html": [
              "<pre>| 2831         | 5.5e+08 | 94.3764     | 5m 6s        |</pre>"
            ],
            "text/plain": [
              "| 2831         | 5.5e+08 | 94.3764     | 5m 6s        |"
            ]
          },
          "metadata": {
            "tags": []
          }
        },
        {
          "output_type": "display_data",
          "data": {
            "text/html": [
              "<pre>| 2859         | 5.6e+08 | 95.3122     | 5m 9s        |</pre>"
            ],
            "text/plain": [
              "| 2859         | 5.6e+08 | 95.3122     | 5m 9s        |"
            ]
          },
          "metadata": {
            "tags": []
          }
        },
        {
          "output_type": "display_data",
          "data": {
            "text/html": [
              "<pre>| 2887         | 5.6e+08 | 96.2582     | 5m 12s       |</pre>"
            ],
            "text/plain": [
              "| 2887         | 5.6e+08 | 96.2582     | 5m 12s       |"
            ]
          },
          "metadata": {
            "tags": []
          }
        },
        {
          "output_type": "display_data",
          "data": {
            "text/html": [
              "<pre>| 2915         | 5.7e+08 | 97.1959     | 5m 15s       |</pre>"
            ],
            "text/plain": [
              "| 2915         | 5.7e+08 | 97.1959     | 5m 15s       |"
            ]
          },
          "metadata": {
            "tags": []
          }
        },
        {
          "output_type": "display_data",
          "data": {
            "text/html": [
              "<pre>| 2943         | 5.7e+08 | 98.1085     | 5m 18s       |</pre>"
            ],
            "text/plain": [
              "| 2943         | 5.7e+08 | 98.1085     | 5m 18s       |"
            ]
          },
          "metadata": {
            "tags": []
          }
        },
        {
          "output_type": "display_data",
          "data": {
            "text/html": [
              "<pre>| 2971         | 5.8e+08 | 99.038      | 5m 21s       |</pre>"
            ],
            "text/plain": [
              "| 2971         | 5.8e+08 | 99.038      | 5m 21s       |"
            ]
          },
          "metadata": {
            "tags": []
          }
        },
        {
          "output_type": "display_data",
          "data": {
            "text/html": [
              "<pre>| 2997         | 5.8e+08 | 99.9027     | 5m 24s       |</pre>"
            ],
            "text/plain": [
              "| 2997         | 5.8e+08 | 99.9027     | 5m 24s       |"
            ]
          },
          "metadata": {
            "tags": []
          }
        },
        {
          "output_type": "display_data",
          "data": {
            "text/html": [
              "<pre>| Done         |         | 100         | 5m 24s       |</pre>"
            ],
            "text/plain": [
              "| Done         |         | 100         | 5m 24s       |"
            ]
          },
          "metadata": {
            "tags": []
          }
        },
        {
          "output_type": "display_data",
          "data": {
            "text/html": [
              "<pre>+--------------+---------+-------------+--------------+</pre>"
            ],
            "text/plain": [
              "+--------------+---------+-------------+--------------+"
            ]
          },
          "metadata": {
            "tags": []
          }
        },
        {
          "output_type": "stream",
          "text": [
            "{'accuracy': 0.4713333333333333}\n"
          ],
          "name": "stdout"
        }
      ]
    },
    {
      "metadata": {
        "id": "IfG3Ov27Apx9",
        "colab_type": "text"
      },
      "cell_type": "markdown",
      "source": [
        "# The Gradient Boosted Regression Tree\n",
        "\n",
        "The Gradient Boosted Regression Trees (GBRT) model (also called Gradient Boosted Machine or GBM), is one of the most effective machine learning models for predictive analytics, making it the industrial workhorse for machine learning. \n",
        "\n",
        "The prediction is based on a collection of base learners i.e decision tree classifiers and combines them through a technique called gradient boosting.\n",
        "\n",
        "Different from linear models like logistic regression or SVM, gradient boost trees can model non-linear interactions between the features and the target. This model is suitable for handling numerical features and categorical features with tens of categories but is less suitable for highly sparse features (text data), or with categorical variables that encode a large number of categories."
      ]
    },
    {
      "metadata": {
        "id": "GiJVKzwpBLQH",
        "colab_type": "text"
      },
      "cell_type": "markdown",
      "source": [
        "## Example for Mushrooms\n",
        "\n",
        "Although this dataset was originally contributed to the UCI Machine Learning repository nearly 30 years ago, mushroom hunting (otherwise known as \"shrooming\") is enjoying new peaks in popularity. Learn which features spell certain death and which are most palatable in this dataset of mushroom characteristics. And how certain can your model be?\n",
        "\n",
        "This dataset includes descriptions of hypothetical samples corresponding to 23 species of gilled mushrooms in the Agaricus and Lepiota Family Mushroom drawn from The Audubon Society Field Guide to North American Mushrooms (1981). Each species is identified as definitely edible, definitely poisonous, or of unknown edibility and not recommended. This latter class was combined with the poisonous one. The Guide clearly states that there is no simple rule for determining the edibility of a mushroom; no rule like \"leaflets three, let it be'' for Poisonous Oak and Ivy.\n",
        "\n",
        "Use UCI Mushroom dataset https://archive.ics.uci.edu/ml/datasets/mushroom\n",
        "\n",
        "### Attribute Information: \n",
        "\n",
        "(classes: edible=e, poisonous=p)\n",
        "\n",
        "cap-shape: bell=b,conical=c,convex=x,flat=f, knobbed=k,sunken=s\n",
        "\n",
        "cap-surface: fibrous=f,grooves=g,scaly=y,smooth=s\n",
        "\n",
        "cap-color: brown=n,buff=b,cinnamon=c,gray=g,green=r,pink=p,purple=u,red=e,white=w,yellow=y\n",
        "\n",
        "bruises: bruises=t,no=f\n",
        "\n",
        "odor: almond=a,anise=l,creosote=c,fishy=y,foul=f,musty=m,none=n,pungent=p,spicy=s\n",
        "\n",
        "gill-attachment: attached=a,descending=d,free=f,notched=n\n",
        "\n",
        "gill-spacing: close=c,crowded=w,distant=d\n",
        "\n",
        "gill-size: broad=b,narrow=n\n",
        "\n",
        "gill-color: black=k,brown=n,buff=b,chocolate=h,gray=g, green=r,orange=o,pink=p,purple=u,red=e,white=w,yellow=y\n",
        "\n",
        "stalk-shape: enlarging=e,tapering=t\n",
        "\n",
        "stalk-root: bulbous=b,club=c,cup=u,equal=e,rhizomorphs=z,rooted=r,missing=?\n",
        "\n",
        "stalk-surface-above-ring: fibrous=f,scaly=y,silky=k,smooth=s\n",
        "\n",
        "stalk-surface-below-ring: fibrous=f,scaly=y,silky=k,smooth=s\n",
        "\n",
        "stalk-color-above-ring: brown=n,buff=b,cinnamon=c,gray=g,orange=o,pink=p,red=e,white=w,yellow=y\n",
        "\n",
        "stalk-color-below-ring: brown=n,buff=b,cinnamon=c,gray=g,orange=o,pink=p,red=e,white=w,yellow=y\n",
        "\n",
        "veil-type: partial=p,universal=u\n",
        "\n",
        "veil-color: brown=n,orange=o,white=w,yellow=y\n",
        "\n",
        "ring-number: none=n,one=o,two=t\n",
        "\n",
        "ring-type: cobwebby=c,evanescent=e,flaring=f,large=l,none=n,pendant=p,sheathing=s,zone=z\n",
        "\n",
        "spore-print-color: black=k,brown=n,buff=b,chocolate=h,green=r,orange=o,purple=u,white=w,yellow=y\n",
        "\n",
        "population: abundant=a,clustered=c,numerous=n,scattered=s,several=v,solitary=y\n",
        "\n",
        "habitat: grasses=g,leaves=l,meadows=m,paths=p,urban=u,waste=w,woods=d"
      ]
    },
    {
      "metadata": {
        "id": "ulXBzlIUBU4j",
        "colab_type": "code",
        "colab": {
          "base_uri": "https://localhost:8080/",
          "height": 215
        },
        "outputId": "5560992b-4d53-440e-b5f0-4e91eed5793b"
      },
      "cell_type": "code",
      "source": [
        "# Load the data\n",
        "mdata =  tc.SFrame('mushroom.csv')"
      ],
      "execution_count": 89,
      "outputs": [
        {
          "output_type": "display_data",
          "data": {
            "text/html": [
              "<pre>Finished parsing file /content/mushroom.csv</pre>"
            ],
            "text/plain": [
              "Finished parsing file /content/mushroom.csv"
            ]
          },
          "metadata": {
            "tags": []
          }
        },
        {
          "output_type": "display_data",
          "data": {
            "text/html": [
              "<pre>Parsing completed. Parsed 100 lines in 0.099019 secs.</pre>"
            ],
            "text/plain": [
              "Parsing completed. Parsed 100 lines in 0.099019 secs."
            ]
          },
          "metadata": {
            "tags": []
          }
        },
        {
          "output_type": "stream",
          "text": [
            "------------------------------------------------------\n",
            "Inferred types from first 100 line(s) of file as \n",
            "column_type_hints=[str,str,str,str,str,str,str,str,str,str,str,str,str,str,str,str,str,str,str,str,str,str,str]\n",
            "If parsing fails due to incorrect types, you can correct\n",
            "the inferred type list above and pass it to read_csv in\n",
            "the column_type_hints argument\n",
            "------------------------------------------------------\n"
          ],
          "name": "stdout"
        },
        {
          "output_type": "display_data",
          "data": {
            "text/html": [
              "<pre>Finished parsing file /content/mushroom.csv</pre>"
            ],
            "text/plain": [
              "Finished parsing file /content/mushroom.csv"
            ]
          },
          "metadata": {
            "tags": []
          }
        },
        {
          "output_type": "display_data",
          "data": {
            "text/html": [
              "<pre>Parsing completed. Parsed 8124 lines in 0.042349 secs.</pre>"
            ],
            "text/plain": [
              "Parsing completed. Parsed 8124 lines in 0.042349 secs."
            ]
          },
          "metadata": {
            "tags": []
          }
        }
      ]
    },
    {
      "metadata": {
        "id": "BroKvk1tF-dg",
        "colab_type": "code",
        "colab": {
          "base_uri": "https://localhost:8080/",
          "height": 55
        },
        "outputId": "40b92e98-06b3-482c-b2fe-fb7bb1ec40de"
      },
      "cell_type": "code",
      "source": [
        "# Label 'c' is edible\n",
        "mdata['edible'] = mdata['label'] == 'c'\n",
        "del mdata['label']\n",
        "print(mdata[0])"
      ],
      "execution_count": 90,
      "outputs": [
        {
          "output_type": "stream",
          "text": [
            "{'cap-shape': 'x', 'cap-surface': 's', 'cap-color': 'n', 'bruises?': 't', 'odor': 'p', 'gill-attachment': 'f', 'gill-spacing': 'c', 'gill-size': 'n', 'gill-color': 'k', 'stalk-shape': 'e', 'stalk-root': 'e', 'stalk-surface-above-ring': 's', 'stalk-surface-below-ring': 's', 'stalk-color-above-ring': 'w', 'stalk-color-below-ring': 'w', 'veil-color': 'w', 'ring-number': 'o', 'ring-type': 'p', 'spore-print-color': 'k', 'population': 's', 'habitat': 'u', 'veil-type': 'p', 'edible': 1}\n"
          ],
          "name": "stdout"
        }
      ]
    },
    {
      "metadata": {
        "id": "DIScBpXPC3ch",
        "colab_type": "code",
        "colab": {}
      },
      "cell_type": "code",
      "source": [
        "# Make a train-test split\n",
        "train_data, test_data = mdata.random_split(0.8)"
      ],
      "execution_count": 0,
      "outputs": []
    },
    {
      "metadata": {
        "id": "mo7tmu7oDBTl",
        "colab_type": "code",
        "colab": {
          "base_uri": "https://localhost:8080/",
          "height": 323
        },
        "outputId": "f7310163-0818-44b2-f349-98b2230be683"
      },
      "cell_type": "code",
      "source": [
        "# Create a model.\n",
        "model = tc.boosted_trees_classifier.create(train_data, target='edible',\n",
        "                                           max_iterations=4,\n",
        "                                           max_depth = 3)"
      ],
      "execution_count": 109,
      "outputs": [
        {
          "output_type": "stream",
          "text": [
            "PROGRESS: Creating a validation set from 5 percent of training data. This may take a while.\n",
            "          You can set ``validation_set=None`` to disable validation tracking.\n",
            "\n"
          ],
          "name": "stdout"
        },
        {
          "output_type": "display_data",
          "data": {
            "text/html": [
              "<pre>Boosted trees classifier:</pre>"
            ],
            "text/plain": [
              "Boosted trees classifier:"
            ]
          },
          "metadata": {
            "tags": []
          }
        },
        {
          "output_type": "display_data",
          "data": {
            "text/html": [
              "<pre>--------------------------------------------------------</pre>"
            ],
            "text/plain": [
              "--------------------------------------------------------"
            ]
          },
          "metadata": {
            "tags": []
          }
        },
        {
          "output_type": "display_data",
          "data": {
            "text/html": [
              "<pre>Number of examples          : 6160</pre>"
            ],
            "text/plain": [
              "Number of examples          : 6160"
            ]
          },
          "metadata": {
            "tags": []
          }
        },
        {
          "output_type": "display_data",
          "data": {
            "text/html": [
              "<pre>Number of classes           : 2</pre>"
            ],
            "text/plain": [
              "Number of classes           : 2"
            ]
          },
          "metadata": {
            "tags": []
          }
        },
        {
          "output_type": "display_data",
          "data": {
            "text/html": [
              "<pre>Number of feature columns   : 22</pre>"
            ],
            "text/plain": [
              "Number of feature columns   : 22"
            ]
          },
          "metadata": {
            "tags": []
          }
        },
        {
          "output_type": "display_data",
          "data": {
            "text/html": [
              "<pre>Number of unpacked features : 22</pre>"
            ],
            "text/plain": [
              "Number of unpacked features : 22"
            ]
          },
          "metadata": {
            "tags": []
          }
        },
        {
          "output_type": "display_data",
          "data": {
            "text/html": [
              "<pre>+-----------+--------------+-------------------+---------------------+-------------------+---------------------+</pre>"
            ],
            "text/plain": [
              "+-----------+--------------+-------------------+---------------------+-------------------+---------------------+"
            ]
          },
          "metadata": {
            "tags": []
          }
        },
        {
          "output_type": "display_data",
          "data": {
            "text/html": [
              "<pre>| Iteration | Elapsed Time | Training Accuracy | Validation Accuracy | Training Log Loss | Validation Log Loss |</pre>"
            ],
            "text/plain": [
              "| Iteration | Elapsed Time | Training Accuracy | Validation Accuracy | Training Log Loss | Validation Log Loss |"
            ]
          },
          "metadata": {
            "tags": []
          }
        },
        {
          "output_type": "display_data",
          "data": {
            "text/html": [
              "<pre>+-----------+--------------+-------------------+---------------------+-------------------+---------------------+</pre>"
            ],
            "text/plain": [
              "+-----------+--------------+-------------------+---------------------+-------------------+---------------------+"
            ]
          },
          "metadata": {
            "tags": []
          }
        },
        {
          "output_type": "display_data",
          "data": {
            "text/html": [
              "<pre>| 1         | 0.012743     | 0.985877          | 0.974277            | 0.451955          | 0.458852            |</pre>"
            ],
            "text/plain": [
              "| 1         | 0.012743     | 0.985877          | 0.974277            | 0.451955          | 0.458852            |"
            ]
          },
          "metadata": {
            "tags": []
          }
        },
        {
          "output_type": "display_data",
          "data": {
            "text/html": [
              "<pre>| 2         | 0.021579     | 0.986039          | 0.974277            | 0.322676          | 0.327816            |</pre>"
            ],
            "text/plain": [
              "| 2         | 0.021579     | 0.986039          | 0.974277            | 0.322676          | 0.327816            |"
            ]
          },
          "metadata": {
            "tags": []
          }
        },
        {
          "output_type": "display_data",
          "data": {
            "text/html": [
              "<pre>| 3         | 0.031058     | 0.986039          | 0.974277            | 0.235859          | 0.244744            |</pre>"
            ],
            "text/plain": [
              "| 3         | 0.031058     | 0.986039          | 0.974277            | 0.235859          | 0.244744            |"
            ]
          },
          "metadata": {
            "tags": []
          }
        },
        {
          "output_type": "display_data",
          "data": {
            "text/html": [
              "<pre>| 4         | 0.042818     | 0.991071          | 0.987138            | 0.169167          | 0.174055            |</pre>"
            ],
            "text/plain": [
              "| 4         | 0.042818     | 0.991071          | 0.987138            | 0.169167          | 0.174055            |"
            ]
          },
          "metadata": {
            "tags": []
          }
        },
        {
          "output_type": "display_data",
          "data": {
            "text/html": [
              "<pre>+-----------+--------------+-------------------+---------------------+-------------------+---------------------+</pre>"
            ],
            "text/plain": [
              "+-----------+--------------+-------------------+---------------------+-------------------+---------------------+"
            ]
          },
          "metadata": {
            "tags": []
          }
        }
      ]
    },
    {
      "metadata": {
        "id": "YtbvWTxgIZKH",
        "colab_type": "code",
        "colab": {
          "base_uri": "https://localhost:8080/",
          "height": 279
        },
        "outputId": "1bbfa076-d2c2-4e39-c2dd-a93f271ba149"
      },
      "cell_type": "code",
      "source": [
        "model.get_feature_importance().sort(\"count\", ascending = False)"
      ],
      "execution_count": 110,
      "outputs": [
        {
          "output_type": "execute_result",
          "data": {
            "text/html": [
              "<div style=\"max-height:1000px;max-width:1500px;overflow:auto;\"><table frame=\"box\" rules=\"cols\">\n",
              "    <tr>\n",
              "        <th style=\"padding-left: 1em; padding-right: 1em; text-align: center\">name</th>\n",
              "        <th style=\"padding-left: 1em; padding-right: 1em; text-align: center\">index</th>\n",
              "        <th style=\"padding-left: 1em; padding-right: 1em; text-align: center\">count</th>\n",
              "    </tr>\n",
              "    <tr>\n",
              "        <td style=\"padding-left: 1em; padding-right: 1em; text-align: center; vertical-align: top\">odor</td>\n",
              "        <td style=\"padding-left: 1em; padding-right: 1em; text-align: center; vertical-align: top\">n</td>\n",
              "        <td style=\"padding-left: 1em; padding-right: 1em; text-align: center; vertical-align: top\">4</td>\n",
              "    </tr>\n",
              "    <tr>\n",
              "        <td style=\"padding-left: 1em; padding-right: 1em; text-align: center; vertical-align: top\">spore-print-color</td>\n",
              "        <td style=\"padding-left: 1em; padding-right: 1em; text-align: center; vertical-align: top\">r</td>\n",
              "        <td style=\"padding-left: 1em; padding-right: 1em; text-align: center; vertical-align: top\">4</td>\n",
              "    </tr>\n",
              "    <tr>\n",
              "        <td style=\"padding-left: 1em; padding-right: 1em; text-align: center; vertical-align: top\">stalk-surface-below-ring</td>\n",
              "        <td style=\"padding-left: 1em; padding-right: 1em; text-align: center; vertical-align: top\">y</td>\n",
              "        <td style=\"padding-left: 1em; padding-right: 1em; text-align: center; vertical-align: top\">3</td>\n",
              "    </tr>\n",
              "    <tr>\n",
              "        <td style=\"padding-left: 1em; padding-right: 1em; text-align: center; vertical-align: top\">bruises?</td>\n",
              "        <td style=\"padding-left: 1em; padding-right: 1em; text-align: center; vertical-align: top\">t</td>\n",
              "        <td style=\"padding-left: 1em; padding-right: 1em; text-align: center; vertical-align: top\">3</td>\n",
              "    </tr>\n",
              "    <tr>\n",
              "        <td style=\"padding-left: 1em; padding-right: 1em; text-align: center; vertical-align: top\">stalk-root</td>\n",
              "        <td style=\"padding-left: 1em; padding-right: 1em; text-align: center; vertical-align: top\">r</td>\n",
              "        <td style=\"padding-left: 1em; padding-right: 1em; text-align: center; vertical-align: top\">2</td>\n",
              "    </tr>\n",
              "    <tr>\n",
              "        <td style=\"padding-left: 1em; padding-right: 1em; text-align: center; vertical-align: top\">stalk-root</td>\n",
              "        <td style=\"padding-left: 1em; padding-right: 1em; text-align: center; vertical-align: top\">c</td>\n",
              "        <td style=\"padding-left: 1em; padding-right: 1em; text-align: center; vertical-align: top\">2</td>\n",
              "    </tr>\n",
              "    <tr>\n",
              "        <td style=\"padding-left: 1em; padding-right: 1em; text-align: center; vertical-align: top\">odor</td>\n",
              "        <td style=\"padding-left: 1em; padding-right: 1em; text-align: center; vertical-align: top\">l</td>\n",
              "        <td style=\"padding-left: 1em; padding-right: 1em; text-align: center; vertical-align: top\">1</td>\n",
              "    </tr>\n",
              "    <tr>\n",
              "        <td style=\"padding-left: 1em; padding-right: 1em; text-align: center; vertical-align: top\">stalk-color-below-ring</td>\n",
              "        <td style=\"padding-left: 1em; padding-right: 1em; text-align: center; vertical-align: top\">y</td>\n",
              "        <td style=\"padding-left: 1em; padding-right: 1em; text-align: center; vertical-align: top\">1</td>\n",
              "    </tr>\n",
              "    <tr>\n",
              "        <td style=\"padding-left: 1em; padding-right: 1em; text-align: center; vertical-align: top\">gill-spacing</td>\n",
              "        <td style=\"padding-left: 1em; padding-right: 1em; text-align: center; vertical-align: top\">c</td>\n",
              "        <td style=\"padding-left: 1em; padding-right: 1em; text-align: center; vertical-align: top\">1</td>\n",
              "    </tr>\n",
              "    <tr>\n",
              "        <td style=\"padding-left: 1em; padding-right: 1em; text-align: center; vertical-align: top\">odor</td>\n",
              "        <td style=\"padding-left: 1em; padding-right: 1em; text-align: center; vertical-align: top\">a</td>\n",
              "        <td style=\"padding-left: 1em; padding-right: 1em; text-align: center; vertical-align: top\">1</td>\n",
              "    </tr>\n",
              "</table>\n",
              "[117 rows x 3 columns]<br/>Note: Only the head of the SFrame is printed.<br/>You can use print_rows(num_rows=m, num_columns=n) to print more rows and columns.\n",
              "</div>"
            ],
            "text/plain": [
              "Columns:\n",
              "\tname\tstr\n",
              "\tindex\tstr\n",
              "\tcount\tint\n",
              "\n",
              "Rows: 117\n",
              "\n",
              "Data:\n",
              "+--------------------------+-------+-------+\n",
              "|           name           | index | count |\n",
              "+--------------------------+-------+-------+\n",
              "|           odor           |   n   |   4   |\n",
              "|    spore-print-color     |   r   |   4   |\n",
              "| stalk-surface-below-ring |   y   |   3   |\n",
              "|         bruises?         |   t   |   3   |\n",
              "|        stalk-root        |   r   |   2   |\n",
              "|        stalk-root        |   c   |   2   |\n",
              "|           odor           |   l   |   1   |\n",
              "|  stalk-color-below-ring  |   y   |   1   |\n",
              "|       gill-spacing       |   c   |   1   |\n",
              "|           odor           |   a   |   1   |\n",
              "+--------------------------+-------+-------+\n",
              "[117 rows x 3 columns]\n",
              "Note: Only the head of the SFrame is printed.\n",
              "You can use print_rows(num_rows=m, num_columns=n) to print more rows and columns."
            ]
          },
          "metadata": {
            "tags": []
          },
          "execution_count": 110
        }
      ]
    },
    {
      "metadata": {
        "id": "_887IngBC5oH",
        "colab_type": "code",
        "colab": {
          "base_uri": "https://localhost:8080/",
          "height": 323
        },
        "outputId": "95414fa2-8a6a-41f4-8c01-dc7f888e6635"
      },
      "cell_type": "code",
      "source": [
        "# Save predictions to an SFrame (class and corresponding class-probabilities)\n",
        "predictions = model.classify(test_data)\n",
        "print(predictions)"
      ],
      "execution_count": 111,
      "outputs": [
        {
          "output_type": "stream",
          "text": [
            "+-------+--------------------+\n",
            "| class |    probability     |\n",
            "+-------+--------------------+\n",
            "|   0   | 0.8398730754852295 |\n",
            "|   1   | 0.7440834045410156 |\n",
            "|   1   | 0.7440834045410156 |\n",
            "|   0   | 0.850181058049202  |\n",
            "|   0   | 0.5245263874530792 |\n",
            "|   0   | 0.8398730754852295 |\n",
            "|   0   | 0.8374579846858978 |\n",
            "|   0   | 0.850181058049202  |\n",
            "|   0   | 0.850181058049202  |\n",
            "|   0   | 0.850181058049202  |\n",
            "+-------+--------------------+\n",
            "[1653 rows x 2 columns]\n",
            "Note: Only the head of the SFrame is printed.\n",
            "You can use print_rows(num_rows=m, num_columns=n) to print more rows and columns.\n"
          ],
          "name": "stdout"
        }
      ]
    },
    {
      "metadata": {
        "id": "6w_A-IJeC67k",
        "colab_type": "code",
        "colab": {}
      },
      "cell_type": "code",
      "source": [
        "# Evaluate the model and save the results into a dictionary\n",
        "results = model.evaluate(test_data)"
      ],
      "execution_count": 0,
      "outputs": []
    },
    {
      "metadata": {
        "id": "tCADc0zUGrCA",
        "colab_type": "code",
        "colab": {
          "base_uri": "https://localhost:8080/",
          "height": 215
        },
        "outputId": "f958f220-588d-426c-9948-24f663f9635f"
      },
      "cell_type": "code",
      "source": [
        "print(\"Accuracy         : %s\" % results['accuracy'])\n",
        "print(\"Confusion Matrix : \\n%s\" % results['confusion_matrix'])"
      ],
      "execution_count": 113,
      "outputs": [
        {
          "output_type": "stream",
          "text": [
            "Accuracy         : 0.9921355111917726\n",
            "Confusion Matrix : \n",
            "+--------------+-----------------+-------+\n",
            "| target_label | predicted_label | count |\n",
            "+--------------+-----------------+-------+\n",
            "|      0       |        0        |  858  |\n",
            "|      1       |        1        |  782  |\n",
            "|      0       |        1        |   13  |\n",
            "+--------------+-----------------+-------+\n",
            "[3 rows x 3 columns]\n",
            "\n"
          ],
          "name": "stdout"
        }
      ]
    },
    {
      "metadata": {
        "id": "Hvvv1TarHLUP",
        "colab_type": "text"
      },
      "cell_type": "markdown",
      "source": [
        "## Tuning hyperparameters\n",
        "\n",
        "The Gradient Boosted Trees model has many tuning parameters. Here we provide a simple guideline for tuning the model.\n",
        "\n",
        "*   `max_iterations` Controls the number of trees in the final model. Usually the more trees, the higher accuracy. However, both the training and prediction time also grows linearly in the number of trees.\n",
        "\n",
        "*   `max_depth` Restricts the depth of each individual tree to prevent overfitting.\n",
        "\n",
        "*   `step_size` Also called shrinkage, appeared as the in the equations in the Background section. It works similar to the learning rate of the gradient descent procedure: smaller value will take more iterations to reach the same level of training error of a larger step size. So there is a trade off between step_size and number of iterations.\n",
        "\n",
        "*   `min_child_weight` One of the pruning criteria for decision tree construction. In classification problem, this corresponds to the minimum observations required at a leaf node. Larger value produces simpler trees.\n",
        "\n",
        "*   `min_loss_reduction` Another pruning criteria for decision tree construction. This restricts the reduction of loss function for a node split. Larger value produces simpler trees.\n",
        "\n",
        "*   `row_subsample` Use only a fraction of data at each iteration. This is similar to the mini-batch stochastic gradient descent which not only reduce the computation cost of each iteration, but may also produce more robust model.\n",
        "\n",
        "*   `column_subsample` Use only a subset of the columns to use at each iteration."
      ]
    },
    {
      "metadata": {
        "id": "YjQmIiaLcpJg",
        "colab_type": "text"
      },
      "cell_type": "markdown",
      "source": [
        "# Blogs, Articles, Notebooks\n",
        "*   https://github.com/AFathi/turicreate-notebooks/blob/master/notebooks/Classify%20Data%20Example-kNN.ipynb\n",
        "*   https://www.kaggle.com/uciml/mushroom-classification\n"
      ]
    }
  ]
}